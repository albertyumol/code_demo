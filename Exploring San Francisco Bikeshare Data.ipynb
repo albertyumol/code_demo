{
 "cells": [
  {
   "cell_type": "markdown",
   "id": "pressed-system",
   "metadata": {},
   "source": [
    "# Exploring San Francisco Bikeshare Data\n",
    "\n",
    "This challenge uses an Francisco's bikeshare trips from BigQuery Public datasets S. Here are the descriptions of some of the relevant fields:\n",
    "\n",
    "|Field name|Type|Mode|Description|\n",
    "|:---|:---:|:---:|:---|\n",
    "|trip_id|INTEGER|REQUIRED|Numeric ID of bike trip|\n",
    "|duration_sec|INTEGER|NULLABLE|Time of trip in seconds|\n",
    "|start_date|TIMESTAMP|NULLABLE|Start date of trip with date and time, in PST|\n",
    "|start_station_name|STRING|NULLABLE|Station name of start station|\n",
    "|start_station_id|INTEGER|NULLABLE|Numeric reference for start station|\n",
    "|end_date|TIMESTAMP|NULLABLE|End date of trip with date and time, in PST|\n",
    "|end_station_name|STRING|NULLABLE|Station name for end station|\n",
    "|end_station_id|INTEGER|NULLABLE|Numeric reference for end station|\n",
    "|bike_number|INTEGER|NULLABLE|ID of bike used|\n",
    "|zip_code|STRING|NULLABLE|Home zip code of subscriber|\n",
    "|subscriber_type|STRING|NULLABLE|Subscriber = annual or 30-day member; Customer = 24-hour or 3-day member|\n",
    "\n",
    "For this challenge, we seek to demonstrate doing queries, applying some statistical metrics and implementing machine learning models to extract insights from the dataset. In particular, we wish to accomplish these items.\n",
    "\n",
    "## Part 1\n",
    "1. `[BigQuery]` [Daily number of rides for January 2016](#part1_1)\n",
    "2. `[BigQuery]` [Weekly number of rides for all time](#part1_2)\n",
    "3. `[BigQuery]` [Monthly number of rides for all time](#part1_3)\n",
    "4. `[BigQuery]` [Histogram of ride durations across all time](#part1_4)\n",
    "5. `[BigQuery]` [Monthly median ride duration across all time](#part1_5)\n",
    "6. `[BigQuery]` [Fraction of weekly “Subscriber” subscriber_type rentals across all time](#part1_6)\n",
    "\n",
    "## Part 2\n",
    "1. `[BigQuery]` `[Stats]` [Are the Subscriber and Customer subscriber_types different in any statistically significant way?](#part2_1)\n",
    "\n",
    "## Part 3\n",
    "1. `[Machine Learning]` [Build a classifier to predict if a subscriber_type is a Subscriber or Customer. How well does it perform?](#part3_1)"
   ]
  },
  {
   "cell_type": "markdown",
   "id": "stopped-planning",
   "metadata": {
    "ExecuteTime": {
     "end_time": "2021-07-25T07:33:08.951114Z",
     "start_time": "2021-07-25T07:33:08.942142Z"
    }
   },
   "source": [
    "### Importing libraries to directly query from BigQuery Public Data"
   ]
  },
  {
   "cell_type": "code",
   "execution_count": 100,
   "id": "enabling-acceptance",
   "metadata": {
    "ExecuteTime": {
     "end_time": "2021-07-26T16:38:59.476194Z",
     "start_time": "2021-07-26T16:38:59.469427Z"
    }
   },
   "outputs": [
    {
     "name": "stdout",
     "output_type": "stream",
     "text": [
      "The google.cloud.bigquery extension is already loaded. To reload it, use:\n",
      "  %reload_ext google.cloud.bigquery\n"
     ]
    }
   ],
   "source": [
    "import pandas as pd\n",
    "import pandas_gbq\n",
    "\n",
    "from google.cloud import bigquery\n",
    "%load_ext google.cloud.bigquery\n",
    "\n",
    "pandas_gbq.context.project = 'bigquery-public-data'\n",
    "pandas_gbq.context.dialect = 'standard'\n",
    "\n",
    "import warnings\n",
    "warnings.filterwarnings('ignore')\n",
    "\n",
    "import altair as alt\n",
    "import matplotlib.pyplot as plt\n",
    "import numpy as np\n",
    "from scipy import stats\n",
    "import datetime\n",
    "from io import StringIO"
   ]
  },
  {
   "cell_type": "markdown",
   "id": "spiritual-valve",
   "metadata": {},
   "source": [
    "### Part 1.1 Daily number of rides for January 2016 <a id='part1_1'></a>\n",
    "\n",
    "There is a need to clarify the definition of the `number of rides`. Quering count vs distinct count and aggregating per day results to conflicting values for January 12."
   ]
  },
  {
   "cell_type": "code",
   "execution_count": 2,
   "id": "sustained-hungarian",
   "metadata": {
    "ExecuteTime": {
     "end_time": "2021-07-26T14:41:37.762915Z",
     "start_time": "2021-07-26T14:41:28.424728Z"
    }
   },
   "outputs": [
    {
     "name": "stderr",
     "output_type": "stream",
     "text": [
      "Query complete after 0.02s: 100%|██████████| 5/5 [00:00<00:00, 1604.19query/s]                        \n",
      "Downloading: 100%|██████████| 31/31 [00:02<00:00, 11.16rows/s]\n"
     ]
    },
    {
     "data": {
      "text/html": [
       "<div>\n",
       "<style scoped>\n",
       "    .dataframe tbody tr th:only-of-type {\n",
       "        vertical-align: middle;\n",
       "    }\n",
       "\n",
       "    .dataframe tbody tr th {\n",
       "        vertical-align: top;\n",
       "    }\n",
       "\n",
       "    .dataframe thead th {\n",
       "        text-align: right;\n",
       "    }\n",
       "</style>\n",
       "<table border=\"1\" class=\"dataframe\">\n",
       "  <thead>\n",
       "    <tr style=\"text-align: right;\">\n",
       "      <th></th>\n",
       "      <th>Day</th>\n",
       "      <th>Number_of_Rides</th>\n",
       "      <th>Number_of_Rides_Distinct</th>\n",
       "    </tr>\n",
       "  </thead>\n",
       "  <tbody>\n",
       "    <tr>\n",
       "      <th>0</th>\n",
       "      <td>2016-01-01</td>\n",
       "      <td>98</td>\n",
       "      <td>98</td>\n",
       "    </tr>\n",
       "    <tr>\n",
       "      <th>1</th>\n",
       "      <td>2016-01-02</td>\n",
       "      <td>154</td>\n",
       "      <td>154</td>\n",
       "    </tr>\n",
       "    <tr>\n",
       "      <th>2</th>\n",
       "      <td>2016-01-03</td>\n",
       "      <td>135</td>\n",
       "      <td>135</td>\n",
       "    </tr>\n",
       "    <tr>\n",
       "      <th>3</th>\n",
       "      <td>2016-01-04</td>\n",
       "      <td>765</td>\n",
       "      <td>765</td>\n",
       "    </tr>\n",
       "    <tr>\n",
       "      <th>4</th>\n",
       "      <td>2016-01-05</td>\n",
       "      <td>632</td>\n",
       "      <td>632</td>\n",
       "    </tr>\n",
       "    <tr>\n",
       "      <th>5</th>\n",
       "      <td>2016-01-06</td>\n",
       "      <td>562</td>\n",
       "      <td>562</td>\n",
       "    </tr>\n",
       "    <tr>\n",
       "      <th>6</th>\n",
       "      <td>2016-01-07</td>\n",
       "      <td>978</td>\n",
       "      <td>978</td>\n",
       "    </tr>\n",
       "    <tr>\n",
       "      <th>7</th>\n",
       "      <td>2016-01-08</td>\n",
       "      <td>909</td>\n",
       "      <td>909</td>\n",
       "    </tr>\n",
       "    <tr>\n",
       "      <th>8</th>\n",
       "      <td>2016-01-09</td>\n",
       "      <td>132</td>\n",
       "      <td>132</td>\n",
       "    </tr>\n",
       "    <tr>\n",
       "      <th>9</th>\n",
       "      <td>2016-01-10</td>\n",
       "      <td>133</td>\n",
       "      <td>133</td>\n",
       "    </tr>\n",
       "    <tr>\n",
       "      <th>10</th>\n",
       "      <td>2016-01-11</td>\n",
       "      <td>1060</td>\n",
       "      <td>1060</td>\n",
       "    </tr>\n",
       "    <tr>\n",
       "      <th>11</th>\n",
       "      <td>2016-01-12</td>\n",
       "      <td>1090</td>\n",
       "      <td>1089</td>\n",
       "    </tr>\n",
       "    <tr>\n",
       "      <th>12</th>\n",
       "      <td>2016-01-13</td>\n",
       "      <td>1033</td>\n",
       "      <td>1033</td>\n",
       "    </tr>\n",
       "    <tr>\n",
       "      <th>13</th>\n",
       "      <td>2016-01-14</td>\n",
       "      <td>838</td>\n",
       "      <td>838</td>\n",
       "    </tr>\n",
       "    <tr>\n",
       "      <th>14</th>\n",
       "      <td>2016-01-15</td>\n",
       "      <td>966</td>\n",
       "      <td>966</td>\n",
       "    </tr>\n",
       "    <tr>\n",
       "      <th>15</th>\n",
       "      <td>2016-01-16</td>\n",
       "      <td>162</td>\n",
       "      <td>162</td>\n",
       "    </tr>\n",
       "    <tr>\n",
       "      <th>16</th>\n",
       "      <td>2016-01-17</td>\n",
       "      <td>104</td>\n",
       "      <td>104</td>\n",
       "    </tr>\n",
       "    <tr>\n",
       "      <th>17</th>\n",
       "      <td>2016-01-18</td>\n",
       "      <td>417</td>\n",
       "      <td>417</td>\n",
       "    </tr>\n",
       "    <tr>\n",
       "      <th>18</th>\n",
       "      <td>2016-01-19</td>\n",
       "      <td>593</td>\n",
       "      <td>593</td>\n",
       "    </tr>\n",
       "    <tr>\n",
       "      <th>19</th>\n",
       "      <td>2016-01-20</td>\n",
       "      <td>1107</td>\n",
       "      <td>1107</td>\n",
       "    </tr>\n",
       "    <tr>\n",
       "      <th>20</th>\n",
       "      <td>2016-01-21</td>\n",
       "      <td>1089</td>\n",
       "      <td>1089</td>\n",
       "    </tr>\n",
       "    <tr>\n",
       "      <th>21</th>\n",
       "      <td>2016-01-22</td>\n",
       "      <td>513</td>\n",
       "      <td>513</td>\n",
       "    </tr>\n",
       "    <tr>\n",
       "      <th>22</th>\n",
       "      <td>2016-01-23</td>\n",
       "      <td>236</td>\n",
       "      <td>236</td>\n",
       "    </tr>\n",
       "    <tr>\n",
       "      <th>23</th>\n",
       "      <td>2016-01-24</td>\n",
       "      <td>226</td>\n",
       "      <td>226</td>\n",
       "    </tr>\n",
       "    <tr>\n",
       "      <th>24</th>\n",
       "      <td>2016-01-25</td>\n",
       "      <td>1127</td>\n",
       "      <td>1127</td>\n",
       "    </tr>\n",
       "    <tr>\n",
       "      <th>25</th>\n",
       "      <td>2016-01-26</td>\n",
       "      <td>1114</td>\n",
       "      <td>1114</td>\n",
       "    </tr>\n",
       "    <tr>\n",
       "      <th>26</th>\n",
       "      <td>2016-01-27</td>\n",
       "      <td>1131</td>\n",
       "      <td>1131</td>\n",
       "    </tr>\n",
       "    <tr>\n",
       "      <th>27</th>\n",
       "      <td>2016-01-28</td>\n",
       "      <td>1095</td>\n",
       "      <td>1095</td>\n",
       "    </tr>\n",
       "    <tr>\n",
       "      <th>28</th>\n",
       "      <td>2016-01-29</td>\n",
       "      <td>590</td>\n",
       "      <td>590</td>\n",
       "    </tr>\n",
       "    <tr>\n",
       "      <th>29</th>\n",
       "      <td>2016-01-30</td>\n",
       "      <td>318</td>\n",
       "      <td>318</td>\n",
       "    </tr>\n",
       "    <tr>\n",
       "      <th>30</th>\n",
       "      <td>2016-01-31</td>\n",
       "      <td>213</td>\n",
       "      <td>213</td>\n",
       "    </tr>\n",
       "  </tbody>\n",
       "</table>\n",
       "</div>"
      ],
      "text/plain": [
       "           Day  Number_of_Rides  Number_of_Rides_Distinct\n",
       "0   2016-01-01               98                        98\n",
       "1   2016-01-02              154                       154\n",
       "2   2016-01-03              135                       135\n",
       "3   2016-01-04              765                       765\n",
       "4   2016-01-05              632                       632\n",
       "5   2016-01-06              562                       562\n",
       "6   2016-01-07              978                       978\n",
       "7   2016-01-08              909                       909\n",
       "8   2016-01-09              132                       132\n",
       "9   2016-01-10              133                       133\n",
       "10  2016-01-11             1060                      1060\n",
       "11  2016-01-12             1090                      1089\n",
       "12  2016-01-13             1033                      1033\n",
       "13  2016-01-14              838                       838\n",
       "14  2016-01-15              966                       966\n",
       "15  2016-01-16              162                       162\n",
       "16  2016-01-17              104                       104\n",
       "17  2016-01-18              417                       417\n",
       "18  2016-01-19              593                       593\n",
       "19  2016-01-20             1107                      1107\n",
       "20  2016-01-21             1089                      1089\n",
       "21  2016-01-22              513                       513\n",
       "22  2016-01-23              236                       236\n",
       "23  2016-01-24              226                       226\n",
       "24  2016-01-25             1127                      1127\n",
       "25  2016-01-26             1114                      1114\n",
       "26  2016-01-27             1131                      1131\n",
       "27  2016-01-28             1095                      1095\n",
       "28  2016-01-29              590                       590\n",
       "29  2016-01-30              318                       318\n",
       "30  2016-01-31              213                       213"
      ]
     },
     "execution_count": 2,
     "metadata": {},
     "output_type": "execute_result"
    }
   ],
   "source": [
    "%%bigquery\n",
    "SELECT \n",
    "    EXTRACT(DATE FROM start_date) as Day, COUNT(trip_id) as Number_of_Rides, \n",
    "    COUNT(DISTINCT trip_id) as Number_of_Rides_Distinct\n",
    "FROM \n",
    "    `bigquery-public-data.san_francisco_bikeshare.bikeshare_trips` \n",
    "WHERE \n",
    "    EXTRACT(YEAR FROM start_date) = 2016 and \n",
    "    EXTRACT(MONTH FROM start_date) = 1\n",
    "GROUP BY \n",
    "    day\n",
    "ORDER BY \n",
    "    day"
   ]
  },
  {
   "cell_type": "markdown",
   "id": "informational-documentation",
   "metadata": {},
   "source": [
    "If we look at this particular date and filter by trip counts greater than 1,"
   ]
  },
  {
   "cell_type": "code",
   "execution_count": 5,
   "id": "tired-showcase",
   "metadata": {
    "ExecuteTime": {
     "end_time": "2021-07-26T14:54:05.997317Z",
     "start_time": "2021-07-26T14:54:00.042837Z"
    }
   },
   "outputs": [
    {
     "name": "stderr",
     "output_type": "stream",
     "text": [
      "Query complete after 0.00s: 100%|██████████| 3/3 [00:00<00:00, 774.19query/s]                         \n",
      "Downloading: 100%|██████████| 1/1 [00:03<00:00,  3.02s/rows]\n"
     ]
    },
    {
     "data": {
      "text/html": [
       "<div>\n",
       "<style scoped>\n",
       "    .dataframe tbody tr th:only-of-type {\n",
       "        vertical-align: middle;\n",
       "    }\n",
       "\n",
       "    .dataframe tbody tr th {\n",
       "        vertical-align: top;\n",
       "    }\n",
       "\n",
       "    .dataframe thead th {\n",
       "        text-align: right;\n",
       "    }\n",
       "</style>\n",
       "<table border=\"1\" class=\"dataframe\">\n",
       "  <thead>\n",
       "    <tr style=\"text-align: right;\">\n",
       "      <th></th>\n",
       "      <th>trip_id</th>\n",
       "      <th>counter</th>\n",
       "    </tr>\n",
       "  </thead>\n",
       "  <tbody>\n",
       "    <tr>\n",
       "      <th>0</th>\n",
       "      <td>50320160112170300</td>\n",
       "      <td>2</td>\n",
       "    </tr>\n",
       "  </tbody>\n",
       "</table>\n",
       "</div>"
      ],
      "text/plain": [
       "             trip_id  counter\n",
       "0  50320160112170300        2"
      ]
     },
     "execution_count": 5,
     "metadata": {},
     "output_type": "execute_result"
    }
   ],
   "source": [
    "%%bigquery\n",
    "SELECT \n",
    "    * \n",
    "FROM \n",
    "    (SELECT \n",
    "        trip_id, count(trip_id) as counter\n",
    "    FROM\n",
    "         `bigquery-public-data.san_francisco_bikeshare.bikeshare_trips`\n",
    "    WHERE \n",
    "         EXTRACT(Date FROM start_date) = '2016-01-12'\n",
    "    GROUP BY \n",
    "         trip_id\n",
    "    ORDER BY \n",
    "         counter)\n",
    "WHERE \n",
    "    counter > 1"
   ]
  },
  {
   "cell_type": "markdown",
   "id": "liable-gateway",
   "metadata": {
    "ExecuteTime": {
     "end_time": "2021-07-26T14:55:16.500667Z",
     "start_time": "2021-07-26T14:55:16.496431Z"
    }
   },
   "source": [
    "and investigate on this particular id,"
   ]
  },
  {
   "cell_type": "code",
   "execution_count": 7,
   "id": "irish-modification",
   "metadata": {
    "ExecuteTime": {
     "end_time": "2021-07-26T14:55:30.863178Z",
     "start_time": "2021-07-26T14:55:24.585611Z"
    }
   },
   "outputs": [
    {
     "name": "stderr",
     "output_type": "stream",
     "text": [
      "Query complete after 0.00s: 100%|██████████| 1/1 [00:00<00:00, 411.17query/s]                          \n",
      "Downloading: 100%|██████████| 2/2 [00:03<00:00,  1.64s/rows]\n"
     ]
    },
    {
     "data": {
      "text/html": [
       "<div>\n",
       "<style scoped>\n",
       "    .dataframe tbody tr th:only-of-type {\n",
       "        vertical-align: middle;\n",
       "    }\n",
       "\n",
       "    .dataframe tbody tr th {\n",
       "        vertical-align: top;\n",
       "    }\n",
       "\n",
       "    .dataframe thead th {\n",
       "        text-align: right;\n",
       "    }\n",
       "</style>\n",
       "<table border=\"1\" class=\"dataframe\">\n",
       "  <thead>\n",
       "    <tr style=\"text-align: right;\">\n",
       "      <th></th>\n",
       "      <th>trip_id</th>\n",
       "      <th>duration_sec</th>\n",
       "      <th>start_date</th>\n",
       "      <th>start_station_name</th>\n",
       "      <th>start_station_id</th>\n",
       "      <th>end_date</th>\n",
       "      <th>end_station_name</th>\n",
       "      <th>end_station_id</th>\n",
       "      <th>bike_number</th>\n",
       "      <th>zip_code</th>\n",
       "      <th>...</th>\n",
       "      <th>c_subscription_type</th>\n",
       "      <th>start_station_latitude</th>\n",
       "      <th>start_station_longitude</th>\n",
       "      <th>end_station_latitude</th>\n",
       "      <th>end_station_longitude</th>\n",
       "      <th>member_birth_year</th>\n",
       "      <th>member_gender</th>\n",
       "      <th>bike_share_for_all_trip</th>\n",
       "      <th>start_station_geom</th>\n",
       "      <th>end_station_geom</th>\n",
       "    </tr>\n",
       "  </thead>\n",
       "  <tbody>\n",
       "    <tr>\n",
       "      <th>0</th>\n",
       "      <td>50320160112170300</td>\n",
       "      <td>244</td>\n",
       "      <td>2016-01-12 17:03:00+00:00</td>\n",
       "      <td>2nd at Folsom</td>\n",
       "      <td>62</td>\n",
       "      <td>2016-01-12 17:07:00+00:00</td>\n",
       "      <td>Spear at Folsom</td>\n",
       "      <td>49</td>\n",
       "      <td>503</td>\n",
       "      <td>94105</td>\n",
       "      <td>...</td>\n",
       "      <td>None</td>\n",
       "      <td>NaN</td>\n",
       "      <td>NaN</td>\n",
       "      <td>NaN</td>\n",
       "      <td>NaN</td>\n",
       "      <td>NaN</td>\n",
       "      <td>None</td>\n",
       "      <td>None</td>\n",
       "      <td>None</td>\n",
       "      <td>None</td>\n",
       "    </tr>\n",
       "    <tr>\n",
       "      <th>1</th>\n",
       "      <td>50320160112170300</td>\n",
       "      <td>243</td>\n",
       "      <td>2016-01-12 17:03:00+00:00</td>\n",
       "      <td>2nd at Folsom</td>\n",
       "      <td>62</td>\n",
       "      <td>2016-01-12 17:08:00+00:00</td>\n",
       "      <td>Spear at Folsom</td>\n",
       "      <td>49</td>\n",
       "      <td>503</td>\n",
       "      <td>94105</td>\n",
       "      <td>...</td>\n",
       "      <td>None</td>\n",
       "      <td>NaN</td>\n",
       "      <td>NaN</td>\n",
       "      <td>NaN</td>\n",
       "      <td>NaN</td>\n",
       "      <td>NaN</td>\n",
       "      <td>None</td>\n",
       "      <td>None</td>\n",
       "      <td>None</td>\n",
       "      <td>None</td>\n",
       "    </tr>\n",
       "  </tbody>\n",
       "</table>\n",
       "<p>2 rows × 21 columns</p>\n",
       "</div>"
      ],
      "text/plain": [
       "             trip_id  duration_sec                start_date  \\\n",
       "0  50320160112170300           244 2016-01-12 17:03:00+00:00   \n",
       "1  50320160112170300           243 2016-01-12 17:03:00+00:00   \n",
       "\n",
       "  start_station_name  start_station_id                  end_date  \\\n",
       "0      2nd at Folsom                62 2016-01-12 17:07:00+00:00   \n",
       "1      2nd at Folsom                62 2016-01-12 17:08:00+00:00   \n",
       "\n",
       "  end_station_name  end_station_id  bike_number zip_code  ...  \\\n",
       "0  Spear at Folsom              49          503    94105  ...   \n",
       "1  Spear at Folsom              49          503    94105  ...   \n",
       "\n",
       "  c_subscription_type start_station_latitude  start_station_longitude  \\\n",
       "0                None                    NaN                      NaN   \n",
       "1                None                    NaN                      NaN   \n",
       "\n",
       "   end_station_latitude  end_station_longitude  member_birth_year  \\\n",
       "0                   NaN                    NaN                NaN   \n",
       "1                   NaN                    NaN                NaN   \n",
       "\n",
       "   member_gender bike_share_for_all_trip start_station_geom end_station_geom  \n",
       "0           None                    None               None             None  \n",
       "1           None                    None               None             None  \n",
       "\n",
       "[2 rows x 21 columns]"
      ]
     },
     "execution_count": 7,
     "metadata": {},
     "output_type": "execute_result"
    }
   ],
   "source": [
    "%%bigquery\n",
    "SELECT \n",
    "    *\n",
    "FROM \n",
    "    `bigquery-public-data.san_francisco_bikeshare.bikeshare_trips` \n",
    "WHERE \n",
    "    EXTRACT(Date FROM start_date) = '2016-01-12' and \n",
    "    trip_id = '50320160112170300'"
   ]
  },
  {
   "cell_type": "markdown",
   "id": "empty-romantic",
   "metadata": {},
   "source": [
    "It looks like the ride is counted double for that day, meaning same start time, location and 1 minute difference in end time. \n",
    "\n",
    "So we can safely assume that it is redundunt and use COUNT DISTINCT instead of only COUNT."
   ]
  },
  {
   "cell_type": "code",
   "execution_count": 8,
   "id": "british-proxy",
   "metadata": {
    "ExecuteTime": {
     "end_time": "2021-07-26T14:56:22.123166Z",
     "start_time": "2021-07-26T14:56:15.847574Z"
    }
   },
   "outputs": [
    {
     "name": "stderr",
     "output_type": "stream",
     "text": [
      "Query complete after 0.00s: 100%|██████████| 4/4 [00:00<00:00, 1278.36query/s]                        \n",
      "Downloading: 100%|██████████| 31/31 [00:03<00:00,  9.00rows/s]\n"
     ]
    }
   ],
   "source": [
    "%%bigquery df_rides_in_jan_2016\n",
    "SELECT \n",
    "    EXTRACT(DATE FROM start_date) as Day, \n",
    "    COUNT(DISTINCT trip_id) as Number_of_Rides\n",
    "FROM \n",
    "    `bigquery-public-data.san_francisco_bikeshare.bikeshare_trips` \n",
    "WHERE \n",
    "    EXTRACT(YEAR FROM start_date) = 2016 and \n",
    "    EXTRACT(MONTH FROM start_date) = 1\n",
    "GROUP BY \n",
    "    day\n",
    "ORDER BY \n",
    "    day"
   ]
  },
  {
   "cell_type": "code",
   "execution_count": 9,
   "id": "public-surveillance",
   "metadata": {
    "ExecuteTime": {
     "end_time": "2021-07-26T14:56:45.436166Z",
     "start_time": "2021-07-26T14:56:45.235994Z"
    }
   },
   "outputs": [],
   "source": [
    "df_rides_in_jan_2016['Day'] = pd.to_datetime(df_rides_in_jan_2016['Day'])"
   ]
  },
  {
   "cell_type": "code",
   "execution_count": 14,
   "id": "accurate-acrylic",
   "metadata": {
    "ExecuteTime": {
     "end_time": "2021-07-26T15:01:07.088723Z",
     "start_time": "2021-07-26T15:01:07.075671Z"
    }
   },
   "outputs": [
    {
     "data": {
      "text/html": [
       "\n",
       "<div id=\"altair-viz-553f24568c1f48caa8b4758f71f6e868\"></div>\n",
       "<script type=\"text/javascript\">\n",
       "  (function(spec, embedOpt){\n",
       "    let outputDiv = document.currentScript.previousElementSibling;\n",
       "    if (outputDiv.id !== \"altair-viz-553f24568c1f48caa8b4758f71f6e868\") {\n",
       "      outputDiv = document.getElementById(\"altair-viz-553f24568c1f48caa8b4758f71f6e868\");\n",
       "    }\n",
       "    const paths = {\n",
       "      \"vega\": \"https://cdn.jsdelivr.net/npm//vega@5?noext\",\n",
       "      \"vega-lib\": \"https://cdn.jsdelivr.net/npm//vega-lib?noext\",\n",
       "      \"vega-lite\": \"https://cdn.jsdelivr.net/npm//vega-lite@4.8.1?noext\",\n",
       "      \"vega-embed\": \"https://cdn.jsdelivr.net/npm//vega-embed@6?noext\",\n",
       "    };\n",
       "\n",
       "    function loadScript(lib) {\n",
       "      return new Promise(function(resolve, reject) {\n",
       "        var s = document.createElement('script');\n",
       "        s.src = paths[lib];\n",
       "        s.async = true;\n",
       "        s.onload = () => resolve(paths[lib]);\n",
       "        s.onerror = () => reject(`Error loading script: ${paths[lib]}`);\n",
       "        document.getElementsByTagName(\"head\")[0].appendChild(s);\n",
       "      });\n",
       "    }\n",
       "\n",
       "    function showError(err) {\n",
       "      outputDiv.innerHTML = `<div class=\"error\" style=\"color:red;\">${err}</div>`;\n",
       "      throw err;\n",
       "    }\n",
       "\n",
       "    function displayChart(vegaEmbed) {\n",
       "      vegaEmbed(outputDiv, spec, embedOpt)\n",
       "        .catch(err => showError(`Javascript Error: ${err.message}<br>This usually means there's a typo in your chart specification. See the javascript console for the full traceback.`));\n",
       "    }\n",
       "\n",
       "    if(typeof define === \"function\" && define.amd) {\n",
       "      requirejs.config({paths});\n",
       "      require([\"vega-embed\"], displayChart, err => showError(`Error loading script: ${err.message}`));\n",
       "    } else if (typeof vegaEmbed === \"function\") {\n",
       "      displayChart(vegaEmbed);\n",
       "    } else {\n",
       "      loadScript(\"vega\")\n",
       "        .then(() => loadScript(\"vega-lite\"))\n",
       "        .then(() => loadScript(\"vega-embed\"))\n",
       "        .catch(showError)\n",
       "        .then(() => displayChart(vegaEmbed));\n",
       "    }\n",
       "  })({\"config\": {\"view\": {\"continuousWidth\": 400, \"continuousHeight\": 300}}, \"data\": {\"name\": \"data-42e85d5e042cebe96938dbc2c1a42b16\"}, \"mark\": \"bar\", \"encoding\": {\"x\": {\"type\": \"ordinal\", \"axis\": {\"labelAngle\": 0}, \"field\": \"Day\", \"timeUnit\": \"date\", \"title\": \"January 2016\"}, \"y\": {\"type\": \"quantitative\", \"field\": \"Number_of_Rides\", \"title\": \"Number of Unique Rides\"}}, \"title\": \"January 2016 - Number of Unique Rides per Day\", \"$schema\": \"https://vega.github.io/schema/vega-lite/v4.8.1.json\", \"datasets\": {\"data-42e85d5e042cebe96938dbc2c1a42b16\": [{\"Day\": \"2016-01-01T00:00:00\", \"Number_of_Rides\": 98}, {\"Day\": \"2016-01-02T00:00:00\", \"Number_of_Rides\": 154}, {\"Day\": \"2016-01-03T00:00:00\", \"Number_of_Rides\": 135}, {\"Day\": \"2016-01-04T00:00:00\", \"Number_of_Rides\": 765}, {\"Day\": \"2016-01-05T00:00:00\", \"Number_of_Rides\": 632}, {\"Day\": \"2016-01-06T00:00:00\", \"Number_of_Rides\": 562}, {\"Day\": \"2016-01-07T00:00:00\", \"Number_of_Rides\": 978}, {\"Day\": \"2016-01-08T00:00:00\", \"Number_of_Rides\": 909}, {\"Day\": \"2016-01-09T00:00:00\", \"Number_of_Rides\": 132}, {\"Day\": \"2016-01-10T00:00:00\", \"Number_of_Rides\": 133}, {\"Day\": \"2016-01-11T00:00:00\", \"Number_of_Rides\": 1060}, {\"Day\": \"2016-01-12T00:00:00\", \"Number_of_Rides\": 1089}, {\"Day\": \"2016-01-13T00:00:00\", \"Number_of_Rides\": 1033}, {\"Day\": \"2016-01-14T00:00:00\", \"Number_of_Rides\": 838}, {\"Day\": \"2016-01-15T00:00:00\", \"Number_of_Rides\": 966}, {\"Day\": \"2016-01-16T00:00:00\", \"Number_of_Rides\": 162}, {\"Day\": \"2016-01-17T00:00:00\", \"Number_of_Rides\": 104}, {\"Day\": \"2016-01-18T00:00:00\", \"Number_of_Rides\": 417}, {\"Day\": \"2016-01-19T00:00:00\", \"Number_of_Rides\": 593}, {\"Day\": \"2016-01-20T00:00:00\", \"Number_of_Rides\": 1107}, {\"Day\": \"2016-01-21T00:00:00\", \"Number_of_Rides\": 1089}, {\"Day\": \"2016-01-22T00:00:00\", \"Number_of_Rides\": 513}, {\"Day\": \"2016-01-23T00:00:00\", \"Number_of_Rides\": 236}, {\"Day\": \"2016-01-24T00:00:00\", \"Number_of_Rides\": 226}, {\"Day\": \"2016-01-25T00:00:00\", \"Number_of_Rides\": 1127}, {\"Day\": \"2016-01-26T00:00:00\", \"Number_of_Rides\": 1114}, {\"Day\": \"2016-01-27T00:00:00\", \"Number_of_Rides\": 1131}, {\"Day\": \"2016-01-28T00:00:00\", \"Number_of_Rides\": 1095}, {\"Day\": \"2016-01-29T00:00:00\", \"Number_of_Rides\": 590}, {\"Day\": \"2016-01-30T00:00:00\", \"Number_of_Rides\": 318}, {\"Day\": \"2016-01-31T00:00:00\", \"Number_of_Rides\": 213}]}}, {\"mode\": \"vega-lite\"});\n",
       "</script>"
      ],
      "text/plain": [
       "alt.Chart(...)"
      ]
     },
     "execution_count": 14,
     "metadata": {},
     "output_type": "execute_result"
    }
   ],
   "source": [
    "alt.Chart(df_rides_in_jan_2016).mark_bar().encode(\n",
    "    x = alt.X('date(Day):O', title='January 2016',axis=alt.Axis(labelAngle=0)),\n",
    "    y = alt.Y('Number_of_Rides', title='Number of Unique Rides')).properties(\n",
    "    title='January 2016 - Number of Unique Rides per Day')"
   ]
  },
  {
   "cell_type": "markdown",
   "id": "prompt-victorian",
   "metadata": {},
   "source": [
    "Since this is a timeseries data, we can visually see the trend (cyclical). The lows on the histogram are weekends which tell us that people are mostly using the bikes for commute."
   ]
  },
  {
   "cell_type": "markdown",
   "id": "female-guitar",
   "metadata": {},
   "source": [
    "### Part 1.2 Weekly number of rides for all time <a id='part1_2'></a>"
   ]
  },
  {
   "cell_type": "code",
   "execution_count": 15,
   "id": "inner-fetish",
   "metadata": {
    "ExecuteTime": {
     "end_time": "2021-07-26T15:05:40.834104Z",
     "start_time": "2021-07-26T15:05:30.136966Z"
    }
   },
   "outputs": [
    {
     "name": "stderr",
     "output_type": "stream",
     "text": [
      "Query complete after 0.00s: 100%|██████████| 3/3 [00:00<00:00, 1224.02query/s]                        \n",
      "Downloading: 100%|██████████| 207/207 [00:03<00:00, 61.38rows/s]\n"
     ]
    }
   ],
   "source": [
    "%%bigquery df_number_of_rides_per_week\n",
    "SELECT \n",
    "    CONCAT(EXTRACT(YEAR FROM start_date), '-', EXTRACT(WEEK FROM start_date)) as week, \n",
    "    COUNT(trip_id) as number_of_rides \n",
    "FROM \n",
    "    `bigquery-public-data.san_francisco_bikeshare.bikeshare_trips`\n",
    "GROUP BY \n",
    "    week\n",
    "ORDER BY \n",
    "    min(start_date)"
   ]
  },
  {
   "cell_type": "code",
   "execution_count": 21,
   "id": "super-clinic",
   "metadata": {
    "ExecuteTime": {
     "end_time": "2021-07-26T15:27:47.583596Z",
     "start_time": "2021-07-26T15:27:47.565593Z"
    },
    "scrolled": true
   },
   "outputs": [
    {
     "data": {
      "text/html": [
       "\n",
       "<div id=\"altair-viz-9b30ff13d0b64329bf3ff1968c0611fc\"></div>\n",
       "<script type=\"text/javascript\">\n",
       "  (function(spec, embedOpt){\n",
       "    let outputDiv = document.currentScript.previousElementSibling;\n",
       "    if (outputDiv.id !== \"altair-viz-9b30ff13d0b64329bf3ff1968c0611fc\") {\n",
       "      outputDiv = document.getElementById(\"altair-viz-9b30ff13d0b64329bf3ff1968c0611fc\");\n",
       "    }\n",
       "    const paths = {\n",
       "      \"vega\": \"https://cdn.jsdelivr.net/npm//vega@5?noext\",\n",
       "      \"vega-lib\": \"https://cdn.jsdelivr.net/npm//vega-lib?noext\",\n",
       "      \"vega-lite\": \"https://cdn.jsdelivr.net/npm//vega-lite@4.8.1?noext\",\n",
       "      \"vega-embed\": \"https://cdn.jsdelivr.net/npm//vega-embed@6?noext\",\n",
       "    };\n",
       "\n",
       "    function loadScript(lib) {\n",
       "      return new Promise(function(resolve, reject) {\n",
       "        var s = document.createElement('script');\n",
       "        s.src = paths[lib];\n",
       "        s.async = true;\n",
       "        s.onload = () => resolve(paths[lib]);\n",
       "        s.onerror = () => reject(`Error loading script: ${paths[lib]}`);\n",
       "        document.getElementsByTagName(\"head\")[0].appendChild(s);\n",
       "      });\n",
       "    }\n",
       "\n",
       "    function showError(err) {\n",
       "      outputDiv.innerHTML = `<div class=\"error\" style=\"color:red;\">${err}</div>`;\n",
       "      throw err;\n",
       "    }\n",
       "\n",
       "    function displayChart(vegaEmbed) {\n",
       "      vegaEmbed(outputDiv, spec, embedOpt)\n",
       "        .catch(err => showError(`Javascript Error: ${err.message}<br>This usually means there's a typo in your chart specification. See the javascript console for the full traceback.`));\n",
       "    }\n",
       "\n",
       "    if(typeof define === \"function\" && define.amd) {\n",
       "      requirejs.config({paths});\n",
       "      require([\"vega-embed\"], displayChart, err => showError(`Error loading script: ${err.message}`));\n",
       "    } else if (typeof vegaEmbed === \"function\") {\n",
       "      displayChart(vegaEmbed);\n",
       "    } else {\n",
       "      loadScript(\"vega\")\n",
       "        .then(() => loadScript(\"vega-lite\"))\n",
       "        .then(() => loadScript(\"vega-embed\"))\n",
       "        .catch(showError)\n",
       "        .then(() => displayChart(vegaEmbed));\n",
       "    }\n",
       "  })({\"config\": {\"view\": {\"continuousWidth\": 400, \"continuousHeight\": 300}}, \"vconcat\": [{\"mark\": {\"type\": \"rule\", \"size\": 2}, \"encoding\": {\"x\": {\"type\": \"ordinal\", \"field\": \"week\", \"scale\": {\"domain\": {\"selection\": \"selector004\"}}, \"title\": \"Week Number\"}, \"y\": {\"type\": \"quantitative\", \"field\": \"number_of_rides\", \"title\": \"Number of Rides\"}}, \"height\": 300, \"title\": \"Number of Rides per Week\", \"width\": 800}, {\"mark\": {\"type\": \"rule\", \"size\": 2}, \"encoding\": {\"x\": {\"type\": \"ordinal\", \"field\": \"week\", \"title\": \"Week Number\"}, \"y\": {\"type\": \"quantitative\", \"field\": \"number_of_rides\", \"title\": \"Number of Rides\"}}, \"height\": 50, \"selection\": {\"selector004\": {\"type\": \"interval\", \"encodings\": [\"x\"]}}, \"title\": \"Number of Rides per Week\", \"width\": 800}], \"data\": {\"name\": \"data-5e405cb54075ecce5415e4392ec77513\"}, \"$schema\": \"https://vega.github.io/schema/vega-lite/v4.8.1.json\", \"datasets\": {\"data-5e405cb54075ecce5415e4392ec77513\": [{\"week\": \"2013-34\", \"number_of_rides\": 2102}, {\"week\": \"2013-35\", \"number_of_rides\": 4857}, {\"week\": \"2013-36\", \"number_of_rides\": 5870}, {\"week\": \"2013-37\", \"number_of_rides\": 6255}, {\"week\": \"2013-38\", \"number_of_rides\": 6768}, {\"week\": \"2013-39\", \"number_of_rides\": 6588}, {\"week\": \"2013-40\", \"number_of_rides\": 6422}, {\"week\": \"2013-41\", \"number_of_rides\": 6925}, {\"week\": \"2013-42\", \"number_of_rides\": 6124}, {\"week\": \"2013-43\", \"number_of_rides\": 6203}, {\"week\": \"2013-44\", \"number_of_rides\": 6746}, {\"week\": \"2013-45\", \"number_of_rides\": 6344}, {\"week\": \"2013-46\", \"number_of_rides\": 5411}, {\"week\": \"2013-47\", \"number_of_rides\": 4054}, {\"week\": \"2013-48\", \"number_of_rides\": 5056}, {\"week\": \"2013-49\", \"number_of_rides\": 5182}, {\"week\": \"2013-50\", \"number_of_rides\": 5324}, {\"week\": \"2013-51\", \"number_of_rides\": 2904}, {\"week\": \"2013-52\", \"number_of_rides\": 1428}, {\"week\": \"2014-0\", \"number_of_rides\": 2261}, {\"week\": \"2014-1\", \"number_of_rides\": 5355}, {\"week\": \"2014-2\", \"number_of_rides\": 6047}, {\"week\": \"2014-3\", \"number_of_rides\": 5653}, {\"week\": \"2014-4\", \"number_of_rides\": 5495}, {\"week\": \"2014-5\", \"number_of_rides\": 3992}, {\"week\": \"2014-6\", \"number_of_rides\": 5148}, {\"week\": \"2014-7\", \"number_of_rides\": 5281}, {\"week\": \"2014-8\", \"number_of_rides\": 4538}, {\"week\": \"2014-9\", \"number_of_rides\": 5348}, {\"week\": \"2014-10\", \"number_of_rides\": 6343}, {\"week\": \"2014-11\", \"number_of_rides\": 6306}, {\"week\": \"2014-12\", \"number_of_rides\": 5190}, {\"week\": \"2014-13\", \"number_of_rides\": 4954}, {\"week\": \"2014-14\", \"number_of_rides\": 6397}, {\"week\": \"2014-15\", \"number_of_rides\": 6398}, {\"week\": \"2014-16\", \"number_of_rides\": 5580}, {\"week\": \"2014-17\", \"number_of_rides\": 6589}, {\"week\": \"2014-18\", \"number_of_rides\": 6410}, {\"week\": \"2014-19\", \"number_of_rides\": 6767}, {\"week\": \"2014-20\", \"number_of_rides\": 6495}, {\"week\": \"2014-21\", \"number_of_rides\": 6221}, {\"week\": \"2014-22\", \"number_of_rides\": 7198}, {\"week\": \"2014-23\", \"number_of_rides\": 7106}, {\"week\": \"2014-24\", \"number_of_rides\": 6883}, {\"week\": \"2014-25\", \"number_of_rides\": 7133}, {\"week\": \"2014-26\", \"number_of_rides\": 5917}, {\"week\": \"2014-27\", \"number_of_rides\": 6868}, {\"week\": \"2014-28\", \"number_of_rides\": 7122}, {\"week\": \"2014-29\", \"number_of_rides\": 7316}, {\"week\": \"2014-30\", \"number_of_rides\": 7267}, {\"week\": \"2014-31\", \"number_of_rides\": 6903}, {\"week\": \"2014-32\", \"number_of_rides\": 7152}, {\"week\": \"2014-33\", \"number_of_rides\": 7357}, {\"week\": \"2014-34\", \"number_of_rides\": 7781}, {\"week\": \"2014-35\", \"number_of_rides\": 6653}, {\"week\": \"2014-36\", \"number_of_rides\": 7599}, {\"week\": \"2014-37\", \"number_of_rides\": 7676}, {\"week\": \"2014-38\", \"number_of_rides\": 7212}, {\"week\": \"2014-39\", \"number_of_rides\": 7472}, {\"week\": \"2014-40\", \"number_of_rides\": 7310}, {\"week\": \"2014-41\", \"number_of_rides\": 7781}, {\"week\": \"2014-42\", \"number_of_rides\": 7635}, {\"week\": \"2014-43\", \"number_of_rides\": 7432}, {\"week\": \"2014-44\", \"number_of_rides\": 7626}, {\"week\": \"2014-45\", \"number_of_rides\": 6984}, {\"week\": \"2014-46\", \"number_of_rides\": 6238}, {\"week\": \"2014-47\", \"number_of_rides\": 4152}, {\"week\": \"2014-48\", \"number_of_rides\": 5121}, {\"week\": \"2014-49\", \"number_of_rides\": 5340}, {\"week\": \"2014-50\", \"number_of_rides\": 4450}, {\"week\": \"2014-51\", \"number_of_rides\": 3091}, {\"week\": \"2014-52\", \"number_of_rides\": 1796}, {\"week\": \"2015-0\", \"number_of_rides\": 892}, {\"week\": \"2015-1\", \"number_of_rides\": 6778}, {\"week\": \"2015-2\", \"number_of_rides\": 6965}, {\"week\": \"2015-3\", \"number_of_rides\": 6229}, {\"week\": \"2015-4\", \"number_of_rides\": 6976}, {\"week\": \"2015-5\", \"number_of_rides\": 6488}, {\"week\": \"2015-6\", \"number_of_rides\": 7261}, {\"week\": \"2015-7\", \"number_of_rides\": 6041}, {\"week\": \"2015-8\", \"number_of_rides\": 6611}, {\"week\": \"2015-9\", \"number_of_rides\": 6955}, {\"week\": \"2015-10\", \"number_of_rides\": 6852}, {\"week\": \"2015-11\", \"number_of_rides\": 7300}, {\"week\": \"2015-12\", \"number_of_rides\": 7400}, {\"week\": \"2015-13\", \"number_of_rides\": 7390}, {\"week\": \"2015-14\", \"number_of_rides\": 6912}, {\"week\": \"2015-15\", \"number_of_rides\": 7357}, {\"week\": \"2015-16\", \"number_of_rides\": 7315}, {\"week\": \"2015-17\", \"number_of_rides\": 7141}, {\"week\": \"2015-18\", \"number_of_rides\": 7359}, {\"week\": \"2015-19\", \"number_of_rides\": 7110}, {\"week\": \"2015-20\", \"number_of_rides\": 7110}, {\"week\": \"2015-21\", \"number_of_rides\": 6062}, {\"week\": \"2015-22\", \"number_of_rides\": 7251}, {\"week\": \"2015-23\", \"number_of_rides\": 7137}, {\"week\": \"2015-24\", \"number_of_rides\": 7364}, {\"week\": \"2015-25\", \"number_of_rides\": 7496}, {\"week\": \"2015-26\", \"number_of_rides\": 6037}, {\"week\": \"2015-27\", \"number_of_rides\": 7290}, {\"week\": \"2015-28\", \"number_of_rides\": 7465}, {\"week\": \"2015-29\", \"number_of_rides\": 7382}, {\"week\": \"2015-30\", \"number_of_rides\": 7652}, {\"week\": \"2015-31\", \"number_of_rides\": 7232}, {\"week\": \"2015-32\", \"number_of_rides\": 7476}, {\"week\": \"2015-33\", \"number_of_rides\": 7560}, {\"week\": \"2015-34\", \"number_of_rides\": 7511}, {\"week\": \"2015-35\", \"number_of_rides\": 7211}, {\"week\": \"2015-36\", \"number_of_rides\": 6256}, {\"week\": \"2015-37\", \"number_of_rides\": 7126}, {\"week\": \"2015-38\", \"number_of_rides\": 7239}, {\"week\": \"2015-39\", \"number_of_rides\": 7016}, {\"week\": \"2015-40\", \"number_of_rides\": 7122}, {\"week\": \"2015-41\", \"number_of_rides\": 7158}, {\"week\": \"2015-42\", \"number_of_rides\": 7159}, {\"week\": \"2015-43\", \"number_of_rides\": 6862}, {\"week\": \"2015-44\", \"number_of_rides\": 6299}, {\"week\": \"2015-45\", \"number_of_rides\": 6109}, {\"week\": \"2015-46\", \"number_of_rides\": 6471}, {\"week\": \"2015-47\", \"number_of_rides\": 3324}, {\"week\": \"2015-48\", \"number_of_rides\": 5469}, {\"week\": \"2015-49\", \"number_of_rides\": 5288}, {\"week\": \"2015-50\", \"number_of_rides\": 5228}, {\"week\": \"2015-51\", \"number_of_rides\": 1852}, {\"week\": \"2015-52\", \"number_of_rides\": 1706}, {\"week\": \"2016-0\", \"number_of_rides\": 252}, {\"week\": \"2016-1\", \"number_of_rides\": 4113}, {\"week\": \"2016-2\", \"number_of_rides\": 5282}, {\"week\": \"2016-3\", \"number_of_rides\": 4059}, {\"week\": \"2016-4\", \"number_of_rides\": 5601}, {\"week\": \"2016-5\", \"number_of_rides\": 5553}, {\"week\": \"2016-6\", \"number_of_rides\": 6333}, {\"week\": \"2016-7\", \"number_of_rides\": 5179}, {\"week\": \"2016-8\", \"number_of_rides\": 6314}, {\"week\": \"2016-9\", \"number_of_rides\": 5648}, {\"week\": \"2016-10\", \"number_of_rides\": 4614}, {\"week\": \"2016-11\", \"number_of_rides\": 5997}, {\"week\": \"2016-12\", \"number_of_rides\": 5983}, {\"week\": \"2016-13\", \"number_of_rides\": 5976}, {\"week\": \"2016-14\", \"number_of_rides\": 6182}, {\"week\": \"2016-15\", \"number_of_rides\": 6225}, {\"week\": \"2016-16\", \"number_of_rides\": 6499}, {\"week\": \"2016-17\", \"number_of_rides\": 6440}, {\"week\": \"2016-18\", \"number_of_rides\": 6248}, {\"week\": \"2016-19\", \"number_of_rides\": 7074}, {\"week\": \"2016-20\", \"number_of_rides\": 6746}, {\"week\": \"2016-21\", \"number_of_rides\": 6456}, {\"week\": \"2016-22\", \"number_of_rides\": 5729}, {\"week\": \"2016-23\", \"number_of_rides\": 6850}, {\"week\": \"2016-24\", \"number_of_rides\": 6899}, {\"week\": \"2016-25\", \"number_of_rides\": 6880}, {\"week\": \"2016-26\", \"number_of_rides\": 6494}, {\"week\": \"2016-27\", \"number_of_rides\": 5040}, {\"week\": \"2016-28\", \"number_of_rides\": 6426}, {\"week\": \"2016-29\", \"number_of_rides\": 6238}, {\"week\": \"2016-30\", \"number_of_rides\": 6498}, {\"week\": \"2016-31\", \"number_of_rides\": 6355}, {\"week\": \"2016-32\", \"number_of_rides\": 6806}, {\"week\": \"2016-33\", \"number_of_rides\": 7114}, {\"week\": \"2016-34\", \"number_of_rides\": 6521}, {\"week\": \"2016-35\", \"number_of_rides\": 3870}, {\"week\": \"2017-26\", \"number_of_rides\": 3164}, {\"week\": \"2017-27\", \"number_of_rides\": 5846}, {\"week\": \"2017-28\", \"number_of_rides\": 9247}, {\"week\": \"2017-29\", \"number_of_rides\": 11924}, {\"week\": \"2017-30\", \"number_of_rides\": 13163}, {\"week\": \"2017-31\", \"number_of_rides\": 15274}, {\"week\": \"2017-32\", \"number_of_rides\": 16957}, {\"week\": \"2017-33\", \"number_of_rides\": 18752}, {\"week\": \"2017-34\", \"number_of_rides\": 19947}, {\"week\": \"2017-35\", \"number_of_rides\": 20910}, {\"week\": \"2017-36\", \"number_of_rides\": 21741}, {\"week\": \"2017-37\", \"number_of_rides\": 22878}, {\"week\": \"2017-38\", \"number_of_rides\": 24601}, {\"week\": \"2017-39\", \"number_of_rides\": 24208}, {\"week\": \"2017-40\", \"number_of_rides\": 25691}, {\"week\": \"2017-41\", \"number_of_rides\": 22763}, {\"week\": \"2017-42\", \"number_of_rides\": 24020}, {\"week\": \"2017-43\", \"number_of_rides\": 26646}, {\"week\": \"2017-44\", \"number_of_rides\": 24138}, {\"week\": \"2017-45\", \"number_of_rides\": 25215}, {\"week\": \"2017-46\", \"number_of_rides\": 21684}, {\"week\": \"2017-47\", \"number_of_rides\": 17169}, {\"week\": \"2017-48\", \"number_of_rides\": 23446}, {\"week\": \"2017-49\", \"number_of_rides\": 25131}, {\"week\": \"2017-50\", \"number_of_rides\": 24830}, {\"week\": \"2017-51\", \"number_of_rides\": 19024}, {\"week\": \"2017-52\", \"number_of_rides\": 9921}, {\"week\": \"2017-53\", \"number_of_rides\": 1410}, {\"week\": \"2018-0\", \"number_of_rides\": 14777}, {\"week\": \"2018-1\", \"number_of_rides\": 19205}, {\"week\": \"2018-2\", \"number_of_rides\": 21642}, {\"week\": \"2018-3\", \"number_of_rides\": 23327}, {\"week\": \"2018-4\", \"number_of_rides\": 28035}, {\"week\": \"2018-5\", \"number_of_rides\": 30005}, {\"week\": \"2018-6\", \"number_of_rides\": 28097}, {\"week\": \"2018-7\", \"number_of_rides\": 22394}, {\"week\": \"2018-8\", \"number_of_rides\": 21213}, {\"week\": \"2018-9\", \"number_of_rides\": 27329}, {\"week\": \"2018-10\", \"number_of_rides\": 22328}, {\"week\": \"2018-11\", \"number_of_rides\": 24135}, {\"week\": \"2018-12\", \"number_of_rides\": 30415}, {\"week\": \"2018-13\", \"number_of_rides\": 26413}, {\"week\": \"2018-14\", \"number_of_rides\": 30655}, {\"week\": \"2018-15\", \"number_of_rides\": 29075}, {\"week\": \"2018-16\", \"number_of_rides\": 35678}, {\"week\": \"2018-17\", \"number_of_rides\": 9348}]}}, {\"mode\": \"vega-lite\"});\n",
       "</script>"
      ],
      "text/plain": [
       "alt.VConcatChart(...)"
      ]
     },
     "execution_count": 21,
     "metadata": {},
     "output_type": "execute_result"
    }
   ],
   "source": [
    "df_number_of_rides_per_week['week'] = df_number_of_rides_per_week['week'].astype(str)\n",
    "\n",
    "interval = alt.selection_interval(encodings=['x'])\n",
    "\n",
    "base = alt.Chart(df_number_of_rides_per_week).mark_rule(size=2).encode(\n",
    "    x = alt.X('week:O', title='Week Number'),\n",
    "    y = alt.Y('number_of_rides', title='Number of Rides')).properties(\n",
    "    title='Number of Rides per Week')\n",
    "\n",
    "chart = base.encode(\n",
    "    x=alt.X('week:O', title='Week Number', scale=alt.Scale(domain=interval.ref()))\n",
    ").properties(\n",
    "    width=800,\n",
    "    height=300\n",
    ")\n",
    "\n",
    "view = base.add_selection(\n",
    "    interval\n",
    ").properties(\n",
    "    width=800,\n",
    "    height=50,\n",
    ")\n",
    "\n",
    "chart & view"
   ]
  },
  {
   "cell_type": "markdown",
   "id": "worth-driver",
   "metadata": {},
   "source": [
    "This plot is a has a slider subplot at the bottom to easily drill through granular patterns. We see that a rapid increase of bike use occured starting from 27th week of 2017 with a sudden dip on the 53rd week of 2017."
   ]
  },
  {
   "cell_type": "markdown",
   "id": "skilled-joining",
   "metadata": {},
   "source": [
    "### Part 1.3 Monthly number of rides for all time¶<a id='part1_3'></a>"
   ]
  },
  {
   "cell_type": "code",
   "execution_count": 17,
   "id": "verified-metadata",
   "metadata": {
    "ExecuteTime": {
     "end_time": "2021-07-26T15:24:21.338690Z",
     "start_time": "2021-07-26T15:24:14.285785Z"
    }
   },
   "outputs": [
    {
     "name": "stderr",
     "output_type": "stream",
     "text": [
      "Query complete after 0.00s: 100%|██████████| 3/3 [00:00<00:00, 917.19query/s]                         \n",
      "Downloading: 100%|██████████| 48/48 [00:02<00:00, 18.69rows/s]\n"
     ]
    }
   ],
   "source": [
    "%%bigquery df_number_of_rides_per_month\n",
    "SELECT \n",
    "    CONCAT(EXTRACT(YEAR FROM start_date), '-', EXTRACT(MONTH FROM start_date)) as month_, \n",
    "    COUNT(trip_id) as number_of_rides \n",
    "FROM \n",
    "    `bigquery-public-data.san_francisco_bikeshare.bikeshare_trips`\n",
    "GROUP BY \n",
    "    month_\n",
    "ORDER BY \n",
    "    min(start_date)"
   ]
  },
  {
   "cell_type": "code",
   "execution_count": 18,
   "id": "narrative-billy",
   "metadata": {
    "ExecuteTime": {
     "end_time": "2021-07-26T15:24:23.104579Z",
     "start_time": "2021-07-26T15:24:23.085069Z"
    }
   },
   "outputs": [
    {
     "data": {
      "text/html": [
       "\n",
       "<div id=\"altair-viz-7e76e38ca83c414c90d0808ddcb2c4e4\"></div>\n",
       "<script type=\"text/javascript\">\n",
       "  (function(spec, embedOpt){\n",
       "    let outputDiv = document.currentScript.previousElementSibling;\n",
       "    if (outputDiv.id !== \"altair-viz-7e76e38ca83c414c90d0808ddcb2c4e4\") {\n",
       "      outputDiv = document.getElementById(\"altair-viz-7e76e38ca83c414c90d0808ddcb2c4e4\");\n",
       "    }\n",
       "    const paths = {\n",
       "      \"vega\": \"https://cdn.jsdelivr.net/npm//vega@5?noext\",\n",
       "      \"vega-lib\": \"https://cdn.jsdelivr.net/npm//vega-lib?noext\",\n",
       "      \"vega-lite\": \"https://cdn.jsdelivr.net/npm//vega-lite@4.8.1?noext\",\n",
       "      \"vega-embed\": \"https://cdn.jsdelivr.net/npm//vega-embed@6?noext\",\n",
       "    };\n",
       "\n",
       "    function loadScript(lib) {\n",
       "      return new Promise(function(resolve, reject) {\n",
       "        var s = document.createElement('script');\n",
       "        s.src = paths[lib];\n",
       "        s.async = true;\n",
       "        s.onload = () => resolve(paths[lib]);\n",
       "        s.onerror = () => reject(`Error loading script: ${paths[lib]}`);\n",
       "        document.getElementsByTagName(\"head\")[0].appendChild(s);\n",
       "      });\n",
       "    }\n",
       "\n",
       "    function showError(err) {\n",
       "      outputDiv.innerHTML = `<div class=\"error\" style=\"color:red;\">${err}</div>`;\n",
       "      throw err;\n",
       "    }\n",
       "\n",
       "    function displayChart(vegaEmbed) {\n",
       "      vegaEmbed(outputDiv, spec, embedOpt)\n",
       "        .catch(err => showError(`Javascript Error: ${err.message}<br>This usually means there's a typo in your chart specification. See the javascript console for the full traceback.`));\n",
       "    }\n",
       "\n",
       "    if(typeof define === \"function\" && define.amd) {\n",
       "      requirejs.config({paths});\n",
       "      require([\"vega-embed\"], displayChart, err => showError(`Error loading script: ${err.message}`));\n",
       "    } else if (typeof vegaEmbed === \"function\") {\n",
       "      displayChart(vegaEmbed);\n",
       "    } else {\n",
       "      loadScript(\"vega\")\n",
       "        .then(() => loadScript(\"vega-lite\"))\n",
       "        .then(() => loadScript(\"vega-embed\"))\n",
       "        .catch(showError)\n",
       "        .then(() => displayChart(vegaEmbed));\n",
       "    }\n",
       "  })({\"config\": {\"view\": {\"continuousWidth\": 400, \"continuousHeight\": 300}}, \"data\": {\"name\": \"data-54edd130f1fbfbc94e9b86474c90ee32\"}, \"mark\": \"bar\", \"encoding\": {\"x\": {\"type\": \"ordinal\", \"field\": \"month_\", \"title\": \"Year Month\"}, \"y\": {\"type\": \"quantitative\", \"field\": \"number_of_rides\", \"title\": \"Number of Rides\"}}, \"title\": \"Number of Rides per Month\", \"$schema\": \"https://vega.github.io/schema/vega-lite/v4.8.1.json\", \"datasets\": {\"data-54edd130f1fbfbc94e9b86474c90ee32\": [{\"month_\": \"2013-8\", \"number_of_rides\": 2102}, {\"month_\": \"2013-9\", \"number_of_rides\": 25243}, {\"month_\": \"2013-10\", \"number_of_rides\": 29105}, {\"month_\": \"2013-11\", \"number_of_rides\": 24219}, {\"month_\": \"2013-12\", \"number_of_rides\": 19894}, {\"month_\": \"2014-1\", \"number_of_rides\": 24428}, {\"month_\": \"2014-2\", \"number_of_rides\": 19024}, {\"month_\": \"2014-3\", \"number_of_rides\": 24593}, {\"month_\": \"2014-4\", \"number_of_rides\": 26221}, {\"month_\": \"2014-5\", \"number_of_rides\": 28502}, {\"month_\": \"2014-6\", \"number_of_rides\": 29982}, {\"month_\": \"2014-7\", \"number_of_rides\": 31279}, {\"month_\": \"2014-8\", \"number_of_rides\": 31215}, {\"month_\": \"2014-9\", \"number_of_rides\": 31682}, {\"month_\": \"2014-10\", \"number_of_rides\": 34220}, {\"month_\": \"2014-11\", \"number_of_rides\": 25516}, {\"month_\": \"2014-12\", \"number_of_rides\": 19677}, {\"month_\": \"2015-1\", \"number_of_rides\": 27840}, {\"month_\": \"2015-2\", \"number_of_rides\": 26401}, {\"month_\": \"2015-3\", \"number_of_rides\": 31626}, {\"month_\": \"2015-4\", \"number_of_rides\": 31363}, {\"month_\": \"2015-5\", \"number_of_rides\": 29540}, {\"month_\": \"2015-6\", \"number_of_rides\": 31907}, {\"month_\": \"2015-7\", \"number_of_rides\": 32476}, {\"month_\": \"2015-8\", \"number_of_rides\": 31904}, {\"month_\": \"2015-9\", \"number_of_rides\": 30396}, {\"month_\": \"2015-10\", \"number_of_rides\": 31053}, {\"month_\": \"2015-11\", \"number_of_rides\": 23356}, {\"month_\": \"2015-12\", \"number_of_rides\": 18390}, {\"month_\": \"2016-1\", \"number_of_rides\": 19520}, {\"month_\": \"2016-2\", \"number_of_rides\": 24560}, {\"month_\": \"2016-3\", \"number_of_rides\": 25558}, {\"month_\": \"2016-4\", \"number_of_rides\": 26612}, {\"month_\": \"2016-5\", \"number_of_rides\": 28322}, {\"month_\": \"2016-6\", \"number_of_rides\": 29783}, {\"month_\": \"2016-7\", \"number_of_rides\": 25784}, {\"month_\": \"2016-8\", \"number_of_rides\": 30355}, {\"month_\": \"2017-6\", \"number_of_rides\": 2689}, {\"month_\": \"2017-7\", \"number_of_rides\": 44073}, {\"month_\": \"2017-8\", \"number_of_rides\": 83292}, {\"month_\": \"2017-9\", \"number_of_rides\": 98558}, {\"month_\": \"2017-10\", \"number_of_rides\": 108937}, {\"month_\": \"2017-11\", \"number_of_rides\": 95612}, {\"month_\": \"2017-12\", \"number_of_rides\": 86539}, {\"month_\": \"2018-1\", \"number_of_rides\": 94802}, {\"month_\": \"2018-2\", \"number_of_rides\": 106718}, {\"month_\": \"2018-3\", \"number_of_rides\": 111382}, {\"month_\": \"2018-4\", \"number_of_rides\": 131169}]}}, {\"mode\": \"vega-lite\"});\n",
       "</script>"
      ],
      "text/plain": [
       "alt.Chart(...)"
      ]
     },
     "execution_count": 18,
     "metadata": {},
     "output_type": "execute_result"
    }
   ],
   "source": [
    "alt.Chart(df_number_of_rides_per_month).mark_bar().encode(\n",
    "    x = alt.X('month_:O', title='Year Month'),\n",
    "    y = alt.Y('number_of_rides', title='Number of Rides')).properties(\n",
    "    title='Number of Rides per Month')"
   ]
  },
  {
   "cell_type": "markdown",
   "id": "median-criterion",
   "metadata": {},
   "source": [
    "We observe here the same trends from Part 1.2."
   ]
  },
  {
   "cell_type": "markdown",
   "id": "molecular-geneva",
   "metadata": {},
   "source": [
    "### Part 1.4 Histogram of ride durations across all time <a id='part1_4'></a>"
   ]
  },
  {
   "cell_type": "code",
   "execution_count": 22,
   "id": "western-attendance",
   "metadata": {
    "ExecuteTime": {
     "end_time": "2021-07-26T15:29:50.238645Z",
     "start_time": "2021-07-26T15:29:39.931510Z"
    },
    "scrolled": true
   },
   "outputs": [
    {
     "name": "stderr",
     "output_type": "stream",
     "text": [
      "Query complete after 0.00s: 100%|██████████| 2/2 [00:00<00:00, 623.46query/s]                         \n",
      "Downloading: 100%|██████████| 1947419/1947419 [00:06<00:00, 310848.47rows/s]\n"
     ]
    }
   ],
   "source": [
    "%%bigquery df_ride_durations\n",
    "SELECT \n",
    "    duration_sec\n",
    "FROM \n",
    "    `bigquery-public-data.san_francisco_bikeshare.bikeshare_trips`"
   ]
  },
  {
   "cell_type": "code",
   "execution_count": 29,
   "id": "industrial-vocabulary",
   "metadata": {
    "ExecuteTime": {
     "end_time": "2021-07-26T15:33:20.466200Z",
     "start_time": "2021-07-26T15:33:20.309262Z"
    }
   },
   "outputs": [
    {
     "data": {
      "image/png": "[encoded data removed]",
      "text/plain": [
       "<Figure size 432x288 with 1 Axes>"
      ]
     },
     "metadata": {
      "needs_background": "light"
     },
     "output_type": "display_data"
    }
   ],
   "source": [
    "plt.hist(df_ride_durations['duration_sec'])\n",
    "plt.show()"
   ]
  },
  {
   "cell_type": "markdown",
   "id": "ceramic-rebate",
   "metadata": {},
   "source": [
    "Looks like the data is sparse. Let's look at central measures."
   ]
  },
  {
   "cell_type": "code",
   "execution_count": 30,
   "id": "considered-packaging",
   "metadata": {
    "ExecuteTime": {
     "end_time": "2021-07-26T15:34:24.633315Z",
     "start_time": "2021-07-26T15:34:24.532785Z"
    }
   },
   "outputs": [
    {
     "data": {
      "text/html": [
       "<div>\n",
       "<style scoped>\n",
       "    .dataframe tbody tr th:only-of-type {\n",
       "        vertical-align: middle;\n",
       "    }\n",
       "\n",
       "    .dataframe tbody tr th {\n",
       "        vertical-align: top;\n",
       "    }\n",
       "\n",
       "    .dataframe thead th {\n",
       "        text-align: right;\n",
       "    }\n",
       "</style>\n",
       "<table border=\"1\" class=\"dataframe\">\n",
       "  <thead>\n",
       "    <tr style=\"text-align: right;\">\n",
       "      <th></th>\n",
       "      <th>duration_sec</th>\n",
       "    </tr>\n",
       "  </thead>\n",
       "  <tbody>\n",
       "    <tr>\n",
       "      <th>count</th>\n",
       "      <td>1.947419e+06</td>\n",
       "    </tr>\n",
       "    <tr>\n",
       "      <th>mean</th>\n",
       "      <td>1.007971e+03</td>\n",
       "    </tr>\n",
       "    <tr>\n",
       "      <th>std</th>\n",
       "      <td>1.326852e+04</td>\n",
       "    </tr>\n",
       "    <tr>\n",
       "      <th>min</th>\n",
       "      <td>6.000000e+01</td>\n",
       "    </tr>\n",
       "    <tr>\n",
       "      <th>25%</th>\n",
       "      <td>3.570000e+02</td>\n",
       "    </tr>\n",
       "    <tr>\n",
       "      <th>50%</th>\n",
       "      <td>5.430000e+02</td>\n",
       "    </tr>\n",
       "    <tr>\n",
       "      <th>75%</th>\n",
       "      <td>8.170000e+02</td>\n",
       "    </tr>\n",
       "    <tr>\n",
       "      <th>max</th>\n",
       "      <td>1.727040e+07</td>\n",
       "    </tr>\n",
       "  </tbody>\n",
       "</table>\n",
       "</div>"
      ],
      "text/plain": [
       "       duration_sec\n",
       "count  1.947419e+06\n",
       "mean   1.007971e+03\n",
       "std    1.326852e+04\n",
       "min    6.000000e+01\n",
       "25%    3.570000e+02\n",
       "50%    5.430000e+02\n",
       "75%    8.170000e+02\n",
       "max    1.727040e+07"
      ]
     },
     "execution_count": 30,
     "metadata": {},
     "output_type": "execute_result"
    }
   ],
   "source": [
    "df_ride_durations.describe()"
   ]
  },
  {
   "cell_type": "code",
   "execution_count": 31,
   "id": "ordered-budget",
   "metadata": {
    "ExecuteTime": {
     "end_time": "2021-07-26T15:35:18.774908Z",
     "start_time": "2021-07-26T15:35:18.525676Z"
    }
   },
   "outputs": [
    {
     "data": {
      "text/plain": [
       "<AxesSubplot:>"
      ]
     },
     "execution_count": 31,
     "metadata": {},
     "output_type": "execute_result"
    },
    {
     "data": {
      "image/png": "[encoded data removed]",
      "text/plain": [
       "<Figure size 432x288 with 1 Axes>"
      ]
     },
     "metadata": {
      "needs_background": "light"
     },
     "output_type": "display_data"
    }
   ],
   "source": [
    "df_ride_durations.boxplot()"
   ]
  },
  {
   "cell_type": "code",
   "execution_count": 32,
   "id": "specified-daniel",
   "metadata": {
    "ExecuteTime": {
     "end_time": "2021-07-26T15:36:00.485970Z",
     "start_time": "2021-07-26T15:36:00.296765Z"
    }
   },
   "outputs": [
    {
     "data": {
      "text/plain": [
       "<AxesSubplot:>"
      ]
     },
     "execution_count": 32,
     "metadata": {},
     "output_type": "execute_result"
    },
    {
     "data": {
      "image/png": "[encoded data removed]",
      "text/plain": [
       "<Figure size 432x288 with 1 Axes>"
      ]
     },
     "metadata": {
      "needs_background": "light"
     },
     "output_type": "display_data"
    }
   ],
   "source": [
    "df_ride_durations.boxplot(showfliers=False)"
   ]
  },
  {
   "cell_type": "markdown",
   "id": "spiritual-banana",
   "metadata": {},
   "source": [
    "There is an extreme outlier for a bike duration: `1.727040e+07 seconds` or about `6 months`! There can be multiple explanations for this. Maybe thier system got rigged or they have a data input problem. For this demo, I will not deal with \"cleaning\" the data but just plot it with logarithmic scales (since values are far apart)."
   ]
  },
  {
   "cell_type": "code",
   "execution_count": 38,
   "id": "surface-remark",
   "metadata": {
    "ExecuteTime": {
     "end_time": "2021-07-26T15:48:52.680783Z",
     "start_time": "2021-07-26T15:48:52.131046Z"
    }
   },
   "outputs": [
    {
     "data": {
      "image/png": "[encoded data removed]",
      "text/plain": [
       "<Figure size 432x288 with 1 Axes>"
      ]
     },
     "metadata": {
      "needs_background": "light"
     },
     "output_type": "display_data"
    }
   ],
   "source": [
    "plt.hist(np.log2(df_ride_durations['duration_sec']), log=True)\n",
    "plt.ylabel('Count')\n",
    "plt.xlabel('log2 of durations (seconds)')\n",
    "plt.title('Count of Durations in log scale')\n",
    "plt.show()"
   ]
  },
  {
   "cell_type": "markdown",
   "id": "weird-alcohol",
   "metadata": {},
   "source": [
    "### Part 1.5 Monthly median ride duration across all time <a id='part1_5'></a>"
   ]
  },
  {
   "cell_type": "code",
   "execution_count": 39,
   "id": "functioning-baking",
   "metadata": {
    "ExecuteTime": {
     "end_time": "2021-07-26T15:49:22.916194Z",
     "start_time": "2021-07-26T15:49:14.625341Z"
    }
   },
   "outputs": [
    {
     "name": "stderr",
     "output_type": "stream",
     "text": [
      "Query complete after 0.00s: 100%|██████████| 6/6 [00:00<00:00, 2182.45query/s]                        \n",
      "Downloading: 100%|██████████| 48/48 [00:03<00:00, 14.51rows/s]\n"
     ]
    }
   ],
   "source": [
    "%%bigquery df_ride_durations_median_per_month\n",
    "SELECT month_, ANY_VALUE(median) as median_\n",
    "FROM\n",
    "(SELECT\n",
    "    start_date,\n",
    "    month_,\n",
    "    PERCENTILE_CONT(duration_sec, 0.5) OVER(PARTITION BY month_) AS median,\n",
    "FROM\n",
    "(SELECT\n",
    "    start_date,\n",
    "    CONCAT(EXTRACT(YEAR FROM start_date), '-', EXTRACT(MONTH FROM start_date)) as month_,\n",
    "    duration_sec\n",
    "FROM \n",
    "    `bigquery-public-data.san_francisco_bikeshare.bikeshare_trips`))\n",
    "GROUP BY month_\n",
    "ORDER BY min(start_date)"
   ]
  },
  {
   "cell_type": "code",
   "execution_count": 40,
   "id": "beginning-tackle",
   "metadata": {
    "ExecuteTime": {
     "end_time": "2021-07-26T15:49:31.004388Z",
     "start_time": "2021-07-26T15:49:30.996220Z"
    }
   },
   "outputs": [
    {
     "data": {
      "text/html": [
       "<div>\n",
       "<style scoped>\n",
       "    .dataframe tbody tr th:only-of-type {\n",
       "        vertical-align: middle;\n",
       "    }\n",
       "\n",
       "    .dataframe tbody tr th {\n",
       "        vertical-align: top;\n",
       "    }\n",
       "\n",
       "    .dataframe thead th {\n",
       "        text-align: right;\n",
       "    }\n",
       "</style>\n",
       "<table border=\"1\" class=\"dataframe\">\n",
       "  <thead>\n",
       "    <tr style=\"text-align: right;\">\n",
       "      <th></th>\n",
       "      <th>month_</th>\n",
       "      <th>median_</th>\n",
       "    </tr>\n",
       "  </thead>\n",
       "  <tbody>\n",
       "    <tr>\n",
       "      <th>0</th>\n",
       "      <td>2013-8</td>\n",
       "      <td>813.0</td>\n",
       "    </tr>\n",
       "    <tr>\n",
       "      <th>1</th>\n",
       "      <td>2013-9</td>\n",
       "      <td>634.0</td>\n",
       "    </tr>\n",
       "    <tr>\n",
       "      <th>2</th>\n",
       "      <td>2013-10</td>\n",
       "      <td>537.0</td>\n",
       "    </tr>\n",
       "    <tr>\n",
       "      <th>3</th>\n",
       "      <td>2013-11</td>\n",
       "      <td>525.0</td>\n",
       "    </tr>\n",
       "    <tr>\n",
       "      <th>4</th>\n",
       "      <td>2013-12</td>\n",
       "      <td>497.0</td>\n",
       "    </tr>\n",
       "  </tbody>\n",
       "</table>\n",
       "</div>"
      ],
      "text/plain": [
       "    month_  median_\n",
       "0   2013-8    813.0\n",
       "1   2013-9    634.0\n",
       "2  2013-10    537.0\n",
       "3  2013-11    525.0\n",
       "4  2013-12    497.0"
      ]
     },
     "execution_count": 40,
     "metadata": {},
     "output_type": "execute_result"
    }
   ],
   "source": [
    "df_ride_durations_median_per_month.head()"
   ]
  },
  {
   "cell_type": "markdown",
   "id": "chinese-johnson",
   "metadata": {},
   "source": [
    "Let's verify the median value for `2013-8` using numpy."
   ]
  },
  {
   "cell_type": "code",
   "execution_count": 41,
   "id": "worthy-morgan",
   "metadata": {
    "ExecuteTime": {
     "end_time": "2021-07-26T15:50:32.407291Z",
     "start_time": "2021-07-26T15:50:26.743925Z"
    }
   },
   "outputs": [
    {
     "name": "stderr",
     "output_type": "stream",
     "text": [
      "Query complete after 0.00s: 100%|██████████| 1/1 [00:00<00:00, 373.82query/s]                          \n",
      "Downloading: 100%|██████████| 2102/2102 [00:03<00:00, 642.35rows/s]\n"
     ]
    }
   ],
   "source": [
    "%%bigquery df_median_spot_check\n",
    "SELECT \n",
    "    duration_sec\n",
    "FROM \n",
    "    `bigquery-public-data.san_francisco_bikeshare.bikeshare_trips` \n",
    "WHERE \n",
    "    EXTRACT(YEAR FROM start_date) = 2013 and \n",
    "    EXTRACT(MONTH FROM start_date) = 8"
   ]
  },
  {
   "cell_type": "code",
   "execution_count": 42,
   "id": "proper-proposition",
   "metadata": {
    "ExecuteTime": {
     "end_time": "2021-07-26T15:50:34.974731Z",
     "start_time": "2021-07-26T15:50:34.967158Z"
    }
   },
   "outputs": [
    {
     "data": {
      "text/plain": [
       "813.0"
      ]
     },
     "execution_count": 42,
     "metadata": {},
     "output_type": "execute_result"
    }
   ],
   "source": [
    "np.median(df_median_spot_check['duration_sec'])"
   ]
  },
  {
   "cell_type": "markdown",
   "id": "unnecessary-ontario",
   "metadata": {},
   "source": [
    "We verify that the values are correct so we can proceed in visualizing it."
   ]
  },
  {
   "cell_type": "code",
   "execution_count": 43,
   "id": "synthetic-brighton",
   "metadata": {
    "ExecuteTime": {
     "end_time": "2021-07-26T15:51:10.406924Z",
     "start_time": "2021-07-26T15:51:10.394589Z"
    }
   },
   "outputs": [
    {
     "data": {
      "text/html": [
       "\n",
       "<div id=\"altair-viz-5da5c97e25ab48ab9f28d1eb1c66b38e\"></div>\n",
       "<script type=\"text/javascript\">\n",
       "  (function(spec, embedOpt){\n",
       "    let outputDiv = document.currentScript.previousElementSibling;\n",
       "    if (outputDiv.id !== \"altair-viz-5da5c97e25ab48ab9f28d1eb1c66b38e\") {\n",
       "      outputDiv = document.getElementById(\"altair-viz-5da5c97e25ab48ab9f28d1eb1c66b38e\");\n",
       "    }\n",
       "    const paths = {\n",
       "      \"vega\": \"https://cdn.jsdelivr.net/npm//vega@5?noext\",\n",
       "      \"vega-lib\": \"https://cdn.jsdelivr.net/npm//vega-lib?noext\",\n",
       "      \"vega-lite\": \"https://cdn.jsdelivr.net/npm//vega-lite@4.8.1?noext\",\n",
       "      \"vega-embed\": \"https://cdn.jsdelivr.net/npm//vega-embed@6?noext\",\n",
       "    };\n",
       "\n",
       "    function loadScript(lib) {\n",
       "      return new Promise(function(resolve, reject) {\n",
       "        var s = document.createElement('script');\n",
       "        s.src = paths[lib];\n",
       "        s.async = true;\n",
       "        s.onload = () => resolve(paths[lib]);\n",
       "        s.onerror = () => reject(`Error loading script: ${paths[lib]}`);\n",
       "        document.getElementsByTagName(\"head\")[0].appendChild(s);\n",
       "      });\n",
       "    }\n",
       "\n",
       "    function showError(err) {\n",
       "      outputDiv.innerHTML = `<div class=\"error\" style=\"color:red;\">${err}</div>`;\n",
       "      throw err;\n",
       "    }\n",
       "\n",
       "    function displayChart(vegaEmbed) {\n",
       "      vegaEmbed(outputDiv, spec, embedOpt)\n",
       "        .catch(err => showError(`Javascript Error: ${err.message}<br>This usually means there's a typo in your chart specification. See the javascript console for the full traceback.`));\n",
       "    }\n",
       "\n",
       "    if(typeof define === \"function\" && define.amd) {\n",
       "      requirejs.config({paths});\n",
       "      require([\"vega-embed\"], displayChart, err => showError(`Error loading script: ${err.message}`));\n",
       "    } else if (typeof vegaEmbed === \"function\") {\n",
       "      displayChart(vegaEmbed);\n",
       "    } else {\n",
       "      loadScript(\"vega\")\n",
       "        .then(() => loadScript(\"vega-lite\"))\n",
       "        .then(() => loadScript(\"vega-embed\"))\n",
       "        .catch(showError)\n",
       "        .then(() => displayChart(vegaEmbed));\n",
       "    }\n",
       "  })({\"config\": {\"view\": {\"continuousWidth\": 400, \"continuousHeight\": 300}}, \"data\": {\"name\": \"data-457e6ba37ec30ce3fa7ee98864ff289c\"}, \"mark\": \"bar\", \"encoding\": {\"x\": {\"type\": \"ordinal\", \"field\": \"month_\", \"title\": \"Year Month\"}, \"y\": {\"type\": \"quantitative\", \"field\": \"median_\", \"title\": \"Median\"}}, \"title\": \"Median Duration of Rides per Month (sec)\", \"$schema\": \"https://vega.github.io/schema/vega-lite/v4.8.1.json\", \"datasets\": {\"data-457e6ba37ec30ce3fa7ee98864ff289c\": [{\"month_\": \"2013-8\", \"median_\": 813.0}, {\"month_\": \"2013-9\", \"median_\": 634.0}, {\"month_\": \"2013-10\", \"median_\": 537.0}, {\"month_\": \"2013-11\", \"median_\": 525.0}, {\"month_\": \"2013-12\", \"median_\": 497.0}, {\"month_\": \"2014-1\", \"median_\": 494.0}, {\"month_\": \"2014-2\", \"median_\": 487.0}, {\"month_\": \"2014-3\", \"median_\": 514.0}, {\"month_\": \"2014-4\", \"median_\": 511.0}, {\"month_\": \"2014-5\", \"median_\": 520.0}, {\"month_\": \"2014-6\", \"median_\": 515.0}, {\"month_\": \"2014-7\", \"median_\": 520.0}, {\"month_\": \"2014-8\", \"median_\": 519.0}, {\"month_\": \"2014-9\", \"median_\": 512.0}, {\"month_\": \"2014-10\", \"median_\": 515.0}, {\"month_\": \"2014-11\", \"median_\": 503.0}, {\"month_\": \"2014-12\", \"median_\": 502.0}, {\"month_\": \"2015-1\", \"median_\": 492.0}, {\"month_\": \"2015-2\", \"median_\": 493.0}, {\"month_\": \"2015-3\", \"median_\": 511.0}, {\"month_\": \"2015-4\", \"median_\": 498.0}, {\"month_\": \"2015-5\", \"median_\": 504.0}, {\"month_\": \"2015-6\", \"median_\": 519.0}, {\"month_\": \"2015-7\", \"median_\": 540.0}, {\"month_\": \"2015-8\", \"median_\": 537.0}, {\"month_\": \"2015-9\", \"median_\": 527.0}, {\"month_\": \"2015-10\", \"median_\": 524.0}, {\"month_\": \"2015-11\", \"median_\": 512.0}, {\"month_\": \"2015-12\", \"median_\": 507.0}, {\"month_\": \"2016-1\", \"median_\": 505.0}, {\"month_\": \"2016-2\", \"median_\": 518.0}, {\"month_\": \"2016-3\", \"median_\": 510.0}, {\"month_\": \"2016-4\", \"median_\": 514.0}, {\"month_\": \"2016-5\", \"median_\": 519.0}, {\"month_\": \"2016-6\", \"median_\": 525.0}, {\"month_\": \"2016-7\", \"median_\": 529.0}, {\"month_\": \"2016-8\", \"median_\": 531.0}, {\"month_\": \"2017-6\", \"median_\": 562.0}, {\"month_\": \"2017-7\", \"median_\": 626.0}, {\"month_\": \"2017-8\", \"median_\": 624.0}, {\"month_\": \"2017-9\", \"median_\": 616.0}, {\"month_\": \"2017-10\", \"median_\": 588.0}, {\"month_\": \"2017-11\", \"median_\": 578.0}, {\"month_\": \"2017-12\", \"median_\": 565.0}, {\"month_\": \"2018-1\", \"median_\": 555.0}, {\"month_\": \"2018-2\", \"median_\": 555.0}, {\"month_\": \"2018-3\", \"median_\": 549.0}, {\"month_\": \"2018-4\", \"median_\": 550.0}]}}, {\"mode\": \"vega-lite\"});\n",
       "</script>"
      ],
      "text/plain": [
       "alt.Chart(...)"
      ]
     },
     "execution_count": 43,
     "metadata": {},
     "output_type": "execute_result"
    }
   ],
   "source": [
    "alt.Chart(df_ride_durations_median_per_month).mark_bar().encode(\n",
    "    x = alt.X('month_:O', title='Year Month'),\n",
    "    y = alt.Y('median_', title='Median')).properties(\n",
    "    title='Median Duration of Rides per Month (sec)')"
   ]
  },
  {
   "cell_type": "markdown",
   "id": "offensive-possession",
   "metadata": {},
   "source": [
    "Since the data is aggregated per month, we see that generally the distribution is uniform as what is inherent to bike ride durations."
   ]
  },
  {
   "cell_type": "markdown",
   "id": "arabic-architect",
   "metadata": {},
   "source": [
    "### Part 1.6 Fraction of weekly “Subscriber” subscriber_type rentals across all time <a id='part1_6'></a>"
   ]
  },
  {
   "cell_type": "code",
   "execution_count": 45,
   "id": "fewer-petite",
   "metadata": {
    "ExecuteTime": {
     "end_time": "2021-07-26T15:53:04.655844Z",
     "start_time": "2021-07-26T15:52:57.213645Z"
    }
   },
   "outputs": [
    {
     "name": "stderr",
     "output_type": "stream",
     "text": [
      "Query complete after 0.00s: 100%|██████████| 3/3 [00:00<00:00, 1426.63query/s]                        \n",
      "Downloading: 100%|██████████| 207/207 [00:03<00:00, 62.13rows/s]\n"
     ]
    },
    {
     "data": {
      "text/html": [
       "<div>\n",
       "<style scoped>\n",
       "    .dataframe tbody tr th:only-of-type {\n",
       "        vertical-align: middle;\n",
       "    }\n",
       "\n",
       "    .dataframe tbody tr th {\n",
       "        vertical-align: top;\n",
       "    }\n",
       "\n",
       "    .dataframe thead th {\n",
       "        text-align: right;\n",
       "    }\n",
       "</style>\n",
       "<table border=\"1\" class=\"dataframe\">\n",
       "  <thead>\n",
       "    <tr style=\"text-align: right;\">\n",
       "      <th></th>\n",
       "      <th>week</th>\n",
       "      <th>subs</th>\n",
       "    </tr>\n",
       "  </thead>\n",
       "  <tbody>\n",
       "    <tr>\n",
       "      <th>0</th>\n",
       "      <td>2013-34</td>\n",
       "      <td>0.441960038</td>\n",
       "    </tr>\n",
       "    <tr>\n",
       "      <th>1</th>\n",
       "      <td>2013-35</td>\n",
       "      <td>0.425777229</td>\n",
       "    </tr>\n",
       "    <tr>\n",
       "      <th>2</th>\n",
       "      <td>2013-36</td>\n",
       "      <td>0.607495741</td>\n",
       "    </tr>\n",
       "    <tr>\n",
       "      <th>3</th>\n",
       "      <td>2013-37</td>\n",
       "      <td>0.690487610</td>\n",
       "    </tr>\n",
       "    <tr>\n",
       "      <th>4</th>\n",
       "      <td>2013-38</td>\n",
       "      <td>0.696660757</td>\n",
       "    </tr>\n",
       "    <tr>\n",
       "      <th>...</th>\n",
       "      <td>...</td>\n",
       "      <td>...</td>\n",
       "    </tr>\n",
       "    <tr>\n",
       "      <th>202</th>\n",
       "      <td>2018-13</td>\n",
       "      <td>0.852156135</td>\n",
       "    </tr>\n",
       "    <tr>\n",
       "      <th>203</th>\n",
       "      <td>2018-14</td>\n",
       "      <td>0.841167836</td>\n",
       "    </tr>\n",
       "    <tr>\n",
       "      <th>204</th>\n",
       "      <td>2018-15</td>\n",
       "      <td>0.842545142</td>\n",
       "    </tr>\n",
       "    <tr>\n",
       "      <th>205</th>\n",
       "      <td>2018-16</td>\n",
       "      <td>0.837014407</td>\n",
       "    </tr>\n",
       "    <tr>\n",
       "      <th>206</th>\n",
       "      <td>2018-17</td>\n",
       "      <td>0.784659820</td>\n",
       "    </tr>\n",
       "  </tbody>\n",
       "</table>\n",
       "<p>207 rows × 2 columns</p>\n",
       "</div>"
      ],
      "text/plain": [
       "        week         subs\n",
       "0    2013-34  0.441960038\n",
       "1    2013-35  0.425777229\n",
       "2    2013-36  0.607495741\n",
       "3    2013-37  0.690487610\n",
       "4    2013-38  0.696660757\n",
       "..       ...          ...\n",
       "202  2018-13  0.852156135\n",
       "203  2018-14  0.841167836\n",
       "204  2018-15  0.842545142\n",
       "205  2018-16  0.837014407\n",
       "206  2018-17  0.784659820\n",
       "\n",
       "[207 rows x 2 columns]"
      ]
     },
     "execution_count": 45,
     "metadata": {},
     "output_type": "execute_result"
    }
   ],
   "source": [
    "%%bigquery\n",
    "SELECT week, CAST(subscriber as DECIMAL)/(subscriber+customer) as subs\n",
    "FROM\n",
    "(SELECT\n",
    "    CONCAT(EXTRACT(YEAR FROM start_date), '-', EXTRACT(WEEK FROM start_date)) as week,\n",
    "    SUM(CASE WHEN subscriber_type = 'Subscriber' THEN 1 ELSE 0 END) AS subscriber,\n",
    "    SUM(CASE WHEN subscriber_type = 'Customer' THEN 1 ELSE 0 END) AS customer,\n",
    "FROM\n",
    "  `bigquery-public-data.san_francisco_bikeshare.bikeshare_trips`\n",
    "GROUP BY \n",
    "    week\n",
    "ORDER BY\n",
    "    min(start_date))"
   ]
  },
  {
   "cell_type": "markdown",
   "id": "arranged-arkansas",
   "metadata": {},
   "source": [
    "Let's verify the subscriber ration for week `2013-34`."
   ]
  },
  {
   "cell_type": "code",
   "execution_count": 46,
   "id": "younger-killer",
   "metadata": {
    "ExecuteTime": {
     "end_time": "2021-07-26T15:54:59.736867Z",
     "start_time": "2021-07-26T15:54:53.135878Z"
    }
   },
   "outputs": [
    {
     "name": "stderr",
     "output_type": "stream",
     "text": [
      "Query complete after 0.00s: 100%|██████████| 1/1 [00:00<00:00, 331.12query/s]                          \n",
      "Downloading: 100%|██████████| 2102/2102 [00:03<00:00, 546.32rows/s]\n"
     ]
    }
   ],
   "source": [
    "%%bigquery df_median_sub_ratio_check\n",
    "SELECT \n",
    "    CONCAT(EXTRACT(YEAR FROM start_date), '-', EXTRACT(WEEK FROM start_date)) as week,\n",
    "    subscriber_type\n",
    "FROM \n",
    "    `bigquery-public-data.san_francisco_bikeshare.bikeshare_trips` \n",
    "WHERE \n",
    "    EXTRACT(YEAR FROM start_date) = 2013 and \n",
    "    EXTRACT(WEEK FROM start_date) = 34"
   ]
  },
  {
   "cell_type": "code",
   "execution_count": 47,
   "id": "opposite-immigration",
   "metadata": {
    "ExecuteTime": {
     "end_time": "2021-07-26T15:54:59.748114Z",
     "start_time": "2021-07-26T15:54:59.739619Z"
    }
   },
   "outputs": [],
   "source": [
    "sub = len(df_median_sub_ratio_check[df_median_sub_ratio_check['subscriber_type'] == 'Subscriber'])\n",
    "cust = len(df_median_sub_ratio_check[df_median_sub_ratio_check['subscriber_type'] == 'Customer'])\n",
    "sub_ratio = sub/(sub+cust)"
   ]
  },
  {
   "cell_type": "code",
   "execution_count": 48,
   "id": "outside-amendment",
   "metadata": {
    "ExecuteTime": {
     "end_time": "2021-07-26T15:55:00.305060Z",
     "start_time": "2021-07-26T15:55:00.301806Z"
    }
   },
   "outputs": [
    {
     "data": {
      "text/plain": [
       "0.4419600380589914"
      ]
     },
     "execution_count": 48,
     "metadata": {},
     "output_type": "execute_result"
    }
   ],
   "source": [
    "sub_ratio"
   ]
  },
  {
   "cell_type": "markdown",
   "id": "revised-syndicate",
   "metadata": {
    "ExecuteTime": {
     "end_time": "2021-07-26T15:55:25.265008Z",
     "start_time": "2021-07-26T15:55:25.258373Z"
    }
   },
   "source": [
    "We can confirm that the calculations are correct so we can go ahead to plotting it."
   ]
  },
  {
   "cell_type": "code",
   "execution_count": 51,
   "id": "funny-means",
   "metadata": {
    "ExecuteTime": {
     "end_time": "2021-07-26T15:57:10.785743Z",
     "start_time": "2021-07-26T15:57:05.749992Z"
    }
   },
   "outputs": [
    {
     "name": "stderr",
     "output_type": "stream",
     "text": [
      "Query complete after 0.00s: 100%|██████████| 1/1 [00:00<00:00, 699.87query/s] \n",
      "Downloading: 100%|██████████| 207/207 [00:03<00:00, 61.10rows/s]\n"
     ]
    }
   ],
   "source": [
    "%%bigquery df_weekly_subs_ratio\n",
    "SELECT week, CAST(subscriber as DECIMAL)/(subscriber+customer) as subs\n",
    "FROM\n",
    "(SELECT\n",
    "    CONCAT(EXTRACT(YEAR FROM start_date), '-', EXTRACT(WEEK FROM start_date)) as week,\n",
    "    SUM(CASE WHEN subscriber_type = 'Subscriber' THEN 1 ELSE 0 END) AS subscriber,\n",
    "    SUM(CASE WHEN subscriber_type = 'Customer' THEN 1 ELSE 0 END) AS customer,\n",
    "FROM\n",
    "  `bigquery-public-data.san_francisco_bikeshare.bikeshare_trips`\n",
    "GROUP BY \n",
    "    week\n",
    "ORDER BY\n",
    "    min(start_date))"
   ]
  },
  {
   "cell_type": "code",
   "execution_count": 56,
   "id": "cooperative-madrid",
   "metadata": {
    "ExecuteTime": {
     "end_time": "2021-07-26T16:00:36.286794Z",
     "start_time": "2021-07-26T16:00:36.264830Z"
    }
   },
   "outputs": [
    {
     "data": {
      "text/html": [
       "\n",
       "<div id=\"altair-viz-bdded2b5baa8482db683b78b028d40e3\"></div>\n",
       "<script type=\"text/javascript\">\n",
       "  (function(spec, embedOpt){\n",
       "    let outputDiv = document.currentScript.previousElementSibling;\n",
       "    if (outputDiv.id !== \"altair-viz-bdded2b5baa8482db683b78b028d40e3\") {\n",
       "      outputDiv = document.getElementById(\"altair-viz-bdded2b5baa8482db683b78b028d40e3\");\n",
       "    }\n",
       "    const paths = {\n",
       "      \"vega\": \"https://cdn.jsdelivr.net/npm//vega@5?noext\",\n",
       "      \"vega-lib\": \"https://cdn.jsdelivr.net/npm//vega-lib?noext\",\n",
       "      \"vega-lite\": \"https://cdn.jsdelivr.net/npm//vega-lite@4.8.1?noext\",\n",
       "      \"vega-embed\": \"https://cdn.jsdelivr.net/npm//vega-embed@6?noext\",\n",
       "    };\n",
       "\n",
       "    function loadScript(lib) {\n",
       "      return new Promise(function(resolve, reject) {\n",
       "        var s = document.createElement('script');\n",
       "        s.src = paths[lib];\n",
       "        s.async = true;\n",
       "        s.onload = () => resolve(paths[lib]);\n",
       "        s.onerror = () => reject(`Error loading script: ${paths[lib]}`);\n",
       "        document.getElementsByTagName(\"head\")[0].appendChild(s);\n",
       "      });\n",
       "    }\n",
       "\n",
       "    function showError(err) {\n",
       "      outputDiv.innerHTML = `<div class=\"error\" style=\"color:red;\">${err}</div>`;\n",
       "      throw err;\n",
       "    }\n",
       "\n",
       "    function displayChart(vegaEmbed) {\n",
       "      vegaEmbed(outputDiv, spec, embedOpt)\n",
       "        .catch(err => showError(`Javascript Error: ${err.message}<br>This usually means there's a typo in your chart specification. See the javascript console for the full traceback.`));\n",
       "    }\n",
       "\n",
       "    if(typeof define === \"function\" && define.amd) {\n",
       "      requirejs.config({paths});\n",
       "      require([\"vega-embed\"], displayChart, err => showError(`Error loading script: ${err.message}`));\n",
       "    } else if (typeof vegaEmbed === \"function\") {\n",
       "      displayChart(vegaEmbed);\n",
       "    } else {\n",
       "      loadScript(\"vega\")\n",
       "        .then(() => loadScript(\"vega-lite\"))\n",
       "        .then(() => loadScript(\"vega-embed\"))\n",
       "        .catch(showError)\n",
       "        .then(() => displayChart(vegaEmbed));\n",
       "    }\n",
       "  })({\"config\": {\"view\": {\"continuousWidth\": 400, \"continuousHeight\": 300}}, \"vconcat\": [{\"mark\": \"bar\", \"encoding\": {\"x\": {\"type\": \"ordinal\", \"field\": \"week\", \"scale\": {\"domain\": {\"selection\": \"selector006\"}}, \"title\": \"Year Week\"}, \"y\": {\"type\": \"quantitative\", \"field\": \"subs\", \"title\": \"Subscriber Ratio\"}}, \"height\": 300, \"title\": \"Ratio of Subscribers across all Week\", \"width\": 800}, {\"mark\": \"bar\", \"encoding\": {\"x\": {\"type\": \"ordinal\", \"field\": \"week\", \"title\": \"Year Week\"}, \"y\": {\"type\": \"quantitative\", \"field\": \"subs\", \"title\": \"Subscriber Ratio\"}}, \"height\": 50, \"selection\": {\"selector006\": {\"type\": \"interval\", \"encodings\": [\"x\"]}}, \"title\": \"Ratio of Subscribers across all Week\", \"width\": 800}], \"data\": {\"name\": \"data-b549603f1f9a4f135fd41df3d217bc4c\"}, \"$schema\": \"https://vega.github.io/schema/vega-lite/v4.8.1.json\", \"datasets\": {\"data-b549603f1f9a4f135fd41df3d217bc4c\": [{\"week\": \"2013-34\", \"subs\": 0.441960038}, {\"week\": \"2013-35\", \"subs\": 0.425777229}, {\"week\": \"2013-36\", \"subs\": 0.607495741}, {\"week\": \"2013-37\", \"subs\": 0.69048761}, {\"week\": \"2013-38\", \"subs\": 0.696660757}, {\"week\": \"2013-39\", \"subs\": 0.747571342}, {\"week\": \"2013-40\", \"subs\": 0.765493616}, {\"week\": \"2013-41\", \"subs\": 0.743826715}, {\"week\": \"2013-42\", \"subs\": 0.8272371}, {\"week\": \"2013-43\", \"subs\": 0.844430114}, {\"week\": \"2013-44\", \"subs\": 0.813667358}, {\"week\": \"2013-45\", \"subs\": 0.838745271}, {\"week\": \"2013-46\", \"subs\": 0.844760673}, {\"week\": \"2013-47\", \"subs\": 0.772323631}, {\"week\": \"2013-48\", \"subs\": 0.910601266}, {\"week\": \"2013-49\", \"subs\": 0.887688151}, {\"week\": \"2013-50\", \"subs\": 0.872464313}, {\"week\": \"2013-51\", \"subs\": 0.633264463}, {\"week\": \"2013-52\", \"subs\": 0.679971989}, {\"week\": \"2014-0\", \"subs\": 0.724900487}, {\"week\": \"2014-1\", \"subs\": 0.88496732}, {\"week\": \"2014-2\", \"subs\": 0.853481065}, {\"week\": \"2014-3\", \"subs\": 0.840438705}, {\"week\": \"2014-4\", \"subs\": 0.901364877}, {\"week\": \"2014-5\", \"subs\": 0.917835671}, {\"week\": \"2014-6\", \"subs\": 0.885780886}, {\"week\": \"2014-7\", \"subs\": 0.818026889}, {\"week\": \"2014-8\", \"subs\": 0.879021595}, {\"week\": \"2014-9\", \"subs\": 0.889491399}, {\"week\": \"2014-10\", \"subs\": 0.817121236}, {\"week\": \"2014-11\", \"subs\": 0.812876625}, {\"week\": \"2014-12\", \"subs\": 0.862042389}, {\"week\": \"2014-13\", \"subs\": 0.839725474}, {\"week\": \"2014-14\", \"subs\": 0.828044396}, {\"week\": \"2014-15\", \"subs\": 0.824945295}, {\"week\": \"2014-16\", \"subs\": 0.864336918}, {\"week\": \"2014-17\", \"subs\": 0.851874336}, {\"week\": \"2014-18\", \"subs\": 0.843213729}, {\"week\": \"2014-19\", \"subs\": 0.832569824}, {\"week\": \"2014-20\", \"subs\": 0.821862972}, {\"week\": \"2014-21\", \"subs\": 0.774473557}, {\"week\": \"2014-22\", \"subs\": 0.826201723}, {\"week\": \"2014-23\", \"subs\": 0.846467774}, {\"week\": \"2014-24\", \"subs\": 0.853116374}, {\"week\": \"2014-25\", \"subs\": 0.844385252}, {\"week\": \"2014-26\", \"subs\": 0.782829136}, {\"week\": \"2014-27\", \"subs\": 0.854979616}, {\"week\": \"2014-28\", \"subs\": 0.847935973}, {\"week\": \"2014-29\", \"subs\": 0.833515582}, {\"week\": \"2014-30\", \"subs\": 0.825099766}, {\"week\": \"2014-31\", \"subs\": 0.839490077}, {\"week\": \"2014-32\", \"subs\": 0.803970917}, {\"week\": \"2014-33\", \"subs\": 0.84382221}, {\"week\": \"2014-34\", \"subs\": 0.822901941}, {\"week\": \"2014-35\", \"subs\": 0.824740718}, {\"week\": \"2014-36\", \"subs\": 0.845505988}, {\"week\": \"2014-37\", \"subs\": 0.868421053}, {\"week\": \"2014-38\", \"subs\": 0.8781198}, {\"week\": \"2014-39\", \"subs\": 0.875401499}, {\"week\": \"2014-40\", \"subs\": 0.870861833}, {\"week\": \"2014-41\", \"subs\": 0.858501478}, {\"week\": \"2014-42\", \"subs\": 0.874394237}, {\"week\": \"2014-43\", \"subs\": 0.875134553}, {\"week\": \"2014-44\", \"subs\": 0.881195909}, {\"week\": \"2014-45\", \"subs\": 0.88860252}, {\"week\": \"2014-46\", \"subs\": 0.928663033}, {\"week\": \"2014-47\", \"subs\": 0.856695568}, {\"week\": \"2014-48\", \"subs\": 0.926772115}, {\"week\": \"2014-49\", \"subs\": 0.910674157}, {\"week\": \"2014-50\", \"subs\": 0.922247191}, {\"week\": \"2014-51\", \"subs\": 0.757360078}, {\"week\": \"2014-52\", \"subs\": 0.792316258}, {\"week\": \"2015-0\", \"subs\": 0.600896861}, {\"week\": \"2015-1\", \"subs\": 0.916642077}, {\"week\": \"2015-2\", \"subs\": 0.904666188}, {\"week\": \"2015-3\", \"subs\": 0.896933697}, {\"week\": \"2015-4\", \"subs\": 0.921875}, {\"week\": \"2015-5\", \"subs\": 0.929099877}, {\"week\": \"2015-6\", \"subs\": 0.890373227}, {\"week\": \"2015-7\", \"subs\": 0.860619103}, {\"week\": \"2015-8\", \"subs\": 0.906973226}, {\"week\": \"2015-9\", \"subs\": 0.895327103}, {\"week\": \"2015-10\", \"subs\": 0.875072971}, {\"week\": \"2015-11\", \"subs\": 0.880958904}, {\"week\": \"2015-12\", \"subs\": 0.853648649}, {\"week\": \"2015-13\", \"subs\": 0.897834912}, {\"week\": \"2015-14\", \"subs\": 0.896556713}, {\"week\": \"2015-15\", \"subs\": 0.882832676}, {\"week\": \"2015-16\", \"subs\": 0.889815448}, {\"week\": \"2015-17\", \"subs\": 0.884890071}, {\"week\": \"2015-18\", \"subs\": 0.882320968}, {\"week\": \"2015-19\", \"subs\": 0.874542897}, {\"week\": \"2015-20\", \"subs\": 0.880309423}, {\"week\": \"2015-21\", \"subs\": 0.844275817}, {\"week\": \"2015-22\", \"subs\": 0.880016549}, {\"week\": \"2015-23\", \"subs\": 0.861286255}, {\"week\": \"2015-24\", \"subs\": 0.882400869}, {\"week\": \"2015-25\", \"subs\": 0.866462113}, {\"week\": \"2015-26\", \"subs\": 0.804041743}, {\"week\": \"2015-27\", \"subs\": 0.851577503}, {\"week\": \"2015-28\", \"subs\": 0.866041527}, {\"week\": \"2015-29\", \"subs\": 0.857491195}, {\"week\": \"2015-30\", \"subs\": 0.841479352}, {\"week\": \"2015-31\", \"subs\": 0.845547566}, {\"week\": \"2015-32\", \"subs\": 0.853397539}, {\"week\": \"2015-33\", \"subs\": 0.86494709}, {\"week\": \"2015-34\", \"subs\": 0.886566369}, {\"week\": \"2015-35\", \"subs\": 0.884898072}, {\"week\": \"2015-36\", \"subs\": 0.860613811}, {\"week\": \"2015-37\", \"subs\": 0.88001684}, {\"week\": \"2015-38\", \"subs\": 0.877469264}, {\"week\": \"2015-39\", \"subs\": 0.888825542}, {\"week\": \"2015-40\", \"subs\": 0.880511092}, {\"week\": \"2015-41\", \"subs\": 0.87189159}, {\"week\": \"2015-42\", \"subs\": 0.892862132}, {\"week\": \"2015-43\", \"subs\": 0.907461382}, {\"week\": \"2015-44\", \"subs\": 0.914430862}, {\"week\": \"2015-45\", \"subs\": 0.916025536}, {\"week\": \"2015-46\", \"subs\": 0.921032298}, {\"week\": \"2015-47\", \"subs\": 0.894404332}, {\"week\": \"2015-48\", \"subs\": 0.953007862}, {\"week\": \"2015-49\", \"subs\": 0.954803328}, {\"week\": \"2015-50\", \"subs\": 0.935730681}, {\"week\": \"2015-51\", \"subs\": 0.871490281}, {\"week\": \"2015-52\", \"subs\": 0.83880422}, {\"week\": \"2016-0\", \"subs\": 0.575396825}, {\"week\": \"2016-1\", \"subs\": 0.933868223}, {\"week\": \"2016-2\", \"subs\": 0.926353654}, {\"week\": \"2016-3\", \"subs\": 0.930278394}, {\"week\": \"2016-4\", \"subs\": 0.927691484}, {\"week\": \"2016-5\", \"subs\": 0.894471457}, {\"week\": \"2016-6\", \"subs\": 0.893573346}, {\"week\": \"2016-7\", \"subs\": 0.857887623}, {\"week\": \"2016-8\", \"subs\": 0.900696864}, {\"week\": \"2016-9\", \"subs\": 0.937854108}, {\"week\": \"2016-10\", \"subs\": 0.942782835}, {\"week\": \"2016-11\", \"subs\": 0.894613974}, {\"week\": \"2016-12\", \"subs\": 0.875647668}, {\"week\": \"2016-13\", \"subs\": 0.892235609}, {\"week\": \"2016-14\", \"subs\": 0.910546749}, {\"week\": \"2016-15\", \"subs\": 0.901044177}, {\"week\": \"2016-16\", \"subs\": 0.908293584}, {\"week\": \"2016-17\", \"subs\": 0.908850932}, {\"week\": \"2016-18\", \"subs\": 0.916773367}, {\"week\": \"2016-19\", \"subs\": 0.849590048}, {\"week\": \"2016-20\", \"subs\": 0.881559443}, {\"week\": \"2016-21\", \"subs\": 0.866945477}, {\"week\": \"2016-22\", \"subs\": 0.857741316}, {\"week\": \"2016-23\", \"subs\": 0.89459854}, {\"week\": \"2016-24\", \"subs\": 0.872010436}, {\"week\": \"2016-25\", \"subs\": 0.892296512}, {\"week\": \"2016-26\", \"subs\": 0.882968894}, {\"week\": \"2016-27\", \"subs\": 0.86547619}, {\"week\": \"2016-28\", \"subs\": 0.892001245}, {\"week\": \"2016-29\", \"subs\": 0.894838089}, {\"week\": \"2016-30\", \"subs\": 0.889966143}, {\"week\": \"2016-31\", \"subs\": 0.877261998}, {\"week\": \"2016-32\", \"subs\": 0.848075228}, {\"week\": \"2016-33\", \"subs\": 0.811920157}, {\"week\": \"2016-34\", \"subs\": 0.88606042}, {\"week\": \"2016-35\", \"subs\": 0.912919897}, {\"week\": \"2017-26\", \"subs\": 0.767383059}, {\"week\": \"2017-27\", \"subs\": 0.657030448}, {\"week\": \"2017-28\", \"subs\": 0.74575538}, {\"week\": \"2017-29\", \"subs\": 0.712931902}, {\"week\": \"2017-30\", \"subs\": 0.709032895}, {\"week\": \"2017-31\", \"subs\": 0.712583475}, {\"week\": \"2017-32\", \"subs\": 0.70248275}, {\"week\": \"2017-33\", \"subs\": 0.699925341}, {\"week\": \"2017-34\", \"subs\": 0.746428034}, {\"week\": \"2017-35\", \"subs\": 0.745911047}, {\"week\": \"2017-36\", \"subs\": 0.71174279}, {\"week\": \"2017-37\", \"subs\": 0.774455809}, {\"week\": \"2017-38\", \"subs\": 0.761025975}, {\"week\": \"2017-39\", \"subs\": 0.791845671}, {\"week\": \"2017-40\", \"subs\": 0.784983068}, {\"week\": \"2017-41\", \"subs\": 0.779774195}, {\"week\": \"2017-42\", \"subs\": 0.805079101}, {\"week\": \"2017-43\", \"subs\": 0.817233356}, {\"week\": \"2017-44\", \"subs\": 0.856823266}, {\"week\": \"2017-45\", \"subs\": 0.806742019}, {\"week\": \"2017-46\", \"subs\": 0.849382033}, {\"week\": \"2017-47\", \"subs\": 0.768186848}, {\"week\": \"2017-48\", \"subs\": 0.884201996}, {\"week\": \"2017-49\", \"subs\": 0.876924913}, {\"week\": \"2017-50\", \"subs\": 0.880829642}, {\"week\": \"2017-51\", \"subs\": 0.875788478}, {\"week\": \"2017-52\", \"subs\": 0.704465276}, {\"week\": \"2017-53\", \"subs\": 0.559574468}, {\"week\": \"2018-0\", \"subs\": 0.854774311}, {\"week\": \"2018-1\", \"subs\": 0.881801614}, {\"week\": \"2018-2\", \"subs\": 0.863459939}, {\"week\": \"2018-3\", \"subs\": 0.875852017}, {\"week\": \"2018-4\", \"subs\": 0.854003924}, {\"week\": \"2018-5\", \"subs\": 0.852524579}, {\"week\": \"2018-6\", \"subs\": 0.864789835}, {\"week\": \"2018-7\", \"subs\": 0.859605251}, {\"week\": \"2018-8\", \"subs\": 0.893838684}, {\"week\": \"2018-9\", \"subs\": 0.874126386}, {\"week\": \"2018-10\", \"subs\": 0.863086707}, {\"week\": \"2018-11\", \"subs\": 0.852744976}, {\"week\": \"2018-12\", \"subs\": 0.819792865}, {\"week\": \"2018-13\", \"subs\": 0.852156135}, {\"week\": \"2018-14\", \"subs\": 0.841167836}, {\"week\": \"2018-15\", \"subs\": 0.842545142}, {\"week\": \"2018-16\", \"subs\": 0.837014407}, {\"week\": \"2018-17\", \"subs\": 0.78465982}]}}, {\"mode\": \"vega-lite\"});\n",
       "</script>"
      ],
      "text/plain": [
       "alt.VConcatChart(...)"
      ]
     },
     "execution_count": 56,
     "metadata": {},
     "output_type": "execute_result"
    }
   ],
   "source": [
    "df_weekly_subs_ratio['week'] = df_weekly_subs_ratio['week'].astype(str)\n",
    "df_weekly_subs_ratio['subs'] = df_weekly_subs_ratio['subs'].astype(float)\n",
    "\n",
    "interval = alt.selection_interval(encodings=['x'])\n",
    "\n",
    "base = alt.Chart(df_weekly_subs_ratio).mark_bar().encode(\n",
    "    x = alt.X('week:O', title='Year Week'),\n",
    "    y = alt.Y('subs', title='Subscriber Ratio')).properties(\n",
    "    title='Ratio of Subscribers across all Week')\n",
    "\n",
    "chart = base.encode(\n",
    "    x=alt.X('week:O', title='Year Week', scale=alt.Scale(domain=interval.ref()))\n",
    ").properties(\n",
    "    width=800,\n",
    "    height=300\n",
    ")\n",
    "\n",
    "view = base.add_selection(\n",
    "    interval\n",
    ").properties(\n",
    "    width=800,\n",
    "    height=50,\n",
    ")\n",
    "\n",
    "chart & view"
   ]
  },
  {
   "cell_type": "markdown",
   "id": "another-reporter",
   "metadata": {},
   "source": [
    "### Part 2.1 Are the Subscriber and Customer subscriber_types different in any statistically significant way? <a id='part2_1'></a>"
   ]
  },
  {
   "cell_type": "markdown",
   "id": "remarkable-sierra",
   "metadata": {},
   "source": [
    "There are many ways to test statistical difference between two sets e.g. t-test, ANOVA. For this exercise, I will use simple t-test.\n",
    "\n",
    "Let's define our null hypothesis as A=B where A describes the subscribers while B the customers. We can exhaust different features in the dataset to consider as our set but let's trim it down to the following metrics:\n",
    "\n",
    "- total count per day\n",
    "- average duration per day\n",
    "\n",
    "- total count per week\n",
    "- average duration per week\n",
    "\n",
    "- average duration per month\n",
    "- total count per month\n",
    "\n",
    "We will use alpha as 0.05 as our threshold."
   ]
  },
  {
   "cell_type": "markdown",
   "id": "saving-commission",
   "metadata": {},
   "source": [
    "### total count per day"
   ]
  },
  {
   "cell_type": "code",
   "execution_count": 58,
   "id": "occupied-guess",
   "metadata": {
    "ExecuteTime": {
     "end_time": "2021-07-26T16:06:33.000368Z",
     "start_time": "2021-07-26T16:06:27.169364Z"
    }
   },
   "outputs": [
    {
     "name": "stderr",
     "output_type": "stream",
     "text": [
      "Query complete after 0.00s: 100%|██████████| 2/2 [00:00<00:00, 650.38query/s]                         \n",
      "Downloading: 100%|██████████| 1406/1406 [00:03<00:00, 437.25rows/s]\n"
     ]
    }
   ],
   "source": [
    "%%bigquery df_total_count_per_day_test\n",
    "SELECT \n",
    "    EXTRACT(DATE FROM start_date) as day,\n",
    "    SUM(CASE WHEN subscriber_type = 'Subscriber' THEN 1 ELSE 0 END) AS subscriber,\n",
    "    SUM(CASE WHEN subscriber_type = 'Customer' THEN 1 ELSE 0 END) AS customer,\n",
    "FROM \n",
    "    `bigquery-public-data.san_francisco_bikeshare.bikeshare_trips`\n",
    "GROUP BY \n",
    "    day"
   ]
  },
  {
   "cell_type": "code",
   "execution_count": 60,
   "id": "protecting-beginning",
   "metadata": {
    "ExecuteTime": {
     "end_time": "2021-07-26T16:08:14.523493Z",
     "start_time": "2021-07-26T16:08:14.518922Z"
    }
   },
   "outputs": [],
   "source": [
    "A_total_day = df_total_count_per_day_test['subscriber'].values.tolist()\n",
    "B_total_day = df_total_count_per_day_test['customer'].values.tolist()"
   ]
  },
  {
   "cell_type": "code",
   "execution_count": 61,
   "id": "scheduled-treaty",
   "metadata": {
    "ExecuteTime": {
     "end_time": "2021-07-26T16:08:15.223960Z",
     "start_time": "2021-07-26T16:08:15.215496Z"
    }
   },
   "outputs": [
    {
     "name": "stdout",
     "output_type": "stream",
     "text": [
      "A different from B\n"
     ]
    }
   ],
   "source": [
    "t_check=stats.ttest_ind(A_total_day,B_total_day)\n",
    "alpha=0.05\n",
    "if(t_check[1]<alpha):\n",
    "    print('A different from B')"
   ]
  },
  {
   "cell_type": "markdown",
   "id": "parliamentary-ground",
   "metadata": {},
   "source": [
    "### average duration per day"
   ]
  },
  {
   "cell_type": "code",
   "execution_count": 63,
   "id": "lyric-thanksgiving",
   "metadata": {
    "ExecuteTime": {
     "end_time": "2021-07-26T16:16:12.172313Z",
     "start_time": "2021-07-26T16:16:05.921903Z"
    }
   },
   "outputs": [
    {
     "name": "stderr",
     "output_type": "stream",
     "text": [
      "Query complete after 0.00s: 100%|██████████| 3/3 [00:00<00:00, 1257.79query/s]                        \n",
      "Downloading: 100%|██████████| 1406/1406 [00:03<00:00, 425.35rows/s]\n"
     ]
    }
   ],
   "source": [
    "%%bigquery df_mean_duration_per_day_test\n",
    "SELECT \n",
    "    EXTRACT(DATE FROM start_date) as day,\n",
    "    AVG(CASE WHEN subscriber_type = 'Subscriber' THEN duration_sec END) AS subscriber,\n",
    "    AVG(CASE WHEN subscriber_type = 'Customer' THEN duration_sec END) AS customer,\n",
    "FROM \n",
    "    `bigquery-public-data.san_francisco_bikeshare.bikeshare_trips`\n",
    "GROUP BY \n",
    "    day\n",
    "ORDER BY day"
   ]
  },
  {
   "cell_type": "code",
   "execution_count": 64,
   "id": "developed-screen",
   "metadata": {
    "ExecuteTime": {
     "end_time": "2021-07-26T16:16:12.178897Z",
     "start_time": "2021-07-26T16:16:12.175380Z"
    }
   },
   "outputs": [],
   "source": [
    "A_mean_day = df_mean_duration_per_day_test['subscriber'].values.tolist()\n",
    "B_mean_day = df_mean_duration_per_day_test['customer'].values.tolist()"
   ]
  },
  {
   "cell_type": "code",
   "execution_count": 65,
   "id": "impaired-initial",
   "metadata": {
    "ExecuteTime": {
     "end_time": "2021-07-26T16:16:15.195759Z",
     "start_time": "2021-07-26T16:16:15.190411Z"
    }
   },
   "outputs": [
    {
     "name": "stdout",
     "output_type": "stream",
     "text": [
      "A different from B\n"
     ]
    }
   ],
   "source": [
    "t_check=stats.ttest_ind(A_mean_day ,B_mean_day )\n",
    "alpha=0.05\n",
    "if(t_check[1]<alpha):\n",
    "    print('A different from B')"
   ]
  },
  {
   "cell_type": "markdown",
   "id": "noted-staff",
   "metadata": {},
   "source": [
    "### total count per week"
   ]
  },
  {
   "cell_type": "code",
   "execution_count": 66,
   "id": "desperate-faculty",
   "metadata": {
    "ExecuteTime": {
     "end_time": "2021-07-26T16:19:49.263374Z",
     "start_time": "2021-07-26T16:19:40.929524Z"
    }
   },
   "outputs": [
    {
     "name": "stderr",
     "output_type": "stream",
     "text": [
      "Query complete after 0.00s: 100%|██████████| 2/2 [00:00<00:00, 976.67query/s]                         \n",
      "Downloading: 100%|██████████| 207/207 [00:03<00:00, 63.44rows/s]\n"
     ]
    }
   ],
   "source": [
    "%%bigquery df_total_count_per_week_test\n",
    "SELECT \n",
    "    CONCAT(EXTRACT(YEAR FROM start_date), '-', EXTRACT(WEEK FROM start_date)) as week, \n",
    "    SUM(CASE WHEN subscriber_type = 'Subscriber' THEN 1 ELSE 0 END) AS subscriber,\n",
    "    SUM(CASE WHEN subscriber_type = 'Customer' THEN 1 ELSE 0 END) AS customer,\n",
    "FROM \n",
    "    `bigquery-public-data.san_francisco_bikeshare.bikeshare_trips`\n",
    "GROUP BY \n",
    "    week"
   ]
  },
  {
   "cell_type": "code",
   "execution_count": 67,
   "id": "tracked-posting",
   "metadata": {
    "ExecuteTime": {
     "end_time": "2021-07-26T16:20:13.210390Z",
     "start_time": "2021-07-26T16:20:13.206584Z"
    }
   },
   "outputs": [],
   "source": [
    "A_total_week = df_total_count_per_week_test['subscriber'].values.tolist()\n",
    "B_total_week = df_total_count_per_week_test['customer'].values.tolist()"
   ]
  },
  {
   "cell_type": "code",
   "execution_count": 68,
   "id": "rental-angola",
   "metadata": {
    "ExecuteTime": {
     "end_time": "2021-07-26T16:20:23.407088Z",
     "start_time": "2021-07-26T16:20:23.401271Z"
    }
   },
   "outputs": [
    {
     "name": "stdout",
     "output_type": "stream",
     "text": [
      "A different from B\n"
     ]
    }
   ],
   "source": [
    "t_check=stats.ttest_ind(A_total_week,B_total_week)\n",
    "alpha=0.05\n",
    "if(t_check[1]<alpha):\n",
    "    print('A different from B')"
   ]
  },
  {
   "cell_type": "markdown",
   "id": "talented-appeal",
   "metadata": {},
   "source": [
    "### total duration per week"
   ]
  },
  {
   "cell_type": "code",
   "execution_count": 69,
   "id": "magnetic-provision",
   "metadata": {
    "ExecuteTime": {
     "end_time": "2021-07-26T16:21:00.909996Z",
     "start_time": "2021-07-26T16:20:52.570444Z"
    }
   },
   "outputs": [
    {
     "name": "stderr",
     "output_type": "stream",
     "text": [
      "Query complete after 0.01s: 100%|██████████| 3/3 [00:00<00:00, 297.77query/s]                         \n",
      "Downloading: 100%|██████████| 207/207 [00:03<00:00, 62.15rows/s]\n"
     ]
    }
   ],
   "source": [
    "%%bigquery df_mean_duration_per_week_test\n",
    "SELECT \n",
    "    CONCAT(EXTRACT(YEAR FROM start_date), '-', EXTRACT(WEEK FROM start_date)) as week, \n",
    "    AVG(CASE WHEN subscriber_type = 'Subscriber' THEN duration_sec END) AS subscriber,\n",
    "    AVG(CASE WHEN subscriber_type = 'Customer' THEN duration_sec END) AS customer,\n",
    "FROM \n",
    "    `bigquery-public-data.san_francisco_bikeshare.bikeshare_trips`\n",
    "GROUP BY \n",
    "    week\n",
    "ORDER BY week"
   ]
  },
  {
   "cell_type": "code",
   "execution_count": 70,
   "id": "placed-murray",
   "metadata": {
    "ExecuteTime": {
     "end_time": "2021-07-26T16:21:14.841096Z",
     "start_time": "2021-07-26T16:21:14.837739Z"
    }
   },
   "outputs": [],
   "source": [
    "A_mean_week = df_mean_duration_per_week_test['subscriber'].values.tolist()\n",
    "B_mean_week = df_mean_duration_per_week_test['customer'].values.tolist()"
   ]
  },
  {
   "cell_type": "code",
   "execution_count": 71,
   "id": "domestic-singles",
   "metadata": {
    "ExecuteTime": {
     "end_time": "2021-07-26T16:21:20.045615Z",
     "start_time": "2021-07-26T16:21:20.040688Z"
    }
   },
   "outputs": [
    {
     "name": "stdout",
     "output_type": "stream",
     "text": [
      "A different from B\n"
     ]
    }
   ],
   "source": [
    "t_check=stats.ttest_ind(A_mean_week,B_mean_week)\n",
    "alpha=0.05\n",
    "if(t_check[1]<alpha):\n",
    "    print('A different from B')"
   ]
  },
  {
   "cell_type": "markdown",
   "id": "desperate-charge",
   "metadata": {},
   "source": [
    "### total count per month"
   ]
  },
  {
   "cell_type": "code",
   "execution_count": 72,
   "id": "faced-thread",
   "metadata": {
    "ExecuteTime": {
     "end_time": "2021-07-26T16:22:21.225802Z",
     "start_time": "2021-07-26T16:22:13.779700Z"
    }
   },
   "outputs": [
    {
     "name": "stderr",
     "output_type": "stream",
     "text": [
      "Query complete after 0.00s: 100%|██████████| 2/2 [00:00<00:00, 718.45query/s]                         \n",
      "Downloading: 100%|██████████| 48/48 [00:03<00:00, 14.71rows/s]\n"
     ]
    }
   ],
   "source": [
    "%%bigquery df_total_count_per_month_test\n",
    "SELECT \n",
    "    CONCAT(EXTRACT(YEAR FROM start_date), '-', EXTRACT(MONTH FROM start_date)) as month_, \n",
    "    SUM(CASE WHEN subscriber_type = 'Subscriber' THEN 1 ELSE 0 END) AS subscriber,\n",
    "    SUM(CASE WHEN subscriber_type = 'Customer' THEN 1 ELSE 0 END) AS customer,\n",
    "FROM \n",
    "    `bigquery-public-data.san_francisco_bikeshare.bikeshare_trips`\n",
    "GROUP BY \n",
    "    month_"
   ]
  },
  {
   "cell_type": "code",
   "execution_count": 73,
   "id": "usual-drink",
   "metadata": {
    "ExecuteTime": {
     "end_time": "2021-07-26T16:22:21.232264Z",
     "start_time": "2021-07-26T16:22:21.228686Z"
    }
   },
   "outputs": [],
   "source": [
    "A_total_month = df_total_count_per_month_test['subscriber'].values.tolist()\n",
    "B_total_month = df_total_count_per_month_test['customer'].values.tolist()"
   ]
  },
  {
   "cell_type": "code",
   "execution_count": 74,
   "id": "limited-peeing",
   "metadata": {
    "ExecuteTime": {
     "end_time": "2021-07-26T16:22:21.239773Z",
     "start_time": "2021-07-26T16:22:21.235463Z"
    }
   },
   "outputs": [
    {
     "name": "stdout",
     "output_type": "stream",
     "text": [
      "A different from B\n"
     ]
    }
   ],
   "source": [
    "t_check=stats.ttest_ind(A_total_month,B_total_month)\n",
    "alpha=0.05\n",
    "if(t_check[1]<alpha):\n",
    "    print('A different from B')"
   ]
  },
  {
   "cell_type": "markdown",
   "id": "regional-carol",
   "metadata": {},
   "source": [
    "### average duration per month"
   ]
  },
  {
   "cell_type": "code",
   "execution_count": 75,
   "id": "russian-outline",
   "metadata": {
    "ExecuteTime": {
     "end_time": "2021-07-26T16:23:32.032279Z",
     "start_time": "2021-07-26T16:23:23.477672Z"
    }
   },
   "outputs": [
    {
     "name": "stderr",
     "output_type": "stream",
     "text": [
      "Query complete after 0.00s: 100%|██████████| 3/3 [00:00<00:00, 1217.98query/s]                        \n",
      "Downloading: 100%|██████████| 48/48 [00:03<00:00, 12.14rows/s]\n"
     ]
    }
   ],
   "source": [
    "%%bigquery df_mean_duration_per_month_test\n",
    "SELECT \n",
    "    CONCAT(EXTRACT(YEAR FROM start_date), '-', EXTRACT(MONTH FROM start_date)) as month_,\n",
    "    AVG(CASE WHEN subscriber_type = 'Subscriber' THEN duration_sec END) AS subscriber,\n",
    "    AVG(CASE WHEN subscriber_type = 'Customer' THEN duration_sec END) AS customer,\n",
    "FROM \n",
    "    `bigquery-public-data.san_francisco_bikeshare.bikeshare_trips`\n",
    "GROUP BY \n",
    "    month_\n",
    "ORDER BY month_"
   ]
  },
  {
   "cell_type": "code",
   "execution_count": 76,
   "id": "resistant-remains",
   "metadata": {
    "ExecuteTime": {
     "end_time": "2021-07-26T16:23:32.038842Z",
     "start_time": "2021-07-26T16:23:32.035175Z"
    }
   },
   "outputs": [],
   "source": [
    "A_mean_month = df_mean_duration_per_month_test['subscriber'].values.tolist()\n",
    "B_mean_month = df_mean_duration_per_month_test['customer'].values.tolist()"
   ]
  },
  {
   "cell_type": "code",
   "execution_count": 77,
   "id": "furnished-bottom",
   "metadata": {
    "ExecuteTime": {
     "end_time": "2021-07-26T16:23:43.300456Z",
     "start_time": "2021-07-26T16:23:43.296182Z"
    }
   },
   "outputs": [
    {
     "name": "stdout",
     "output_type": "stream",
     "text": [
      "A different from B\n"
     ]
    }
   ],
   "source": [
    "t_check=stats.ttest_ind(A_mean_month,B_mean_month)\n",
    "alpha=0.05\n",
    "if(t_check[1]<alpha):\n",
    "    print('A different from B')"
   ]
  },
  {
   "cell_type": "markdown",
   "id": "outside-flood",
   "metadata": {},
   "source": [
    "By just looking at duration and count for different temporal aggregates we see that there is a statistical difference between Subscribers and Customers.\n",
    "\n",
    "This can warrant a use case in a classification problem."
   ]
  },
  {
   "cell_type": "markdown",
   "id": "legitimate-rental",
   "metadata": {
    "ExecuteTime": {
     "end_time": "2021-07-26T16:25:44.258591Z",
     "start_time": "2021-07-26T16:25:44.256276Z"
    }
   },
   "source": [
    "### EXTRA BONUS FOR BIKE PATTERN"
   ]
  },
  {
   "cell_type": "code",
   "execution_count": 86,
   "id": "micro-fashion",
   "metadata": {
    "ExecuteTime": {
     "end_time": "2021-07-26T16:32:23.075271Z",
     "start_time": "2021-07-26T16:32:18.318100Z"
    }
   },
   "outputs": [
    {
     "name": "stderr",
     "output_type": "stream",
     "text": [
      "Query complete after 0.00s: 100%|██████████| 1/1 [00:00<00:00, 734.30query/s] \n",
      "Downloading: 100%|██████████| 244/244 [00:03<00:00, 79.39rows/s]\n"
     ]
    }
   ],
   "source": [
    "%%bigquery df_bonus_1\n",
    "SELECT \n",
    "    EXTRACT(DATE FROM start_date) as Day, COUNT(trip_id) as Number_of_Rides, \n",
    "FROM \n",
    "    `bigquery-public-data.san_francisco_bikeshare.bikeshare_trips` \n",
    "WHERE \n",
    "    EXTRACT(YEAR FROM start_date) = 2016\n",
    "GROUP BY \n",
    "    day\n",
    "ORDER BY \n",
    "    day"
   ]
  },
  {
   "cell_type": "code",
   "execution_count": 87,
   "id": "supreme-mounting",
   "metadata": {
    "ExecuteTime": {
     "end_time": "2021-07-26T16:32:32.553756Z",
     "start_time": "2021-07-26T16:32:32.536916Z"
    }
   },
   "outputs": [
    {
     "data": {
      "text/html": [
       "\n",
       "<div id=\"altair-viz-81b98acacd1149448dcbb969e7bd711c\"></div>\n",
       "<script type=\"text/javascript\">\n",
       "  (function(spec, embedOpt){\n",
       "    let outputDiv = document.currentScript.previousElementSibling;\n",
       "    if (outputDiv.id !== \"altair-viz-81b98acacd1149448dcbb969e7bd711c\") {\n",
       "      outputDiv = document.getElementById(\"altair-viz-81b98acacd1149448dcbb969e7bd711c\");\n",
       "    }\n",
       "    const paths = {\n",
       "      \"vega\": \"https://cdn.jsdelivr.net/npm//vega@5?noext\",\n",
       "      \"vega-lib\": \"https://cdn.jsdelivr.net/npm//vega-lib?noext\",\n",
       "      \"vega-lite\": \"https://cdn.jsdelivr.net/npm//vega-lite@4.8.1?noext\",\n",
       "      \"vega-embed\": \"https://cdn.jsdelivr.net/npm//vega-embed@6?noext\",\n",
       "    };\n",
       "\n",
       "    function loadScript(lib) {\n",
       "      return new Promise(function(resolve, reject) {\n",
       "        var s = document.createElement('script');\n",
       "        s.src = paths[lib];\n",
       "        s.async = true;\n",
       "        s.onload = () => resolve(paths[lib]);\n",
       "        s.onerror = () => reject(`Error loading script: ${paths[lib]}`);\n",
       "        document.getElementsByTagName(\"head\")[0].appendChild(s);\n",
       "      });\n",
       "    }\n",
       "\n",
       "    function showError(err) {\n",
       "      outputDiv.innerHTML = `<div class=\"error\" style=\"color:red;\">${err}</div>`;\n",
       "      throw err;\n",
       "    }\n",
       "\n",
       "    function displayChart(vegaEmbed) {\n",
       "      vegaEmbed(outputDiv, spec, embedOpt)\n",
       "        .catch(err => showError(`Javascript Error: ${err.message}<br>This usually means there's a typo in your chart specification. See the javascript console for the full traceback.`));\n",
       "    }\n",
       "\n",
       "    if(typeof define === \"function\" && define.amd) {\n",
       "      requirejs.config({paths});\n",
       "      require([\"vega-embed\"], displayChart, err => showError(`Error loading script: ${err.message}`));\n",
       "    } else if (typeof vegaEmbed === \"function\") {\n",
       "      displayChart(vegaEmbed);\n",
       "    } else {\n",
       "      loadScript(\"vega\")\n",
       "        .then(() => loadScript(\"vega-lite\"))\n",
       "        .then(() => loadScript(\"vega-embed\"))\n",
       "        .catch(showError)\n",
       "        .then(() => displayChart(vegaEmbed));\n",
       "    }\n",
       "  })({\"config\": {\"view\": {\"continuousWidth\": 400, \"continuousHeight\": 300}}, \"data\": {\"name\": \"data-d5cf16a32d66378c4c9458a45ed18aeb\"}, \"mark\": \"rect\", \"encoding\": {\"color\": {\"type\": \"quantitative\", \"field\": \"Number_of_Rides\"}, \"x\": {\"type\": \"ordinal\", \"field\": \"Day\", \"timeUnit\": \"date\", \"title\": \"day\"}, \"y\": {\"type\": \"ordinal\", \"field\": \"Day\", \"timeUnit\": \"month\", \"title\": \"month\"}}, \"title\": \"2016 Bike Counts\", \"$schema\": \"https://vega.github.io/schema/vega-lite/v4.8.1.json\", \"datasets\": {\"data-d5cf16a32d66378c4c9458a45ed18aeb\": [{\"Day\": \"2016-01-01T00:00:00\", \"Number_of_Rides\": 98}, {\"Day\": \"2016-01-02T00:00:00\", \"Number_of_Rides\": 154}, {\"Day\": \"2016-01-03T00:00:00\", \"Number_of_Rides\": 135}, {\"Day\": \"2016-01-04T00:00:00\", \"Number_of_Rides\": 765}, {\"Day\": \"2016-01-05T00:00:00\", \"Number_of_Rides\": 632}, {\"Day\": \"2016-01-06T00:00:00\", \"Number_of_Rides\": 562}, {\"Day\": \"2016-01-07T00:00:00\", \"Number_of_Rides\": 978}, {\"Day\": \"2016-01-08T00:00:00\", \"Number_of_Rides\": 909}, {\"Day\": \"2016-01-09T00:00:00\", \"Number_of_Rides\": 132}, {\"Day\": \"2016-01-10T00:00:00\", \"Number_of_Rides\": 133}, {\"Day\": \"2016-01-11T00:00:00\", \"Number_of_Rides\": 1060}, {\"Day\": \"2016-01-12T00:00:00\", \"Number_of_Rides\": 1090}, {\"Day\": \"2016-01-13T00:00:00\", \"Number_of_Rides\": 1033}, {\"Day\": \"2016-01-14T00:00:00\", \"Number_of_Rides\": 838}, {\"Day\": \"2016-01-15T00:00:00\", \"Number_of_Rides\": 966}, {\"Day\": \"2016-01-16T00:00:00\", \"Number_of_Rides\": 162}, {\"Day\": \"2016-01-17T00:00:00\", \"Number_of_Rides\": 104}, {\"Day\": \"2016-01-18T00:00:00\", \"Number_of_Rides\": 417}, {\"Day\": \"2016-01-19T00:00:00\", \"Number_of_Rides\": 593}, {\"Day\": \"2016-01-20T00:00:00\", \"Number_of_Rides\": 1107}, {\"Day\": \"2016-01-21T00:00:00\", \"Number_of_Rides\": 1089}, {\"Day\": \"2016-01-22T00:00:00\", \"Number_of_Rides\": 513}, {\"Day\": \"2016-01-23T00:00:00\", \"Number_of_Rides\": 236}, {\"Day\": \"2016-01-24T00:00:00\", \"Number_of_Rides\": 226}, {\"Day\": \"2016-01-25T00:00:00\", \"Number_of_Rides\": 1127}, {\"Day\": \"2016-01-26T00:00:00\", \"Number_of_Rides\": 1114}, {\"Day\": \"2016-01-27T00:00:00\", \"Number_of_Rides\": 1131}, {\"Day\": \"2016-01-28T00:00:00\", \"Number_of_Rides\": 1095}, {\"Day\": \"2016-01-29T00:00:00\", \"Number_of_Rides\": 590}, {\"Day\": \"2016-01-30T00:00:00\", \"Number_of_Rides\": 318}, {\"Day\": \"2016-01-31T00:00:00\", \"Number_of_Rides\": 213}, {\"Day\": \"2016-02-01T00:00:00\", \"Number_of_Rides\": 1013}, {\"Day\": \"2016-02-02T00:00:00\", \"Number_of_Rides\": 865}, {\"Day\": \"2016-02-03T00:00:00\", \"Number_of_Rides\": 1042}, {\"Day\": \"2016-02-04T00:00:00\", \"Number_of_Rides\": 1062}, {\"Day\": \"2016-02-05T00:00:00\", \"Number_of_Rides\": 948}, {\"Day\": \"2016-02-06T00:00:00\", \"Number_of_Rides\": 410}, {\"Day\": \"2016-02-07T00:00:00\", \"Number_of_Rides\": 270}, {\"Day\": \"2016-02-08T00:00:00\", \"Number_of_Rides\": 1160}, {\"Day\": \"2016-02-09T00:00:00\", \"Number_of_Rides\": 1144}, {\"Day\": \"2016-02-10T00:00:00\", \"Number_of_Rides\": 1167}, {\"Day\": \"2016-02-11T00:00:00\", \"Number_of_Rides\": 1176}, {\"Day\": \"2016-02-12T00:00:00\", \"Number_of_Rides\": 1063}, {\"Day\": \"2016-02-13T00:00:00\", \"Number_of_Rides\": 353}, {\"Day\": \"2016-02-14T00:00:00\", \"Number_of_Rides\": 341}, {\"Day\": \"2016-02-15T00:00:00\", \"Number_of_Rides\": 463}, {\"Day\": \"2016-02-16T00:00:00\", \"Number_of_Rides\": 1155}, {\"Day\": \"2016-02-17T00:00:00\", \"Number_of_Rides\": 973}, {\"Day\": \"2016-02-18T00:00:00\", \"Number_of_Rides\": 1036}, {\"Day\": \"2016-02-19T00:00:00\", \"Number_of_Rides\": 904}, {\"Day\": \"2016-02-20T00:00:00\", \"Number_of_Rides\": 307}, {\"Day\": \"2016-02-21T00:00:00\", \"Number_of_Rides\": 235}, {\"Day\": \"2016-02-22T00:00:00\", \"Number_of_Rides\": 1187}, {\"Day\": \"2016-02-23T00:00:00\", \"Number_of_Rides\": 1182}, {\"Day\": \"2016-02-24T00:00:00\", \"Number_of_Rides\": 1163}, {\"Day\": \"2016-02-25T00:00:00\", \"Number_of_Rides\": 1176}, {\"Day\": \"2016-02-26T00:00:00\", \"Number_of_Rides\": 1034}, {\"Day\": \"2016-02-27T00:00:00\", \"Number_of_Rides\": 337}, {\"Day\": \"2016-02-28T00:00:00\", \"Number_of_Rides\": 242}, {\"Day\": \"2016-02-29T00:00:00\", \"Number_of_Rides\": 1152}, {\"Day\": \"2016-03-01T00:00:00\", \"Number_of_Rides\": 1256}, {\"Day\": \"2016-03-02T00:00:00\", \"Number_of_Rides\": 1177}, {\"Day\": \"2016-03-03T00:00:00\", \"Number_of_Rides\": 989}, {\"Day\": \"2016-03-04T00:00:00\", \"Number_of_Rides\": 764}, {\"Day\": \"2016-03-05T00:00:00\", \"Number_of_Rides\": 68}, {\"Day\": \"2016-03-06T00:00:00\", \"Number_of_Rides\": 163}, {\"Day\": \"2016-03-07T00:00:00\", \"Number_of_Rides\": 987}, {\"Day\": \"2016-03-08T00:00:00\", \"Number_of_Rides\": 1122}, {\"Day\": \"2016-03-09T00:00:00\", \"Number_of_Rides\": 955}, {\"Day\": \"2016-03-10T00:00:00\", \"Number_of_Rides\": 691}, {\"Day\": \"2016-03-11T00:00:00\", \"Number_of_Rides\": 520}, {\"Day\": \"2016-03-12T00:00:00\", \"Number_of_Rides\": 176}, {\"Day\": \"2016-03-13T00:00:00\", \"Number_of_Rides\": 50}, {\"Day\": \"2016-03-14T00:00:00\", \"Number_of_Rides\": 1119}, {\"Day\": \"2016-03-15T00:00:00\", \"Number_of_Rides\": 1206}, {\"Day\": \"2016-03-16T00:00:00\", \"Number_of_Rides\": 1189}, {\"Day\": \"2016-03-17T00:00:00\", \"Number_of_Rides\": 1114}, {\"Day\": \"2016-03-18T00:00:00\", \"Number_of_Rides\": 1011}, {\"Day\": \"2016-03-19T00:00:00\", \"Number_of_Rides\": 308}, {\"Day\": \"2016-03-20T00:00:00\", \"Number_of_Rides\": 185}, {\"Day\": \"2016-03-21T00:00:00\", \"Number_of_Rides\": 912}, {\"Day\": \"2016-03-22T00:00:00\", \"Number_of_Rides\": 1144}, {\"Day\": \"2016-03-23T00:00:00\", \"Number_of_Rides\": 1215}, {\"Day\": \"2016-03-24T00:00:00\", \"Number_of_Rides\": 1210}, {\"Day\": \"2016-03-25T00:00:00\", \"Number_of_Rides\": 952}, {\"Day\": \"2016-03-26T00:00:00\", \"Number_of_Rides\": 365}, {\"Day\": \"2016-03-27T00:00:00\", \"Number_of_Rides\": 222}, {\"Day\": \"2016-03-28T00:00:00\", \"Number_of_Rides\": 1094}, {\"Day\": \"2016-03-29T00:00:00\", \"Number_of_Rides\": 1161}, {\"Day\": \"2016-03-30T00:00:00\", \"Number_of_Rides\": 1134}, {\"Day\": \"2016-03-31T00:00:00\", \"Number_of_Rides\": 1099}, {\"Day\": \"2016-04-01T00:00:00\", \"Number_of_Rides\": 967}, {\"Day\": \"2016-04-02T00:00:00\", \"Number_of_Rides\": 299}, {\"Day\": \"2016-04-03T00:00:00\", \"Number_of_Rides\": 259}, {\"Day\": \"2016-04-04T00:00:00\", \"Number_of_Rides\": 1175}, {\"Day\": \"2016-04-05T00:00:00\", \"Number_of_Rides\": 1220}, {\"Day\": \"2016-04-06T00:00:00\", \"Number_of_Rides\": 1200}, {\"Day\": \"2016-04-07T00:00:00\", \"Number_of_Rides\": 1231}, {\"Day\": \"2016-04-08T00:00:00\", \"Number_of_Rides\": 986}, {\"Day\": \"2016-04-09T00:00:00\", \"Number_of_Rides\": 111}, {\"Day\": \"2016-04-10T00:00:00\", \"Number_of_Rides\": 197}, {\"Day\": \"2016-04-11T00:00:00\", \"Number_of_Rides\": 1146}, {\"Day\": \"2016-04-12T00:00:00\", \"Number_of_Rides\": 1181}, {\"Day\": \"2016-04-13T00:00:00\", \"Number_of_Rides\": 1162}, {\"Day\": \"2016-04-14T00:00:00\", \"Number_of_Rides\": 1106}, {\"Day\": \"2016-04-15T00:00:00\", \"Number_of_Rides\": 1070}, {\"Day\": \"2016-04-16T00:00:00\", \"Number_of_Rides\": 363}, {\"Day\": \"2016-04-17T00:00:00\", \"Number_of_Rides\": 252}, {\"Day\": \"2016-04-18T00:00:00\", \"Number_of_Rides\": 1179}, {\"Day\": \"2016-04-19T00:00:00\", \"Number_of_Rides\": 1325}, {\"Day\": \"2016-04-20T00:00:00\", \"Number_of_Rides\": 1325}, {\"Day\": \"2016-04-21T00:00:00\", \"Number_of_Rides\": 1183}, {\"Day\": \"2016-04-22T00:00:00\", \"Number_of_Rides\": 941}, {\"Day\": \"2016-04-23T00:00:00\", \"Number_of_Rides\": 294}, {\"Day\": \"2016-04-24T00:00:00\", \"Number_of_Rides\": 281}, {\"Day\": \"2016-04-25T00:00:00\", \"Number_of_Rides\": 1167}, {\"Day\": \"2016-04-26T00:00:00\", \"Number_of_Rides\": 1249}, {\"Day\": \"2016-04-27T00:00:00\", \"Number_of_Rides\": 1162}, {\"Day\": \"2016-04-28T00:00:00\", \"Number_of_Rides\": 1221}, {\"Day\": \"2016-04-29T00:00:00\", \"Number_of_Rides\": 1090}, {\"Day\": \"2016-04-30T00:00:00\", \"Number_of_Rides\": 270}, {\"Day\": \"2016-05-01T00:00:00\", \"Number_of_Rides\": 243}, {\"Day\": \"2016-05-02T00:00:00\", \"Number_of_Rides\": 1197}, {\"Day\": \"2016-05-03T00:00:00\", \"Number_of_Rides\": 1242}, {\"Day\": \"2016-05-04T00:00:00\", \"Number_of_Rides\": 1239}, {\"Day\": \"2016-05-05T00:00:00\", \"Number_of_Rides\": 1219}, {\"Day\": \"2016-05-06T00:00:00\", \"Number_of_Rides\": 925}, {\"Day\": \"2016-05-07T00:00:00\", \"Number_of_Rides\": 183}, {\"Day\": \"2016-05-08T00:00:00\", \"Number_of_Rides\": 225}, {\"Day\": \"2016-05-09T00:00:00\", \"Number_of_Rides\": 1212}, {\"Day\": \"2016-05-10T00:00:00\", \"Number_of_Rides\": 1307}, {\"Day\": \"2016-05-11T00:00:00\", \"Number_of_Rides\": 1273}, {\"Day\": \"2016-05-12T00:00:00\", \"Number_of_Rides\": 1497}, {\"Day\": \"2016-05-13T00:00:00\", \"Number_of_Rides\": 1167}, {\"Day\": \"2016-05-14T00:00:00\", \"Number_of_Rides\": 393}, {\"Day\": \"2016-05-15T00:00:00\", \"Number_of_Rides\": 318}, {\"Day\": \"2016-05-16T00:00:00\", \"Number_of_Rides\": 1209}, {\"Day\": \"2016-05-17T00:00:00\", \"Number_of_Rides\": 1350}, {\"Day\": \"2016-05-18T00:00:00\", \"Number_of_Rides\": 1222}, {\"Day\": \"2016-05-19T00:00:00\", \"Number_of_Rides\": 1235}, {\"Day\": \"2016-05-20T00:00:00\", \"Number_of_Rides\": 1103}, {\"Day\": \"2016-05-21T00:00:00\", \"Number_of_Rides\": 309}, {\"Day\": \"2016-05-22T00:00:00\", \"Number_of_Rides\": 295}, {\"Day\": \"2016-05-23T00:00:00\", \"Number_of_Rides\": 1126}, {\"Day\": \"2016-05-24T00:00:00\", \"Number_of_Rides\": 1226}, {\"Day\": \"2016-05-25T00:00:00\", \"Number_of_Rides\": 1240}, {\"Day\": \"2016-05-26T00:00:00\", \"Number_of_Rides\": 1201}, {\"Day\": \"2016-05-27T00:00:00\", \"Number_of_Rides\": 988}, {\"Day\": \"2016-05-28T00:00:00\", \"Number_of_Rides\": 380}, {\"Day\": \"2016-05-29T00:00:00\", \"Number_of_Rides\": 300}, {\"Day\": \"2016-05-30T00:00:00\", \"Number_of_Rides\": 266}, {\"Day\": \"2016-05-31T00:00:00\", \"Number_of_Rides\": 1232}, {\"Day\": \"2016-06-01T00:00:00\", \"Number_of_Rides\": 1171}, {\"Day\": \"2016-06-02T00:00:00\", \"Number_of_Rides\": 1262}, {\"Day\": \"2016-06-03T00:00:00\", \"Number_of_Rides\": 1145}, {\"Day\": \"2016-06-04T00:00:00\", \"Number_of_Rides\": 353}, {\"Day\": \"2016-06-05T00:00:00\", \"Number_of_Rides\": 258}, {\"Day\": \"2016-06-06T00:00:00\", \"Number_of_Rides\": 1330}, {\"Day\": \"2016-06-07T00:00:00\", \"Number_of_Rides\": 1283}, {\"Day\": \"2016-06-08T00:00:00\", \"Number_of_Rides\": 1255}, {\"Day\": \"2016-06-09T00:00:00\", \"Number_of_Rides\": 1264}, {\"Day\": \"2016-06-10T00:00:00\", \"Number_of_Rides\": 1139}, {\"Day\": \"2016-06-11T00:00:00\", \"Number_of_Rides\": 321}, {\"Day\": \"2016-06-12T00:00:00\", \"Number_of_Rides\": 323}, {\"Day\": \"2016-06-13T00:00:00\", \"Number_of_Rides\": 1313}, {\"Day\": \"2016-06-14T00:00:00\", \"Number_of_Rides\": 1295}, {\"Day\": \"2016-06-15T00:00:00\", \"Number_of_Rides\": 1249}, {\"Day\": \"2016-06-16T00:00:00\", \"Number_of_Rides\": 1271}, {\"Day\": \"2016-06-17T00:00:00\", \"Number_of_Rides\": 1111}, {\"Day\": \"2016-06-18T00:00:00\", \"Number_of_Rides\": 337}, {\"Day\": \"2016-06-19T00:00:00\", \"Number_of_Rides\": 282}, {\"Day\": \"2016-06-20T00:00:00\", \"Number_of_Rides\": 1268}, {\"Day\": \"2016-06-21T00:00:00\", \"Number_of_Rides\": 1333}, {\"Day\": \"2016-06-22T00:00:00\", \"Number_of_Rides\": 1245}, {\"Day\": \"2016-06-23T00:00:00\", \"Number_of_Rides\": 1253}, {\"Day\": \"2016-06-24T00:00:00\", \"Number_of_Rides\": 1124}, {\"Day\": \"2016-06-25T00:00:00\", \"Number_of_Rides\": 375}, {\"Day\": \"2016-06-26T00:00:00\", \"Number_of_Rides\": 288}, {\"Day\": \"2016-06-27T00:00:00\", \"Number_of_Rides\": 1282}, {\"Day\": \"2016-06-28T00:00:00\", \"Number_of_Rides\": 1288}, {\"Day\": \"2016-06-29T00:00:00\", \"Number_of_Rides\": 1185}, {\"Day\": \"2016-06-30T00:00:00\", \"Number_of_Rides\": 1180}, {\"Day\": \"2016-07-01T00:00:00\", \"Number_of_Rides\": 968}, {\"Day\": \"2016-07-02T00:00:00\", \"Number_of_Rides\": 303}, {\"Day\": \"2016-07-03T00:00:00\", \"Number_of_Rides\": 222}, {\"Day\": \"2016-07-04T00:00:00\", \"Number_of_Rides\": 316}, {\"Day\": \"2016-07-05T00:00:00\", \"Number_of_Rides\": 952}, {\"Day\": \"2016-07-06T00:00:00\", \"Number_of_Rides\": 1091}, {\"Day\": \"2016-07-07T00:00:00\", \"Number_of_Rides\": 1122}, {\"Day\": \"2016-07-08T00:00:00\", \"Number_of_Rides\": 995}, {\"Day\": \"2016-07-09T00:00:00\", \"Number_of_Rides\": 342}, {\"Day\": \"2016-07-10T00:00:00\", \"Number_of_Rides\": 331}, {\"Day\": \"2016-07-11T00:00:00\", \"Number_of_Rides\": 1168}, {\"Day\": \"2016-07-12T00:00:00\", \"Number_of_Rides\": 1188}, {\"Day\": \"2016-07-13T00:00:00\", \"Number_of_Rides\": 1210}, {\"Day\": \"2016-07-14T00:00:00\", \"Number_of_Rides\": 1212}, {\"Day\": \"2016-07-15T00:00:00\", \"Number_of_Rides\": 1046}, {\"Day\": \"2016-07-16T00:00:00\", \"Number_of_Rides\": 271}, {\"Day\": \"2016-07-17T00:00:00\", \"Number_of_Rides\": 196}, {\"Day\": \"2016-07-18T00:00:00\", \"Number_of_Rides\": 1151}, {\"Day\": \"2016-07-19T00:00:00\", \"Number_of_Rides\": 1155}, {\"Day\": \"2016-07-20T00:00:00\", \"Number_of_Rides\": 1247}, {\"Day\": \"2016-07-21T00:00:00\", \"Number_of_Rides\": 1196}, {\"Day\": \"2016-07-22T00:00:00\", \"Number_of_Rides\": 1023}, {\"Day\": \"2016-07-23T00:00:00\", \"Number_of_Rides\": 270}, {\"Day\": \"2016-07-24T00:00:00\", \"Number_of_Rides\": 242}, {\"Day\": \"2016-07-25T00:00:00\", \"Number_of_Rides\": 1200}, {\"Day\": \"2016-07-26T00:00:00\", \"Number_of_Rides\": 1213}, {\"Day\": \"2016-07-27T00:00:00\", \"Number_of_Rides\": 1219}, {\"Day\": \"2016-07-28T00:00:00\", \"Number_of_Rides\": 1166}, {\"Day\": \"2016-07-29T00:00:00\", \"Number_of_Rides\": 1102}, {\"Day\": \"2016-07-30T00:00:00\", \"Number_of_Rides\": 356}, {\"Day\": \"2016-07-31T00:00:00\", \"Number_of_Rides\": 311}, {\"Day\": \"2016-08-01T00:00:00\", \"Number_of_Rides\": 1165}, {\"Day\": \"2016-08-02T00:00:00\", \"Number_of_Rides\": 1241}, {\"Day\": \"2016-08-03T00:00:00\", \"Number_of_Rides\": 1231}, {\"Day\": \"2016-08-04T00:00:00\", \"Number_of_Rides\": 1140}, {\"Day\": \"2016-08-05T00:00:00\", \"Number_of_Rides\": 967}, {\"Day\": \"2016-08-06T00:00:00\", \"Number_of_Rides\": 300}, {\"Day\": \"2016-08-07T00:00:00\", \"Number_of_Rides\": 275}, {\"Day\": \"2016-08-08T00:00:00\", \"Number_of_Rides\": 1268}, {\"Day\": \"2016-08-09T00:00:00\", \"Number_of_Rides\": 1233}, {\"Day\": \"2016-08-10T00:00:00\", \"Number_of_Rides\": 1162}, {\"Day\": \"2016-08-11T00:00:00\", \"Number_of_Rides\": 1166}, {\"Day\": \"2016-08-12T00:00:00\", \"Number_of_Rides\": 1032}, {\"Day\": \"2016-08-13T00:00:00\", \"Number_of_Rides\": 670}, {\"Day\": \"2016-08-14T00:00:00\", \"Number_of_Rides\": 736}, {\"Day\": \"2016-08-15T00:00:00\", \"Number_of_Rides\": 1204}, {\"Day\": \"2016-08-16T00:00:00\", \"Number_of_Rides\": 1270}, {\"Day\": \"2016-08-17T00:00:00\", \"Number_of_Rides\": 1253}, {\"Day\": \"2016-08-18T00:00:00\", \"Number_of_Rides\": 1264}, {\"Day\": \"2016-08-19T00:00:00\", \"Number_of_Rides\": 1074}, {\"Day\": \"2016-08-20T00:00:00\", \"Number_of_Rides\": 313}, {\"Day\": \"2016-08-21T00:00:00\", \"Number_of_Rides\": 291}, {\"Day\": \"2016-08-22T00:00:00\", \"Number_of_Rides\": 1176}, {\"Day\": \"2016-08-23T00:00:00\", \"Number_of_Rides\": 1241}, {\"Day\": \"2016-08-24T00:00:00\", \"Number_of_Rides\": 1242}, {\"Day\": \"2016-08-25T00:00:00\", \"Number_of_Rides\": 1184}, {\"Day\": \"2016-08-26T00:00:00\", \"Number_of_Rides\": 1096}, {\"Day\": \"2016-08-27T00:00:00\", \"Number_of_Rides\": 291}, {\"Day\": \"2016-08-28T00:00:00\", \"Number_of_Rides\": 285}, {\"Day\": \"2016-08-29T00:00:00\", \"Number_of_Rides\": 1196}, {\"Day\": \"2016-08-30T00:00:00\", \"Number_of_Rides\": 1213}, {\"Day\": \"2016-08-31T00:00:00\", \"Number_of_Rides\": 1176}]}}, {\"mode\": \"vega-lite\"});\n",
       "</script>"
      ],
      "text/plain": [
       "alt.Chart(...)"
      ]
     },
     "execution_count": 87,
     "metadata": {},
     "output_type": "execute_result"
    }
   ],
   "source": [
    "df_bonus_1['Day'] = pd.to_datetime(df_bonus_1['Day'])\n",
    "alt.Chart(df_bonus_1).mark_rect().encode(\n",
    "    alt.X('date(Day):O', title='day'),\n",
    "    alt.Y('month(Day):O', title='month'),\n",
    "    color='Number_of_Rides:Q'\n",
    ").properties(\n",
    "    title=\"2016 Bike Counts\"\n",
    ")"
   ]
  },
  {
   "cell_type": "code",
   "execution_count": 97,
   "id": "qualified-maryland",
   "metadata": {
    "ExecuteTime": {
     "end_time": "2021-07-26T16:37:13.736252Z",
     "start_time": "2021-07-26T16:37:08.045294Z"
    }
   },
   "outputs": [
    {
     "name": "stderr",
     "output_type": "stream",
     "text": [
      "Query complete after 0.00s: 100%|██████████| 1/1 [00:00<00:00, 461.67query/s]                          \n",
      "Downloading: 100%|██████████| 4365/4365 [00:03<00:00, 1311.36rows/s]\n"
     ]
    }
   ],
   "source": [
    "%%bigquery df_bonus_2\n",
    "SELECT \n",
    "    start_date as Day\n",
    "FROM \n",
    "    `bigquery-public-data.san_francisco_bikeshare.bikeshare_trips` \n",
    "WHERE \n",
    "    EXTRACT(YEAR FROM start_date) = 2016 and\n",
    "    EXTRACT(MONTH FROM start_date) = 1 and \n",
    "    EXTRACT(DAY FROM start_date) IN (1,2,3,4,5,6,7,8,9)"
   ]
  },
  {
   "cell_type": "code",
   "execution_count": 98,
   "id": "piano-leeds",
   "metadata": {
    "ExecuteTime": {
     "end_time": "2021-07-26T16:37:21.002619Z",
     "start_time": "2021-07-26T16:37:20.951241Z"
    }
   },
   "outputs": [
    {
     "data": {
      "text/html": [
       "\n",
       "<div id=\"altair-viz-8ba8385fda7d4c01944656e1ef02324b\"></div>\n",
       "<script type=\"text/javascript\">\n",
       "  (function(spec, embedOpt){\n",
       "    let outputDiv = document.currentScript.previousElementSibling;\n",
       "    if (outputDiv.id !== \"altair-viz-8ba8385fda7d4c01944656e1ef02324b\") {\n",
       "      outputDiv = document.getElementById(\"altair-viz-8ba8385fda7d4c01944656e1ef02324b\");\n",
       "    }\n",
       "    const paths = {\n",
       "      \"vega\": \"https://cdn.jsdelivr.net/npm//vega@5?noext\",\n",
       "      \"vega-lib\": \"https://cdn.jsdelivr.net/npm//vega-lib?noext\",\n",
       "      \"vega-lite\": \"https://cdn.jsdelivr.net/npm//vega-lite@4.8.1?noext\",\n",
       "      \"vega-embed\": \"https://cdn.jsdelivr.net/npm//vega-embed@6?noext\",\n",
       "    };\n",
       "\n",
       "    function loadScript(lib) {\n",
       "      return new Promise(function(resolve, reject) {\n",
       "        var s = document.createElement('script');\n",
       "        s.src = paths[lib];\n",
       "        s.async = true;\n",
       "        s.onload = () => resolve(paths[lib]);\n",
       "        s.onerror = () => reject(`Error loading script: ${paths[lib]}`);\n",
       "        document.getElementsByTagName(\"head\")[0].appendChild(s);\n",
       "      });\n",
       "    }\n",
       "\n",
       "    function showError(err) {\n",
       "      outputDiv.innerHTML = `<div class=\"error\" style=\"color:red;\">${err}</div>`;\n",
       "      throw err;\n",
       "    }\n",
       "\n",
       "    function displayChart(vegaEmbed) {\n",
       "      vegaEmbed(outputDiv, spec, embedOpt)\n",
       "        .catch(err => showError(`Javascript Error: ${err.message}<br>This usually means there's a typo in your chart specification. See the javascript console for the full traceback.`));\n",
       "    }\n",
       "\n",
       "    if(typeof define === \"function\" && define.amd) {\n",
       "      requirejs.config({paths});\n",
       "      require([\"vega-embed\"], displayChart, err => showError(`Error loading script: ${err.message}`));\n",
       "    } else if (typeof vegaEmbed === \"function\") {\n",
       "      displayChart(vegaEmbed);\n",
       "    } else {\n",
       "      loadScript(\"vega\")\n",
       "        .then(() => loadScript(\"vega-lite\"))\n",
       "        .then(() => loadScript(\"vega-embed\"))\n",
       "        .catch(showError)\n",
       "        .then(() => displayChart(vegaEmbed));\n",
       "    }\n",
       "  })({\"config\": {\"view\": {\"continuousWidth\": 400, \"continuousHeight\": 300}}, \"data\": {\"name\": \"data-e1515aec9769af9c23694b6ccd55ec10\"}, \"mark\": \"rect\", \"encoding\": {\"color\": {\"type\": \"quantitative\", \"aggregate\": \"count\", \"title\": \"Number of Rides\"}, \"x\": {\"type\": \"ordinal\", \"field\": \"Day\", \"timeUnit\": \"hoursminutes\", \"title\": \"hour of day\"}, \"y\": {\"type\": \"ordinal\", \"field\": \"Day\", \"timeUnit\": \"monthdate\", \"title\": \"date\"}}, \"$schema\": \"https://vega.github.io/schema/vega-lite/v4.8.1.json\", \"datasets\": {\"data-e1515aec9769af9c23694b6ccd55ec10\": [{\"Day\": \"2016-01-03T12:58:00+00:00\"}, {\"Day\": \"2016-01-08T16:57:00+00:00\"}, {\"Day\": \"2016-01-04T08:21:00+00:00\"}, {\"Day\": \"2016-01-05T17:28:00+00:00\"}, {\"Day\": \"2016-01-09T12:37:00+00:00\"}, {\"Day\": \"2016-01-03T17:05:00+00:00\"}, {\"Day\": \"2016-01-06T08:54:00+00:00\"}, {\"Day\": \"2016-01-07T17:06:00+00:00\"}, {\"Day\": \"2016-01-08T14:17:00+00:00\"}, {\"Day\": \"2016-01-02T11:52:00+00:00\"}, {\"Day\": \"2016-01-02T14:53:00+00:00\"}, {\"Day\": \"2016-01-07T18:17:00+00:00\"}, {\"Day\": \"2016-01-04T07:52:00+00:00\"}, {\"Day\": \"2016-01-05T18:45:00+00:00\"}, {\"Day\": \"2016-01-07T09:10:00+00:00\"}, {\"Day\": \"2016-01-02T16:38:00+00:00\"}, {\"Day\": \"2016-01-07T06:41:00+00:00\"}, {\"Day\": \"2016-01-07T17:19:00+00:00\"}, {\"Day\": \"2016-01-09T15:41:00+00:00\"}, {\"Day\": \"2016-01-06T17:11:00+00:00\"}, {\"Day\": \"2016-01-07T18:19:00+00:00\"}, {\"Day\": \"2016-01-02T11:26:00+00:00\"}, {\"Day\": \"2016-01-05T08:42:00+00:00\"}, {\"Day\": \"2016-01-07T12:50:00+00:00\"}, {\"Day\": \"2016-01-07T18:14:00+00:00\"}, {\"Day\": \"2016-01-02T16:33:00+00:00\"}, {\"Day\": \"2016-01-04T17:16:00+00:00\"}, {\"Day\": \"2016-01-03T19:53:00+00:00\"}, {\"Day\": \"2016-01-04T14:51:00+00:00\"}, {\"Day\": \"2016-01-04T17:27:00+00:00\"}, {\"Day\": \"2016-01-08T12:19:00+00:00\"}, {\"Day\": \"2016-01-03T14:45:00+00:00\"}, {\"Day\": \"2016-01-04T08:46:00+00:00\"}, {\"Day\": \"2016-01-07T20:55:00+00:00\"}, {\"Day\": \"2016-01-07T09:41:00+00:00\"}, {\"Day\": \"2016-01-07T18:43:00+00:00\"}, {\"Day\": \"2016-01-08T17:00:00+00:00\"}, {\"Day\": \"2016-01-07T09:28:00+00:00\"}, {\"Day\": \"2016-01-03T10:05:00+00:00\"}, {\"Day\": \"2016-01-05T18:55:00+00:00\"}, {\"Day\": \"2016-01-03T10:06:00+00:00\"}, {\"Day\": \"2016-01-03T13:28:00+00:00\"}, {\"Day\": \"2016-01-06T18:02:00+00:00\"}, {\"Day\": \"2016-01-03T12:13:00+00:00\"}, {\"Day\": \"2016-01-03T13:12:00+00:00\"}, {\"Day\": \"2016-01-06T17:28:00+00:00\"}, {\"Day\": \"2016-01-08T18:06:00+00:00\"}, {\"Day\": \"2016-01-05T14:39:00+00:00\"}, {\"Day\": \"2016-01-06T08:42:00+00:00\"}, {\"Day\": \"2016-01-06T17:11:00+00:00\"}, {\"Day\": \"2016-01-08T07:16:00+00:00\"}, {\"Day\": \"2016-01-09T23:56:00+00:00\"}, {\"Day\": \"2016-01-02T10:25:00+00:00\"}, {\"Day\": \"2016-01-02T22:24:00+00:00\"}, {\"Day\": \"2016-01-06T18:46:00+00:00\"}, {\"Day\": \"2016-01-03T12:35:00+00:00\"}, {\"Day\": \"2016-01-08T09:51:00+00:00\"}, {\"Day\": \"2016-01-05T21:51:00+00:00\"}, {\"Day\": \"2016-01-07T08:32:00+00:00\"}, {\"Day\": \"2016-01-02T16:17:00+00:00\"}, {\"Day\": \"2016-01-04T18:02:00+00:00\"}, {\"Day\": \"2016-01-06T15:59:00+00:00\"}, {\"Day\": \"2016-01-09T10:26:00+00:00\"}, {\"Day\": \"2016-01-04T12:35:00+00:00\"}, {\"Day\": \"2016-01-06T17:57:00+00:00\"}, {\"Day\": \"2016-01-07T22:10:00+00:00\"}, {\"Day\": \"2016-01-04T07:35:00+00:00\"}, {\"Day\": \"2016-01-07T16:54:00+00:00\"}, {\"Day\": \"2016-01-09T02:07:00+00:00\"}, {\"Day\": \"2016-01-06T16:30:00+00:00\"}, {\"Day\": \"2016-01-03T12:58:00+00:00\"}, {\"Day\": \"2016-01-04T14:58:00+00:00\"}, {\"Day\": \"2016-01-07T18:16:00+00:00\"}, {\"Day\": \"2016-01-02T15:57:00+00:00\"}, {\"Day\": \"2016-01-06T19:22:00+00:00\"}, {\"Day\": \"2016-01-08T08:39:00+00:00\"}, {\"Day\": \"2016-01-09T23:55:00+00:00\"}, {\"Day\": \"2016-01-04T17:30:00+00:00\"}, {\"Day\": \"2016-01-04T19:10:00+00:00\"}, {\"Day\": \"2016-01-05T18:53:00+00:00\"}, {\"Day\": \"2016-01-08T09:42:00+00:00\"}, {\"Day\": \"2016-01-02T16:09:00+00:00\"}, {\"Day\": \"2016-01-07T08:51:00+00:00\"}, {\"Day\": \"2016-01-08T08:39:00+00:00\"}, {\"Day\": \"2016-01-04T10:16:00+00:00\"}, {\"Day\": \"2016-01-04T12:25:00+00:00\"}, {\"Day\": \"2016-01-05T16:55:00+00:00\"}, {\"Day\": \"2016-01-04T17:27:00+00:00\"}, {\"Day\": \"2016-01-02T17:34:00+00:00\"}, {\"Day\": \"2016-01-05T17:10:00+00:00\"}, {\"Day\": \"2016-01-09T16:03:00+00:00\"}, {\"Day\": \"2016-01-09T17:20:00+00:00\"}, {\"Day\": \"2016-01-08T15:07:00+00:00\"}, {\"Day\": \"2016-01-09T10:26:00+00:00\"}, {\"Day\": \"2016-01-02T10:41:00+00:00\"}, {\"Day\": \"2016-01-07T08:35:00+00:00\"}, {\"Day\": \"2016-01-02T21:33:00+00:00\"}, {\"Day\": \"2016-01-03T21:30:00+00:00\"}, {\"Day\": \"2016-01-04T08:44:00+00:00\"}, {\"Day\": \"2016-01-04T09:08:00+00:00\"}, {\"Day\": \"2016-01-04T12:34:00+00:00\"}, {\"Day\": \"2016-01-07T16:56:00+00:00\"}, {\"Day\": \"2016-01-07T18:18:00+00:00\"}, {\"Day\": \"2016-01-08T16:54:00+00:00\"}, {\"Day\": \"2016-01-04T18:58:00+00:00\"}, {\"Day\": \"2016-01-02T20:24:00+00:00\"}, {\"Day\": \"2016-01-05T16:18:00+00:00\"}, {\"Day\": \"2016-01-02T14:45:00+00:00\"}, {\"Day\": \"2016-01-04T10:35:00+00:00\"}, {\"Day\": \"2016-01-08T15:07:00+00:00\"}, {\"Day\": \"2016-01-03T09:57:00+00:00\"}, {\"Day\": \"2016-01-07T10:37:00+00:00\"}, {\"Day\": \"2016-01-07T12:37:00+00:00\"}, {\"Day\": \"2016-01-07T17:12:00+00:00\"}, {\"Day\": \"2016-01-08T08:40:00+00:00\"}, {\"Day\": \"2016-01-09T21:25:00+00:00\"}, {\"Day\": \"2016-01-08T12:58:00+00:00\"}, {\"Day\": \"2016-01-01T12:37:00+00:00\"}, {\"Day\": \"2016-01-04T16:54:00+00:00\"}, {\"Day\": \"2016-01-07T14:48:00+00:00\"}, {\"Day\": \"2016-01-07T22:10:00+00:00\"}, {\"Day\": \"2016-01-04T15:04:00+00:00\"}, {\"Day\": \"2016-01-04T18:12:00+00:00\"}, {\"Day\": \"2016-01-06T18:47:00+00:00\"}, {\"Day\": \"2016-01-06T12:40:00+00:00\"}, {\"Day\": \"2016-01-08T16:55:00+00:00\"}, {\"Day\": \"2016-01-08T09:23:00+00:00\"}, {\"Day\": \"2016-01-04T12:00:00+00:00\"}, {\"Day\": \"2016-01-06T09:45:00+00:00\"}, {\"Day\": \"2016-01-08T09:44:00+00:00\"}, {\"Day\": \"2016-01-05T09:44:00+00:00\"}, {\"Day\": \"2016-01-03T12:25:00+00:00\"}, {\"Day\": \"2016-01-03T12:20:00+00:00\"}, {\"Day\": \"2016-01-02T08:12:00+00:00\"}, {\"Day\": \"2016-01-09T14:45:00+00:00\"}, {\"Day\": \"2016-01-07T10:54:00+00:00\"}, {\"Day\": \"2016-01-08T15:22:00+00:00\"}, {\"Day\": \"2016-01-08T11:23:00+00:00\"}, {\"Day\": \"2016-01-02T19:08:00+00:00\"}, {\"Day\": \"2016-01-03T14:14:00+00:00\"}, {\"Day\": \"2016-01-06T11:31:00+00:00\"}, {\"Day\": \"2016-01-07T07:58:00+00:00\"}, {\"Day\": \"2016-01-06T11:32:00+00:00\"}, {\"Day\": \"2016-01-09T15:29:00+00:00\"}, {\"Day\": \"2016-01-01T19:03:00+00:00\"}, {\"Day\": \"2016-01-09T21:51:00+00:00\"}, {\"Day\": \"2016-01-07T07:35:00+00:00\"}, {\"Day\": \"2016-01-05T16:32:00+00:00\"}, {\"Day\": \"2016-01-04T07:41:00+00:00\"}, {\"Day\": \"2016-01-05T07:16:00+00:00\"}, {\"Day\": \"2016-01-05T17:32:00+00:00\"}, {\"Day\": \"2016-01-08T16:12:00+00:00\"}, {\"Day\": \"2016-01-08T08:06:00+00:00\"}, {\"Day\": \"2016-01-08T09:11:00+00:00\"}, {\"Day\": \"2016-01-08T16:32:00+00:00\"}, {\"Day\": \"2016-01-06T16:05:00+00:00\"}, {\"Day\": \"2016-01-05T18:14:00+00:00\"}, {\"Day\": \"2016-01-08T15:57:00+00:00\"}, {\"Day\": \"2016-01-07T16:30:00+00:00\"}, {\"Day\": \"2016-01-08T18:02:00+00:00\"}, {\"Day\": \"2016-01-06T07:19:00+00:00\"}, {\"Day\": \"2016-01-07T17:34:00+00:00\"}, {\"Day\": \"2016-01-08T19:15:00+00:00\"}, {\"Day\": \"2016-01-07T07:21:00+00:00\"}, {\"Day\": \"2016-01-07T17:12:00+00:00\"}, {\"Day\": \"2016-01-05T16:25:00+00:00\"}, {\"Day\": \"2016-01-07T16:06:00+00:00\"}, {\"Day\": \"2016-01-04T07:30:00+00:00\"}, {\"Day\": \"2016-01-05T07:28:00+00:00\"}, {\"Day\": \"2016-01-08T07:16:00+00:00\"}, {\"Day\": \"2016-01-07T15:55:00+00:00\"}, {\"Day\": \"2016-01-07T07:59:00+00:00\"}, {\"Day\": \"2016-01-08T18:02:00+00:00\"}, {\"Day\": \"2016-01-07T15:55:00+00:00\"}, {\"Day\": \"2016-01-08T12:16:00+00:00\"}, {\"Day\": \"2016-01-06T18:02:00+00:00\"}, {\"Day\": \"2016-01-06T18:02:00+00:00\"}, {\"Day\": \"2016-01-06T17:12:00+00:00\"}, {\"Day\": \"2016-01-06T07:40:00+00:00\"}, {\"Day\": \"2016-01-04T06:32:00+00:00\"}, {\"Day\": \"2016-01-08T07:59:00+00:00\"}, {\"Day\": \"2016-01-08T16:08:00+00:00\"}, {\"Day\": \"2016-01-04T16:28:00+00:00\"}, {\"Day\": \"2016-01-08T20:57:00+00:00\"}, {\"Day\": \"2016-01-08T17:29:00+00:00\"}, {\"Day\": \"2016-01-07T09:19:00+00:00\"}, {\"Day\": \"2016-01-05T19:26:00+00:00\"}, {\"Day\": \"2016-01-09T18:44:00+00:00\"}, {\"Day\": \"2016-01-03T15:56:00+00:00\"}, {\"Day\": \"2016-01-01T12:07:00+00:00\"}, {\"Day\": \"2016-01-04T17:31:00+00:00\"}, {\"Day\": \"2016-01-06T17:32:00+00:00\"}, {\"Day\": \"2016-01-07T09:21:00+00:00\"}, {\"Day\": \"2016-01-08T18:41:00+00:00\"}, {\"Day\": \"2016-01-09T13:11:00+00:00\"}, {\"Day\": \"2016-01-04T17:12:00+00:00\"}, {\"Day\": \"2016-01-08T07:30:00+00:00\"}, {\"Day\": \"2016-01-08T08:44:00+00:00\"}, {\"Day\": \"2016-01-06T09:47:00+00:00\"}, {\"Day\": \"2016-01-07T16:06:00+00:00\"}, {\"Day\": \"2016-01-09T13:11:00+00:00\"}, {\"Day\": \"2016-01-08T09:24:00+00:00\"}, {\"Day\": \"2016-01-07T08:06:00+00:00\"}, {\"Day\": \"2016-01-06T01:34:00+00:00\"}, {\"Day\": \"2016-01-08T08:04:00+00:00\"}, {\"Day\": \"2016-01-03T15:32:00+00:00\"}, {\"Day\": \"2016-01-05T23:14:00+00:00\"}, {\"Day\": \"2016-01-04T18:45:00+00:00\"}, {\"Day\": \"2016-01-04T07:35:00+00:00\"}, {\"Day\": \"2016-01-08T11:54:00+00:00\"}, {\"Day\": \"2016-01-08T08:04:00+00:00\"}, {\"Day\": \"2016-01-04T21:05:00+00:00\"}, {\"Day\": \"2016-01-08T18:00:00+00:00\"}, {\"Day\": \"2016-01-04T17:40:00+00:00\"}, {\"Day\": \"2016-01-07T18:18:00+00:00\"}, {\"Day\": \"2016-01-05T18:40:00+00:00\"}, {\"Day\": \"2016-01-08T17:31:00+00:00\"}, {\"Day\": \"2016-01-08T18:39:00+00:00\"}, {\"Day\": \"2016-01-06T18:19:00+00:00\"}, {\"Day\": \"2016-01-08T18:40:00+00:00\"}, {\"Day\": \"2016-01-06T09:19:00+00:00\"}, {\"Day\": \"2016-01-07T17:32:00+00:00\"}, {\"Day\": \"2016-01-02T11:18:00+00:00\"}, {\"Day\": \"2016-01-09T11:11:00+00:00\"}, {\"Day\": \"2016-01-09T11:15:00+00:00\"}, {\"Day\": \"2016-01-09T11:09:00+00:00\"}, {\"Day\": \"2016-01-09T11:13:00+00:00\"}, {\"Day\": \"2016-01-08T14:42:00+00:00\"}, {\"Day\": \"2016-01-08T08:07:00+00:00\"}, {\"Day\": \"2016-01-07T12:47:00+00:00\"}, {\"Day\": \"2016-01-06T16:57:00+00:00\"}, {\"Day\": \"2016-01-02T19:01:00+00:00\"}, {\"Day\": \"2016-01-02T13:49:00+00:00\"}, {\"Day\": \"2016-01-03T14:07:00+00:00\"}, {\"Day\": \"2016-01-09T17:05:00+00:00\"}, {\"Day\": \"2016-01-03T14:06:00+00:00\"}, {\"Day\": \"2016-01-02T14:01:00+00:00\"}, {\"Day\": \"2016-01-02T19:01:00+00:00\"}, {\"Day\": \"2016-01-07T15:46:00+00:00\"}, {\"Day\": \"2016-01-04T15:21:00+00:00\"}, {\"Day\": \"2016-01-03T12:31:00+00:00\"}, {\"Day\": \"2016-01-04T13:38:00+00:00\"}, {\"Day\": \"2016-01-03T12:30:00+00:00\"}, {\"Day\": \"2016-01-08T13:48:00+00:00\"}, {\"Day\": \"2016-01-09T17:07:00+00:00\"}, {\"Day\": \"2016-01-09T17:07:00+00:00\"}, {\"Day\": \"2016-01-04T18:31:00+00:00\"}, {\"Day\": \"2016-01-04T07:16:00+00:00\"}, {\"Day\": \"2016-01-03T10:19:00+00:00\"}, {\"Day\": \"2016-01-07T09:01:00+00:00\"}, {\"Day\": \"2016-01-06T15:57:00+00:00\"}, {\"Day\": \"2016-01-05T07:57:00+00:00\"}, {\"Day\": \"2016-01-04T17:08:00+00:00\"}, {\"Day\": \"2016-01-04T09:01:00+00:00\"}, {\"Day\": \"2016-01-08T07:55:00+00:00\"}, {\"Day\": \"2016-01-04T13:34:00+00:00\"}, {\"Day\": \"2016-01-04T19:49:00+00:00\"}, {\"Day\": \"2016-01-08T17:20:00+00:00\"}, {\"Day\": \"2016-01-07T15:18:00+00:00\"}, {\"Day\": \"2016-01-07T16:43:00+00:00\"}, {\"Day\": \"2016-01-07T18:25:00+00:00\"}, {\"Day\": \"2016-01-07T16:50:00+00:00\"}, {\"Day\": \"2016-01-07T18:00:00+00:00\"}, {\"Day\": \"2016-01-02T13:35:00+00:00\"}, {\"Day\": \"2016-01-05T16:46:00+00:00\"}, {\"Day\": \"2016-01-06T17:32:00+00:00\"}, {\"Day\": \"2016-01-02T12:16:00+00:00\"}, {\"Day\": \"2016-01-05T16:27:00+00:00\"}, {\"Day\": \"2016-01-08T17:34:00+00:00\"}, {\"Day\": \"2016-01-06T16:53:00+00:00\"}, {\"Day\": \"2016-01-07T17:02:00+00:00\"}, {\"Day\": \"2016-01-06T17:21:00+00:00\"}, {\"Day\": \"2016-01-04T16:41:00+00:00\"}, {\"Day\": \"2016-01-08T16:54:00+00:00\"}, {\"Day\": \"2016-01-05T17:56:00+00:00\"}, {\"Day\": \"2016-01-05T18:24:00+00:00\"}, {\"Day\": \"2016-01-06T18:02:00+00:00\"}, {\"Day\": \"2016-01-03T13:03:00+00:00\"}, {\"Day\": \"2016-01-05T09:51:00+00:00\"}, {\"Day\": \"2016-01-07T22:12:00+00:00\"}, {\"Day\": \"2016-01-09T21:33:00+00:00\"}, {\"Day\": \"2016-01-07T08:51:00+00:00\"}, {\"Day\": \"2016-01-05T09:05:00+00:00\"}, {\"Day\": \"2016-01-07T09:42:00+00:00\"}, {\"Day\": \"2016-01-07T09:42:00+00:00\"}, {\"Day\": \"2016-01-07T08:01:00+00:00\"}, {\"Day\": \"2016-01-02T12:49:00+00:00\"}, {\"Day\": \"2016-01-08T11:22:00+00:00\"}, {\"Day\": \"2016-01-08T09:02:00+00:00\"}, {\"Day\": \"2016-01-05T11:19:00+00:00\"}, {\"Day\": \"2016-01-06T09:04:00+00:00\"}, {\"Day\": \"2016-01-07T09:05:00+00:00\"}, {\"Day\": \"2016-01-07T09:49:00+00:00\"}, {\"Day\": \"2016-01-05T09:45:00+00:00\"}, {\"Day\": \"2016-01-07T19:00:00+00:00\"}, {\"Day\": \"2016-01-04T18:06:00+00:00\"}, {\"Day\": \"2016-01-07T07:15:00+00:00\"}, {\"Day\": \"2016-01-09T21:33:00+00:00\"}, {\"Day\": \"2016-01-08T19:03:00+00:00\"}, {\"Day\": \"2016-01-04T09:46:00+00:00\"}, {\"Day\": \"2016-01-04T09:04:00+00:00\"}, {\"Day\": \"2016-01-04T07:12:00+00:00\"}, {\"Day\": \"2016-01-08T09:50:00+00:00\"}, {\"Day\": \"2016-01-07T09:05:00+00:00\"}, {\"Day\": \"2016-01-04T05:49:00+00:00\"}, {\"Day\": \"2016-01-08T08:39:00+00:00\"}, {\"Day\": \"2016-01-06T09:48:00+00:00\"}, {\"Day\": \"2016-01-06T09:05:00+00:00\"}, {\"Day\": \"2016-01-08T07:12:00+00:00\"}, {\"Day\": \"2016-01-08T09:03:00+00:00\"}, {\"Day\": \"2016-01-02T15:56:00+00:00\"}, {\"Day\": \"2016-01-05T18:00:00+00:00\"}, {\"Day\": \"2016-01-04T17:56:00+00:00\"}, {\"Day\": \"2016-01-09T11:35:00+00:00\"}, {\"Day\": \"2016-01-04T17:01:00+00:00\"}, {\"Day\": \"2016-01-08T19:01:00+00:00\"}, {\"Day\": \"2016-01-06T16:07:00+00:00\"}, {\"Day\": \"2016-01-08T14:39:00+00:00\"}, {\"Day\": \"2016-01-06T17:37:00+00:00\"}, {\"Day\": \"2016-01-07T22:18:00+00:00\"}, {\"Day\": \"2016-01-08T10:02:00+00:00\"}, {\"Day\": \"2016-01-04T08:53:00+00:00\"}, {\"Day\": \"2016-01-06T12:12:00+00:00\"}, {\"Day\": \"2016-01-05T10:06:00+00:00\"}, {\"Day\": \"2016-01-01T23:22:00+00:00\"}, {\"Day\": \"2016-01-06T09:42:00+00:00\"}, {\"Day\": \"2016-01-07T15:20:00+00:00\"}, {\"Day\": \"2016-01-04T10:26:00+00:00\"}, {\"Day\": \"2016-01-02T11:42:00+00:00\"}, {\"Day\": \"2016-01-03T18:10:00+00:00\"}, {\"Day\": \"2016-01-02T10:12:00+00:00\"}, {\"Day\": \"2016-01-07T17:36:00+00:00\"}, {\"Day\": \"2016-01-05T20:32:00+00:00\"}, {\"Day\": \"2016-01-07T20:46:00+00:00\"}, {\"Day\": \"2016-01-04T11:37:00+00:00\"}, {\"Day\": \"2016-01-04T19:32:00+00:00\"}, {\"Day\": \"2016-01-05T15:44:00+00:00\"}, {\"Day\": \"2016-01-02T09:31:00+00:00\"}, {\"Day\": \"2016-01-03T14:14:00+00:00\"}, {\"Day\": \"2016-01-04T12:37:00+00:00\"}, {\"Day\": \"2016-01-01T02:42:00+00:00\"}, {\"Day\": \"2016-01-01T02:48:00+00:00\"}, {\"Day\": \"2016-01-01T02:38:00+00:00\"}, {\"Day\": \"2016-01-01T02:42:00+00:00\"}, {\"Day\": \"2016-01-07T10:00:00+00:00\"}, {\"Day\": \"2016-01-05T09:34:00+00:00\"}, {\"Day\": \"2016-01-08T09:21:00+00:00\"}, {\"Day\": \"2016-01-08T17:44:00+00:00\"}, {\"Day\": \"2016-01-02T17:12:00+00:00\"}, {\"Day\": \"2016-01-08T17:39:00+00:00\"}, {\"Day\": \"2016-01-04T09:17:00+00:00\"}, {\"Day\": \"2016-01-05T17:22:00+00:00\"}, {\"Day\": \"2016-01-05T11:40:00+00:00\"}, {\"Day\": \"2016-01-07T07:17:00+00:00\"}, {\"Day\": \"2016-01-04T12:14:00+00:00\"}, {\"Day\": \"2016-01-05T15:32:00+00:00\"}, {\"Day\": \"2016-01-04T15:46:00+00:00\"}, {\"Day\": \"2016-01-07T19:31:00+00:00\"}, {\"Day\": \"2016-01-06T10:19:00+00:00\"}, {\"Day\": \"2016-01-07T08:24:00+00:00\"}, {\"Day\": \"2016-01-05T08:56:00+00:00\"}, {\"Day\": \"2016-01-06T09:01:00+00:00\"}, {\"Day\": \"2016-01-08T08:55:00+00:00\"}, {\"Day\": \"2016-01-04T10:03:00+00:00\"}, {\"Day\": \"2016-01-08T09:46:00+00:00\"}, {\"Day\": \"2016-01-04T08:59:00+00:00\"}, {\"Day\": \"2016-01-08T11:22:00+00:00\"}, {\"Day\": \"2016-01-07T12:30:00+00:00\"}, {\"Day\": \"2016-01-07T12:26:00+00:00\"}, {\"Day\": \"2016-01-05T18:08:00+00:00\"}, {\"Day\": \"2016-01-05T17:43:00+00:00\"}, {\"Day\": \"2016-01-06T17:27:00+00:00\"}, {\"Day\": \"2016-01-04T17:43:00+00:00\"}, {\"Day\": \"2016-01-02T10:26:00+00:00\"}, {\"Day\": \"2016-01-02T10:26:00+00:00\"}, {\"Day\": \"2016-01-07T12:28:00+00:00\"}, {\"Day\": \"2016-01-05T14:56:00+00:00\"}, {\"Day\": \"2016-01-07T12:20:00+00:00\"}, {\"Day\": \"2016-01-04T13:30:00+00:00\"}, {\"Day\": \"2016-01-07T12:29:00+00:00\"}, {\"Day\": \"2016-01-05T16:36:00+00:00\"}, {\"Day\": \"2016-01-07T20:21:00+00:00\"}, {\"Day\": \"2016-01-05T09:37:00+00:00\"}, {\"Day\": \"2016-01-06T09:23:00+00:00\"}, {\"Day\": \"2016-01-04T08:52:00+00:00\"}, {\"Day\": \"2016-01-06T08:08:00+00:00\"}, {\"Day\": \"2016-01-07T09:23:00+00:00\"}, {\"Day\": \"2016-01-04T07:58:00+00:00\"}, {\"Day\": \"2016-01-07T07:25:00+00:00\"}, {\"Day\": \"2016-01-04T16:12:00+00:00\"}, {\"Day\": \"2016-01-04T08:05:00+00:00\"}, {\"Day\": \"2016-01-04T06:05:00+00:00\"}, {\"Day\": \"2016-01-04T08:28:00+00:00\"}, {\"Day\": \"2016-01-05T08:00:00+00:00\"}, {\"Day\": \"2016-01-07T18:23:00+00:00\"}, {\"Day\": \"2016-01-07T09:19:00+00:00\"}, {\"Day\": \"2016-01-08T06:42:00+00:00\"}, {\"Day\": \"2016-01-08T07:45:00+00:00\"}, {\"Day\": \"2016-01-06T09:53:00+00:00\"}, {\"Day\": \"2016-01-07T08:03:00+00:00\"}, {\"Day\": \"2016-01-06T07:33:00+00:00\"}, {\"Day\": \"2016-01-05T08:55:00+00:00\"}, {\"Day\": \"2016-01-07T14:13:00+00:00\"}, {\"Day\": \"2016-01-05T09:36:00+00:00\"}, {\"Day\": \"2016-01-05T16:17:00+00:00\"}, {\"Day\": \"2016-01-04T08:54:00+00:00\"}, {\"Day\": \"2016-01-08T09:25:00+00:00\"}, {\"Day\": \"2016-01-04T08:28:00+00:00\"}, {\"Day\": \"2016-01-07T20:26:00+00:00\"}, {\"Day\": \"2016-01-03T22:59:00+00:00\"}, {\"Day\": \"2016-01-04T17:58:00+00:00\"}, {\"Day\": \"2016-01-05T07:26:00+00:00\"}, {\"Day\": \"2016-01-05T18:48:00+00:00\"}, {\"Day\": \"2016-01-07T18:03:00+00:00\"}, {\"Day\": \"2016-01-05T17:57:00+00:00\"}, {\"Day\": \"2016-01-04T22:38:00+00:00\"}, {\"Day\": \"2016-01-05T17:49:00+00:00\"}, {\"Day\": \"2016-01-07T09:12:00+00:00\"}, {\"Day\": \"2016-01-08T12:22:00+00:00\"}, {\"Day\": \"2016-01-05T16:45:00+00:00\"}, {\"Day\": \"2016-01-02T10:29:00+00:00\"}, {\"Day\": \"2016-01-05T14:51:00+00:00\"}, {\"Day\": \"2016-01-07T16:04:00+00:00\"}, {\"Day\": \"2016-01-05T19:46:00+00:00\"}, {\"Day\": \"2016-01-05T17:54:00+00:00\"}, {\"Day\": \"2016-01-07T17:46:00+00:00\"}, {\"Day\": \"2016-01-08T18:52:00+00:00\"}, {\"Day\": \"2016-01-04T17:49:00+00:00\"}, {\"Day\": \"2016-01-08T13:28:00+00:00\"}, {\"Day\": \"2016-01-08T17:08:00+00:00\"}, {\"Day\": \"2016-01-09T16:50:00+00:00\"}, {\"Day\": \"2016-01-08T17:43:00+00:00\"}, {\"Day\": \"2016-01-08T15:30:00+00:00\"}, {\"Day\": \"2016-01-04T12:56:00+00:00\"}, {\"Day\": \"2016-01-05T13:26:00+00:00\"}, {\"Day\": \"2016-01-04T09:54:00+00:00\"}, {\"Day\": \"2016-01-05T10:17:00+00:00\"}, {\"Day\": \"2016-01-07T08:49:00+00:00\"}, {\"Day\": \"2016-01-08T08:24:00+00:00\"}, {\"Day\": \"2016-01-05T19:12:00+00:00\"}, {\"Day\": \"2016-01-07T18:23:00+00:00\"}, {\"Day\": \"2016-01-06T18:10:00+00:00\"}, {\"Day\": \"2016-01-04T19:14:00+00:00\"}, {\"Day\": \"2016-01-09T16:36:00+00:00\"}, {\"Day\": \"2016-01-07T15:45:00+00:00\"}, {\"Day\": \"2016-01-08T17:10:00+00:00\"}, {\"Day\": \"2016-01-05T08:52:00+00:00\"}, {\"Day\": \"2016-01-06T01:48:00+00:00\"}, {\"Day\": \"2016-01-06T02:09:00+00:00\"}, {\"Day\": \"2016-01-08T00:36:00+00:00\"}, {\"Day\": \"2016-01-06T23:12:00+00:00\"}, {\"Day\": \"2016-01-08T21:09:00+00:00\"}, {\"Day\": \"2016-01-08T08:55:00+00:00\"}, {\"Day\": \"2016-01-07T18:48:00+00:00\"}, {\"Day\": \"2016-01-02T14:35:00+00:00\"}, {\"Day\": \"2016-01-08T12:26:00+00:00\"}, {\"Day\": \"2016-01-08T17:13:00+00:00\"}, {\"Day\": \"2016-01-03T15:47:00+00:00\"}, {\"Day\": \"2016-01-03T15:49:00+00:00\"}, {\"Day\": \"2016-01-05T16:47:00+00:00\"}, {\"Day\": \"2016-01-04T16:59:00+00:00\"}, {\"Day\": \"2016-01-05T17:33:00+00:00\"}, {\"Day\": \"2016-01-04T16:57:00+00:00\"}, {\"Day\": \"2016-01-04T17:02:00+00:00\"}, {\"Day\": \"2016-01-04T16:32:00+00:00\"}, {\"Day\": \"2016-01-06T16:15:00+00:00\"}, {\"Day\": \"2016-01-05T16:49:00+00:00\"}, {\"Day\": \"2016-01-06T16:31:00+00:00\"}, {\"Day\": \"2016-01-08T16:04:00+00:00\"}, {\"Day\": \"2016-01-06T17:07:00+00:00\"}, {\"Day\": \"2016-01-07T07:52:00+00:00\"}, {\"Day\": \"2016-01-06T16:42:00+00:00\"}, {\"Day\": \"2016-01-07T16:33:00+00:00\"}, {\"Day\": \"2016-01-08T07:53:00+00:00\"}, {\"Day\": \"2016-01-06T16:46:00+00:00\"}, {\"Day\": \"2016-01-05T16:05:00+00:00\"}, {\"Day\": \"2016-01-04T17:46:00+00:00\"}, {\"Day\": \"2016-01-07T16:54:00+00:00\"}, {\"Day\": \"2016-01-05T16:31:00+00:00\"}, {\"Day\": \"2016-01-08T16:23:00+00:00\"}, {\"Day\": \"2016-01-04T16:58:00+00:00\"}, {\"Day\": \"2016-01-08T16:39:00+00:00\"}, {\"Day\": \"2016-01-06T17:26:00+00:00\"}, {\"Day\": \"2016-01-05T16:45:00+00:00\"}, {\"Day\": \"2016-01-08T09:52:00+00:00\"}, {\"Day\": \"2016-01-07T16:26:00+00:00\"}, {\"Day\": \"2016-01-03T13:18:00+00:00\"}, {\"Day\": \"2016-01-02T16:55:00+00:00\"}, {\"Day\": \"2016-01-08T05:51:00+00:00\"}, {\"Day\": \"2016-01-04T10:13:00+00:00\"}, {\"Day\": \"2016-01-05T08:19:00+00:00\"}, {\"Day\": \"2016-01-07T10:12:00+00:00\"}, {\"Day\": \"2016-01-08T08:35:00+00:00\"}, {\"Day\": \"2016-01-07T07:56:00+00:00\"}, {\"Day\": \"2016-01-06T08:10:00+00:00\"}, {\"Day\": \"2016-01-02T10:48:00+00:00\"}, {\"Day\": \"2016-01-02T10:48:00+00:00\"}, {\"Day\": \"2016-01-04T17:32:00+00:00\"}, {\"Day\": \"2016-01-06T08:15:00+00:00\"}, {\"Day\": \"2016-01-03T15:13:00+00:00\"}, {\"Day\": \"2016-01-07T08:44:00+00:00\"}, {\"Day\": \"2016-01-07T06:18:00+00:00\"}, {\"Day\": \"2016-01-01T16:27:00+00:00\"}, {\"Day\": \"2016-01-02T20:08:00+00:00\"}, {\"Day\": \"2016-01-04T08:30:00+00:00\"}, {\"Day\": \"2016-01-05T08:46:00+00:00\"}, {\"Day\": \"2016-01-07T06:31:00+00:00\"}, {\"Day\": \"2016-01-01T07:01:00+00:00\"}, {\"Day\": \"2016-01-03T07:49:00+00:00\"}, {\"Day\": \"2016-01-08T07:50:00+00:00\"}, {\"Day\": \"2016-01-04T07:53:00+00:00\"}, {\"Day\": \"2016-01-09T08:19:00+00:00\"}, {\"Day\": \"2016-01-08T13:32:00+00:00\"}, {\"Day\": \"2016-01-05T21:10:00+00:00\"}, {\"Day\": \"2016-01-02T18:07:00+00:00\"}, {\"Day\": \"2016-01-04T08:18:00+00:00\"}, {\"Day\": \"2016-01-09T13:45:00+00:00\"}, {\"Day\": \"2016-01-06T17:10:00+00:00\"}, {\"Day\": \"2016-01-08T17:15:00+00:00\"}, {\"Day\": \"2016-01-06T16:27:00+00:00\"}, {\"Day\": \"2016-01-09T08:26:00+00:00\"}, {\"Day\": \"2016-01-07T16:21:00+00:00\"}, {\"Day\": \"2016-01-04T17:11:00+00:00\"}, {\"Day\": \"2016-01-06T11:52:00+00:00\"}, {\"Day\": \"2016-01-04T12:56:00+00:00\"}, {\"Day\": \"2016-01-05T09:19:00+00:00\"}, {\"Day\": \"2016-01-06T09:41:00+00:00\"}, {\"Day\": \"2016-01-08T20:48:00+00:00\"}, {\"Day\": \"2016-01-04T08:54:00+00:00\"}, {\"Day\": \"2016-01-06T09:30:00+00:00\"}, {\"Day\": \"2016-01-04T14:01:00+00:00\"}, {\"Day\": \"2016-01-05T10:55:00+00:00\"}, {\"Day\": \"2016-01-08T09:18:00+00:00\"}, {\"Day\": \"2016-01-04T13:26:00+00:00\"}, {\"Day\": \"2016-01-09T12:23:00+00:00\"}, {\"Day\": \"2016-01-09T12:30:00+00:00\"}, {\"Day\": \"2016-01-09T12:30:00+00:00\"}, {\"Day\": \"2016-01-09T12:26:00+00:00\"}, {\"Day\": \"2016-01-05T14:25:00+00:00\"}, {\"Day\": \"2016-01-04T08:58:00+00:00\"}, {\"Day\": \"2016-01-07T16:41:00+00:00\"}, {\"Day\": \"2016-01-02T08:20:00+00:00\"}, {\"Day\": \"2016-01-09T16:06:00+00:00\"}, {\"Day\": \"2016-01-09T11:34:00+00:00\"}, {\"Day\": \"2016-01-03T10:35:00+00:00\"}, {\"Day\": \"2016-01-02T15:32:00+00:00\"}, {\"Day\": \"2016-01-02T08:25:00+00:00\"}, {\"Day\": \"2016-01-05T17:08:00+00:00\"}, {\"Day\": \"2016-01-05T16:59:00+00:00\"}, {\"Day\": \"2016-01-04T16:55:00+00:00\"}, {\"Day\": \"2016-01-06T16:53:00+00:00\"}, {\"Day\": \"2016-01-08T10:43:00+00:00\"}, {\"Day\": \"2016-01-04T17:36:00+00:00\"}, {\"Day\": \"2016-01-07T16:47:00+00:00\"}, {\"Day\": \"2016-01-08T17:30:00+00:00\"}, {\"Day\": \"2016-01-07T17:32:00+00:00\"}, {\"Day\": \"2016-01-04T16:42:00+00:00\"}, {\"Day\": \"2016-01-06T18:14:00+00:00\"}, {\"Day\": \"2016-01-05T17:32:00+00:00\"}, {\"Day\": \"2016-01-07T18:36:00+00:00\"}, {\"Day\": \"2016-01-05T16:39:00+00:00\"}, {\"Day\": \"2016-01-05T17:09:00+00:00\"}, {\"Day\": \"2016-01-04T17:31:00+00:00\"}, {\"Day\": \"2016-01-06T17:32:00+00:00\"}, {\"Day\": \"2016-01-02T18:27:00+00:00\"}, {\"Day\": \"2016-01-05T14:45:00+00:00\"}, {\"Day\": \"2016-01-04T11:45:00+00:00\"}, {\"Day\": \"2016-01-07T17:24:00+00:00\"}, {\"Day\": \"2016-01-06T17:23:00+00:00\"}, {\"Day\": \"2016-01-05T17:17:00+00:00\"}, {\"Day\": \"2016-01-01T14:40:00+00:00\"}, {\"Day\": \"2016-01-05T16:47:00+00:00\"}, {\"Day\": \"2016-01-07T12:07:00+00:00\"}, {\"Day\": \"2016-01-08T09:26:00+00:00\"}, {\"Day\": \"2016-01-06T18:30:00+00:00\"}, {\"Day\": \"2016-01-08T09:26:00+00:00\"}, {\"Day\": \"2016-01-08T16:11:00+00:00\"}, {\"Day\": \"2016-01-05T16:16:00+00:00\"}, {\"Day\": \"2016-01-06T16:51:00+00:00\"}, {\"Day\": \"2016-01-07T17:07:00+00:00\"}, {\"Day\": \"2016-01-06T09:24:00+00:00\"}, {\"Day\": \"2016-01-05T16:53:00+00:00\"}, {\"Day\": \"2016-01-08T16:42:00+00:00\"}, {\"Day\": \"2016-01-07T16:55:00+00:00\"}, {\"Day\": \"2016-01-08T11:33:00+00:00\"}, {\"Day\": \"2016-01-06T16:39:00+00:00\"}, {\"Day\": \"2016-01-07T18:24:00+00:00\"}, {\"Day\": \"2016-01-05T16:23:00+00:00\"}, {\"Day\": \"2016-01-07T13:14:00+00:00\"}, {\"Day\": \"2016-01-07T17:34:00+00:00\"}, {\"Day\": \"2016-01-07T17:17:00+00:00\"}, {\"Day\": \"2016-01-04T16:59:00+00:00\"}, {\"Day\": \"2016-01-07T17:31:00+00:00\"}, {\"Day\": \"2016-01-07T09:10:00+00:00\"}, {\"Day\": \"2016-01-07T15:28:00+00:00\"}, {\"Day\": \"2016-01-06T09:38:00+00:00\"}, {\"Day\": \"2016-01-01T01:48:00+00:00\"}, {\"Day\": \"2016-01-01T01:52:00+00:00\"}, {\"Day\": \"2016-01-05T09:20:00+00:00\"}, {\"Day\": \"2016-01-08T13:50:00+00:00\"}, {\"Day\": \"2016-01-06T10:53:00+00:00\"}, {\"Day\": \"2016-01-04T13:57:00+00:00\"}, {\"Day\": \"2016-01-06T13:58:00+00:00\"}, {\"Day\": \"2016-01-07T16:34:00+00:00\"}, {\"Day\": \"2016-01-07T16:49:00+00:00\"}, {\"Day\": \"2016-01-08T14:00:00+00:00\"}, {\"Day\": \"2016-01-08T16:49:00+00:00\"}, {\"Day\": \"2016-01-07T18:13:00+00:00\"}, {\"Day\": \"2016-01-08T17:55:00+00:00\"}, {\"Day\": \"2016-01-02T13:42:00+00:00\"}, {\"Day\": \"2016-01-06T16:11:00+00:00\"}, {\"Day\": \"2016-01-08T16:31:00+00:00\"}, {\"Day\": \"2016-01-08T16:53:00+00:00\"}, {\"Day\": \"2016-01-08T17:02:00+00:00\"}, {\"Day\": \"2016-01-05T17:07:00+00:00\"}, {\"Day\": \"2016-01-05T15:23:00+00:00\"}, {\"Day\": \"2016-01-05T15:59:00+00:00\"}, {\"Day\": \"2016-01-04T17:28:00+00:00\"}, {\"Day\": \"2016-01-08T16:57:00+00:00\"}, {\"Day\": \"2016-01-06T16:08:00+00:00\"}, {\"Day\": \"2016-01-05T16:37:00+00:00\"}, {\"Day\": \"2016-01-07T16:06:00+00:00\"}, {\"Day\": \"2016-01-08T17:48:00+00:00\"}, {\"Day\": \"2016-01-08T18:32:00+00:00\"}, {\"Day\": \"2016-01-08T12:21:00+00:00\"}, {\"Day\": \"2016-01-07T11:01:00+00:00\"}, {\"Day\": \"2016-01-06T12:10:00+00:00\"}, {\"Day\": \"2016-01-07T10:44:00+00:00\"}, {\"Day\": \"2016-01-08T12:13:00+00:00\"}, {\"Day\": \"2016-01-05T19:37:00+00:00\"}, {\"Day\": \"2016-01-07T20:21:00+00:00\"}, {\"Day\": \"2016-01-03T17:33:00+00:00\"}, {\"Day\": \"2016-01-05T15:11:00+00:00\"}, {\"Day\": \"2016-01-05T09:57:00+00:00\"}, {\"Day\": \"2016-01-07T16:44:00+00:00\"}, {\"Day\": \"2016-01-07T03:32:00+00:00\"}, {\"Day\": \"2016-01-08T11:33:00+00:00\"}, {\"Day\": \"2016-01-08T18:08:00+00:00\"}, {\"Day\": \"2016-01-08T19:07:00+00:00\"}, {\"Day\": \"2016-01-08T13:17:00+00:00\"}, {\"Day\": \"2016-01-08T17:22:00+00:00\"}, {\"Day\": \"2016-01-08T14:58:00+00:00\"}, {\"Day\": \"2016-01-09T15:44:00+00:00\"}, {\"Day\": \"2016-01-07T12:42:00+00:00\"}, {\"Day\": \"2016-01-04T13:56:00+00:00\"}, {\"Day\": \"2016-01-07T19:07:00+00:00\"}, {\"Day\": \"2016-01-08T16:40:00+00:00\"}, {\"Day\": \"2016-01-06T12:17:00+00:00\"}, {\"Day\": \"2016-01-07T17:05:00+00:00\"}, {\"Day\": \"2016-01-08T12:43:00+00:00\"}, {\"Day\": \"2016-01-08T10:41:00+00:00\"}, {\"Day\": \"2016-01-03T09:54:00+00:00\"}, {\"Day\": \"2016-01-07T17:16:00+00:00\"}, {\"Day\": \"2016-01-07T14:25:00+00:00\"}, {\"Day\": \"2016-01-05T09:07:00+00:00\"}, {\"Day\": \"2016-01-07T12:52:00+00:00\"}, {\"Day\": \"2016-01-05T15:54:00+00:00\"}, {\"Day\": \"2016-01-08T17:38:00+00:00\"}, {\"Day\": \"2016-01-04T12:23:00+00:00\"}, {\"Day\": \"2016-01-01T08:32:00+00:00\"}, {\"Day\": \"2016-01-07T12:57:00+00:00\"}, {\"Day\": \"2016-01-04T17:26:00+00:00\"}, {\"Day\": \"2016-01-07T17:03:00+00:00\"}, {\"Day\": \"2016-01-08T14:43:00+00:00\"}, {\"Day\": \"2016-01-08T17:50:00+00:00\"}, {\"Day\": \"2016-01-04T16:49:00+00:00\"}, {\"Day\": \"2016-01-06T17:48:00+00:00\"}, {\"Day\": \"2016-01-06T16:45:00+00:00\"}, {\"Day\": \"2016-01-05T16:44:00+00:00\"}, {\"Day\": \"2016-01-08T16:10:00+00:00\"}, {\"Day\": \"2016-01-05T16:45:00+00:00\"}, {\"Day\": \"2016-01-05T17:46:00+00:00\"}, {\"Day\": \"2016-01-07T18:23:00+00:00\"}, {\"Day\": \"2016-01-06T17:00:00+00:00\"}, {\"Day\": \"2016-01-07T16:11:00+00:00\"}, {\"Day\": \"2016-01-04T16:56:00+00:00\"}, {\"Day\": \"2016-01-07T16:15:00+00:00\"}, {\"Day\": \"2016-01-05T16:44:00+00:00\"}, {\"Day\": \"2016-01-05T16:17:00+00:00\"}, {\"Day\": \"2016-01-06T16:14:00+00:00\"}, {\"Day\": \"2016-01-04T16:37:00+00:00\"}, {\"Day\": \"2016-01-05T17:39:00+00:00\"}, {\"Day\": \"2016-01-04T17:43:00+00:00\"}, {\"Day\": \"2016-01-07T14:35:00+00:00\"}, {\"Day\": \"2016-01-07T16:09:00+00:00\"}, {\"Day\": \"2016-01-07T12:43:00+00:00\"}, {\"Day\": \"2016-01-08T16:12:00+00:00\"}, {\"Day\": \"2016-01-04T16:36:00+00:00\"}, {\"Day\": \"2016-01-07T21:50:00+00:00\"}, {\"Day\": \"2016-01-01T19:28:00+00:00\"}, {\"Day\": \"2016-01-08T14:15:00+00:00\"}, {\"Day\": \"2016-01-02T16:54:00+00:00\"}, {\"Day\": \"2016-01-08T17:25:00+00:00\"}, {\"Day\": \"2016-01-08T17:08:00+00:00\"}, {\"Day\": \"2016-01-05T18:35:00+00:00\"}, {\"Day\": \"2016-01-07T18:18:00+00:00\"}, {\"Day\": \"2016-01-05T17:58:00+00:00\"}, {\"Day\": \"2016-01-08T17:36:00+00:00\"}, {\"Day\": \"2016-01-07T13:12:00+00:00\"}, {\"Day\": \"2016-01-05T17:14:00+00:00\"}, {\"Day\": \"2016-01-07T18:25:00+00:00\"}, {\"Day\": \"2016-01-04T11:56:00+00:00\"}, {\"Day\": \"2016-01-05T18:11:00+00:00\"}, {\"Day\": \"2016-01-07T17:55:00+00:00\"}, {\"Day\": \"2016-01-05T17:37:00+00:00\"}, {\"Day\": \"2016-01-06T17:37:00+00:00\"}, {\"Day\": \"2016-01-04T17:05:00+00:00\"}, {\"Day\": \"2016-01-06T17:21:00+00:00\"}, {\"Day\": \"2016-01-05T17:54:00+00:00\"}, {\"Day\": \"2016-01-08T16:28:00+00:00\"}, {\"Day\": \"2016-01-04T19:18:00+00:00\"}, {\"Day\": \"2016-01-04T12:53:00+00:00\"}, {\"Day\": \"2016-01-04T19:26:00+00:00\"}, {\"Day\": \"2016-01-04T17:22:00+00:00\"}, {\"Day\": \"2016-01-05T20:36:00+00:00\"}, {\"Day\": \"2016-01-05T16:11:00+00:00\"}, {\"Day\": \"2016-01-04T17:29:00+00:00\"}, {\"Day\": \"2016-01-06T17:56:00+00:00\"}, {\"Day\": \"2016-01-05T17:38:00+00:00\"}, {\"Day\": \"2016-01-08T19:42:00+00:00\"}, {\"Day\": \"2016-01-06T18:10:00+00:00\"}, {\"Day\": \"2016-01-06T16:08:00+00:00\"}, {\"Day\": \"2016-01-07T16:07:00+00:00\"}, {\"Day\": \"2016-01-07T17:13:00+00:00\"}, {\"Day\": \"2016-01-04T08:40:00+00:00\"}, {\"Day\": \"2016-01-05T17:42:00+00:00\"}, {\"Day\": \"2016-01-05T18:28:00+00:00\"}, {\"Day\": \"2016-01-06T11:46:00+00:00\"}, {\"Day\": \"2016-01-06T17:08:00+00:00\"}, {\"Day\": \"2016-01-08T11:37:00+00:00\"}, {\"Day\": \"2016-01-07T16:14:00+00:00\"}, {\"Day\": \"2016-01-04T11:30:00+00:00\"}, {\"Day\": \"2016-01-08T17:47:00+00:00\"}, {\"Day\": \"2016-01-04T16:55:00+00:00\"}, {\"Day\": \"2016-01-06T11:49:00+00:00\"}, {\"Day\": \"2016-01-03T11:04:00+00:00\"}, {\"Day\": \"2016-01-01T13:06:00+00:00\"}, {\"Day\": \"2016-01-07T09:56:00+00:00\"}, {\"Day\": \"2016-01-03T11:08:00+00:00\"}, {\"Day\": \"2016-01-01T13:09:00+00:00\"}, {\"Day\": \"2016-01-04T11:48:00+00:00\"}, {\"Day\": \"2016-01-01T13:04:00+00:00\"}, {\"Day\": \"2016-01-09T17:09:00+00:00\"}, {\"Day\": \"2016-01-09T17:10:00+00:00\"}, {\"Day\": \"2016-01-06T14:25:00+00:00\"}, {\"Day\": \"2016-01-02T12:40:00+00:00\"}, {\"Day\": \"2016-01-08T17:53:00+00:00\"}, {\"Day\": \"2016-01-02T12:40:00+00:00\"}, {\"Day\": \"2016-01-06T12:31:00+00:00\"}, {\"Day\": \"2016-01-07T17:07:00+00:00\"}, {\"Day\": \"2016-01-06T16:49:00+00:00\"}, {\"Day\": \"2016-01-08T18:39:00+00:00\"}, {\"Day\": \"2016-01-07T17:57:00+00:00\"}, {\"Day\": \"2016-01-08T09:41:00+00:00\"}, {\"Day\": \"2016-01-07T17:15:00+00:00\"}, {\"Day\": \"2016-01-08T09:37:00+00:00\"}, {\"Day\": \"2016-01-08T09:34:00+00:00\"}, {\"Day\": \"2016-01-08T17:09:00+00:00\"}, {\"Day\": \"2016-01-08T17:36:00+00:00\"}, {\"Day\": \"2016-01-07T17:38:00+00:00\"}, {\"Day\": \"2016-01-08T09:31:00+00:00\"}, {\"Day\": \"2016-01-08T11:05:00+00:00\"}, {\"Day\": \"2016-01-08T09:35:00+00:00\"}, {\"Day\": \"2016-01-06T09:03:00+00:00\"}, {\"Day\": \"2016-01-08T15:49:00+00:00\"}, {\"Day\": \"2016-01-08T09:37:00+00:00\"}, {\"Day\": \"2016-01-02T14:08:00+00:00\"}, {\"Day\": \"2016-01-08T09:29:00+00:00\"}, {\"Day\": \"2016-01-04T16:54:00+00:00\"}, {\"Day\": \"2016-01-05T16:59:00+00:00\"}, {\"Day\": \"2016-01-06T17:42:00+00:00\"}, {\"Day\": \"2016-01-05T17:37:00+00:00\"}, {\"Day\": \"2016-01-07T17:24:00+00:00\"}, {\"Day\": \"2016-01-07T18:44:00+00:00\"}, {\"Day\": \"2016-01-08T17:39:00+00:00\"}, {\"Day\": \"2016-01-05T17:23:00+00:00\"}, {\"Day\": \"2016-01-05T18:46:00+00:00\"}, {\"Day\": \"2016-01-07T17:38:00+00:00\"}, {\"Day\": \"2016-01-04T17:46:00+00:00\"}, {\"Day\": \"2016-01-06T17:04:00+00:00\"}, {\"Day\": \"2016-01-05T17:45:00+00:00\"}, {\"Day\": \"2016-01-07T17:28:00+00:00\"}, {\"Day\": \"2016-01-08T11:13:00+00:00\"}, {\"Day\": \"2016-01-08T23:59:00+00:00\"}, {\"Day\": \"2016-01-04T13:37:00+00:00\"}, {\"Day\": \"2016-01-08T10:16:00+00:00\"}, {\"Day\": \"2016-01-08T11:00:00+00:00\"}, {\"Day\": \"2016-01-06T18:24:00+00:00\"}, {\"Day\": \"2016-01-03T16:30:00+00:00\"}, {\"Day\": \"2016-01-04T18:04:00+00:00\"}, {\"Day\": \"2016-01-08T12:44:00+00:00\"}, {\"Day\": \"2016-01-08T12:44:00+00:00\"}, {\"Day\": \"2016-01-03T14:45:00+00:00\"}, {\"Day\": \"2016-01-08T19:44:00+00:00\"}, {\"Day\": \"2016-01-01T11:59:00+00:00\"}, {\"Day\": \"2016-01-08T10:17:00+00:00\"}, {\"Day\": \"2016-01-05T17:22:00+00:00\"}, {\"Day\": \"2016-01-06T18:33:00+00:00\"}, {\"Day\": \"2016-01-06T00:11:00+00:00\"}, {\"Day\": \"2016-01-07T20:48:00+00:00\"}, {\"Day\": \"2016-01-02T14:50:00+00:00\"}, {\"Day\": \"2016-01-05T16:14:00+00:00\"}, {\"Day\": \"2016-01-04T14:16:00+00:00\"}, {\"Day\": \"2016-01-08T09:56:00+00:00\"}, {\"Day\": \"2016-01-08T17:37:00+00:00\"}, {\"Day\": \"2016-01-04T16:31:00+00:00\"}, {\"Day\": \"2016-01-08T08:35:00+00:00\"}, {\"Day\": \"2016-01-07T09:51:00+00:00\"}, {\"Day\": \"2016-01-06T10:02:00+00:00\"}, {\"Day\": \"2016-01-08T12:29:00+00:00\"}, {\"Day\": \"2016-01-08T13:59:00+00:00\"}, {\"Day\": \"2016-01-02T09:52:00+00:00\"}, {\"Day\": \"2016-01-02T14:05:00+00:00\"}, {\"Day\": \"2016-01-03T14:53:00+00:00\"}, {\"Day\": \"2016-01-09T15:52:00+00:00\"}, {\"Day\": \"2016-01-07T16:52:00+00:00\"}, {\"Day\": \"2016-01-05T07:14:00+00:00\"}, {\"Day\": \"2016-01-07T07:24:00+00:00\"}, {\"Day\": \"2016-01-08T16:03:00+00:00\"}, {\"Day\": \"2016-01-08T07:34:00+00:00\"}, {\"Day\": \"2016-01-06T09:16:00+00:00\"}, {\"Day\": \"2016-01-05T09:29:00+00:00\"}, {\"Day\": \"2016-01-07T17:12:00+00:00\"}, {\"Day\": \"2016-01-07T08:39:00+00:00\"}, {\"Day\": \"2016-01-08T16:25:00+00:00\"}, {\"Day\": \"2016-01-08T16:23:00+00:00\"}, {\"Day\": \"2016-01-04T13:57:00+00:00\"}, {\"Day\": \"2016-01-06T01:35:00+00:00\"}, {\"Day\": \"2016-01-05T18:51:00+00:00\"}, {\"Day\": \"2016-01-05T18:42:00+00:00\"}, {\"Day\": \"2016-01-05T18:03:00+00:00\"}, {\"Day\": \"2016-01-05T19:02:00+00:00\"}, {\"Day\": \"2016-01-05T17:24:00+00:00\"}, {\"Day\": \"2016-01-07T19:22:00+00:00\"}, {\"Day\": \"2016-01-07T11:45:00+00:00\"}, {\"Day\": \"2016-01-03T09:18:00+00:00\"}, {\"Day\": \"2016-01-07T20:10:00+00:00\"}, {\"Day\": \"2016-01-06T18:21:00+00:00\"}, {\"Day\": \"2016-01-07T07:50:00+00:00\"}, {\"Day\": \"2016-01-06T17:31:00+00:00\"}, {\"Day\": \"2016-01-06T14:19:00+00:00\"}, {\"Day\": \"2016-01-07T18:04:00+00:00\"}, {\"Day\": \"2016-01-05T08:41:00+00:00\"}, {\"Day\": \"2016-01-04T08:47:00+00:00\"}, {\"Day\": \"2016-01-04T13:20:00+00:00\"}, {\"Day\": \"2016-01-07T15:11:00+00:00\"}, {\"Day\": \"2016-01-04T13:21:00+00:00\"}, {\"Day\": \"2016-01-04T13:20:00+00:00\"}, {\"Day\": \"2016-01-04T08:27:00+00:00\"}, {\"Day\": \"2016-01-07T09:51:00+00:00\"}, {\"Day\": \"2016-01-05T09:00:00+00:00\"}, {\"Day\": \"2016-01-07T08:33:00+00:00\"}, {\"Day\": \"2016-01-04T08:03:00+00:00\"}, {\"Day\": \"2016-01-08T10:52:00+00:00\"}, {\"Day\": \"2016-01-08T09:13:00+00:00\"}, {\"Day\": \"2016-01-05T08:07:00+00:00\"}, {\"Day\": \"2016-01-05T08:24:00+00:00\"}, {\"Day\": \"2016-01-07T08:30:00+00:00\"}, {\"Day\": \"2016-01-08T08:27:00+00:00\"}, {\"Day\": \"2016-01-04T08:26:00+00:00\"}, {\"Day\": \"2016-01-04T07:41:00+00:00\"}, {\"Day\": \"2016-01-07T08:58:00+00:00\"}, {\"Day\": \"2016-01-06T08:07:00+00:00\"}, {\"Day\": \"2016-01-07T08:27:00+00:00\"}, {\"Day\": \"2016-01-07T09:22:00+00:00\"}, {\"Day\": \"2016-01-09T16:40:00+00:00\"}, {\"Day\": \"2016-01-04T18:12:00+00:00\"}, {\"Day\": \"2016-01-05T08:48:00+00:00\"}, {\"Day\": \"2016-01-05T08:53:00+00:00\"}, {\"Day\": \"2016-01-07T09:15:00+00:00\"}, {\"Day\": \"2016-01-08T11:18:00+00:00\"}, {\"Day\": \"2016-01-06T08:14:00+00:00\"}, {\"Day\": \"2016-01-04T07:46:00+00:00\"}, {\"Day\": \"2016-01-07T08:52:00+00:00\"}, {\"Day\": \"2016-01-04T08:10:00+00:00\"}, {\"Day\": \"2016-01-07T08:29:00+00:00\"}, {\"Day\": \"2016-01-07T08:31:00+00:00\"}, {\"Day\": \"2016-01-08T08:31:00+00:00\"}, {\"Day\": \"2016-01-05T09:01:00+00:00\"}, {\"Day\": \"2016-01-07T08:52:00+00:00\"}, {\"Day\": \"2016-01-08T08:52:00+00:00\"}, {\"Day\": \"2016-01-07T08:54:00+00:00\"}, {\"Day\": \"2016-01-07T08:07:00+00:00\"}, {\"Day\": \"2016-01-07T08:33:00+00:00\"}, {\"Day\": \"2016-01-05T08:25:00+00:00\"}, {\"Day\": \"2016-01-05T18:22:00+00:00\"}, {\"Day\": \"2016-01-07T08:28:00+00:00\"}, {\"Day\": \"2016-01-08T08:27:00+00:00\"}, {\"Day\": \"2016-01-04T10:48:00+00:00\"}, {\"Day\": \"2016-01-08T08:27:00+00:00\"}, {\"Day\": \"2016-01-07T12:58:00+00:00\"}, {\"Day\": \"2016-01-07T12:57:00+00:00\"}, {\"Day\": \"2016-01-08T12:42:00+00:00\"}, {\"Day\": \"2016-01-05T19:26:00+00:00\"}, {\"Day\": \"2016-01-06T17:22:00+00:00\"}, {\"Day\": \"2016-01-02T10:29:00+00:00\"}, {\"Day\": \"2016-01-07T10:16:00+00:00\"}, {\"Day\": \"2016-01-07T15:45:00+00:00\"}, {\"Day\": \"2016-01-03T11:21:00+00:00\"}, {\"Day\": \"2016-01-09T08:04:00+00:00\"}, {\"Day\": \"2016-01-09T13:26:00+00:00\"}, {\"Day\": \"2016-01-07T17:03:00+00:00\"}, {\"Day\": \"2016-01-09T16:28:00+00:00\"}, {\"Day\": \"2016-01-06T09:12:00+00:00\"}, {\"Day\": \"2016-01-07T08:30:00+00:00\"}, {\"Day\": \"2016-01-08T08:59:00+00:00\"}, {\"Day\": \"2016-01-05T08:58:00+00:00\"}, {\"Day\": \"2016-01-06T08:07:00+00:00\"}, {\"Day\": \"2016-01-05T08:27:00+00:00\"}, {\"Day\": \"2016-01-08T08:27:00+00:00\"}, {\"Day\": \"2016-01-07T08:06:00+00:00\"}, {\"Day\": \"2016-01-04T08:08:00+00:00\"}, {\"Day\": \"2016-01-04T08:28:00+00:00\"}, {\"Day\": \"2016-01-08T08:04:00+00:00\"}, {\"Day\": \"2016-01-06T08:27:00+00:00\"}, {\"Day\": \"2016-01-07T18:59:00+00:00\"}, {\"Day\": \"2016-01-05T09:17:00+00:00\"}, {\"Day\": \"2016-01-06T10:49:00+00:00\"}, {\"Day\": \"2016-01-08T09:00:00+00:00\"}, {\"Day\": \"2016-01-07T08:34:00+00:00\"}, {\"Day\": \"2016-01-05T13:13:00+00:00\"}, {\"Day\": \"2016-01-04T09:26:00+00:00\"}, {\"Day\": \"2016-01-07T13:24:00+00:00\"}, {\"Day\": \"2016-01-02T14:54:00+00:00\"}, {\"Day\": \"2016-01-08T08:33:00+00:00\"}, {\"Day\": \"2016-01-01T17:07:00+00:00\"}, {\"Day\": \"2016-01-05T11:01:00+00:00\"}, {\"Day\": \"2016-01-01T17:07:00+00:00\"}, {\"Day\": \"2016-01-02T14:22:00+00:00\"}, {\"Day\": \"2016-01-09T12:27:00+00:00\"}, {\"Day\": \"2016-01-07T08:28:00+00:00\"}, {\"Day\": \"2016-01-08T08:27:00+00:00\"}, {\"Day\": \"2016-01-04T08:26:00+00:00\"}, {\"Day\": \"2016-01-04T18:39:00+00:00\"}, {\"Day\": \"2016-01-07T19:58:00+00:00\"}, {\"Day\": \"2016-01-02T08:39:00+00:00\"}, {\"Day\": \"2016-01-06T10:19:00+00:00\"}, {\"Day\": \"2016-01-06T17:56:00+00:00\"}, {\"Day\": \"2016-01-07T18:07:00+00:00\"}, {\"Day\": \"2016-01-05T18:23:00+00:00\"}, {\"Day\": \"2016-01-08T19:48:00+00:00\"}, {\"Day\": \"2016-01-04T20:19:00+00:00\"}, {\"Day\": \"2016-01-05T19:05:00+00:00\"}, {\"Day\": \"2016-01-08T15:25:00+00:00\"}, {\"Day\": \"2016-01-04T16:46:00+00:00\"}, {\"Day\": \"2016-01-06T08:26:00+00:00\"}, {\"Day\": \"2016-01-03T16:45:00+00:00\"}, {\"Day\": \"2016-01-06T10:01:00+00:00\"}, {\"Day\": \"2016-01-07T07:12:00+00:00\"}, {\"Day\": \"2016-01-05T19:57:00+00:00\"}, {\"Day\": \"2016-01-07T10:03:00+00:00\"}, {\"Day\": \"2016-01-07T13:40:00+00:00\"}, {\"Day\": \"2016-01-08T09:52:00+00:00\"}, {\"Day\": \"2016-01-08T07:59:00+00:00\"}, {\"Day\": \"2016-01-03T08:51:00+00:00\"}, {\"Day\": \"2016-01-04T07:57:00+00:00\"}, {\"Day\": \"2016-01-07T08:36:00+00:00\"}, {\"Day\": \"2016-01-08T17:17:00+00:00\"}, {\"Day\": \"2016-01-08T07:11:00+00:00\"}, {\"Day\": \"2016-01-05T08:38:00+00:00\"}, {\"Day\": \"2016-01-08T18:32:00+00:00\"}, {\"Day\": \"2016-01-01T14:43:00+00:00\"}, {\"Day\": \"2016-01-03T12:01:00+00:00\"}, {\"Day\": \"2016-01-04T21:43:00+00:00\"}, {\"Day\": \"2016-01-02T21:02:00+00:00\"}, {\"Day\": \"2016-01-08T09:56:00+00:00\"}, {\"Day\": \"2016-01-08T10:23:00+00:00\"}, {\"Day\": \"2016-01-07T10:21:00+00:00\"}, {\"Day\": \"2016-01-08T18:30:00+00:00\"}, {\"Day\": \"2016-01-05T09:04:00+00:00\"}, {\"Day\": \"2016-01-07T08:28:00+00:00\"}, {\"Day\": \"2016-01-07T08:53:00+00:00\"}, {\"Day\": \"2016-01-03T16:01:00+00:00\"}, {\"Day\": \"2016-01-08T08:19:00+00:00\"}, {\"Day\": \"2016-01-01T16:56:00+00:00\"}, {\"Day\": \"2016-01-07T09:52:00+00:00\"}, {\"Day\": \"2016-01-02T11:02:00+00:00\"}, {\"Day\": \"2016-01-07T08:18:00+00:00\"}, {\"Day\": \"2016-01-01T16:54:00+00:00\"}, {\"Day\": \"2016-01-03T08:51:00+00:00\"}, {\"Day\": \"2016-01-03T12:01:00+00:00\"}, {\"Day\": \"2016-01-04T09:06:00+00:00\"}, {\"Day\": \"2016-01-06T08:45:00+00:00\"}, {\"Day\": \"2016-01-07T13:41:00+00:00\"}, {\"Day\": \"2016-01-06T10:49:00+00:00\"}, {\"Day\": \"2016-01-07T17:11:00+00:00\"}, {\"Day\": \"2016-01-08T08:50:00+00:00\"}, {\"Day\": \"2016-01-02T12:58:00+00:00\"}, {\"Day\": \"2016-01-04T08:58:00+00:00\"}, {\"Day\": \"2016-01-06T21:34:00+00:00\"}, {\"Day\": \"2016-01-07T08:24:00+00:00\"}, {\"Day\": \"2016-01-08T08:59:00+00:00\"}, {\"Day\": \"2016-01-07T14:31:00+00:00\"}, {\"Day\": \"2016-01-08T16:05:00+00:00\"}, {\"Day\": \"2016-01-06T11:51:00+00:00\"}, {\"Day\": \"2016-01-01T09:25:00+00:00\"}, {\"Day\": \"2016-01-09T13:44:00+00:00\"}, {\"Day\": \"2016-01-07T14:31:00+00:00\"}, {\"Day\": \"2016-01-01T09:26:00+00:00\"}, {\"Day\": \"2016-01-05T09:03:00+00:00\"}, {\"Day\": \"2016-01-04T08:20:00+00:00\"}, {\"Day\": \"2016-01-08T09:44:00+00:00\"}, {\"Day\": \"2016-01-07T14:28:00+00:00\"}, {\"Day\": \"2016-01-07T14:28:00+00:00\"}, {\"Day\": \"2016-01-01T15:13:00+00:00\"}, {\"Day\": \"2016-01-01T15:13:00+00:00\"}, {\"Day\": \"2016-01-03T20:24:00+00:00\"}, {\"Day\": \"2016-01-04T17:17:00+00:00\"}, {\"Day\": \"2016-01-08T08:23:00+00:00\"}, {\"Day\": \"2016-01-01T16:44:00+00:00\"}, {\"Day\": \"2016-01-02T11:25:00+00:00\"}, {\"Day\": \"2016-01-07T17:09:00+00:00\"}, {\"Day\": \"2016-01-09T13:44:00+00:00\"}, {\"Day\": \"2016-01-08T08:28:00+00:00\"}, {\"Day\": \"2016-01-07T16:39:00+00:00\"}, {\"Day\": \"2016-01-05T18:13:00+00:00\"}, {\"Day\": \"2016-01-04T16:45:00+00:00\"}, {\"Day\": \"2016-01-08T07:06:00+00:00\"}, {\"Day\": \"2016-01-05T17:21:00+00:00\"}, {\"Day\": \"2016-01-08T18:29:00+00:00\"}, {\"Day\": \"2016-01-08T17:07:00+00:00\"}, {\"Day\": \"2016-01-08T17:08:00+00:00\"}, {\"Day\": \"2016-01-08T18:13:00+00:00\"}, {\"Day\": \"2016-01-06T15:46:00+00:00\"}, {\"Day\": \"2016-01-07T08:11:00+00:00\"}, {\"Day\": \"2016-01-04T17:20:00+00:00\"}, {\"Day\": \"2016-01-04T09:54:00+00:00\"}, {\"Day\": \"2016-01-04T17:22:00+00:00\"}, {\"Day\": \"2016-01-05T16:55:00+00:00\"}, {\"Day\": \"2016-01-08T18:05:00+00:00\"}, {\"Day\": \"2016-01-04T15:35:00+00:00\"}, {\"Day\": \"2016-01-04T12:16:00+00:00\"}, {\"Day\": \"2016-01-07T18:02:00+00:00\"}, {\"Day\": \"2016-01-05T16:40:00+00:00\"}, {\"Day\": \"2016-01-03T15:45:00+00:00\"}, {\"Day\": \"2016-01-04T17:20:00+00:00\"}, {\"Day\": \"2016-01-07T13:08:00+00:00\"}, {\"Day\": \"2016-01-08T16:29:00+00:00\"}, {\"Day\": \"2016-01-05T17:48:00+00:00\"}, {\"Day\": \"2016-01-04T17:18:00+00:00\"}, {\"Day\": \"2016-01-06T18:01:00+00:00\"}, {\"Day\": \"2016-01-08T09:04:00+00:00\"}, {\"Day\": \"2016-01-06T13:13:00+00:00\"}, {\"Day\": \"2016-01-08T15:01:00+00:00\"}, {\"Day\": \"2016-01-05T09:56:00+00:00\"}, {\"Day\": \"2016-01-07T09:30:00+00:00\"}, {\"Day\": \"2016-01-07T21:17:00+00:00\"}, {\"Day\": \"2016-01-08T16:23:00+00:00\"}, {\"Day\": \"2016-01-05T08:11:00+00:00\"}, {\"Day\": \"2016-01-08T08:23:00+00:00\"}, {\"Day\": \"2016-01-06T16:39:00+00:00\"}, {\"Day\": \"2016-01-07T17:18:00+00:00\"}, {\"Day\": \"2016-01-08T07:10:00+00:00\"}, {\"Day\": \"2016-01-06T08:44:00+00:00\"}, {\"Day\": \"2016-01-07T08:10:00+00:00\"}, {\"Day\": \"2016-01-04T08:08:00+00:00\"}, {\"Day\": \"2016-01-08T08:30:00+00:00\"}, {\"Day\": \"2016-01-04T17:22:00+00:00\"}, {\"Day\": \"2016-01-08T16:52:00+00:00\"}, {\"Day\": \"2016-01-09T09:38:00+00:00\"}, {\"Day\": \"2016-01-07T13:07:00+00:00\"}, {\"Day\": \"2016-01-03T19:55:00+00:00\"}, {\"Day\": \"2016-01-05T22:05:00+00:00\"}, {\"Day\": \"2016-01-08T16:57:00+00:00\"}, {\"Day\": \"2016-01-07T13:52:00+00:00\"}, {\"Day\": \"2016-01-07T13:18:00+00:00\"}, {\"Day\": \"2016-01-04T13:45:00+00:00\"}, {\"Day\": \"2016-01-05T17:18:00+00:00\"}, {\"Day\": \"2016-01-06T18:27:00+00:00\"}, {\"Day\": \"2016-01-08T18:11:00+00:00\"}, {\"Day\": \"2016-01-09T10:29:00+00:00\"}, {\"Day\": \"2016-01-08T11:49:00+00:00\"}, {\"Day\": \"2016-01-07T18:53:00+00:00\"}, {\"Day\": \"2016-01-07T09:04:00+00:00\"}, {\"Day\": \"2016-01-08T14:13:00+00:00\"}, {\"Day\": \"2016-01-07T09:03:00+00:00\"}, {\"Day\": \"2016-01-04T13:46:00+00:00\"}, {\"Day\": \"2016-01-08T08:49:00+00:00\"}, {\"Day\": \"2016-01-02T10:10:00+00:00\"}, {\"Day\": \"2016-01-02T17:55:00+00:00\"}, {\"Day\": \"2016-01-06T16:22:00+00:00\"}, {\"Day\": \"2016-01-07T16:42:00+00:00\"}, {\"Day\": \"2016-01-06T16:53:00+00:00\"}, {\"Day\": \"2016-01-05T19:02:00+00:00\"}, {\"Day\": \"2016-01-08T12:56:00+00:00\"}, {\"Day\": \"2016-01-06T16:09:00+00:00\"}, {\"Day\": \"2016-01-08T17:16:00+00:00\"}, {\"Day\": \"2016-01-07T13:07:00+00:00\"}, {\"Day\": \"2016-01-08T09:26:00+00:00\"}, {\"Day\": \"2016-01-06T13:26:00+00:00\"}, {\"Day\": \"2016-01-06T17:06:00+00:00\"}, {\"Day\": \"2016-01-03T11:20:00+00:00\"}, {\"Day\": \"2016-01-08T16:47:00+00:00\"}, {\"Day\": \"2016-01-04T14:04:00+00:00\"}, {\"Day\": \"2016-01-05T15:38:00+00:00\"}, {\"Day\": \"2016-01-09T08:16:00+00:00\"}, {\"Day\": \"2016-01-01T14:49:00+00:00\"}, {\"Day\": \"2016-01-07T17:56:00+00:00\"}, {\"Day\": \"2016-01-06T18:09:00+00:00\"}, {\"Day\": \"2016-01-08T10:08:00+00:00\"}, {\"Day\": \"2016-01-07T17:38:00+00:00\"}, {\"Day\": \"2016-01-04T05:57:00+00:00\"}, {\"Day\": \"2016-01-08T08:29:00+00:00\"}, {\"Day\": \"2016-01-06T09:19:00+00:00\"}, {\"Day\": \"2016-01-09T17:53:00+00:00\"}, {\"Day\": \"2016-01-07T05:58:00+00:00\"}, {\"Day\": \"2016-01-08T05:58:00+00:00\"}, {\"Day\": \"2016-01-02T10:55:00+00:00\"}, {\"Day\": \"2016-01-02T15:44:00+00:00\"}, {\"Day\": \"2016-01-09T15:19:00+00:00\"}, {\"Day\": \"2016-01-07T08:45:00+00:00\"}, {\"Day\": \"2016-01-07T08:34:00+00:00\"}, {\"Day\": \"2016-01-08T10:07:00+00:00\"}, {\"Day\": \"2016-01-01T07:46:00+00:00\"}, {\"Day\": \"2016-01-04T08:27:00+00:00\"}, {\"Day\": \"2016-01-06T12:46:00+00:00\"}, {\"Day\": \"2016-01-01T12:55:00+00:00\"}, {\"Day\": \"2016-01-04T16:35:00+00:00\"}, {\"Day\": \"2016-01-08T17:14:00+00:00\"}, {\"Day\": \"2016-01-07T16:44:00+00:00\"}, {\"Day\": \"2016-01-07T17:58:00+00:00\"}, {\"Day\": \"2016-01-08T17:26:00+00:00\"}, {\"Day\": \"2016-01-08T17:03:00+00:00\"}, {\"Day\": \"2016-01-07T09:18:00+00:00\"}, {\"Day\": \"2016-01-02T07:05:00+00:00\"}, {\"Day\": \"2016-01-04T18:22:00+00:00\"}, {\"Day\": \"2016-01-06T13:13:00+00:00\"}, {\"Day\": \"2016-01-07T16:54:00+00:00\"}, {\"Day\": \"2016-01-04T16:08:00+00:00\"}, {\"Day\": \"2016-01-08T16:45:00+00:00\"}, {\"Day\": \"2016-01-08T17:00:00+00:00\"}, {\"Day\": \"2016-01-04T18:03:00+00:00\"}, {\"Day\": \"2016-01-05T17:07:00+00:00\"}, {\"Day\": \"2016-01-08T17:01:00+00:00\"}, {\"Day\": \"2016-01-05T16:55:00+00:00\"}, {\"Day\": \"2016-01-04T16:58:00+00:00\"}, {\"Day\": \"2016-01-07T18:12:00+00:00\"}, {\"Day\": \"2016-01-08T18:11:00+00:00\"}, {\"Day\": \"2016-01-06T16:57:00+00:00\"}, {\"Day\": \"2016-01-07T17:44:00+00:00\"}, {\"Day\": \"2016-01-08T14:09:00+00:00\"}, {\"Day\": \"2016-01-05T17:37:00+00:00\"}, {\"Day\": \"2016-01-07T17:40:00+00:00\"}, {\"Day\": \"2016-01-07T19:07:00+00:00\"}, {\"Day\": \"2016-01-08T16:07:00+00:00\"}, {\"Day\": \"2016-01-04T09:00:00+00:00\"}, {\"Day\": \"2016-01-07T17:01:00+00:00\"}, {\"Day\": \"2016-01-04T16:59:00+00:00\"}, {\"Day\": \"2016-01-05T09:47:00+00:00\"}, {\"Day\": \"2016-01-07T07:31:00+00:00\"}, {\"Day\": \"2016-01-05T15:48:00+00:00\"}, {\"Day\": \"2016-01-07T15:31:00+00:00\"}, {\"Day\": \"2016-01-06T17:04:00+00:00\"}, {\"Day\": \"2016-01-05T14:50:00+00:00\"}, {\"Day\": \"2016-01-05T06:47:00+00:00\"}, {\"Day\": \"2016-01-05T07:34:00+00:00\"}, {\"Day\": \"2016-01-06T17:03:00+00:00\"}, {\"Day\": \"2016-01-08T07:57:00+00:00\"}, {\"Day\": \"2016-01-06T06:48:00+00:00\"}, {\"Day\": \"2016-01-08T16:37:00+00:00\"}, {\"Day\": \"2016-01-04T15:54:00+00:00\"}, {\"Day\": \"2016-01-06T15:34:00+00:00\"}, {\"Day\": \"2016-01-07T17:14:00+00:00\"}, {\"Day\": \"2016-01-07T11:59:00+00:00\"}, {\"Day\": \"2016-01-04T14:03:00+00:00\"}, {\"Day\": \"2016-01-04T09:29:00+00:00\"}, {\"Day\": \"2016-01-06T09:51:00+00:00\"}, {\"Day\": \"2016-01-06T16:42:00+00:00\"}, {\"Day\": \"2016-01-07T16:48:00+00:00\"}, {\"Day\": \"2016-01-07T16:35:00+00:00\"}, {\"Day\": \"2016-01-04T12:10:00+00:00\"}, {\"Day\": \"2016-01-04T12:11:00+00:00\"}, {\"Day\": \"2016-01-03T09:16:00+00:00\"}, {\"Day\": \"2016-01-04T12:11:00+00:00\"}, {\"Day\": \"2016-01-09T09:01:00+00:00\"}, {\"Day\": \"2016-01-04T12:11:00+00:00\"}, {\"Day\": \"2016-01-08T11:56:00+00:00\"}, {\"Day\": \"2016-01-07T08:42:00+00:00\"}, {\"Day\": \"2016-01-07T10:15:00+00:00\"}, {\"Day\": \"2016-01-04T10:11:00+00:00\"}, {\"Day\": \"2016-01-08T10:13:00+00:00\"}, {\"Day\": \"2016-01-08T19:31:00+00:00\"}, {\"Day\": \"2016-01-04T08:28:00+00:00\"}, {\"Day\": \"2016-01-05T20:15:00+00:00\"}, {\"Day\": \"2016-01-07T11:30:00+00:00\"}, {\"Day\": \"2016-01-07T10:48:00+00:00\"}, {\"Day\": \"2016-01-04T19:17:00+00:00\"}, {\"Day\": \"2016-01-05T08:27:00+00:00\"}, {\"Day\": \"2016-01-01T01:57:00+00:00\"}, {\"Day\": \"2016-01-04T07:42:00+00:00\"}, {\"Day\": \"2016-01-01T01:58:00+00:00\"}, {\"Day\": \"2016-01-07T07:46:00+00:00\"}, {\"Day\": \"2016-01-06T07:26:00+00:00\"}, {\"Day\": \"2016-01-07T09:49:00+00:00\"}, {\"Day\": \"2016-01-05T07:44:00+00:00\"}, {\"Day\": \"2016-01-06T09:17:00+00:00\"}, {\"Day\": \"2016-01-01T08:44:00+00:00\"}, {\"Day\": \"2016-01-08T11:39:00+00:00\"}, {\"Day\": \"2016-01-08T15:36:00+00:00\"}, {\"Day\": \"2016-01-08T19:04:00+00:00\"}, {\"Day\": \"2016-01-08T16:42:00+00:00\"}, {\"Day\": \"2016-01-05T08:26:00+00:00\"}, {\"Day\": \"2016-01-06T09:25:00+00:00\"}, {\"Day\": \"2016-01-04T08:35:00+00:00\"}, {\"Day\": \"2016-01-05T09:40:00+00:00\"}, {\"Day\": \"2016-01-07T08:23:00+00:00\"}, {\"Day\": \"2016-01-07T08:45:00+00:00\"}, {\"Day\": \"2016-01-08T10:14:00+00:00\"}, {\"Day\": \"2016-01-08T23:10:00+00:00\"}, {\"Day\": \"2016-01-06T23:09:00+00:00\"}, {\"Day\": \"2016-01-04T09:11:00+00:00\"}, {\"Day\": \"2016-01-07T16:46:00+00:00\"}, {\"Day\": \"2016-01-09T23:02:00+00:00\"}, {\"Day\": \"2016-01-02T23:13:00+00:00\"}, {\"Day\": \"2016-01-07T23:10:00+00:00\"}, {\"Day\": \"2016-01-05T18:41:00+00:00\"}, {\"Day\": \"2016-01-03T23:10:00+00:00\"}, {\"Day\": \"2016-01-01T23:10:00+00:00\"}, {\"Day\": \"2016-01-03T10:51:00+00:00\"}, {\"Day\": \"2016-01-05T08:16:00+00:00\"}, {\"Day\": \"2016-01-06T08:56:00+00:00\"}, {\"Day\": \"2016-01-01T13:00:00+00:00\"}, {\"Day\": \"2016-01-06T11:52:00+00:00\"}, {\"Day\": \"2016-01-09T15:15:00+00:00\"}, {\"Day\": \"2016-01-08T08:11:00+00:00\"}, {\"Day\": \"2016-01-05T17:19:00+00:00\"}, {\"Day\": \"2016-01-02T10:51:00+00:00\"}, {\"Day\": \"2016-01-08T06:11:00+00:00\"}, {\"Day\": \"2016-01-01T12:21:00+00:00\"}, {\"Day\": \"2016-01-03T11:01:00+00:00\"}, {\"Day\": \"2016-01-07T05:46:00+00:00\"}, {\"Day\": \"2016-01-01T11:53:00+00:00\"}, {\"Day\": \"2016-01-08T08:56:00+00:00\"}, {\"Day\": \"2016-01-04T08:04:00+00:00\"}, {\"Day\": \"2016-01-05T08:55:00+00:00\"}, {\"Day\": \"2016-01-06T08:58:00+00:00\"}, {\"Day\": \"2016-01-04T12:25:00+00:00\"}, {\"Day\": \"2016-01-07T11:28:00+00:00\"}, {\"Day\": \"2016-01-08T12:22:00+00:00\"}, {\"Day\": \"2016-01-09T07:28:00+00:00\"}, {\"Day\": \"2016-01-06T12:18:00+00:00\"}, {\"Day\": \"2016-01-06T08:11:00+00:00\"}, {\"Day\": \"2016-01-07T08:19:00+00:00\"}, {\"Day\": \"2016-01-04T09:12:00+00:00\"}, {\"Day\": \"2016-01-06T07:45:00+00:00\"}, {\"Day\": \"2016-01-07T19:25:00+00:00\"}, {\"Day\": \"2016-01-04T16:55:00+00:00\"}, {\"Day\": \"2016-01-04T10:00:00+00:00\"}, {\"Day\": \"2016-01-08T07:58:00+00:00\"}, {\"Day\": \"2016-01-09T13:02:00+00:00\"}, {\"Day\": \"2016-01-06T09:12:00+00:00\"}, {\"Day\": \"2016-01-07T08:32:00+00:00\"}, {\"Day\": \"2016-01-05T08:20:00+00:00\"}, {\"Day\": \"2016-01-09T10:41:00+00:00\"}, {\"Day\": \"2016-01-05T08:58:00+00:00\"}, {\"Day\": \"2016-01-04T08:32:00+00:00\"}, {\"Day\": \"2016-01-03T11:02:00+00:00\"}, {\"Day\": \"2016-01-05T08:54:00+00:00\"}, {\"Day\": \"2016-01-03T10:51:00+00:00\"}, {\"Day\": \"2016-01-04T18:37:00+00:00\"}, {\"Day\": \"2016-01-05T17:23:00+00:00\"}, {\"Day\": \"2016-01-08T07:48:00+00:00\"}, {\"Day\": \"2016-01-08T16:10:00+00:00\"}, {\"Day\": \"2016-01-06T15:13:00+00:00\"}, {\"Day\": \"2016-01-09T13:19:00+00:00\"}, {\"Day\": \"2016-01-07T07:55:00+00:00\"}, {\"Day\": \"2016-01-04T08:50:00+00:00\"}, {\"Day\": \"2016-01-08T09:16:00+00:00\"}, {\"Day\": \"2016-01-08T08:50:00+00:00\"}, {\"Day\": \"2016-01-07T08:51:00+00:00\"}, {\"Day\": \"2016-01-04T17:49:00+00:00\"}, {\"Day\": \"2016-01-07T18:39:00+00:00\"}, {\"Day\": \"2016-01-04T08:04:00+00:00\"}, {\"Day\": \"2016-01-08T08:05:00+00:00\"}, {\"Day\": \"2016-01-07T06:00:00+00:00\"}, {\"Day\": \"2016-01-07T16:34:00+00:00\"}, {\"Day\": \"2016-01-06T18:21:00+00:00\"}, {\"Day\": \"2016-01-07T17:17:00+00:00\"}, {\"Day\": \"2016-01-01T10:06:00+00:00\"}, {\"Day\": \"2016-01-06T08:02:00+00:00\"}, {\"Day\": \"2016-01-07T08:03:00+00:00\"}, {\"Day\": \"2016-01-05T09:08:00+00:00\"}, {\"Day\": \"2016-01-08T08:25:00+00:00\"}, {\"Day\": \"2016-01-06T12:59:00+00:00\"}, {\"Day\": \"2016-01-07T10:41:00+00:00\"}, {\"Day\": \"2016-01-06T10:42:00+00:00\"}, {\"Day\": \"2016-01-01T11:42:00+00:00\"}, {\"Day\": \"2016-01-03T15:02:00+00:00\"}, {\"Day\": \"2016-01-05T17:40:00+00:00\"}, {\"Day\": \"2016-01-04T17:42:00+00:00\"}, {\"Day\": \"2016-01-07T17:35:00+00:00\"}, {\"Day\": \"2016-01-06T09:25:00+00:00\"}, {\"Day\": \"2016-01-07T08:37:00+00:00\"}, {\"Day\": \"2016-01-08T15:05:00+00:00\"}, {\"Day\": \"2016-01-05T17:53:00+00:00\"}, {\"Day\": \"2016-01-08T05:55:00+00:00\"}, {\"Day\": \"2016-01-07T08:35:00+00:00\"}, {\"Day\": \"2016-01-04T08:55:00+00:00\"}, {\"Day\": \"2016-01-06T08:48:00+00:00\"}, {\"Day\": \"2016-01-08T08:21:00+00:00\"}, {\"Day\": \"2016-01-05T08:37:00+00:00\"}, {\"Day\": \"2016-01-07T16:07:00+00:00\"}, {\"Day\": \"2016-01-05T08:42:00+00:00\"}, {\"Day\": \"2016-01-04T08:56:00+00:00\"}, {\"Day\": \"2016-01-04T08:52:00+00:00\"}, {\"Day\": \"2016-01-05T09:06:00+00:00\"}, {\"Day\": \"2016-01-06T12:34:00+00:00\"}, {\"Day\": \"2016-01-06T18:27:00+00:00\"}, {\"Day\": \"2016-01-06T17:25:00+00:00\"}, {\"Day\": \"2016-01-08T08:00:00+00:00\"}, {\"Day\": \"2016-01-05T18:03:00+00:00\"}, {\"Day\": \"2016-01-09T19:47:00+00:00\"}, {\"Day\": \"2016-01-04T21:12:00+00:00\"}, {\"Day\": \"2016-01-07T09:47:00+00:00\"}, {\"Day\": \"2016-01-04T18:45:00+00:00\"}, {\"Day\": \"2016-01-08T18:53:00+00:00\"}, {\"Day\": \"2016-01-06T18:48:00+00:00\"}, {\"Day\": \"2016-01-08T12:52:00+00:00\"}, {\"Day\": \"2016-01-07T08:00:00+00:00\"}, {\"Day\": \"2016-01-08T17:02:00+00:00\"}, {\"Day\": \"2016-01-06T17:35:00+00:00\"}, {\"Day\": \"2016-01-08T09:59:00+00:00\"}, {\"Day\": \"2016-01-06T10:07:00+00:00\"}, {\"Day\": \"2016-01-04T08:55:00+00:00\"}, {\"Day\": \"2016-01-08T08:49:00+00:00\"}, {\"Day\": \"2016-01-08T08:00:00+00:00\"}, {\"Day\": \"2016-01-08T17:41:00+00:00\"}, {\"Day\": \"2016-01-08T09:40:00+00:00\"}, {\"Day\": \"2016-01-08T09:21:00+00:00\"}, {\"Day\": \"2016-01-07T16:33:00+00:00\"}, {\"Day\": \"2016-01-06T09:58:00+00:00\"}, {\"Day\": \"2016-01-04T08:58:00+00:00\"}, {\"Day\": \"2016-01-07T09:36:00+00:00\"}, {\"Day\": \"2016-01-05T09:26:00+00:00\"}, {\"Day\": \"2016-01-05T09:57:00+00:00\"}, {\"Day\": \"2016-01-07T09:32:00+00:00\"}, {\"Day\": \"2016-01-08T08:04:00+00:00\"}, {\"Day\": \"2016-01-07T17:48:00+00:00\"}, {\"Day\": \"2016-01-07T07:52:00+00:00\"}, {\"Day\": \"2016-01-08T07:18:00+00:00\"}, {\"Day\": \"2016-01-07T07:20:00+00:00\"}, {\"Day\": \"2016-01-07T18:13:00+00:00\"}, {\"Day\": \"2016-01-07T20:06:00+00:00\"}, {\"Day\": \"2016-01-04T08:06:00+00:00\"}, {\"Day\": \"2016-01-06T07:49:00+00:00\"}, {\"Day\": \"2016-01-07T16:51:00+00:00\"}, {\"Day\": \"2016-01-05T08:11:00+00:00\"}, {\"Day\": \"2016-01-05T07:16:00+00:00\"}, {\"Day\": \"2016-01-04T07:04:00+00:00\"}, {\"Day\": \"2016-01-07T06:50:00+00:00\"}, {\"Day\": \"2016-01-08T08:21:00+00:00\"}, {\"Day\": \"2016-01-06T08:26:00+00:00\"}, {\"Day\": \"2016-01-07T17:48:00+00:00\"}, {\"Day\": \"2016-01-07T08:01:00+00:00\"}, {\"Day\": \"2016-01-02T07:37:00+00:00\"}, {\"Day\": \"2016-01-06T16:15:00+00:00\"}, {\"Day\": \"2016-01-07T16:13:00+00:00\"}, {\"Day\": \"2016-01-05T10:41:00+00:00\"}, {\"Day\": \"2016-01-07T08:59:00+00:00\"}, {\"Day\": \"2016-01-04T07:31:00+00:00\"}, {\"Day\": \"2016-01-05T07:27:00+00:00\"}, {\"Day\": \"2016-01-08T09:18:00+00:00\"}, {\"Day\": \"2016-01-08T07:22:00+00:00\"}, {\"Day\": \"2016-01-07T07:32:00+00:00\"}, {\"Day\": \"2016-01-07T08:25:00+00:00\"}, {\"Day\": \"2016-01-07T09:19:00+00:00\"}, {\"Day\": \"2016-01-07T09:04:00+00:00\"}, {\"Day\": \"2016-01-04T17:44:00+00:00\"}, {\"Day\": \"2016-01-04T18:38:00+00:00\"}, {\"Day\": \"2016-01-07T17:32:00+00:00\"}, {\"Day\": \"2016-01-08T15:58:00+00:00\"}, {\"Day\": \"2016-01-05T17:24:00+00:00\"}, {\"Day\": \"2016-01-05T18:39:00+00:00\"}, {\"Day\": \"2016-01-06T18:15:00+00:00\"}, {\"Day\": \"2016-01-06T18:42:00+00:00\"}, {\"Day\": \"2016-01-04T13:47:00+00:00\"}, {\"Day\": \"2016-01-07T19:55:00+00:00\"}, {\"Day\": \"2016-01-09T00:34:00+00:00\"}, {\"Day\": \"2016-01-06T21:55:00+00:00\"}, {\"Day\": \"2016-01-05T16:52:00+00:00\"}, {\"Day\": \"2016-01-07T20:25:00+00:00\"}, {\"Day\": \"2016-01-07T07:10:00+00:00\"}, {\"Day\": \"2016-01-08T07:31:00+00:00\"}, {\"Day\": \"2016-01-04T07:35:00+00:00\"}, {\"Day\": \"2016-01-04T09:23:00+00:00\"}, {\"Day\": \"2016-01-05T07:44:00+00:00\"}, {\"Day\": \"2016-01-05T08:21:00+00:00\"}, {\"Day\": \"2016-01-07T08:16:00+00:00\"}, {\"Day\": \"2016-01-08T09:59:00+00:00\"}, {\"Day\": \"2016-01-07T09:06:00+00:00\"}, {\"Day\": \"2016-01-04T08:32:00+00:00\"}, {\"Day\": \"2016-01-06T08:02:00+00:00\"}, {\"Day\": \"2016-01-06T08:42:00+00:00\"}, {\"Day\": \"2016-01-08T07:49:00+00:00\"}, {\"Day\": \"2016-01-07T08:51:00+00:00\"}, {\"Day\": \"2016-01-04T08:37:00+00:00\"}, {\"Day\": \"2016-01-08T06:16:00+00:00\"}, {\"Day\": \"2016-01-08T09:13:00+00:00\"}, {\"Day\": \"2016-01-08T08:43:00+00:00\"}, {\"Day\": \"2016-01-08T11:39:00+00:00\"}, {\"Day\": \"2016-01-04T09:25:00+00:00\"}, {\"Day\": \"2016-01-06T08:38:00+00:00\"}, {\"Day\": \"2016-01-07T09:20:00+00:00\"}, {\"Day\": \"2016-01-05T09:09:00+00:00\"}, {\"Day\": \"2016-01-04T08:30:00+00:00\"}, {\"Day\": \"2016-01-08T09:05:00+00:00\"}, {\"Day\": \"2016-01-07T06:52:00+00:00\"}, {\"Day\": \"2016-01-08T09:04:00+00:00\"}, {\"Day\": \"2016-01-07T09:08:00+00:00\"}, {\"Day\": \"2016-01-05T09:21:00+00:00\"}, {\"Day\": \"2016-01-04T06:45:00+00:00\"}, {\"Day\": \"2016-01-08T09:05:00+00:00\"}, {\"Day\": \"2016-01-06T07:43:00+00:00\"}, {\"Day\": \"2016-01-08T09:16:00+00:00\"}, {\"Day\": \"2016-01-09T10:50:00+00:00\"}, {\"Day\": \"2016-01-04T09:14:00+00:00\"}, {\"Day\": \"2016-01-03T19:49:00+00:00\"}, {\"Day\": \"2016-01-04T12:00:00+00:00\"}, {\"Day\": \"2016-01-08T14:20:00+00:00\"}, {\"Day\": \"2016-01-04T21:16:00+00:00\"}, {\"Day\": \"2016-01-06T09:35:00+00:00\"}, {\"Day\": \"2016-01-05T08:20:00+00:00\"}, {\"Day\": \"2016-01-07T19:46:00+00:00\"}, {\"Day\": \"2016-01-07T08:38:00+00:00\"}, {\"Day\": \"2016-01-07T14:45:00+00:00\"}, {\"Day\": \"2016-01-08T08:29:00+00:00\"}, {\"Day\": \"2016-01-08T16:36:00+00:00\"}, {\"Day\": \"2016-01-02T15:03:00+00:00\"}, {\"Day\": \"2016-01-06T12:41:00+00:00\"}, {\"Day\": \"2016-01-07T17:13:00+00:00\"}, {\"Day\": \"2016-01-02T15:03:00+00:00\"}, {\"Day\": \"2016-01-04T18:07:00+00:00\"}, {\"Day\": \"2016-01-07T18:00:00+00:00\"}, {\"Day\": \"2016-01-08T17:05:00+00:00\"}, {\"Day\": \"2016-01-08T17:17:00+00:00\"}, {\"Day\": \"2016-01-04T17:03:00+00:00\"}, {\"Day\": \"2016-01-08T17:56:00+00:00\"}, {\"Day\": \"2016-01-04T17:01:00+00:00\"}, {\"Day\": \"2016-01-08T18:18:00+00:00\"}, {\"Day\": \"2016-01-08T16:56:00+00:00\"}, {\"Day\": \"2016-01-07T16:55:00+00:00\"}, {\"Day\": \"2016-01-06T17:59:00+00:00\"}, {\"Day\": \"2016-01-05T17:01:00+00:00\"}, {\"Day\": \"2016-01-04T17:37:00+00:00\"}, {\"Day\": \"2016-01-07T17:35:00+00:00\"}, {\"Day\": \"2016-01-06T15:45:00+00:00\"}, {\"Day\": \"2016-01-07T16:41:00+00:00\"}, {\"Day\": \"2016-01-04T08:50:00+00:00\"}, {\"Day\": \"2016-01-05T18:01:00+00:00\"}, {\"Day\": \"2016-01-07T08:50:00+00:00\"}, {\"Day\": \"2016-01-07T20:30:00+00:00\"}, {\"Day\": \"2016-01-06T17:00:00+00:00\"}, {\"Day\": \"2016-01-07T14:22:00+00:00\"}, {\"Day\": \"2016-01-07T16:29:00+00:00\"}, {\"Day\": \"2016-01-07T18:00:00+00:00\"}, {\"Day\": \"2016-01-08T15:45:00+00:00\"}, {\"Day\": \"2016-01-08T17:56:00+00:00\"}, {\"Day\": \"2016-01-08T11:44:00+00:00\"}, {\"Day\": \"2016-01-05T17:05:00+00:00\"}, {\"Day\": \"2016-01-05T15:44:00+00:00\"}, {\"Day\": \"2016-01-02T13:33:00+00:00\"}, {\"Day\": \"2016-01-05T17:30:00+00:00\"}, {\"Day\": \"2016-01-04T07:37:00+00:00\"}, {\"Day\": \"2016-01-04T15:42:00+00:00\"}, {\"Day\": \"2016-01-08T16:33:00+00:00\"}, {\"Day\": \"2016-01-06T16:57:00+00:00\"}, {\"Day\": \"2016-01-05T08:56:00+00:00\"}, {\"Day\": \"2016-01-07T08:56:00+00:00\"}, {\"Day\": \"2016-01-07T17:59:00+00:00\"}, {\"Day\": \"2016-01-04T16:31:00+00:00\"}, {\"Day\": \"2016-01-05T19:21:00+00:00\"}, {\"Day\": \"2016-01-04T18:54:00+00:00\"}, {\"Day\": \"2016-01-07T15:45:00+00:00\"}, {\"Day\": \"2016-01-08T08:41:00+00:00\"}, {\"Day\": \"2016-01-04T19:10:00+00:00\"}, {\"Day\": \"2016-01-06T18:16:00+00:00\"}, {\"Day\": \"2016-01-07T17:05:00+00:00\"}, {\"Day\": \"2016-01-08T09:12:00+00:00\"}, {\"Day\": \"2016-01-07T13:46:00+00:00\"}, {\"Day\": \"2016-01-06T19:03:00+00:00\"}, {\"Day\": \"2016-01-07T18:03:00+00:00\"}, {\"Day\": \"2016-01-08T08:45:00+00:00\"}, {\"Day\": \"2016-01-05T08:47:00+00:00\"}, {\"Day\": \"2016-01-08T15:07:00+00:00\"}, {\"Day\": \"2016-01-08T20:12:00+00:00\"}, {\"Day\": \"2016-01-07T17:04:00+00:00\"}, {\"Day\": \"2016-01-08T16:25:00+00:00\"}, {\"Day\": \"2016-01-05T15:10:00+00:00\"}, {\"Day\": \"2016-01-08T17:52:00+00:00\"}, {\"Day\": \"2016-01-04T09:18:00+00:00\"}, {\"Day\": \"2016-01-07T17:39:00+00:00\"}, {\"Day\": \"2016-01-01T17:01:00+00:00\"}, {\"Day\": \"2016-01-06T13:35:00+00:00\"}, {\"Day\": \"2016-01-08T18:58:00+00:00\"}, {\"Day\": \"2016-01-08T17:23:00+00:00\"}, {\"Day\": \"2016-01-05T17:16:00+00:00\"}, {\"Day\": \"2016-01-06T14:46:00+00:00\"}, {\"Day\": \"2016-01-07T11:56:00+00:00\"}, {\"Day\": \"2016-01-07T19:51:00+00:00\"}, {\"Day\": \"2016-01-08T13:51:00+00:00\"}, {\"Day\": \"2016-01-04T12:08:00+00:00\"}, {\"Day\": \"2016-01-07T12:21:00+00:00\"}, {\"Day\": \"2016-01-07T11:23:00+00:00\"}, {\"Day\": \"2016-01-08T09:16:00+00:00\"}, {\"Day\": \"2016-01-07T10:40:00+00:00\"}, {\"Day\": \"2016-01-08T10:21:00+00:00\"}, {\"Day\": \"2016-01-05T18:20:00+00:00\"}, {\"Day\": \"2016-01-07T10:19:00+00:00\"}, {\"Day\": \"2016-01-06T17:11:00+00:00\"}, {\"Day\": \"2016-01-04T10:48:00+00:00\"}, {\"Day\": \"2016-01-06T16:12:00+00:00\"}, {\"Day\": \"2016-01-07T09:03:00+00:00\"}, {\"Day\": \"2016-01-04T19:41:00+00:00\"}, {\"Day\": \"2016-01-05T10:01:00+00:00\"}, {\"Day\": \"2016-01-08T08:53:00+00:00\"}, {\"Day\": \"2016-01-04T08:42:00+00:00\"}, {\"Day\": \"2016-01-05T09:03:00+00:00\"}, {\"Day\": \"2016-01-07T18:58:00+00:00\"}, {\"Day\": \"2016-01-06T08:57:00+00:00\"}, {\"Day\": \"2016-01-06T11:36:00+00:00\"}, {\"Day\": \"2016-01-07T12:07:00+00:00\"}, {\"Day\": \"2016-01-07T16:20:00+00:00\"}, {\"Day\": \"2016-01-02T07:34:00+00:00\"}, {\"Day\": \"2016-01-08T14:30:00+00:00\"}, {\"Day\": \"2016-01-06T18:17:00+00:00\"}, {\"Day\": \"2016-01-07T17:47:00+00:00\"}, {\"Day\": \"2016-01-07T17:00:00+00:00\"}, {\"Day\": \"2016-01-04T10:52:00+00:00\"}, {\"Day\": \"2016-01-04T10:52:00+00:00\"}, {\"Day\": \"2016-01-04T10:51:00+00:00\"}, {\"Day\": \"2016-01-04T10:55:00+00:00\"}, {\"Day\": \"2016-01-05T12:09:00+00:00\"}, {\"Day\": \"2016-01-05T17:01:00+00:00\"}, {\"Day\": \"2016-01-08T11:17:00+00:00\"}, {\"Day\": \"2016-01-04T09:30:00+00:00\"}, {\"Day\": \"2016-01-08T09:37:00+00:00\"}, {\"Day\": \"2016-01-05T09:36:00+00:00\"}, {\"Day\": \"2016-01-04T18:21:00+00:00\"}, {\"Day\": \"2016-01-07T09:05:00+00:00\"}, {\"Day\": \"2016-01-05T08:57:00+00:00\"}, {\"Day\": \"2016-01-08T13:59:00+00:00\"}, {\"Day\": \"2016-01-04T09:10:00+00:00\"}, {\"Day\": \"2016-01-06T08:59:00+00:00\"}, {\"Day\": \"2016-01-08T08:52:00+00:00\"}, {\"Day\": \"2016-01-07T08:32:00+00:00\"}, {\"Day\": \"2016-01-06T09:27:00+00:00\"}, {\"Day\": \"2016-01-08T09:00:00+00:00\"}, {\"Day\": \"2016-01-04T22:32:00+00:00\"}, {\"Day\": \"2016-01-09T16:32:00+00:00\"}, {\"Day\": \"2016-01-06T19:11:00+00:00\"}, {\"Day\": \"2016-01-07T12:11:00+00:00\"}, {\"Day\": \"2016-01-07T12:11:00+00:00\"}, {\"Day\": \"2016-01-04T15:40:00+00:00\"}, {\"Day\": \"2016-01-04T17:46:00+00:00\"}, {\"Day\": \"2016-01-05T17:34:00+00:00\"}, {\"Day\": \"2016-01-05T16:10:00+00:00\"}, {\"Day\": \"2016-01-08T16:49:00+00:00\"}, {\"Day\": \"2016-01-05T15:41:00+00:00\"}, {\"Day\": \"2016-01-08T17:15:00+00:00\"}, {\"Day\": \"2016-01-07T17:02:00+00:00\"}, {\"Day\": \"2016-01-07T15:43:00+00:00\"}, {\"Day\": \"2016-01-08T17:39:00+00:00\"}, {\"Day\": \"2016-01-06T16:16:00+00:00\"}, {\"Day\": \"2016-01-01T20:50:00+00:00\"}, {\"Day\": \"2016-01-06T16:56:00+00:00\"}, {\"Day\": \"2016-01-08T16:20:00+00:00\"}, {\"Day\": \"2016-01-05T21:49:00+00:00\"}, {\"Day\": \"2016-01-07T17:53:00+00:00\"}, {\"Day\": \"2016-01-08T16:46:00+00:00\"}, {\"Day\": \"2016-01-09T11:41:00+00:00\"}, {\"Day\": \"2016-01-08T16:08:00+00:00\"}, {\"Day\": \"2016-01-06T16:13:00+00:00\"}, {\"Day\": \"2016-01-07T16:12:00+00:00\"}, {\"Day\": \"2016-01-06T17:39:00+00:00\"}, {\"Day\": \"2016-01-05T18:03:00+00:00\"}, {\"Day\": \"2016-01-07T17:04:00+00:00\"}, {\"Day\": \"2016-01-05T16:27:00+00:00\"}, {\"Day\": \"2016-01-04T16:14:00+00:00\"}, {\"Day\": \"2016-01-05T16:14:00+00:00\"}, {\"Day\": \"2016-01-06T15:49:00+00:00\"}, {\"Day\": \"2016-01-05T16:14:00+00:00\"}, {\"Day\": \"2016-01-07T17:15:00+00:00\"}, {\"Day\": \"2016-01-08T17:57:00+00:00\"}, {\"Day\": \"2016-01-05T16:35:00+00:00\"}, {\"Day\": \"2016-01-07T10:28:00+00:00\"}, {\"Day\": \"2016-01-05T19:50:00+00:00\"}, {\"Day\": \"2016-01-05T17:04:00+00:00\"}, {\"Day\": \"2016-01-08T17:58:00+00:00\"}, {\"Day\": \"2016-01-07T14:58:00+00:00\"}, {\"Day\": \"2016-01-04T19:19:00+00:00\"}, {\"Day\": \"2016-01-07T16:26:00+00:00\"}, {\"Day\": \"2016-01-07T18:32:00+00:00\"}, {\"Day\": \"2016-01-08T17:14:00+00:00\"}, {\"Day\": \"2016-01-07T12:02:00+00:00\"}, {\"Day\": \"2016-01-06T18:05:00+00:00\"}, {\"Day\": \"2016-01-07T13:52:00+00:00\"}, {\"Day\": \"2016-01-02T10:19:00+00:00\"}, {\"Day\": \"2016-01-08T15:08:00+00:00\"}, {\"Day\": \"2016-01-04T03:42:00+00:00\"}, {\"Day\": \"2016-01-08T03:53:00+00:00\"}, {\"Day\": \"2016-01-05T03:38:00+00:00\"}, {\"Day\": \"2016-01-07T03:38:00+00:00\"}, {\"Day\": \"2016-01-09T05:57:00+00:00\"}, {\"Day\": \"2016-01-08T09:32:00+00:00\"}, {\"Day\": \"2016-01-05T09:34:00+00:00\"}, {\"Day\": \"2016-01-07T09:41:00+00:00\"}, {\"Day\": \"2016-01-06T19:10:00+00:00\"}, {\"Day\": \"2016-01-08T11:02:00+00:00\"}, {\"Day\": \"2016-01-07T09:29:00+00:00\"}, {\"Day\": \"2016-01-04T09:14:00+00:00\"}, {\"Day\": \"2016-01-05T16:41:00+00:00\"}, {\"Day\": \"2016-01-08T09:25:00+00:00\"}, {\"Day\": \"2016-01-05T09:41:00+00:00\"}, {\"Day\": \"2016-01-05T09:46:00+00:00\"}, {\"Day\": \"2016-01-09T19:48:00+00:00\"}, {\"Day\": \"2016-01-08T17:02:00+00:00\"}, {\"Day\": \"2016-01-07T05:22:00+00:00\"}, {\"Day\": \"2016-01-07T18:05:00+00:00\"}, {\"Day\": \"2016-01-05T19:04:00+00:00\"}, {\"Day\": \"2016-01-04T18:11:00+00:00\"}, {\"Day\": \"2016-01-06T15:57:00+00:00\"}, {\"Day\": \"2016-01-07T19:04:00+00:00\"}, {\"Day\": \"2016-01-07T17:53:00+00:00\"}, {\"Day\": \"2016-01-01T11:50:00+00:00\"}, {\"Day\": \"2016-01-07T11:01:00+00:00\"}, {\"Day\": \"2016-01-04T19:11:00+00:00\"}, {\"Day\": \"2016-01-03T13:42:00+00:00\"}, {\"Day\": \"2016-01-02T13:05:00+00:00\"}, {\"Day\": \"2016-01-02T13:05:00+00:00\"}, {\"Day\": \"2016-01-08T22:40:00+00:00\"}, {\"Day\": \"2016-01-04T14:03:00+00:00\"}, {\"Day\": \"2016-01-06T13:45:00+00:00\"}, {\"Day\": \"2016-01-03T08:07:00+00:00\"}, {\"Day\": \"2016-01-02T08:44:00+00:00\"}, {\"Day\": \"2016-01-04T16:34:00+00:00\"}, {\"Day\": \"2016-01-08T16:46:00+00:00\"}, {\"Day\": \"2016-01-07T08:31:00+00:00\"}, {\"Day\": \"2016-01-08T18:19:00+00:00\"}, {\"Day\": \"2016-01-09T14:22:00+00:00\"}, {\"Day\": \"2016-01-05T17:31:00+00:00\"}, {\"Day\": \"2016-01-07T16:41:00+00:00\"}, {\"Day\": \"2016-01-06T17:00:00+00:00\"}, {\"Day\": \"2016-01-05T18:06:00+00:00\"}, {\"Day\": \"2016-01-05T18:18:00+00:00\"}, {\"Day\": \"2016-01-07T18:16:00+00:00\"}, {\"Day\": \"2016-01-07T18:41:00+00:00\"}, {\"Day\": \"2016-01-08T17:11:00+00:00\"}, {\"Day\": \"2016-01-05T08:35:00+00:00\"}, {\"Day\": \"2016-01-08T17:01:00+00:00\"}, {\"Day\": \"2016-01-07T17:45:00+00:00\"}, {\"Day\": \"2016-01-04T18:20:00+00:00\"}, {\"Day\": \"2016-01-05T17:42:00+00:00\"}, {\"Day\": \"2016-01-06T15:56:00+00:00\"}, {\"Day\": \"2016-01-08T16:41:00+00:00\"}, {\"Day\": \"2016-01-05T18:36:00+00:00\"}, {\"Day\": \"2016-01-05T21:24:00+00:00\"}, {\"Day\": \"2016-01-07T17:04:00+00:00\"}, {\"Day\": \"2016-01-07T16:07:00+00:00\"}, {\"Day\": \"2016-01-05T15:58:00+00:00\"}, {\"Day\": \"2016-01-08T17:42:00+00:00\"}, {\"Day\": \"2016-01-06T19:18:00+00:00\"}, {\"Day\": \"2016-01-06T19:10:00+00:00\"}, {\"Day\": \"2016-01-08T17:24:00+00:00\"}, {\"Day\": \"2016-01-04T17:42:00+00:00\"}, {\"Day\": \"2016-01-04T17:05:00+00:00\"}, {\"Day\": \"2016-01-08T06:31:00+00:00\"}, {\"Day\": \"2016-01-03T15:03:00+00:00\"}, {\"Day\": \"2016-01-06T18:04:00+00:00\"}, {\"Day\": \"2016-01-04T17:15:00+00:00\"}, {\"Day\": \"2016-01-07T16:07:00+00:00\"}, {\"Day\": \"2016-01-08T15:54:00+00:00\"}, {\"Day\": \"2016-01-04T17:20:00+00:00\"}, {\"Day\": \"2016-01-05T17:15:00+00:00\"}, {\"Day\": \"2016-01-08T13:51:00+00:00\"}, {\"Day\": \"2016-01-06T17:31:00+00:00\"}, {\"Day\": \"2016-01-07T17:26:00+00:00\"}, {\"Day\": \"2016-01-02T12:00:00+00:00\"}, {\"Day\": \"2016-01-03T09:10:00+00:00\"}, {\"Day\": \"2016-01-07T09:00:00+00:00\"}, {\"Day\": \"2016-01-09T20:07:00+00:00\"}, {\"Day\": \"2016-01-09T20:07:00+00:00\"}, {\"Day\": \"2016-01-02T14:38:00+00:00\"}, {\"Day\": \"2016-01-09T20:02:00+00:00\"}, {\"Day\": \"2016-01-06T07:34:00+00:00\"}, {\"Day\": \"2016-01-07T12:22:00+00:00\"}, {\"Day\": \"2016-01-07T08:54:00+00:00\"}, {\"Day\": \"2016-01-08T07:36:00+00:00\"}, {\"Day\": \"2016-01-07T08:03:00+00:00\"}, {\"Day\": \"2016-01-07T08:10:00+00:00\"}, {\"Day\": \"2016-01-06T23:26:00+00:00\"}, {\"Day\": \"2016-01-07T12:51:00+00:00\"}, {\"Day\": \"2016-01-06T08:33:00+00:00\"}, {\"Day\": \"2016-01-07T08:08:00+00:00\"}, {\"Day\": \"2016-01-04T08:09:00+00:00\"}, {\"Day\": \"2016-01-05T08:02:00+00:00\"}, {\"Day\": \"2016-01-04T16:32:00+00:00\"}, {\"Day\": \"2016-01-04T10:19:00+00:00\"}, {\"Day\": \"2016-01-08T05:38:00+00:00\"}, {\"Day\": \"2016-01-05T09:09:00+00:00\"}, {\"Day\": \"2016-01-03T09:58:00+00:00\"}, {\"Day\": \"2016-01-04T08:29:00+00:00\"}, {\"Day\": \"2016-01-08T10:12:00+00:00\"}, {\"Day\": \"2016-01-07T08:43:00+00:00\"}, {\"Day\": \"2016-01-02T09:40:00+00:00\"}, {\"Day\": \"2016-01-07T11:16:00+00:00\"}, {\"Day\": \"2016-01-08T14:03:00+00:00\"}, {\"Day\": \"2016-01-04T09:12:00+00:00\"}, {\"Day\": \"2016-01-08T17:39:00+00:00\"}, {\"Day\": \"2016-01-07T09:37:00+00:00\"}, {\"Day\": \"2016-01-08T09:20:00+00:00\"}, {\"Day\": \"2016-01-02T11:38:00+00:00\"}, {\"Day\": \"2016-01-07T19:01:00+00:00\"}, {\"Day\": \"2016-01-07T09:10:00+00:00\"}, {\"Day\": \"2016-01-06T08:54:00+00:00\"}, {\"Day\": \"2016-01-08T08:50:00+00:00\"}, {\"Day\": \"2016-01-07T08:53:00+00:00\"}, {\"Day\": \"2016-01-04T08:29:00+00:00\"}, {\"Day\": \"2016-01-08T14:03:00+00:00\"}, {\"Day\": \"2016-01-02T14:01:00+00:00\"}, {\"Day\": \"2016-01-04T17:23:00+00:00\"}, {\"Day\": \"2016-01-06T17:48:00+00:00\"}, {\"Day\": \"2016-01-07T19:56:00+00:00\"}, {\"Day\": \"2016-01-06T17:43:00+00:00\"}, {\"Day\": \"2016-01-06T22:10:00+00:00\"}, {\"Day\": \"2016-01-01T22:27:00+00:00\"}, {\"Day\": \"2016-01-06T09:19:00+00:00\"}, {\"Day\": \"2016-01-04T12:15:00+00:00\"}, {\"Day\": \"2016-01-04T16:31:00+00:00\"}, {\"Day\": \"2016-01-06T17:13:00+00:00\"}, {\"Day\": \"2016-01-04T08:45:00+00:00\"}, {\"Day\": \"2016-01-08T17:15:00+00:00\"}, {\"Day\": \"2016-01-07T17:14:00+00:00\"}, {\"Day\": \"2016-01-04T17:15:00+00:00\"}, {\"Day\": \"2016-01-05T17:13:00+00:00\"}, {\"Day\": \"2016-01-07T10:22:00+00:00\"}, {\"Day\": \"2016-01-07T17:40:00+00:00\"}, {\"Day\": \"2016-01-05T17:29:00+00:00\"}, {\"Day\": \"2016-01-04T09:13:00+00:00\"}, {\"Day\": \"2016-01-07T09:17:00+00:00\"}, {\"Day\": \"2016-01-07T09:40:00+00:00\"}, {\"Day\": \"2016-01-08T08:50:00+00:00\"}, {\"Day\": \"2016-01-04T09:11:00+00:00\"}, {\"Day\": \"2016-01-05T21:45:00+00:00\"}, {\"Day\": \"2016-01-09T17:54:00+00:00\"}, {\"Day\": \"2016-01-06T18:09:00+00:00\"}, {\"Day\": \"2016-01-09T11:01:00+00:00\"}, {\"Day\": \"2016-01-09T11:01:00+00:00\"}, {\"Day\": \"2016-01-02T14:09:00+00:00\"}, {\"Day\": \"2016-01-03T12:53:00+00:00\"}, {\"Day\": \"2016-01-06T19:17:00+00:00\"}, {\"Day\": \"2016-01-03T12:53:00+00:00\"}, {\"Day\": \"2016-01-06T19:19:00+00:00\"}, {\"Day\": \"2016-01-09T10:14:00+00:00\"}, {\"Day\": \"2016-01-03T16:54:00+00:00\"}, {\"Day\": \"2016-01-05T05:34:00+00:00\"}, {\"Day\": \"2016-01-03T10:23:00+00:00\"}, {\"Day\": \"2016-01-02T15:30:00+00:00\"}, {\"Day\": \"2016-01-03T17:21:00+00:00\"}, {\"Day\": \"2016-01-08T06:29:00+00:00\"}, {\"Day\": \"2016-01-07T19:10:00+00:00\"}, {\"Day\": \"2016-01-02T15:30:00+00:00\"}, {\"Day\": \"2016-01-07T06:21:00+00:00\"}, {\"Day\": \"2016-01-04T07:22:00+00:00\"}, {\"Day\": \"2016-01-07T07:21:00+00:00\"}, {\"Day\": \"2016-01-07T19:21:00+00:00\"}, {\"Day\": \"2016-01-04T14:01:00+00:00\"}, {\"Day\": \"2016-01-07T08:07:00+00:00\"}, {\"Day\": \"2016-01-04T07:52:00+00:00\"}, {\"Day\": \"2016-01-04T09:32:00+00:00\"}, {\"Day\": \"2016-01-08T08:12:00+00:00\"}, {\"Day\": \"2016-01-05T16:49:00+00:00\"}, {\"Day\": \"2016-01-07T09:04:00+00:00\"}, {\"Day\": \"2016-01-07T09:23:00+00:00\"}, {\"Day\": \"2016-01-08T09:24:00+00:00\"}, {\"Day\": \"2016-01-05T09:19:00+00:00\"}, {\"Day\": \"2016-01-09T17:38:00+00:00\"}, {\"Day\": \"2016-01-03T16:14:00+00:00\"}, {\"Day\": \"2016-01-08T09:15:00+00:00\"}, {\"Day\": \"2016-01-03T16:37:00+00:00\"}, {\"Day\": \"2016-01-03T11:53:00+00:00\"}, {\"Day\": \"2016-01-07T09:33:00+00:00\"}, {\"Day\": \"2016-01-07T22:39:00+00:00\"}, {\"Day\": \"2016-01-07T18:06:00+00:00\"}, {\"Day\": \"2016-01-07T10:03:00+00:00\"}, {\"Day\": \"2016-01-07T15:18:00+00:00\"}, {\"Day\": \"2016-01-04T17:39:00+00:00\"}, {\"Day\": \"2016-01-05T08:49:00+00:00\"}, {\"Day\": \"2016-01-06T17:37:00+00:00\"}, {\"Day\": \"2016-01-04T16:52:00+00:00\"}, {\"Day\": \"2016-01-08T17:11:00+00:00\"}, {\"Day\": \"2016-01-06T17:19:00+00:00\"}, {\"Day\": \"2016-01-07T15:27:00+00:00\"}, {\"Day\": \"2016-01-04T16:49:00+00:00\"}, {\"Day\": \"2016-01-09T17:00:00+00:00\"}, {\"Day\": \"2016-01-08T08:12:00+00:00\"}, {\"Day\": \"2016-01-04T16:20:00+00:00\"}, {\"Day\": \"2016-01-04T17:11:00+00:00\"}, {\"Day\": \"2016-01-05T14:53:00+00:00\"}, {\"Day\": \"2016-01-06T15:35:00+00:00\"}, {\"Day\": \"2016-01-05T16:41:00+00:00\"}, {\"Day\": \"2016-01-04T16:41:00+00:00\"}, {\"Day\": \"2016-01-08T12:55:00+00:00\"}, {\"Day\": \"2016-01-08T16:07:00+00:00\"}, {\"Day\": \"2016-01-09T09:43:00+00:00\"}, {\"Day\": \"2016-01-05T17:28:00+00:00\"}, {\"Day\": \"2016-01-06T16:06:00+00:00\"}, {\"Day\": \"2016-01-04T17:25:00+00:00\"}, {\"Day\": \"2016-01-06T15:45:00+00:00\"}, {\"Day\": \"2016-01-08T16:37:00+00:00\"}, {\"Day\": \"2016-01-08T17:06:00+00:00\"}, {\"Day\": \"2016-01-08T17:50:00+00:00\"}, {\"Day\": \"2016-01-07T17:46:00+00:00\"}, {\"Day\": \"2016-01-07T16:17:00+00:00\"}, {\"Day\": \"2016-01-07T15:27:00+00:00\"}, {\"Day\": \"2016-01-07T17:26:00+00:00\"}, {\"Day\": \"2016-01-05T17:19:00+00:00\"}, {\"Day\": \"2016-01-04T07:36:00+00:00\"}, {\"Day\": \"2016-01-05T16:59:00+00:00\"}, {\"Day\": \"2016-01-07T16:36:00+00:00\"}, {\"Day\": \"2016-01-07T16:49:00+00:00\"}, {\"Day\": \"2016-01-07T17:13:00+00:00\"}, {\"Day\": \"2016-01-08T17:17:00+00:00\"}, {\"Day\": \"2016-01-07T15:39:00+00:00\"}, {\"Day\": \"2016-01-07T08:22:00+00:00\"}, {\"Day\": \"2016-01-08T09:06:00+00:00\"}, {\"Day\": \"2016-01-07T08:53:00+00:00\"}, {\"Day\": \"2016-01-01T14:03:00+00:00\"}, {\"Day\": \"2016-01-02T13:08:00+00:00\"}, {\"Day\": \"2016-01-03T13:27:00+00:00\"}, {\"Day\": \"2016-01-04T11:24:00+00:00\"}, {\"Day\": \"2016-01-07T17:24:00+00:00\"}, {\"Day\": \"2016-01-06T18:20:00+00:00\"}, {\"Day\": \"2016-01-04T11:25:00+00:00\"}, {\"Day\": \"2016-01-04T11:25:00+00:00\"}, {\"Day\": \"2016-01-07T17:53:00+00:00\"}, {\"Day\": \"2016-01-06T17:15:00+00:00\"}, {\"Day\": \"2016-01-03T12:13:00+00:00\"}, {\"Day\": \"2016-01-04T22:16:00+00:00\"}, {\"Day\": \"2016-01-05T22:39:00+00:00\"}, {\"Day\": \"2016-01-08T16:48:00+00:00\"}, {\"Day\": \"2016-01-04T11:23:00+00:00\"}, {\"Day\": \"2016-01-02T12:47:00+00:00\"}, {\"Day\": \"2016-01-08T14:37:00+00:00\"}, {\"Day\": \"2016-01-03T16:34:00+00:00\"}, {\"Day\": \"2016-01-03T11:48:00+00:00\"}, {\"Day\": \"2016-01-03T11:50:00+00:00\"}, {\"Day\": \"2016-01-03T09:01:00+00:00\"}, {\"Day\": \"2016-01-03T12:03:00+00:00\"}, {\"Day\": \"2016-01-03T12:03:00+00:00\"}, {\"Day\": \"2016-01-04T11:09:00+00:00\"}, {\"Day\": \"2016-01-07T15:33:00+00:00\"}, {\"Day\": \"2016-01-08T14:27:00+00:00\"}, {\"Day\": \"2016-01-03T09:01:00+00:00\"}, {\"Day\": \"2016-01-01T17:24:00+00:00\"}, {\"Day\": \"2016-01-04T13:52:00+00:00\"}, {\"Day\": \"2016-01-04T13:54:00+00:00\"}, {\"Day\": \"2016-01-06T16:18:00+00:00\"}, {\"Day\": \"2016-01-07T13:44:00+00:00\"}, {\"Day\": \"2016-01-04T18:14:00+00:00\"}, {\"Day\": \"2016-01-05T18:09:00+00:00\"}, {\"Day\": \"2016-01-07T12:50:00+00:00\"}, {\"Day\": \"2016-01-02T12:03:00+00:00\"}, {\"Day\": \"2016-01-05T09:31:00+00:00\"}, {\"Day\": \"2016-01-04T15:10:00+00:00\"}, {\"Day\": \"2016-01-04T14:06:00+00:00\"}, {\"Day\": \"2016-01-08T18:50:00+00:00\"}, {\"Day\": \"2016-01-06T15:44:00+00:00\"}, {\"Day\": \"2016-01-08T18:52:00+00:00\"}, {\"Day\": \"2016-01-08T18:51:00+00:00\"}, {\"Day\": \"2016-01-06T17:06:00+00:00\"}, {\"Day\": \"2016-01-07T18:29:00+00:00\"}, {\"Day\": \"2016-01-08T13:42:00+00:00\"}, {\"Day\": \"2016-01-04T17:33:00+00:00\"}, {\"Day\": \"2016-01-07T12:29:00+00:00\"}, {\"Day\": \"2016-01-08T18:43:00+00:00\"}, {\"Day\": \"2016-01-04T17:18:00+00:00\"}, {\"Day\": \"2016-01-07T12:29:00+00:00\"}, {\"Day\": \"2016-01-08T18:27:00+00:00\"}, {\"Day\": \"2016-01-09T07:53:00+00:00\"}, {\"Day\": \"2016-01-04T09:17:00+00:00\"}, {\"Day\": \"2016-01-06T18:50:00+00:00\"}, {\"Day\": \"2016-01-05T16:44:00+00:00\"}, {\"Day\": \"2016-01-06T16:35:00+00:00\"}, {\"Day\": \"2016-01-06T10:32:00+00:00\"}, {\"Day\": \"2016-01-07T16:06:00+00:00\"}, {\"Day\": \"2016-01-07T17:13:00+00:00\"}, {\"Day\": \"2016-01-02T11:38:00+00:00\"}, {\"Day\": \"2016-01-07T17:34:00+00:00\"}, {\"Day\": \"2016-01-02T20:04:00+00:00\"}, {\"Day\": \"2016-01-03T16:31:00+00:00\"}, {\"Day\": \"2016-01-03T10:20:00+00:00\"}, {\"Day\": \"2016-01-06T17:08:00+00:00\"}, {\"Day\": \"2016-01-08T15:41:00+00:00\"}, {\"Day\": \"2016-01-01T14:12:00+00:00\"}, {\"Day\": \"2016-01-07T18:03:00+00:00\"}, {\"Day\": \"2016-01-02T11:38:00+00:00\"}, {\"Day\": \"2016-01-03T10:20:00+00:00\"}, {\"Day\": \"2016-01-06T17:52:00+00:00\"}, {\"Day\": \"2016-01-05T17:06:00+00:00\"}, {\"Day\": \"2016-01-05T17:09:00+00:00\"}, {\"Day\": \"2016-01-06T17:31:00+00:00\"}, {\"Day\": \"2016-01-07T16:52:00+00:00\"}, {\"Day\": \"2016-01-04T16:33:00+00:00\"}, {\"Day\": \"2016-01-07T16:29:00+00:00\"}, {\"Day\": \"2016-01-04T17:03:00+00:00\"}, {\"Day\": \"2016-01-06T17:05:00+00:00\"}, {\"Day\": \"2016-01-05T16:23:00+00:00\"}, {\"Day\": \"2016-01-08T17:05:00+00:00\"}, {\"Day\": \"2016-01-04T17:04:00+00:00\"}, {\"Day\": \"2016-01-05T15:06:00+00:00\"}, {\"Day\": \"2016-01-09T12:52:00+00:00\"}, {\"Day\": \"2016-01-07T18:26:00+00:00\"}, {\"Day\": \"2016-01-05T19:06:00+00:00\"}, {\"Day\": \"2016-01-05T17:07:00+00:00\"}, {\"Day\": \"2016-01-04T18:52:00+00:00\"}, {\"Day\": \"2016-01-06T18:56:00+00:00\"}, {\"Day\": \"2016-01-07T17:21:00+00:00\"}, {\"Day\": \"2016-01-07T06:43:00+00:00\"}, {\"Day\": \"2016-01-08T15:42:00+00:00\"}, {\"Day\": \"2016-01-08T06:13:00+00:00\"}, {\"Day\": \"2016-01-07T08:28:00+00:00\"}, {\"Day\": \"2016-01-05T17:01:00+00:00\"}, {\"Day\": \"2016-01-05T19:00:00+00:00\"}, {\"Day\": \"2016-01-07T09:19:00+00:00\"}, {\"Day\": \"2016-01-05T18:10:00+00:00\"}, {\"Day\": \"2016-01-01T19:14:00+00:00\"}, {\"Day\": \"2016-01-03T15:35:00+00:00\"}, {\"Day\": \"2016-01-08T12:02:00+00:00\"}, {\"Day\": \"2016-01-08T11:23:00+00:00\"}, {\"Day\": \"2016-01-07T15:05:00+00:00\"}, {\"Day\": \"2016-01-08T07:30:00+00:00\"}, {\"Day\": \"2016-01-06T09:25:00+00:00\"}, {\"Day\": \"2016-01-08T15:22:00+00:00\"}, {\"Day\": \"2016-01-04T13:02:00+00:00\"}, {\"Day\": \"2016-01-04T09:11:00+00:00\"}, {\"Day\": \"2016-01-08T18:08:00+00:00\"}, {\"Day\": \"2016-01-08T15:54:00+00:00\"}, {\"Day\": \"2016-01-04T13:16:00+00:00\"}, {\"Day\": \"2016-01-01T15:54:00+00:00\"}, {\"Day\": \"2016-01-01T15:55:00+00:00\"}, {\"Day\": \"2016-01-05T20:02:00+00:00\"}, {\"Day\": \"2016-01-06T18:33:00+00:00\"}, {\"Day\": \"2016-01-05T11:01:00+00:00\"}, {\"Day\": \"2016-01-05T17:57:00+00:00\"}, {\"Day\": \"2016-01-08T19:41:00+00:00\"}, {\"Day\": \"2016-01-07T08:38:00+00:00\"}, {\"Day\": \"2016-01-06T10:04:00+00:00\"}, {\"Day\": \"2016-01-05T09:45:00+00:00\"}, {\"Day\": \"2016-01-04T07:38:00+00:00\"}, {\"Day\": \"2016-01-07T16:24:00+00:00\"}, {\"Day\": \"2016-01-04T09:47:00+00:00\"}, {\"Day\": \"2016-01-05T08:50:00+00:00\"}, {\"Day\": \"2016-01-06T10:46:00+00:00\"}, {\"Day\": \"2016-01-04T08:54:00+00:00\"}, {\"Day\": \"2016-01-05T09:25:00+00:00\"}, {\"Day\": \"2016-01-07T09:26:00+00:00\"}, {\"Day\": \"2016-01-06T09:25:00+00:00\"}, {\"Day\": \"2016-01-07T10:43:00+00:00\"}, {\"Day\": \"2016-01-08T10:54:00+00:00\"}, {\"Day\": \"2016-01-06T17:31:00+00:00\"}, {\"Day\": \"2016-01-08T17:46:00+00:00\"}, {\"Day\": \"2016-01-08T08:43:00+00:00\"}, {\"Day\": \"2016-01-06T17:00:00+00:00\"}, {\"Day\": \"2016-01-08T08:12:00+00:00\"}, {\"Day\": \"2016-01-05T18:51:00+00:00\"}, {\"Day\": \"2016-01-07T07:56:00+00:00\"}, {\"Day\": \"2016-01-08T17:58:00+00:00\"}, {\"Day\": \"2016-01-06T17:06:00+00:00\"}, {\"Day\": \"2016-01-05T18:31:00+00:00\"}, {\"Day\": \"2016-01-04T18:29:00+00:00\"}, {\"Day\": \"2016-01-08T15:32:00+00:00\"}, {\"Day\": \"2016-01-08T16:45:00+00:00\"}, {\"Day\": \"2016-01-04T16:39:00+00:00\"}, {\"Day\": \"2016-01-04T16:38:00+00:00\"}, {\"Day\": \"2016-01-07T10:59:00+00:00\"}, {\"Day\": \"2016-01-08T16:52:00+00:00\"}, {\"Day\": \"2016-01-08T09:05:00+00:00\"}, {\"Day\": \"2016-01-06T15:49:00+00:00\"}, {\"Day\": \"2016-01-06T16:01:00+00:00\"}, {\"Day\": \"2016-01-04T16:03:00+00:00\"}, {\"Day\": \"2016-01-07T15:10:00+00:00\"}, {\"Day\": \"2016-01-06T15:20:00+00:00\"}, {\"Day\": \"2016-01-07T18:34:00+00:00\"}, {\"Day\": \"2016-01-05T15:31:00+00:00\"}, {\"Day\": \"2016-01-05T17:39:00+00:00\"}, {\"Day\": \"2016-01-08T08:13:00+00:00\"}, {\"Day\": \"2016-01-07T17:08:00+00:00\"}, {\"Day\": \"2016-01-04T17:12:00+00:00\"}, {\"Day\": \"2016-01-04T16:15:00+00:00\"}, {\"Day\": \"2016-01-06T17:29:00+00:00\"}, {\"Day\": \"2016-01-07T19:04:00+00:00\"}, {\"Day\": \"2016-01-05T16:30:00+00:00\"}, {\"Day\": \"2016-01-06T16:23:00+00:00\"}, {\"Day\": \"2016-01-05T18:00:00+00:00\"}, {\"Day\": \"2016-01-06T17:11:00+00:00\"}, {\"Day\": \"2016-01-08T08:20:00+00:00\"}, {\"Day\": \"2016-01-04T17:20:00+00:00\"}, {\"Day\": \"2016-01-08T17:27:00+00:00\"}, {\"Day\": \"2016-01-07T17:42:00+00:00\"}, {\"Day\": \"2016-01-05T17:05:00+00:00\"}, {\"Day\": \"2016-01-09T16:25:00+00:00\"}, {\"Day\": \"2016-01-09T10:21:00+00:00\"}, {\"Day\": \"2016-01-03T10:31:00+00:00\"}, {\"Day\": \"2016-01-07T12:32:00+00:00\"}, {\"Day\": \"2016-01-04T12:58:00+00:00\"}, {\"Day\": \"2016-01-08T08:15:00+00:00\"}, {\"Day\": \"2016-01-05T08:14:00+00:00\"}, {\"Day\": \"2016-01-07T22:42:00+00:00\"}, {\"Day\": \"2016-01-04T13:22:00+00:00\"}, {\"Day\": \"2016-01-08T18:38:00+00:00\"}, {\"Day\": \"2016-01-08T18:44:00+00:00\"}, {\"Day\": \"2016-01-03T11:03:00+00:00\"}, {\"Day\": \"2016-01-05T19:36:00+00:00\"}, {\"Day\": \"2016-01-04T13:26:00+00:00\"}, {\"Day\": \"2016-01-04T13:25:00+00:00\"}, {\"Day\": \"2016-01-03T16:10:00+00:00\"}, {\"Day\": \"2016-01-08T09:01:00+00:00\"}, {\"Day\": \"2016-01-08T09:38:00+00:00\"}, {\"Day\": \"2016-01-05T07:01:00+00:00\"}, {\"Day\": \"2016-01-07T08:13:00+00:00\"}, {\"Day\": \"2016-01-07T09:11:00+00:00\"}, {\"Day\": \"2016-01-07T22:45:00+00:00\"}, {\"Day\": \"2016-01-04T12:29:00+00:00\"}, {\"Day\": \"2016-01-04T12:27:00+00:00\"}, {\"Day\": \"2016-01-04T12:28:00+00:00\"}, {\"Day\": \"2016-01-04T12:27:00+00:00\"}, {\"Day\": \"2016-01-05T16:48:00+00:00\"}, {\"Day\": \"2016-01-05T17:28:00+00:00\"}, {\"Day\": \"2016-01-07T17:09:00+00:00\"}, {\"Day\": \"2016-01-04T18:37:00+00:00\"}, {\"Day\": \"2016-01-08T17:03:00+00:00\"}, {\"Day\": \"2016-01-06T17:18:00+00:00\"}, {\"Day\": \"2016-01-08T17:31:00+00:00\"}, {\"Day\": \"2016-01-05T18:06:00+00:00\"}, {\"Day\": \"2016-01-05T16:53:00+00:00\"}, {\"Day\": \"2016-01-05T18:11:00+00:00\"}, {\"Day\": \"2016-01-06T09:14:00+00:00\"}, {\"Day\": \"2016-01-07T17:33:00+00:00\"}, {\"Day\": \"2016-01-05T16:57:00+00:00\"}, {\"Day\": \"2016-01-08T10:33:00+00:00\"}, {\"Day\": \"2016-01-08T16:57:00+00:00\"}, {\"Day\": \"2016-01-07T16:08:00+00:00\"}, {\"Day\": \"2016-01-07T16:57:00+00:00\"}, {\"Day\": \"2016-01-06T18:15:00+00:00\"}, {\"Day\": \"2016-01-05T17:11:00+00:00\"}, {\"Day\": \"2016-01-07T11:41:00+00:00\"}, {\"Day\": \"2016-01-07T16:45:00+00:00\"}, {\"Day\": \"2016-01-04T09:41:00+00:00\"}, {\"Day\": \"2016-01-06T17:00:00+00:00\"}, {\"Day\": \"2016-01-04T16:53:00+00:00\"}, {\"Day\": \"2016-01-05T18:08:00+00:00\"}, {\"Day\": \"2016-01-08T15:04:00+00:00\"}, {\"Day\": \"2016-01-04T16:47:00+00:00\"}, {\"Day\": \"2016-01-04T16:34:00+00:00\"}, {\"Day\": \"2016-01-04T18:04:00+00:00\"}, {\"Day\": \"2016-01-08T15:41:00+00:00\"}, {\"Day\": \"2016-01-07T16:12:00+00:00\"}, {\"Day\": \"2016-01-06T16:10:00+00:00\"}, {\"Day\": \"2016-01-04T18:18:00+00:00\"}, {\"Day\": \"2016-01-08T18:45:00+00:00\"}, {\"Day\": \"2016-01-06T16:57:00+00:00\"}, {\"Day\": \"2016-01-04T16:25:00+00:00\"}, {\"Day\": \"2016-01-07T17:40:00+00:00\"}, {\"Day\": \"2016-01-07T16:44:00+00:00\"}, {\"Day\": \"2016-01-05T16:56:00+00:00\"}, {\"Day\": \"2016-01-08T17:32:00+00:00\"}, {\"Day\": \"2016-01-06T17:08:00+00:00\"}, {\"Day\": \"2016-01-07T18:14:00+00:00\"}, {\"Day\": \"2016-01-04T16:09:00+00:00\"}, {\"Day\": \"2016-01-04T17:31:00+00:00\"}, {\"Day\": \"2016-01-07T15:04:00+00:00\"}, {\"Day\": \"2016-01-06T15:34:00+00:00\"}, {\"Day\": \"2016-01-07T09:19:00+00:00\"}, {\"Day\": \"2016-01-08T09:20:00+00:00\"}, {\"Day\": \"2016-01-02T16:33:00+00:00\"}, {\"Day\": \"2016-01-07T12:37:00+00:00\"}, {\"Day\": \"2016-01-05T09:28:00+00:00\"}, {\"Day\": \"2016-01-06T08:11:00+00:00\"}, {\"Day\": \"2016-01-04T11:37:00+00:00\"}, {\"Day\": \"2016-01-06T08:36:00+00:00\"}, {\"Day\": \"2016-01-08T08:39:00+00:00\"}, {\"Day\": \"2016-01-04T06:34:00+00:00\"}, {\"Day\": \"2016-01-05T08:09:00+00:00\"}, {\"Day\": \"2016-01-07T06:36:00+00:00\"}, {\"Day\": \"2016-01-08T18:48:00+00:00\"}, {\"Day\": \"2016-01-07T07:02:00+00:00\"}, {\"Day\": \"2016-01-04T08:47:00+00:00\"}, {\"Day\": \"2016-01-07T08:11:00+00:00\"}, {\"Day\": \"2016-01-08T17:03:00+00:00\"}, {\"Day\": \"2016-01-04T18:28:00+00:00\"}, {\"Day\": \"2016-01-07T17:41:00+00:00\"}, {\"Day\": \"2016-01-06T17:27:00+00:00\"}, {\"Day\": \"2016-01-05T18:10:00+00:00\"}, {\"Day\": \"2016-01-06T19:19:00+00:00\"}, {\"Day\": \"2016-01-07T19:11:00+00:00\"}, {\"Day\": \"2016-01-07T16:56:00+00:00\"}, {\"Day\": \"2016-01-05T18:24:00+00:00\"}, {\"Day\": \"2016-01-04T17:25:00+00:00\"}, {\"Day\": \"2016-01-08T09:08:00+00:00\"}, {\"Day\": \"2016-01-05T17:29:00+00:00\"}, {\"Day\": \"2016-01-08T17:38:00+00:00\"}, {\"Day\": \"2016-01-08T17:25:00+00:00\"}, {\"Day\": \"2016-01-07T17:09:00+00:00\"}, {\"Day\": \"2016-01-09T18:36:00+00:00\"}, {\"Day\": \"2016-01-02T20:49:00+00:00\"}, {\"Day\": \"2016-01-03T13:40:00+00:00\"}, {\"Day\": \"2016-01-07T17:39:00+00:00\"}, {\"Day\": \"2016-01-04T18:32:00+00:00\"}, {\"Day\": \"2016-01-03T13:40:00+00:00\"}, {\"Day\": \"2016-01-05T18:24:00+00:00\"}, {\"Day\": \"2016-01-01T00:21:00+00:00\"}, {\"Day\": \"2016-01-01T00:21:00+00:00\"}, {\"Day\": \"2016-01-06T14:30:00+00:00\"}, {\"Day\": \"2016-01-07T14:42:00+00:00\"}, {\"Day\": \"2016-01-08T16:02:00+00:00\"}, {\"Day\": \"2016-01-07T08:59:00+00:00\"}, {\"Day\": \"2016-01-07T17:37:00+00:00\"}, {\"Day\": \"2016-01-02T11:51:00+00:00\"}, {\"Day\": \"2016-01-01T18:15:00+00:00\"}, {\"Day\": \"2016-01-05T16:35:00+00:00\"}, {\"Day\": \"2016-01-06T14:51:00+00:00\"}, {\"Day\": \"2016-01-04T17:11:00+00:00\"}, {\"Day\": \"2016-01-05T20:32:00+00:00\"}, {\"Day\": \"2016-01-04T20:59:00+00:00\"}, {\"Day\": \"2016-01-08T13:03:00+00:00\"}, {\"Day\": \"2016-01-06T20:40:00+00:00\"}, {\"Day\": \"2016-01-07T18:56:00+00:00\"}, {\"Day\": \"2016-01-04T13:20:00+00:00\"}, {\"Day\": \"2016-01-07T20:48:00+00:00\"}, {\"Day\": \"2016-01-07T17:40:00+00:00\"}, {\"Day\": \"2016-01-08T17:26:00+00:00\"}, {\"Day\": \"2016-01-01T13:29:00+00:00\"}, {\"Day\": \"2016-01-08T16:56:00+00:00\"}, {\"Day\": \"2016-01-08T11:56:00+00:00\"}, {\"Day\": \"2016-01-04T16:44:00+00:00\"}, {\"Day\": \"2016-01-06T15:06:00+00:00\"}, {\"Day\": \"2016-01-05T11:26:00+00:00\"}, {\"Day\": \"2016-01-05T22:29:00+00:00\"}, {\"Day\": \"2016-01-08T16:44:00+00:00\"}, {\"Day\": \"2016-01-04T18:55:00+00:00\"}, {\"Day\": \"2016-01-07T17:30:00+00:00\"}, {\"Day\": \"2016-01-06T17:21:00+00:00\"}, {\"Day\": \"2016-01-04T17:16:00+00:00\"}, {\"Day\": \"2016-01-07T18:46:00+00:00\"}, {\"Day\": \"2016-01-06T17:29:00+00:00\"}, {\"Day\": \"2016-01-06T22:17:00+00:00\"}, {\"Day\": \"2016-01-07T17:58:00+00:00\"}, {\"Day\": \"2016-01-08T19:06:00+00:00\"}, {\"Day\": \"2016-01-05T18:46:00+00:00\"}, {\"Day\": \"2016-01-04T18:34:00+00:00\"}, {\"Day\": \"2016-01-08T18:34:00+00:00\"}, {\"Day\": \"2016-01-07T17:07:00+00:00\"}, {\"Day\": \"2016-01-05T17:40:00+00:00\"}, {\"Day\": \"2016-01-08T17:20:00+00:00\"}, {\"Day\": \"2016-01-04T09:31:00+00:00\"}, {\"Day\": \"2016-01-07T14:27:00+00:00\"}, {\"Day\": \"2016-01-08T18:01:00+00:00\"}, {\"Day\": \"2016-01-06T17:43:00+00:00\"}, {\"Day\": \"2016-01-07T09:20:00+00:00\"}, {\"Day\": \"2016-01-08T05:07:00+00:00\"}, {\"Day\": \"2016-01-08T21:22:00+00:00\"}, {\"Day\": \"2016-01-05T17:10:00+00:00\"}, {\"Day\": \"2016-01-06T17:48:00+00:00\"}, {\"Day\": \"2016-01-04T17:29:00+00:00\"}, {\"Day\": \"2016-01-05T19:01:00+00:00\"}, {\"Day\": \"2016-01-08T10:44:00+00:00\"}, {\"Day\": \"2016-01-07T09:48:00+00:00\"}, {\"Day\": \"2016-01-08T09:17:00+00:00\"}, {\"Day\": \"2016-01-04T20:25:00+00:00\"}, {\"Day\": \"2016-01-05T22:12:00+00:00\"}, {\"Day\": \"2016-01-03T22:47:00+00:00\"}, {\"Day\": \"2016-01-06T22:31:00+00:00\"}, {\"Day\": \"2016-01-07T17:08:00+00:00\"}, {\"Day\": \"2016-01-04T16:35:00+00:00\"}, {\"Day\": \"2016-01-06T17:58:00+00:00\"}, {\"Day\": \"2016-01-08T17:44:00+00:00\"}, {\"Day\": \"2016-01-07T18:15:00+00:00\"}, {\"Day\": \"2016-01-04T14:27:00+00:00\"}, {\"Day\": \"2016-01-05T17:44:00+00:00\"}, {\"Day\": \"2016-01-07T17:35:00+00:00\"}, {\"Day\": \"2016-01-06T17:09:00+00:00\"}, {\"Day\": \"2016-01-08T16:31:00+00:00\"}, {\"Day\": \"2016-01-05T17:05:00+00:00\"}, {\"Day\": \"2016-01-06T17:04:00+00:00\"}, {\"Day\": \"2016-01-06T17:49:00+00:00\"}, {\"Day\": \"2016-01-04T17:04:00+00:00\"}, {\"Day\": \"2016-01-08T16:31:00+00:00\"}, {\"Day\": \"2016-01-04T16:15:00+00:00\"}, {\"Day\": \"2016-01-07T17:04:00+00:00\"}, {\"Day\": \"2016-01-05T17:04:00+00:00\"}, {\"Day\": \"2016-01-08T17:10:00+00:00\"}, {\"Day\": \"2016-01-05T09:25:00+00:00\"}, {\"Day\": \"2016-01-04T17:08:00+00:00\"}, {\"Day\": \"2016-01-05T17:09:00+00:00\"}, {\"Day\": \"2016-01-08T17:45:00+00:00\"}, {\"Day\": \"2016-01-08T17:59:00+00:00\"}, {\"Day\": \"2016-01-07T12:40:00+00:00\"}, {\"Day\": \"2016-01-05T20:27:00+00:00\"}, {\"Day\": \"2016-01-07T18:11:00+00:00\"}, {\"Day\": \"2016-01-06T10:49:00+00:00\"}, {\"Day\": \"2016-01-07T08:26:00+00:00\"}, {\"Day\": \"2016-01-04T18:03:00+00:00\"}, {\"Day\": \"2016-01-04T17:57:00+00:00\"}, {\"Day\": \"2016-01-04T16:39:00+00:00\"}, {\"Day\": \"2016-01-06T18:30:00+00:00\"}, {\"Day\": \"2016-01-08T16:54:00+00:00\"}, {\"Day\": \"2016-01-05T08:12:00+00:00\"}, {\"Day\": \"2016-01-05T17:06:00+00:00\"}, {\"Day\": \"2016-01-07T17:07:00+00:00\"}, {\"Day\": \"2016-01-05T09:32:00+00:00\"}, {\"Day\": \"2016-01-05T17:40:00+00:00\"}, {\"Day\": \"2016-01-04T08:49:00+00:00\"}, {\"Day\": \"2016-01-06T17:35:00+00:00\"}, {\"Day\": \"2016-01-07T17:30:00+00:00\"}, {\"Day\": \"2016-01-08T17:01:00+00:00\"}, {\"Day\": \"2016-01-05T16:39:00+00:00\"}, {\"Day\": \"2016-01-05T17:35:00+00:00\"}, {\"Day\": \"2016-01-04T16:28:00+00:00\"}, {\"Day\": \"2016-01-07T17:26:00+00:00\"}, {\"Day\": \"2016-01-05T17:36:00+00:00\"}, {\"Day\": \"2016-01-08T09:37:00+00:00\"}, {\"Day\": \"2016-01-07T17:45:00+00:00\"}, {\"Day\": \"2016-01-05T09:10:00+00:00\"}, {\"Day\": \"2016-01-04T09:14:00+00:00\"}, {\"Day\": \"2016-01-05T13:24:00+00:00\"}, {\"Day\": \"2016-01-08T17:47:00+00:00\"}, {\"Day\": \"2016-01-08T18:30:00+00:00\"}, {\"Day\": \"2016-01-07T18:13:00+00:00\"}, {\"Day\": \"2016-01-06T18:54:00+00:00\"}, {\"Day\": \"2016-01-01T21:23:00+00:00\"}, {\"Day\": \"2016-01-02T06:42:00+00:00\"}, {\"Day\": \"2016-01-04T09:26:00+00:00\"}, {\"Day\": \"2016-01-09T14:03:00+00:00\"}, {\"Day\": \"2016-01-04T08:53:00+00:00\"}, {\"Day\": \"2016-01-07T07:57:00+00:00\"}, {\"Day\": \"2016-01-08T08:27:00+00:00\"}, {\"Day\": \"2016-01-05T07:25:00+00:00\"}, {\"Day\": \"2016-01-02T21:17:00+00:00\"}, {\"Day\": \"2016-01-08T12:59:00+00:00\"}, {\"Day\": \"2016-01-04T09:39:00+00:00\"}, {\"Day\": \"2016-01-04T13:25:00+00:00\"}, {\"Day\": \"2016-01-07T08:46:00+00:00\"}, {\"Day\": \"2016-01-04T08:43:00+00:00\"}, {\"Day\": \"2016-01-06T09:21:00+00:00\"}, {\"Day\": \"2016-01-03T10:14:00+00:00\"}, {\"Day\": \"2016-01-04T11:49:00+00:00\"}, {\"Day\": \"2016-01-08T15:40:00+00:00\"}, {\"Day\": \"2016-01-04T20:17:00+00:00\"}, {\"Day\": \"2016-01-08T07:17:00+00:00\"}, {\"Day\": \"2016-01-07T07:17:00+00:00\"}, {\"Day\": \"2016-01-08T16:46:00+00:00\"}, {\"Day\": \"2016-01-02T13:47:00+00:00\"}, {\"Day\": \"2016-01-06T15:32:00+00:00\"}, {\"Day\": \"2016-01-07T15:28:00+00:00\"}, {\"Day\": \"2016-01-08T16:04:00+00:00\"}, {\"Day\": \"2016-01-04T11:06:00+00:00\"}, {\"Day\": \"2016-01-05T18:38:00+00:00\"}, {\"Day\": \"2016-01-04T15:14:00+00:00\"}, {\"Day\": \"2016-01-05T15:44:00+00:00\"}, {\"Day\": \"2016-01-04T23:04:00+00:00\"}, {\"Day\": \"2016-01-06T12:32:00+00:00\"}, {\"Day\": \"2016-01-05T16:57:00+00:00\"}, {\"Day\": \"2016-01-08T00:08:00+00:00\"}, {\"Day\": \"2016-01-07T12:17:00+00:00\"}, {\"Day\": \"2016-01-05T17:27:00+00:00\"}, {\"Day\": \"2016-01-05T16:48:00+00:00\"}, {\"Day\": \"2016-01-07T18:56:00+00:00\"}, {\"Day\": \"2016-01-07T11:42:00+00:00\"}, {\"Day\": \"2016-01-08T19:00:00+00:00\"}, {\"Day\": \"2016-01-06T13:48:00+00:00\"}, {\"Day\": \"2016-01-07T08:24:00+00:00\"}, {\"Day\": \"2016-01-06T18:05:00+00:00\"}, {\"Day\": \"2016-01-08T17:28:00+00:00\"}, {\"Day\": \"2016-01-07T17:35:00+00:00\"}, {\"Day\": \"2016-01-05T18:13:00+00:00\"}, {\"Day\": \"2016-01-06T18:17:00+00:00\"}, {\"Day\": \"2016-01-08T19:57:00+00:00\"}, {\"Day\": \"2016-01-07T08:26:00+00:00\"}, {\"Day\": \"2016-01-02T14:27:00+00:00\"}, {\"Day\": \"2016-01-02T14:29:00+00:00\"}, {\"Day\": \"2016-01-02T14:30:00+00:00\"}, {\"Day\": \"2016-01-02T14:26:00+00:00\"}, {\"Day\": \"2016-01-08T14:58:00+00:00\"}, {\"Day\": \"2016-01-04T09:19:00+00:00\"}, {\"Day\": \"2016-01-05T16:58:00+00:00\"}, {\"Day\": \"2016-01-06T16:50:00+00:00\"}, {\"Day\": \"2016-01-08T19:01:00+00:00\"}, {\"Day\": \"2016-01-02T14:08:00+00:00\"}, {\"Day\": \"2016-01-04T16:58:00+00:00\"}, {\"Day\": \"2016-01-08T16:41:00+00:00\"}, {\"Day\": \"2016-01-07T16:49:00+00:00\"}, {\"Day\": \"2016-01-07T16:53:00+00:00\"}, {\"Day\": \"2016-01-04T16:55:00+00:00\"}, {\"Day\": \"2016-01-04T17:10:00+00:00\"}, {\"Day\": \"2016-01-04T17:12:00+00:00\"}, {\"Day\": \"2016-01-05T17:07:00+00:00\"}, {\"Day\": \"2016-01-04T17:12:00+00:00\"}, {\"Day\": \"2016-01-07T17:04:00+00:00\"}, {\"Day\": \"2016-01-04T18:06:00+00:00\"}, {\"Day\": \"2016-01-04T17:05:00+00:00\"}, {\"Day\": \"2016-01-06T16:52:00+00:00\"}, {\"Day\": \"2016-01-08T17:10:00+00:00\"}, {\"Day\": \"2016-01-07T17:44:00+00:00\"}, {\"Day\": \"2016-01-07T18:36:00+00:00\"}, {\"Day\": \"2016-01-07T17:04:00+00:00\"}, {\"Day\": \"2016-01-05T17:47:00+00:00\"}, {\"Day\": \"2016-01-07T17:00:00+00:00\"}, {\"Day\": \"2016-01-07T15:58:00+00:00\"}, {\"Day\": \"2016-01-07T07:00:00+00:00\"}, {\"Day\": \"2016-01-06T17:11:00+00:00\"}, {\"Day\": \"2016-01-08T17:11:00+00:00\"}, {\"Day\": \"2016-01-04T16:18:00+00:00\"}, {\"Day\": \"2016-01-08T17:15:00+00:00\"}, {\"Day\": \"2016-01-08T20:11:00+00:00\"}, {\"Day\": \"2016-01-08T17:14:00+00:00\"}, {\"Day\": \"2016-01-05T17:39:00+00:00\"}, {\"Day\": \"2016-01-08T17:11:00+00:00\"}, {\"Day\": \"2016-01-04T17:10:00+00:00\"}, {\"Day\": \"2016-01-05T17:13:00+00:00\"}, {\"Day\": \"2016-01-08T17:06:00+00:00\"}, {\"Day\": \"2016-01-06T17:01:00+00:00\"}, {\"Day\": \"2016-01-04T16:50:00+00:00\"}, {\"Day\": \"2016-01-05T16:13:00+00:00\"}, {\"Day\": \"2016-01-07T21:31:00+00:00\"}, {\"Day\": \"2016-01-04T16:15:00+00:00\"}, {\"Day\": \"2016-01-06T18:46:00+00:00\"}, {\"Day\": \"2016-01-07T17:01:00+00:00\"}, {\"Day\": \"2016-01-04T08:03:00+00:00\"}, {\"Day\": \"2016-01-05T17:00:00+00:00\"}, {\"Day\": \"2016-01-05T19:16:00+00:00\"}, {\"Day\": \"2016-01-05T18:40:00+00:00\"}, {\"Day\": \"2016-01-06T17:18:00+00:00\"}, {\"Day\": \"2016-01-08T16:16:00+00:00\"}, {\"Day\": \"2016-01-05T17:07:00+00:00\"}, {\"Day\": \"2016-01-07T18:23:00+00:00\"}, {\"Day\": \"2016-01-05T17:09:00+00:00\"}, {\"Day\": \"2016-01-07T18:40:00+00:00\"}, {\"Day\": \"2016-01-08T16:19:00+00:00\"}, {\"Day\": \"2016-01-06T16:22:00+00:00\"}, {\"Day\": \"2016-01-06T17:09:00+00:00\"}, {\"Day\": \"2016-01-06T18:20:00+00:00\"}, {\"Day\": \"2016-01-06T18:20:00+00:00\"}, {\"Day\": \"2016-01-07T18:08:00+00:00\"}, {\"Day\": \"2016-01-04T16:18:00+00:00\"}, {\"Day\": \"2016-01-06T08:48:00+00:00\"}, {\"Day\": \"2016-01-07T17:06:00+00:00\"}, {\"Day\": \"2016-01-08T08:49:00+00:00\"}, {\"Day\": \"2016-01-08T16:55:00+00:00\"}, {\"Day\": \"2016-01-04T18:26:00+00:00\"}, {\"Day\": \"2016-01-07T17:14:00+00:00\"}, {\"Day\": \"2016-01-04T09:29:00+00:00\"}, {\"Day\": \"2016-01-05T15:53:00+00:00\"}, {\"Day\": \"2016-01-06T15:55:00+00:00\"}, {\"Day\": \"2016-01-07T18:34:00+00:00\"}, {\"Day\": \"2016-01-07T18:44:00+00:00\"}, {\"Day\": \"2016-01-08T16:43:00+00:00\"}, {\"Day\": \"2016-01-07T08:45:00+00:00\"}, {\"Day\": \"2016-01-07T17:34:00+00:00\"}, {\"Day\": \"2016-01-05T19:29:00+00:00\"}, {\"Day\": \"2016-01-07T20:12:00+00:00\"}, {\"Day\": \"2016-01-08T20:18:00+00:00\"}, {\"Day\": \"2016-01-07T16:46:00+00:00\"}, {\"Day\": \"2016-01-04T08:47:00+00:00\"}, {\"Day\": \"2016-01-04T12:12:00+00:00\"}, {\"Day\": \"2016-01-08T08:52:00+00:00\"}, {\"Day\": \"2016-01-06T11:41:00+00:00\"}, {\"Day\": \"2016-01-07T17:48:00+00:00\"}, {\"Day\": \"2016-01-01T12:26:00+00:00\"}, {\"Day\": \"2016-01-01T12:26:00+00:00\"}, {\"Day\": \"2016-01-01T11:58:00+00:00\"}, {\"Day\": \"2016-01-01T11:59:00+00:00\"}, {\"Day\": \"2016-01-08T07:25:00+00:00\"}, {\"Day\": \"2016-01-07T07:36:00+00:00\"}, {\"Day\": \"2016-01-08T10:01:00+00:00\"}, {\"Day\": \"2016-01-07T09:43:00+00:00\"}, {\"Day\": \"2016-01-07T08:26:00+00:00\"}, {\"Day\": \"2016-01-06T17:54:00+00:00\"}, {\"Day\": \"2016-01-02T11:13:00+00:00\"}, {\"Day\": \"2016-01-03T15:34:00+00:00\"}, {\"Day\": \"2016-01-05T18:26:00+00:00\"}, {\"Day\": \"2016-01-08T08:28:00+00:00\"}, {\"Day\": \"2016-01-03T15:34:00+00:00\"}, {\"Day\": \"2016-01-04T17:23:00+00:00\"}, {\"Day\": \"2016-01-05T18:44:00+00:00\"}, {\"Day\": \"2016-01-08T18:06:00+00:00\"}, {\"Day\": \"2016-01-05T19:03:00+00:00\"}, {\"Day\": \"2016-01-08T17:43:00+00:00\"}, {\"Day\": \"2016-01-05T18:34:00+00:00\"}, {\"Day\": \"2016-01-04T19:21:00+00:00\"}, {\"Day\": \"2016-01-07T09:35:00+00:00\"}, {\"Day\": \"2016-01-07T11:10:00+00:00\"}, {\"Day\": \"2016-01-04T16:21:00+00:00\"}, {\"Day\": \"2016-01-07T17:40:00+00:00\"}, {\"Day\": \"2016-01-07T14:03:00+00:00\"}, {\"Day\": \"2016-01-04T18:20:00+00:00\"}, {\"Day\": \"2016-01-07T17:33:00+00:00\"}, {\"Day\": \"2016-01-05T17:34:00+00:00\"}, {\"Day\": \"2016-01-04T15:25:00+00:00\"}, {\"Day\": \"2016-01-06T18:13:00+00:00\"}, {\"Day\": \"2016-01-06T19:33:00+00:00\"}, {\"Day\": \"2016-01-04T18:07:00+00:00\"}, {\"Day\": \"2016-01-08T17:19:00+00:00\"}, {\"Day\": \"2016-01-08T15:26:00+00:00\"}, {\"Day\": \"2016-01-04T18:13:00+00:00\"}, {\"Day\": \"2016-01-07T18:35:00+00:00\"}, {\"Day\": \"2016-01-08T16:38:00+00:00\"}, {\"Day\": \"2016-01-04T17:09:00+00:00\"}, {\"Day\": \"2016-01-05T16:16:00+00:00\"}, {\"Day\": \"2016-01-08T17:09:00+00:00\"}, {\"Day\": \"2016-01-06T15:42:00+00:00\"}, {\"Day\": \"2016-01-08T09:29:00+00:00\"}, {\"Day\": \"2016-01-05T18:08:00+00:00\"}, {\"Day\": \"2016-01-04T09:18:00+00:00\"}, {\"Day\": \"2016-01-07T09:09:00+00:00\"}, {\"Day\": \"2016-01-05T09:15:00+00:00\"}, {\"Day\": \"2016-01-07T20:05:00+00:00\"}, {\"Day\": \"2016-01-08T18:06:00+00:00\"}, {\"Day\": \"2016-01-05T11:09:00+00:00\"}, {\"Day\": \"2016-01-06T09:40:00+00:00\"}, {\"Day\": \"2016-01-02T12:03:00+00:00\"}, {\"Day\": \"2016-01-07T10:44:00+00:00\"}, {\"Day\": \"2016-01-06T09:40:00+00:00\"}, {\"Day\": \"2016-01-08T09:52:00+00:00\"}, {\"Day\": \"2016-01-02T12:02:00+00:00\"}, {\"Day\": \"2016-01-07T09:50:00+00:00\"}, {\"Day\": \"2016-01-08T09:23:00+00:00\"}, {\"Day\": \"2016-01-05T07:35:00+00:00\"}, {\"Day\": \"2016-01-08T18:35:00+00:00\"}, {\"Day\": \"2016-01-07T09:35:00+00:00\"}, {\"Day\": \"2016-01-08T15:06:00+00:00\"}, {\"Day\": \"2016-01-06T09:24:00+00:00\"}, {\"Day\": \"2016-01-05T09:27:00+00:00\"}, {\"Day\": \"2016-01-08T09:43:00+00:00\"}, {\"Day\": \"2016-01-06T17:40:00+00:00\"}, {\"Day\": \"2016-01-04T10:14:00+00:00\"}, {\"Day\": \"2016-01-06T17:06:00+00:00\"}, {\"Day\": \"2016-01-08T17:08:00+00:00\"}, {\"Day\": \"2016-01-05T17:07:00+00:00\"}, {\"Day\": \"2016-01-04T17:06:00+00:00\"}, {\"Day\": \"2016-01-08T13:36:00+00:00\"}, {\"Day\": \"2016-01-07T10:46:00+00:00\"}, {\"Day\": \"2016-01-07T18:06:00+00:00\"}, {\"Day\": \"2016-01-04T17:08:00+00:00\"}, {\"Day\": \"2016-01-05T17:56:00+00:00\"}, {\"Day\": \"2016-01-06T17:29:00+00:00\"}, {\"Day\": \"2016-01-05T19:02:00+00:00\"}, {\"Day\": \"2016-01-07T17:55:00+00:00\"}, {\"Day\": \"2016-01-08T15:52:00+00:00\"}, {\"Day\": \"2016-01-08T16:57:00+00:00\"}, {\"Day\": \"2016-01-08T16:50:00+00:00\"}, {\"Day\": \"2016-01-07T16:50:00+00:00\"}, {\"Day\": \"2016-01-05T16:07:00+00:00\"}, {\"Day\": \"2016-01-06T16:52:00+00:00\"}, {\"Day\": \"2016-01-05T16:53:00+00:00\"}, {\"Day\": \"2016-01-06T14:56:00+00:00\"}, {\"Day\": \"2016-01-04T16:51:00+00:00\"}, {\"Day\": \"2016-01-08T17:07:00+00:00\"}, {\"Day\": \"2016-01-04T17:07:00+00:00\"}, {\"Day\": \"2016-01-08T17:43:00+00:00\"}, {\"Day\": \"2016-01-07T07:49:00+00:00\"}, {\"Day\": \"2016-01-08T15:45:00+00:00\"}, {\"Day\": \"2016-01-04T10:53:00+00:00\"}, {\"Day\": \"2016-01-05T17:48:00+00:00\"}, {\"Day\": \"2016-01-06T17:13:00+00:00\"}, {\"Day\": \"2016-01-08T06:50:00+00:00\"}, {\"Day\": \"2016-01-08T09:43:00+00:00\"}, {\"Day\": \"2016-01-07T17:35:00+00:00\"}, {\"Day\": \"2016-01-05T18:04:00+00:00\"}, {\"Day\": \"2016-01-04T16:40:00+00:00\"}, {\"Day\": \"2016-01-07T17:03:00+00:00\"}, {\"Day\": \"2016-01-08T17:29:00+00:00\"}, {\"Day\": \"2016-01-05T16:49:00+00:00\"}, {\"Day\": \"2016-01-03T17:12:00+00:00\"}, {\"Day\": \"2016-01-09T12:24:00+00:00\"}, {\"Day\": \"2016-01-08T15:13:00+00:00\"}, {\"Day\": \"2016-01-07T18:08:00+00:00\"}, {\"Day\": \"2016-01-01T12:40:00+00:00\"}, {\"Day\": \"2016-01-07T11:43:00+00:00\"}, {\"Day\": \"2016-01-06T18:26:00+00:00\"}, {\"Day\": \"2016-01-01T12:37:00+00:00\"}, {\"Day\": \"2016-01-07T08:59:00+00:00\"}, {\"Day\": \"2016-01-06T09:06:00+00:00\"}, {\"Day\": \"2016-01-05T17:27:00+00:00\"}, {\"Day\": \"2016-01-06T08:43:00+00:00\"}, {\"Day\": \"2016-01-05T09:02:00+00:00\"}, {\"Day\": \"2016-01-06T17:14:00+00:00\"}, {\"Day\": \"2016-01-02T13:22:00+00:00\"}, {\"Day\": \"2016-01-04T06:34:00+00:00\"}, {\"Day\": \"2016-01-05T09:46:00+00:00\"}, {\"Day\": \"2016-01-08T06:32:00+00:00\"}, {\"Day\": \"2016-01-04T09:07:00+00:00\"}, {\"Day\": \"2016-01-07T10:12:00+00:00\"}, {\"Day\": \"2016-01-07T06:30:00+00:00\"}, {\"Day\": \"2016-01-06T08:46:00+00:00\"}, {\"Day\": \"2016-01-05T06:27:00+00:00\"}, {\"Day\": \"2016-01-07T16:39:00+00:00\"}, {\"Day\": \"2016-01-04T18:30:00+00:00\"}, {\"Day\": \"2016-01-09T13:30:00+00:00\"}, {\"Day\": \"2016-01-06T14:12:00+00:00\"}, {\"Day\": \"2016-01-04T12:50:00+00:00\"}, {\"Day\": \"2016-01-08T14:18:00+00:00\"}, {\"Day\": \"2016-01-04T18:06:00+00:00\"}, {\"Day\": \"2016-01-07T14:07:00+00:00\"}, {\"Day\": \"2016-01-05T10:17:00+00:00\"}, {\"Day\": \"2016-01-06T18:49:00+00:00\"}, {\"Day\": \"2016-01-04T21:00:00+00:00\"}, {\"Day\": \"2016-01-06T19:41:00+00:00\"}, {\"Day\": \"2016-01-05T20:19:00+00:00\"}, {\"Day\": \"2016-01-04T20:23:00+00:00\"}, {\"Day\": \"2016-01-08T09:42:00+00:00\"}, {\"Day\": \"2016-01-07T18:21:00+00:00\"}, {\"Day\": \"2016-01-06T19:35:00+00:00\"}, {\"Day\": \"2016-01-05T09:05:00+00:00\"}, {\"Day\": \"2016-01-07T08:26:00+00:00\"}, {\"Day\": \"2016-01-04T18:24:00+00:00\"}, {\"Day\": \"2016-01-04T13:00:00+00:00\"}, {\"Day\": \"2016-01-02T12:40:00+00:00\"}, {\"Day\": \"2016-01-02T12:36:00+00:00\"}, {\"Day\": \"2016-01-02T12:37:00+00:00\"}, {\"Day\": \"2016-01-07T20:16:00+00:00\"}, {\"Day\": \"2016-01-07T06:10:00+00:00\"}, {\"Day\": \"2016-01-04T06:09:00+00:00\"}, {\"Day\": \"2016-01-05T06:09:00+00:00\"}, {\"Day\": \"2016-01-06T06:11:00+00:00\"}, {\"Day\": \"2016-01-05T19:46:00+00:00\"}, {\"Day\": \"2016-01-05T23:14:00+00:00\"}, {\"Day\": \"2016-01-07T13:25:00+00:00\"}, {\"Day\": \"2016-01-08T17:10:00+00:00\"}, {\"Day\": \"2016-01-08T17:12:00+00:00\"}, {\"Day\": \"2016-01-08T13:27:00+00:00\"}, {\"Day\": \"2016-01-07T16:13:00+00:00\"}, {\"Day\": \"2016-01-06T18:22:00+00:00\"}, {\"Day\": \"2016-01-08T17:30:00+00:00\"}, {\"Day\": \"2016-01-08T17:55:00+00:00\"}, {\"Day\": \"2016-01-07T17:13:00+00:00\"}, {\"Day\": \"2016-01-08T13:35:00+00:00\"}, {\"Day\": \"2016-01-04T16:26:00+00:00\"}, {\"Day\": \"2016-01-04T18:32:00+00:00\"}, {\"Day\": \"2016-01-07T16:16:00+00:00\"}, {\"Day\": \"2016-01-05T18:16:00+00:00\"}, {\"Day\": \"2016-01-06T17:56:00+00:00\"}, {\"Day\": \"2016-01-08T15:39:00+00:00\"}, {\"Day\": \"2016-01-08T17:09:00+00:00\"}, {\"Day\": \"2016-01-05T16:20:00+00:00\"}, {\"Day\": \"2016-01-06T16:01:00+00:00\"}, {\"Day\": \"2016-01-04T13:21:00+00:00\"}, {\"Day\": \"2016-01-07T17:02:00+00:00\"}, {\"Day\": \"2016-01-04T15:45:00+00:00\"}, {\"Day\": \"2016-01-07T15:48:00+00:00\"}, {\"Day\": \"2016-01-07T12:17:00+00:00\"}, {\"Day\": \"2016-01-07T17:22:00+00:00\"}, {\"Day\": \"2016-01-06T16:26:00+00:00\"}, {\"Day\": \"2016-01-07T16:54:00+00:00\"}, {\"Day\": \"2016-01-05T15:47:00+00:00\"}, {\"Day\": \"2016-01-04T10:35:00+00:00\"}, {\"Day\": \"2016-01-05T16:06:00+00:00\"}, {\"Day\": \"2016-01-06T17:00:00+00:00\"}, {\"Day\": \"2016-01-08T11:31:00+00:00\"}, {\"Day\": \"2016-01-05T07:09:00+00:00\"}, {\"Day\": \"2016-01-07T12:46:00+00:00\"}, {\"Day\": \"2016-01-07T19:19:00+00:00\"}, {\"Day\": \"2016-01-07T06:54:00+00:00\"}, {\"Day\": \"2016-01-08T17:04:00+00:00\"}, {\"Day\": \"2016-01-08T17:13:00+00:00\"}, {\"Day\": \"2016-01-06T08:29:00+00:00\"}, {\"Day\": \"2016-01-07T09:48:00+00:00\"}, {\"Day\": \"2016-01-04T12:12:00+00:00\"}, {\"Day\": \"2016-01-06T18:16:00+00:00\"}, {\"Day\": \"2016-01-03T17:28:00+00:00\"}, {\"Day\": \"2016-01-04T17:11:00+00:00\"}, {\"Day\": \"2016-01-06T16:48:00+00:00\"}, {\"Day\": \"2016-01-08T12:50:00+00:00\"}, {\"Day\": \"2016-01-04T15:52:00+00:00\"}, {\"Day\": \"2016-01-07T17:16:00+00:00\"}, {\"Day\": \"2016-01-07T17:40:00+00:00\"}, {\"Day\": \"2016-01-05T11:57:00+00:00\"}, {\"Day\": \"2016-01-07T16:14:00+00:00\"}, {\"Day\": \"2016-01-07T18:03:00+00:00\"}, {\"Day\": \"2016-01-07T08:48:00+00:00\"}, {\"Day\": \"2016-01-05T19:23:00+00:00\"}, {\"Day\": \"2016-01-04T16:06:00+00:00\"}, {\"Day\": \"2016-01-04T19:12:00+00:00\"}, {\"Day\": \"2016-01-05T17:11:00+00:00\"}, {\"Day\": \"2016-01-08T16:41:00+00:00\"}, {\"Day\": \"2016-01-03T17:28:00+00:00\"}, {\"Day\": \"2016-01-07T18:04:00+00:00\"}, {\"Day\": \"2016-01-06T08:49:00+00:00\"}, {\"Day\": \"2016-01-04T07:21:00+00:00\"}, {\"Day\": \"2016-01-07T16:18:00+00:00\"}, {\"Day\": \"2016-01-06T15:57:00+00:00\"}, {\"Day\": \"2016-01-05T08:48:00+00:00\"}, {\"Day\": \"2016-01-05T18:02:00+00:00\"}, {\"Day\": \"2016-01-08T06:51:00+00:00\"}, {\"Day\": \"2016-01-05T17:04:00+00:00\"}, {\"Day\": \"2016-01-05T19:02:00+00:00\"}, {\"Day\": \"2016-01-07T15:56:00+00:00\"}, {\"Day\": \"2016-01-04T16:48:00+00:00\"}, {\"Day\": \"2016-01-06T09:48:00+00:00\"}, {\"Day\": \"2016-01-05T17:42:00+00:00\"}, {\"Day\": \"2016-01-08T18:08:00+00:00\"}, {\"Day\": \"2016-01-08T22:31:00+00:00\"}, {\"Day\": \"2016-01-05T09:48:00+00:00\"}, {\"Day\": \"2016-01-06T17:09:00+00:00\"}, {\"Day\": \"2016-01-08T09:47:00+00:00\"}, {\"Day\": \"2016-01-05T19:20:00+00:00\"}, {\"Day\": \"2016-01-08T08:48:00+00:00\"}, {\"Day\": \"2016-01-08T17:19:00+00:00\"}, {\"Day\": \"2016-01-06T12:50:00+00:00\"}, {\"Day\": \"2016-01-08T14:47:00+00:00\"}, {\"Day\": \"2016-01-06T10:05:00+00:00\"}, {\"Day\": \"2016-01-08T15:46:00+00:00\"}, {\"Day\": \"2016-01-05T17:10:00+00:00\"}, {\"Day\": \"2016-01-06T16:26:00+00:00\"}, {\"Day\": \"2016-01-07T08:36:00+00:00\"}, {\"Day\": \"2016-01-02T12:05:00+00:00\"}, {\"Day\": \"2016-01-05T16:45:00+00:00\"}, {\"Day\": \"2016-01-04T19:16:00+00:00\"}, {\"Day\": \"2016-01-04T18:10:00+00:00\"}, {\"Day\": \"2016-01-06T17:01:00+00:00\"}, {\"Day\": \"2016-01-04T16:12:00+00:00\"}, {\"Day\": \"2016-01-07T15:42:00+00:00\"}, {\"Day\": \"2016-01-08T16:45:00+00:00\"}, {\"Day\": \"2016-01-05T16:12:00+00:00\"}, {\"Day\": \"2016-01-05T16:10:00+00:00\"}, {\"Day\": \"2016-01-07T16:23:00+00:00\"}, {\"Day\": \"2016-01-07T17:08:00+00:00\"}, {\"Day\": \"2016-01-06T11:32:00+00:00\"}, {\"Day\": \"2016-01-08T08:55:00+00:00\"}, {\"Day\": \"2016-01-09T11:10:00+00:00\"}, {\"Day\": \"2016-01-08T12:33:00+00:00\"}, {\"Day\": \"2016-01-08T09:32:00+00:00\"}, {\"Day\": \"2016-01-04T16:02:00+00:00\"}, {\"Day\": \"2016-01-04T16:02:00+00:00\"}, {\"Day\": \"2016-01-09T11:36:00+00:00\"}, {\"Day\": \"2016-01-08T12:59:00+00:00\"}, {\"Day\": \"2016-01-04T16:04:00+00:00\"}, {\"Day\": \"2016-01-01T03:51:00+00:00\"}, {\"Day\": \"2016-01-06T08:24:00+00:00\"}, {\"Day\": \"2016-01-09T19:37:00+00:00\"}, {\"Day\": \"2016-01-07T08:22:00+00:00\"}, {\"Day\": \"2016-01-04T07:55:00+00:00\"}, {\"Day\": \"2016-01-09T17:56:00+00:00\"}, {\"Day\": \"2016-01-07T17:45:00+00:00\"}, {\"Day\": \"2016-01-09T17:56:00+00:00\"}, {\"Day\": \"2016-01-08T08:23:00+00:00\"}, {\"Day\": \"2016-01-08T07:49:00+00:00\"}, {\"Day\": \"2016-01-05T08:30:00+00:00\"}, {\"Day\": \"2016-01-04T08:20:00+00:00\"}, {\"Day\": \"2016-01-04T21:32:00+00:00\"}, {\"Day\": \"2016-01-02T23:46:00+00:00\"}, {\"Day\": \"2016-01-08T17:33:00+00:00\"}, {\"Day\": \"2016-01-07T08:02:00+00:00\"}, {\"Day\": \"2016-01-08T08:38:00+00:00\"}, {\"Day\": \"2016-01-06T09:24:00+00:00\"}, {\"Day\": \"2016-01-07T23:19:00+00:00\"}, {\"Day\": \"2016-01-05T15:38:00+00:00\"}, {\"Day\": \"2016-01-08T10:31:00+00:00\"}, {\"Day\": \"2016-01-05T15:05:00+00:00\"}, {\"Day\": \"2016-01-07T17:46:00+00:00\"}, {\"Day\": \"2016-01-07T15:01:00+00:00\"}, {\"Day\": \"2016-01-04T15:02:00+00:00\"}, {\"Day\": \"2016-01-02T17:14:00+00:00\"}, {\"Day\": \"2016-01-06T20:54:00+00:00\"}, {\"Day\": \"2016-01-05T20:09:00+00:00\"}, {\"Day\": \"2016-01-04T09:19:00+00:00\"}, {\"Day\": \"2016-01-04T16:56:00+00:00\"}, {\"Day\": \"2016-01-02T10:57:00+00:00\"}, {\"Day\": \"2016-01-04T09:41:00+00:00\"}, {\"Day\": \"2016-01-05T07:55:00+00:00\"}, {\"Day\": \"2016-01-08T09:29:00+00:00\"}, {\"Day\": \"2016-01-07T08:02:00+00:00\"}, {\"Day\": \"2016-01-04T07:32:00+00:00\"}, {\"Day\": \"2016-01-06T08:05:00+00:00\"}, {\"Day\": \"2016-01-08T08:02:00+00:00\"}, {\"Day\": \"2016-01-08T18:26:00+00:00\"}, {\"Day\": \"2016-01-02T10:18:00+00:00\"}, {\"Day\": \"2016-01-06T01:01:00+00:00\"}, {\"Day\": \"2016-01-02T16:13:00+00:00\"}, {\"Day\": \"2016-01-06T17:27:00+00:00\"}, {\"Day\": \"2016-01-07T11:54:00+00:00\"}, {\"Day\": \"2016-01-02T13:53:00+00:00\"}, {\"Day\": \"2016-01-06T14:01:00+00:00\"}, {\"Day\": \"2016-01-07T16:00:00+00:00\"}, {\"Day\": \"2016-01-07T09:23:00+00:00\"}, {\"Day\": \"2016-01-08T07:26:00+00:00\"}, {\"Day\": \"2016-01-06T18:17:00+00:00\"}, {\"Day\": \"2016-01-08T17:56:00+00:00\"}, {\"Day\": \"2016-01-07T17:21:00+00:00\"}, {\"Day\": \"2016-01-07T19:02:00+00:00\"}, {\"Day\": \"2016-01-07T17:17:00+00:00\"}, {\"Day\": \"2016-01-08T17:16:00+00:00\"}, {\"Day\": \"2016-01-06T16:56:00+00:00\"}, {\"Day\": \"2016-01-07T16:55:00+00:00\"}, {\"Day\": \"2016-01-08T16:02:00+00:00\"}, {\"Day\": \"2016-01-09T07:43:00+00:00\"}, {\"Day\": \"2016-01-04T16:59:00+00:00\"}, {\"Day\": \"2016-01-05T18:13:00+00:00\"}, {\"Day\": \"2016-01-07T16:21:00+00:00\"}, {\"Day\": \"2016-01-04T17:59:00+00:00\"}, {\"Day\": \"2016-01-08T17:29:00+00:00\"}, {\"Day\": \"2016-01-05T16:53:00+00:00\"}, {\"Day\": \"2016-01-05T18:04:00+00:00\"}, {\"Day\": \"2016-01-07T08:29:00+00:00\"}, {\"Day\": \"2016-01-07T16:08:00+00:00\"}, {\"Day\": \"2016-01-04T18:14:00+00:00\"}, {\"Day\": \"2016-01-08T18:42:00+00:00\"}, {\"Day\": \"2016-01-06T19:06:00+00:00\"}, {\"Day\": \"2016-01-08T17:41:00+00:00\"}, {\"Day\": \"2016-01-05T19:07:00+00:00\"}, {\"Day\": \"2016-01-07T19:07:00+00:00\"}, {\"Day\": \"2016-01-02T11:06:00+00:00\"}, {\"Day\": \"2016-01-07T11:54:00+00:00\"}, {\"Day\": \"2016-01-04T10:04:00+00:00\"}, {\"Day\": \"2016-01-08T12:07:00+00:00\"}, {\"Day\": \"2016-01-09T08:37:00+00:00\"}, {\"Day\": \"2016-01-05T19:41:00+00:00\"}, {\"Day\": \"2016-01-07T08:01:00+00:00\"}, {\"Day\": \"2016-01-08T08:07:00+00:00\"}, {\"Day\": \"2016-01-04T07:56:00+00:00\"}, {\"Day\": \"2016-01-05T07:01:00+00:00\"}, {\"Day\": \"2016-01-08T19:22:00+00:00\"}, {\"Day\": \"2016-01-06T18:33:00+00:00\"}, {\"Day\": \"2016-01-06T18:33:00+00:00\"}, {\"Day\": \"2016-01-05T15:09:00+00:00\"}, {\"Day\": \"2016-01-07T08:49:00+00:00\"}, {\"Day\": \"2016-01-06T08:41:00+00:00\"}, {\"Day\": \"2016-01-04T08:29:00+00:00\"}, {\"Day\": \"2016-01-07T14:44:00+00:00\"}, {\"Day\": \"2016-01-07T08:24:00+00:00\"}, {\"Day\": \"2016-01-08T08:46:00+00:00\"}, {\"Day\": \"2016-01-09T18:06:00+00:00\"}, {\"Day\": \"2016-01-07T19:43:00+00:00\"}, {\"Day\": \"2016-01-01T03:25:00+00:00\"}, {\"Day\": \"2016-01-07T13:17:00+00:00\"}, {\"Day\": \"2016-01-03T16:21:00+00:00\"}, {\"Day\": \"2016-01-08T08:45:00+00:00\"}, {\"Day\": \"2016-01-07T09:42:00+00:00\"}, {\"Day\": \"2016-01-08T08:40:00+00:00\"}, {\"Day\": \"2016-01-08T10:17:00+00:00\"}, {\"Day\": \"2016-01-07T07:50:00+00:00\"}, {\"Day\": \"2016-01-04T09:35:00+00:00\"}, {\"Day\": \"2016-01-07T11:54:00+00:00\"}, {\"Day\": \"2016-01-06T15:36:00+00:00\"}, {\"Day\": \"2016-01-07T16:51:00+00:00\"}, {\"Day\": \"2016-01-06T07:12:00+00:00\"}, {\"Day\": \"2016-01-07T18:52:00+00:00\"}, {\"Day\": \"2016-01-08T05:34:00+00:00\"}, {\"Day\": \"2016-01-07T05:22:00+00:00\"}, {\"Day\": \"2016-01-04T12:00:00+00:00\"}, {\"Day\": \"2016-01-07T19:33:00+00:00\"}, {\"Day\": \"2016-01-04T17:17:00+00:00\"}, {\"Day\": \"2016-01-06T21:08:00+00:00\"}, {\"Day\": \"2016-01-03T17:23:00+00:00\"}, {\"Day\": \"2016-01-05T19:18:00+00:00\"}, {\"Day\": \"2016-01-07T17:27:00+00:00\"}, {\"Day\": \"2016-01-07T17:27:00+00:00\"}, {\"Day\": \"2016-01-08T12:44:00+00:00\"}, {\"Day\": \"2016-01-02T12:00:00+00:00\"}, {\"Day\": \"2016-01-05T15:24:00+00:00\"}, {\"Day\": \"2016-01-04T19:16:00+00:00\"}, {\"Day\": \"2016-01-02T17:07:00+00:00\"}, {\"Day\": \"2016-01-07T19:18:00+00:00\"}, {\"Day\": \"2016-01-08T14:03:00+00:00\"}, {\"Day\": \"2016-01-05T18:38:00+00:00\"}, {\"Day\": \"2016-01-07T18:16:00+00:00\"}, {\"Day\": \"2016-01-07T15:26:00+00:00\"}, {\"Day\": \"2016-01-08T18:11:00+00:00\"}, {\"Day\": \"2016-01-06T13:53:00+00:00\"}, {\"Day\": \"2016-01-08T20:39:00+00:00\"}, {\"Day\": \"2016-01-06T13:19:00+00:00\"}, {\"Day\": \"2016-01-04T09:08:00+00:00\"}, {\"Day\": \"2016-01-07T23:13:00+00:00\"}, {\"Day\": \"2016-01-06T09:39:00+00:00\"}, {\"Day\": \"2016-01-07T11:40:00+00:00\"}, {\"Day\": \"2016-01-08T10:01:00+00:00\"}, {\"Day\": \"2016-01-08T07:00:00+00:00\"}, {\"Day\": \"2016-01-05T17:09:00+00:00\"}, {\"Day\": \"2016-01-05T18:36:00+00:00\"}, {\"Day\": \"2016-01-07T08:08:00+00:00\"}, {\"Day\": \"2016-01-07T16:48:00+00:00\"}, {\"Day\": \"2016-01-07T18:01:00+00:00\"}, {\"Day\": \"2016-01-05T17:53:00+00:00\"}, {\"Day\": \"2016-01-07T16:36:00+00:00\"}, {\"Day\": \"2016-01-07T18:09:00+00:00\"}, {\"Day\": \"2016-01-07T19:06:00+00:00\"}, {\"Day\": \"2016-01-05T16:41:00+00:00\"}, {\"Day\": \"2016-01-06T17:15:00+00:00\"}, {\"Day\": \"2016-01-06T16:38:00+00:00\"}, {\"Day\": \"2016-01-08T09:18:00+00:00\"}, {\"Day\": \"2016-01-08T15:39:00+00:00\"}, {\"Day\": \"2016-01-08T17:57:00+00:00\"}, {\"Day\": \"2016-01-07T17:48:00+00:00\"}, {\"Day\": \"2016-01-07T18:40:00+00:00\"}, {\"Day\": \"2016-01-04T16:46:00+00:00\"}, {\"Day\": \"2016-01-07T17:12:00+00:00\"}, {\"Day\": \"2016-01-04T16:31:00+00:00\"}, {\"Day\": \"2016-01-06T18:04:00+00:00\"}, {\"Day\": \"2016-01-08T17:30:00+00:00\"}, {\"Day\": \"2016-01-04T18:39:00+00:00\"}, {\"Day\": \"2016-01-05T17:19:00+00:00\"}, {\"Day\": \"2016-01-08T17:19:00+00:00\"}, {\"Day\": \"2016-01-05T08:38:00+00:00\"}, {\"Day\": \"2016-01-06T18:39:00+00:00\"}, {\"Day\": \"2016-01-05T18:40:00+00:00\"}, {\"Day\": \"2016-01-07T19:06:00+00:00\"}, {\"Day\": \"2016-01-06T17:37:00+00:00\"}, {\"Day\": \"2016-01-08T16:24:00+00:00\"}, {\"Day\": \"2016-01-08T16:31:00+00:00\"}, {\"Day\": \"2016-01-04T17:10:00+00:00\"}, {\"Day\": \"2016-01-04T18:03:00+00:00\"}, {\"Day\": \"2016-01-05T16:30:00+00:00\"}, {\"Day\": \"2016-01-05T17:45:00+00:00\"}, {\"Day\": \"2016-01-04T17:39:00+00:00\"}, {\"Day\": \"2016-01-04T09:37:00+00:00\"}, {\"Day\": \"2016-01-04T16:42:00+00:00\"}, {\"Day\": \"2016-01-06T15:51:00+00:00\"}, {\"Day\": \"2016-01-06T17:21:00+00:00\"}, {\"Day\": \"2016-01-08T18:08:00+00:00\"}, {\"Day\": \"2016-01-04T16:58:00+00:00\"}, {\"Day\": \"2016-01-04T18:00:00+00:00\"}, {\"Day\": \"2016-01-07T17:18:00+00:00\"}, {\"Day\": \"2016-01-08T07:11:00+00:00\"}, {\"Day\": \"2016-01-08T20:00:00+00:00\"}, {\"Day\": \"2016-01-08T16:28:00+00:00\"}, {\"Day\": \"2016-01-05T07:06:00+00:00\"}, {\"Day\": \"2016-01-07T17:18:00+00:00\"}, {\"Day\": \"2016-01-05T18:04:00+00:00\"}, {\"Day\": \"2016-01-04T16:30:00+00:00\"}, {\"Day\": \"2016-01-07T06:52:00+00:00\"}, {\"Day\": \"2016-01-08T06:57:00+00:00\"}, {\"Day\": \"2016-01-05T06:39:00+00:00\"}, {\"Day\": \"2016-01-05T07:00:00+00:00\"}, {\"Day\": \"2016-01-04T07:11:00+00:00\"}, {\"Day\": \"2016-01-08T07:51:00+00:00\"}, {\"Day\": \"2016-01-07T07:38:00+00:00\"}, {\"Day\": \"2016-01-04T07:36:00+00:00\"}, {\"Day\": \"2016-01-08T18:08:00+00:00\"}, {\"Day\": \"2016-01-05T07:11:00+00:00\"}, {\"Day\": \"2016-01-08T07:57:00+00:00\"}, {\"Day\": \"2016-01-04T08:03:00+00:00\"}, {\"Day\": \"2016-01-05T20:29:00+00:00\"}, {\"Day\": \"2016-01-07T19:46:00+00:00\"}, {\"Day\": \"2016-01-01T19:19:00+00:00\"}, {\"Day\": \"2016-01-01T19:20:00+00:00\"}, {\"Day\": \"2016-01-07T13:01:00+00:00\"}, {\"Day\": \"2016-01-08T11:42:00+00:00\"}, {\"Day\": \"2016-01-07T12:14:00+00:00\"}, {\"Day\": \"2016-01-04T17:09:00+00:00\"}, {\"Day\": \"2016-01-08T20:13:00+00:00\"}, {\"Day\": \"2016-01-09T15:33:00+00:00\"}, {\"Day\": \"2016-01-06T18:02:00+00:00\"}, {\"Day\": \"2016-01-08T19:16:00+00:00\"}, {\"Day\": \"2016-01-08T17:43:00+00:00\"}, {\"Day\": \"2016-01-04T17:28:00+00:00\"}, {\"Day\": \"2016-01-07T18:27:00+00:00\"}, {\"Day\": \"2016-01-05T17:57:00+00:00\"}, {\"Day\": \"2016-01-02T23:40:00+00:00\"}, {\"Day\": \"2016-01-08T17:06:00+00:00\"}, {\"Day\": \"2016-01-08T08:42:00+00:00\"}, {\"Day\": \"2016-01-07T10:14:00+00:00\"}, {\"Day\": \"2016-01-04T17:14:00+00:00\"}, {\"Day\": \"2016-01-05T08:39:00+00:00\"}, {\"Day\": \"2016-01-08T15:45:00+00:00\"}, {\"Day\": \"2016-01-06T08:50:00+00:00\"}, {\"Day\": \"2016-01-02T17:56:00+00:00\"}, {\"Day\": \"2016-01-08T17:10:00+00:00\"}, {\"Day\": \"2016-01-05T09:23:00+00:00\"}, {\"Day\": \"2016-01-04T17:04:00+00:00\"}, {\"Day\": \"2016-01-06T17:16:00+00:00\"}, {\"Day\": \"2016-01-06T08:44:00+00:00\"}, {\"Day\": \"2016-01-02T14:00:00+00:00\"}, {\"Day\": \"2016-01-06T16:11:00+00:00\"}, {\"Day\": \"2016-01-08T08:44:00+00:00\"}, {\"Day\": \"2016-01-05T08:43:00+00:00\"}, {\"Day\": \"2016-01-08T17:12:00+00:00\"}, {\"Day\": \"2016-01-06T13:03:00+00:00\"}, {\"Day\": \"2016-01-04T08:08:00+00:00\"}, {\"Day\": \"2016-01-08T07:58:00+00:00\"}, {\"Day\": \"2016-01-08T17:49:00+00:00\"}, {\"Day\": \"2016-01-07T07:48:00+00:00\"}, {\"Day\": \"2016-01-06T17:48:00+00:00\"}, {\"Day\": \"2016-01-08T09:25:00+00:00\"}, {\"Day\": \"2016-01-06T08:48:00+00:00\"}, {\"Day\": \"2016-01-08T08:49:00+00:00\"}, {\"Day\": \"2016-01-07T08:02:00+00:00\"}, {\"Day\": \"2016-01-07T17:50:00+00:00\"}, {\"Day\": \"2016-01-05T08:50:00+00:00\"}, {\"Day\": \"2016-01-06T08:05:00+00:00\"}, {\"Day\": \"2016-01-07T18:37:00+00:00\"}, {\"Day\": \"2016-01-05T18:09:00+00:00\"}, {\"Day\": \"2016-01-04T09:19:00+00:00\"}, {\"Day\": \"2016-01-07T07:47:00+00:00\"}, {\"Day\": \"2016-01-08T20:09:00+00:00\"}, {\"Day\": \"2016-01-07T09:24:00+00:00\"}, {\"Day\": \"2016-01-04T10:12:00+00:00\"}, {\"Day\": \"2016-01-07T07:26:00+00:00\"}, {\"Day\": \"2016-01-06T21:16:00+00:00\"}, {\"Day\": \"2016-01-07T08:54:00+00:00\"}, {\"Day\": \"2016-01-07T08:46:00+00:00\"}, {\"Day\": \"2016-01-08T17:06:00+00:00\"}, {\"Day\": \"2016-01-08T20:03:00+00:00\"}, {\"Day\": \"2016-01-04T10:12:00+00:00\"}, {\"Day\": \"2016-01-07T08:25:00+00:00\"}, {\"Day\": \"2016-01-08T10:09:00+00:00\"}, {\"Day\": \"2016-01-08T10:09:00+00:00\"}, {\"Day\": \"2016-01-08T18:37:00+00:00\"}, {\"Day\": \"2016-01-08T19:26:00+00:00\"}, {\"Day\": \"2016-01-08T08:26:00+00:00\"}, {\"Day\": \"2016-01-07T20:04:00+00:00\"}, {\"Day\": \"2016-01-04T08:30:00+00:00\"}, {\"Day\": \"2016-01-07T10:16:00+00:00\"}, {\"Day\": \"2016-01-05T18:50:00+00:00\"}, {\"Day\": \"2016-01-06T08:52:00+00:00\"}, {\"Day\": \"2016-01-04T20:03:00+00:00\"}, {\"Day\": \"2016-01-05T07:50:00+00:00\"}, {\"Day\": \"2016-01-08T17:27:00+00:00\"}, {\"Day\": \"2016-01-05T18:09:00+00:00\"}, {\"Day\": \"2016-01-07T10:15:00+00:00\"}, {\"Day\": \"2016-01-04T17:47:00+00:00\"}, {\"Day\": \"2016-01-08T17:22:00+00:00\"}, {\"Day\": \"2016-01-04T09:08:00+00:00\"}, {\"Day\": \"2016-01-07T18:36:00+00:00\"}, {\"Day\": \"2016-01-06T10:11:00+00:00\"}, {\"Day\": \"2016-01-04T08:52:00+00:00\"}, {\"Day\": \"2016-01-06T08:10:00+00:00\"}, {\"Day\": \"2016-01-08T07:52:00+00:00\"}, {\"Day\": \"2016-01-08T08:50:00+00:00\"}, {\"Day\": \"2016-01-06T09:14:00+00:00\"}, {\"Day\": \"2016-01-07T08:07:00+00:00\"}, {\"Day\": \"2016-01-06T07:52:00+00:00\"}, {\"Day\": \"2016-01-07T08:06:00+00:00\"}, {\"Day\": \"2016-01-08T07:50:00+00:00\"}, {\"Day\": \"2016-01-04T07:49:00+00:00\"}, {\"Day\": \"2016-01-04T07:49:00+00:00\"}, {\"Day\": \"2016-01-06T08:10:00+00:00\"}, {\"Day\": \"2016-01-07T09:57:00+00:00\"}, {\"Day\": \"2016-01-08T07:49:00+00:00\"}, {\"Day\": \"2016-01-06T10:51:00+00:00\"}, {\"Day\": \"2016-01-06T17:50:00+00:00\"}, {\"Day\": \"2016-01-04T08:32:00+00:00\"}, {\"Day\": \"2016-01-08T10:51:00+00:00\"}, {\"Day\": \"2016-01-07T10:09:00+00:00\"}, {\"Day\": \"2016-01-05T08:56:00+00:00\"}, {\"Day\": \"2016-01-08T07:51:00+00:00\"}, {\"Day\": \"2016-01-04T09:17:00+00:00\"}, {\"Day\": \"2016-01-07T09:09:00+00:00\"}, {\"Day\": \"2016-01-04T08:13:00+00:00\"}, {\"Day\": \"2016-01-08T07:59:00+00:00\"}, {\"Day\": \"2016-01-07T08:56:00+00:00\"}, {\"Day\": \"2016-01-07T08:07:00+00:00\"}, {\"Day\": \"2016-01-06T09:07:00+00:00\"}, {\"Day\": \"2016-01-04T08:58:00+00:00\"}, {\"Day\": \"2016-01-08T07:22:00+00:00\"}, {\"Day\": \"2016-01-04T07:49:00+00:00\"}, {\"Day\": \"2016-01-07T08:54:00+00:00\"}, {\"Day\": \"2016-01-05T08:53:00+00:00\"}, {\"Day\": \"2016-01-07T07:49:00+00:00\"}, {\"Day\": \"2016-01-08T07:27:00+00:00\"}, {\"Day\": \"2016-01-05T07:52:00+00:00\"}, {\"Day\": \"2016-01-05T09:13:00+00:00\"}, {\"Day\": \"2016-01-06T07:49:00+00:00\"}, {\"Day\": \"2016-01-06T19:29:00+00:00\"}, {\"Day\": \"2016-01-07T09:06:00+00:00\"}, {\"Day\": \"2016-01-07T07:27:00+00:00\"}, {\"Day\": \"2016-01-04T09:04:00+00:00\"}, {\"Day\": \"2016-01-04T08:30:00+00:00\"}, {\"Day\": \"2016-01-08T07:55:00+00:00\"}, {\"Day\": \"2016-01-05T19:25:00+00:00\"}, {\"Day\": \"2016-01-08T09:26:00+00:00\"}, {\"Day\": \"2016-01-08T10:46:00+00:00\"}, {\"Day\": \"2016-01-07T21:03:00+00:00\"}, {\"Day\": \"2016-01-04T17:28:00+00:00\"}, {\"Day\": \"2016-01-04T08:54:00+00:00\"}, {\"Day\": \"2016-01-07T09:09:00+00:00\"}, {\"Day\": \"2016-01-08T08:51:00+00:00\"}, {\"Day\": \"2016-01-09T07:26:00+00:00\"}, {\"Day\": \"2016-01-04T07:46:00+00:00\"}, {\"Day\": \"2016-01-07T08:01:00+00:00\"}, {\"Day\": \"2016-01-08T07:58:00+00:00\"}, {\"Day\": \"2016-01-08T07:36:00+00:00\"}, {\"Day\": \"2016-01-04T08:08:00+00:00\"}, {\"Day\": \"2016-01-08T12:00:00+00:00\"}, {\"Day\": \"2016-01-08T17:13:00+00:00\"}, {\"Day\": \"2016-01-04T18:11:00+00:00\"}, {\"Day\": \"2016-01-07T19:11:00+00:00\"}, {\"Day\": \"2016-01-05T18:09:00+00:00\"}, {\"Day\": \"2016-01-02T17:10:00+00:00\"}, {\"Day\": \"2016-01-04T16:34:00+00:00\"}, {\"Day\": \"2016-01-08T07:58:00+00:00\"}, {\"Day\": \"2016-01-05T08:03:00+00:00\"}, {\"Day\": \"2016-01-04T08:09:00+00:00\"}, {\"Day\": \"2016-01-04T07:51:00+00:00\"}, {\"Day\": \"2016-01-03T16:36:00+00:00\"}, {\"Day\": \"2016-01-04T08:29:00+00:00\"}, {\"Day\": \"2016-01-08T07:55:00+00:00\"}, {\"Day\": \"2016-01-03T16:38:00+00:00\"}, {\"Day\": \"2016-01-04T09:06:00+00:00\"}, {\"Day\": \"2016-01-07T07:48:00+00:00\"}, {\"Day\": \"2016-01-07T08:22:00+00:00\"}, {\"Day\": \"2016-01-07T07:49:00+00:00\"}, {\"Day\": \"2016-01-04T08:30:00+00:00\"}, {\"Day\": \"2016-01-08T07:50:00+00:00\"}, {\"Day\": \"2016-01-03T10:41:00+00:00\"}, {\"Day\": \"2016-01-07T09:24:00+00:00\"}, {\"Day\": \"2016-01-05T19:19:00+00:00\"}, {\"Day\": \"2016-01-04T09:05:00+00:00\"}, {\"Day\": \"2016-01-08T09:01:00+00:00\"}, {\"Day\": \"2016-01-07T09:08:00+00:00\"}, {\"Day\": \"2016-01-05T08:51:00+00:00\"}, {\"Day\": \"2016-01-06T17:48:00+00:00\"}, {\"Day\": \"2016-01-04T10:12:00+00:00\"}, {\"Day\": \"2016-01-07T07:48:00+00:00\"}, {\"Day\": \"2016-01-09T15:01:00+00:00\"}, {\"Day\": \"2016-01-07T08:54:00+00:00\"}, {\"Day\": \"2016-01-04T18:12:00+00:00\"}, {\"Day\": \"2016-01-05T20:02:00+00:00\"}, {\"Day\": \"2016-01-04T07:49:00+00:00\"}, {\"Day\": \"2016-01-04T08:07:00+00:00\"}, {\"Day\": \"2016-01-06T08:49:00+00:00\"}, {\"Day\": \"2016-01-08T20:02:00+00:00\"}, {\"Day\": \"2016-01-06T08:05:00+00:00\"}, {\"Day\": \"2016-01-07T08:01:00+00:00\"}, {\"Day\": \"2016-01-08T08:51:00+00:00\"}, {\"Day\": \"2016-01-04T15:45:00+00:00\"}, {\"Day\": \"2016-01-05T08:02:00+00:00\"}, {\"Day\": \"2016-01-04T08:55:00+00:00\"}, {\"Day\": \"2016-01-07T11:23:00+00:00\"}, {\"Day\": \"2016-01-05T09:53:00+00:00\"}, {\"Day\": \"2016-01-05T09:05:00+00:00\"}, {\"Day\": \"2016-01-07T07:48:00+00:00\"}, {\"Day\": \"2016-01-08T09:03:00+00:00\"}, {\"Day\": \"2016-01-07T09:05:00+00:00\"}, {\"Day\": \"2016-01-05T08:03:00+00:00\"}, {\"Day\": \"2016-01-06T08:05:00+00:00\"}, {\"Day\": \"2016-01-04T08:07:00+00:00\"}, {\"Day\": \"2016-01-04T08:12:00+00:00\"}, {\"Day\": \"2016-01-07T08:04:00+00:00\"}, {\"Day\": \"2016-01-04T08:11:00+00:00\"}, {\"Day\": \"2016-01-04T08:16:00+00:00\"}, {\"Day\": \"2016-01-06T12:19:00+00:00\"}, {\"Day\": \"2016-01-08T08:00:00+00:00\"}, {\"Day\": \"2016-01-07T08:05:00+00:00\"}, {\"Day\": \"2016-01-09T10:16:00+00:00\"}, {\"Day\": \"2016-01-04T18:51:00+00:00\"}, {\"Day\": \"2016-01-05T19:27:00+00:00\"}, {\"Day\": \"2016-01-07T18:50:00+00:00\"}, {\"Day\": \"2016-01-06T08:11:00+00:00\"}, {\"Day\": \"2016-01-06T08:11:00+00:00\"}, {\"Day\": \"2016-01-06T07:51:00+00:00\"}, {\"Day\": \"2016-01-07T19:17:00+00:00\"}, {\"Day\": \"2016-01-08T09:10:00+00:00\"}, {\"Day\": \"2016-01-05T19:26:00+00:00\"}, {\"Day\": \"2016-01-08T09:03:00+00:00\"}, {\"Day\": \"2016-01-08T08:48:00+00:00\"}, {\"Day\": \"2016-01-04T08:09:00+00:00\"}, {\"Day\": \"2016-01-04T12:26:00+00:00\"}, {\"Day\": \"2016-01-05T07:50:00+00:00\"}, {\"Day\": \"2016-01-04T07:51:00+00:00\"}, {\"Day\": \"2016-01-08T07:51:00+00:00\"}, {\"Day\": \"2016-01-07T07:49:00+00:00\"}, {\"Day\": \"2016-01-04T09:08:00+00:00\"}, {\"Day\": \"2016-01-01T13:50:00+00:00\"}, {\"Day\": \"2016-01-04T08:13:00+00:00\"}, {\"Day\": \"2016-01-05T08:08:00+00:00\"}, {\"Day\": \"2016-01-04T08:09:00+00:00\"}, {\"Day\": \"2016-01-07T08:07:00+00:00\"}, {\"Day\": \"2016-01-07T12:48:00+00:00\"}, {\"Day\": \"2016-01-06T08:11:00+00:00\"}, {\"Day\": \"2016-01-08T09:02:00+00:00\"}, {\"Day\": \"2016-01-08T09:03:00+00:00\"}, {\"Day\": \"2016-01-08T08:55:00+00:00\"}, {\"Day\": \"2016-01-08T07:58:00+00:00\"}, {\"Day\": \"2016-01-04T07:52:00+00:00\"}, {\"Day\": \"2016-01-07T08:56:00+00:00\"}, {\"Day\": \"2016-01-08T12:59:00+00:00\"}, {\"Day\": \"2016-01-01T06:17:00+00:00\"}, {\"Day\": \"2016-01-04T10:52:00+00:00\"}, {\"Day\": \"2016-01-04T08:30:00+00:00\"}, {\"Day\": \"2016-01-07T10:14:00+00:00\"}, {\"Day\": \"2016-01-09T21:49:00+00:00\"}, {\"Day\": \"2016-01-08T09:49:00+00:00\"}, {\"Day\": \"2016-01-04T09:56:00+00:00\"}, {\"Day\": \"2016-01-06T10:08:00+00:00\"}, {\"Day\": \"2016-01-06T09:42:00+00:00\"}, {\"Day\": \"2016-01-02T13:44:00+00:00\"}, {\"Day\": \"2016-01-08T13:05:00+00:00\"}, {\"Day\": \"2016-01-05T08:55:00+00:00\"}, {\"Day\": \"2016-01-08T09:11:00+00:00\"}, {\"Day\": \"2016-01-05T15:33:00+00:00\"}, {\"Day\": \"2016-01-07T16:44:00+00:00\"}, {\"Day\": \"2016-01-07T16:51:00+00:00\"}, {\"Day\": \"2016-01-06T16:40:00+00:00\"}, {\"Day\": \"2016-01-07T07:29:00+00:00\"}, {\"Day\": \"2016-01-07T10:48:00+00:00\"}, {\"Day\": \"2016-01-05T18:46:00+00:00\"}, {\"Day\": \"2016-01-04T18:31:00+00:00\"}, {\"Day\": \"2016-01-08T10:11:00+00:00\"}, {\"Day\": \"2016-01-03T01:33:00+00:00\"}, {\"Day\": \"2016-01-08T15:49:00+00:00\"}, {\"Day\": \"2016-01-04T15:17:00+00:00\"}, {\"Day\": \"2016-01-06T15:15:00+00:00\"}, {\"Day\": \"2016-01-07T09:09:00+00:00\"}, {\"Day\": \"2016-01-08T09:26:00+00:00\"}, {\"Day\": \"2016-01-07T09:55:00+00:00\"}, {\"Day\": \"2016-01-07T08:53:00+00:00\"}, {\"Day\": \"2016-01-04T17:33:00+00:00\"}, {\"Day\": \"2016-01-05T08:49:00+00:00\"}, {\"Day\": \"2016-01-08T08:52:00+00:00\"}, {\"Day\": \"2016-01-05T09:05:00+00:00\"}, {\"Day\": \"2016-01-05T09:53:00+00:00\"}, {\"Day\": \"2016-01-08T08:04:00+00:00\"}, {\"Day\": \"2016-01-06T16:04:00+00:00\"}, {\"Day\": \"2016-01-08T08:50:00+00:00\"}, {\"Day\": \"2016-01-05T08:10:00+00:00\"}, {\"Day\": \"2016-01-04T09:07:00+00:00\"}, {\"Day\": \"2016-01-04T08:06:00+00:00\"}, {\"Day\": \"2016-01-06T07:09:00+00:00\"}, {\"Day\": \"2016-01-07T09:10:00+00:00\"}, {\"Day\": \"2016-01-04T08:21:00+00:00\"}, {\"Day\": \"2016-01-04T10:13:00+00:00\"}, {\"Day\": \"2016-01-08T08:00:00+00:00\"}, {\"Day\": \"2016-01-08T09:28:00+00:00\"}, {\"Day\": \"2016-01-07T20:13:00+00:00\"}, {\"Day\": \"2016-01-04T17:49:00+00:00\"}, {\"Day\": \"2016-01-08T08:51:00+00:00\"}, {\"Day\": \"2016-01-07T07:51:00+00:00\"}, {\"Day\": \"2016-01-07T07:22:00+00:00\"}, {\"Day\": \"2016-01-04T08:55:00+00:00\"}, {\"Day\": \"2016-01-04T08:56:00+00:00\"}, {\"Day\": \"2016-01-07T08:52:00+00:00\"}, {\"Day\": \"2016-01-08T08:48:00+00:00\"}, {\"Day\": \"2016-01-07T08:53:00+00:00\"}, {\"Day\": \"2016-01-08T09:05:00+00:00\"}, {\"Day\": \"2016-01-04T22:21:00+00:00\"}, {\"Day\": \"2016-01-04T18:16:00+00:00\"}, {\"Day\": \"2016-01-08T08:52:00+00:00\"}, {\"Day\": \"2016-01-04T17:08:00+00:00\"}, {\"Day\": \"2016-01-05T16:48:00+00:00\"}, {\"Day\": \"2016-01-07T08:55:00+00:00\"}, {\"Day\": \"2016-01-06T17:36:00+00:00\"}, {\"Day\": \"2016-01-08T09:10:00+00:00\"}, {\"Day\": \"2016-01-07T08:52:00+00:00\"}, {\"Day\": \"2016-01-08T09:26:00+00:00\"}, {\"Day\": \"2016-01-04T08:08:00+00:00\"}, {\"Day\": \"2016-01-05T18:06:00+00:00\"}, {\"Day\": \"2016-01-08T09:15:00+00:00\"}, {\"Day\": \"2016-01-08T15:50:00+00:00\"}, {\"Day\": \"2016-01-08T08:04:00+00:00\"}, {\"Day\": \"2016-01-05T17:30:00+00:00\"}, {\"Day\": \"2016-01-07T08:03:00+00:00\"}, {\"Day\": \"2016-01-07T08:56:00+00:00\"}, {\"Day\": \"2016-01-08T15:54:00+00:00\"}, {\"Day\": \"2016-01-07T08:06:00+00:00\"}, {\"Day\": \"2016-01-03T15:10:00+00:00\"}, {\"Day\": \"2016-01-05T07:48:00+00:00\"}, {\"Day\": \"2016-01-06T08:28:00+00:00\"}, {\"Day\": \"2016-01-08T10:10:00+00:00\"}, {\"Day\": \"2016-01-07T08:06:00+00:00\"}, {\"Day\": \"2016-01-07T17:26:00+00:00\"}, {\"Day\": \"2016-01-08T07:58:00+00:00\"}, {\"Day\": \"2016-01-06T07:48:00+00:00\"}, {\"Day\": \"2016-01-07T08:53:00+00:00\"}, {\"Day\": \"2016-01-04T17:12:00+00:00\"}, {\"Day\": \"2016-01-08T07:51:00+00:00\"}, {\"Day\": \"2016-01-03T16:15:00+00:00\"}, {\"Day\": \"2016-01-03T13:14:00+00:00\"}, {\"Day\": \"2016-01-03T16:15:00+00:00\"}, {\"Day\": \"2016-01-06T19:33:00+00:00\"}, {\"Day\": \"2016-01-08T11:21:00+00:00\"}, {\"Day\": \"2016-01-04T09:32:00+00:00\"}, {\"Day\": \"2016-01-05T07:51:00+00:00\"}, {\"Day\": \"2016-01-07T07:22:00+00:00\"}, {\"Day\": \"2016-01-07T10:49:00+00:00\"}, {\"Day\": \"2016-01-04T16:39:00+00:00\"}, {\"Day\": \"2016-01-04T07:51:00+00:00\"}, {\"Day\": \"2016-01-05T15:59:00+00:00\"}, {\"Day\": \"2016-01-07T08:55:00+00:00\"}, {\"Day\": \"2016-01-07T09:58:00+00:00\"}, {\"Day\": \"2016-01-08T18:04:00+00:00\"}, {\"Day\": \"2016-01-07T09:12:00+00:00\"}, {\"Day\": \"2016-01-07T16:35:00+00:00\"}, {\"Day\": \"2016-01-04T08:54:00+00:00\"}, {\"Day\": \"2016-01-05T08:48:00+00:00\"}, {\"Day\": \"2016-01-07T08:05:00+00:00\"}, {\"Day\": \"2016-01-04T09:51:00+00:00\"}, {\"Day\": \"2016-01-08T07:53:00+00:00\"}, {\"Day\": \"2016-01-08T09:51:00+00:00\"}, {\"Day\": \"2016-01-07T10:48:00+00:00\"}, {\"Day\": \"2016-01-04T07:29:00+00:00\"}, {\"Day\": \"2016-01-08T11:20:00+00:00\"}, {\"Day\": \"2016-01-07T07:50:00+00:00\"}, {\"Day\": \"2016-01-08T08:50:00+00:00\"}, {\"Day\": \"2016-01-08T09:49:00+00:00\"}, {\"Day\": \"2016-01-06T07:28:00+00:00\"}, {\"Day\": \"2016-01-07T22:04:00+00:00\"}, {\"Day\": \"2016-01-02T12:19:00+00:00\"}, {\"Day\": \"2016-01-08T07:37:00+00:00\"}, {\"Day\": \"2016-01-05T07:28:00+00:00\"}, {\"Day\": \"2016-01-04T20:01:00+00:00\"}, {\"Day\": \"2016-01-08T18:46:00+00:00\"}, {\"Day\": \"2016-01-08T17:42:00+00:00\"}, {\"Day\": \"2016-01-06T09:47:00+00:00\"}, {\"Day\": \"2016-01-07T07:05:00+00:00\"}, {\"Day\": \"2016-01-08T09:25:00+00:00\"}, {\"Day\": \"2016-01-04T09:03:00+00:00\"}, {\"Day\": \"2016-01-08T10:08:00+00:00\"}, {\"Day\": \"2016-01-06T09:00:00+00:00\"}, {\"Day\": \"2016-01-05T09:25:00+00:00\"}, {\"Day\": \"2016-01-04T10:12:00+00:00\"}, {\"Day\": \"2016-01-05T08:24:00+00:00\"}, {\"Day\": \"2016-01-07T08:51:00+00:00\"}, {\"Day\": \"2016-01-06T17:55:00+00:00\"}, {\"Day\": \"2016-01-08T08:24:00+00:00\"}, {\"Day\": \"2016-01-05T07:29:00+00:00\"}, {\"Day\": \"2016-01-05T08:51:00+00:00\"}, {\"Day\": \"2016-01-06T10:48:00+00:00\"}, {\"Day\": \"2016-01-02T11:44:00+00:00\"}, {\"Day\": \"2016-01-05T10:43:00+00:00\"}, {\"Day\": \"2016-01-04T09:06:00+00:00\"}, {\"Day\": \"2016-01-07T08:23:00+00:00\"}, {\"Day\": \"2016-01-05T08:04:00+00:00\"}, {\"Day\": \"2016-01-08T07:09:00+00:00\"}, {\"Day\": \"2016-01-06T08:06:00+00:00\"}, {\"Day\": \"2016-01-07T08:54:00+00:00\"}, {\"Day\": \"2016-01-06T10:46:00+00:00\"}, {\"Day\": \"2016-01-06T08:51:00+00:00\"}, {\"Day\": \"2016-01-07T10:00:00+00:00\"}, {\"Day\": \"2016-01-07T10:02:00+00:00\"}, {\"Day\": \"2016-01-06T08:23:00+00:00\"}, {\"Day\": \"2016-01-04T08:13:00+00:00\"}, {\"Day\": \"2016-01-05T09:03:00+00:00\"}, {\"Day\": \"2016-01-07T08:02:00+00:00\"}, {\"Day\": \"2016-01-07T09:55:00+00:00\"}, {\"Day\": \"2016-01-05T08:52:00+00:00\"}, {\"Day\": \"2016-01-08T19:25:00+00:00\"}, {\"Day\": \"2016-01-08T08:51:00+00:00\"}, {\"Day\": \"2016-01-05T08:11:00+00:00\"}, {\"Day\": \"2016-01-04T08:13:00+00:00\"}, {\"Day\": \"2016-01-04T08:54:00+00:00\"}, {\"Day\": \"2016-01-07T06:45:00+00:00\"}, {\"Day\": \"2016-01-04T09:03:00+00:00\"}, {\"Day\": \"2016-01-05T10:09:00+00:00\"}, {\"Day\": \"2016-01-08T08:23:00+00:00\"}, {\"Day\": \"2016-01-05T09:16:00+00:00\"}, {\"Day\": \"2016-01-06T08:13:00+00:00\"}, {\"Day\": \"2016-01-07T11:25:00+00:00\"}, {\"Day\": \"2016-01-07T17:50:00+00:00\"}, {\"Day\": \"2016-01-07T07:51:00+00:00\"}, {\"Day\": \"2016-01-07T08:54:00+00:00\"}, {\"Day\": \"2016-01-08T17:33:00+00:00\"}, {\"Day\": \"2016-01-08T08:23:00+00:00\"}, {\"Day\": \"2016-01-04T17:33:00+00:00\"}, {\"Day\": \"2016-01-06T07:31:00+00:00\"}, {\"Day\": \"2016-01-06T08:09:00+00:00\"}, {\"Day\": \"2016-01-03T15:41:00+00:00\"}, {\"Day\": \"2016-01-05T09:25:00+00:00\"}, {\"Day\": \"2016-01-07T18:48:00+00:00\"}, {\"Day\": \"2016-01-05T17:32:00+00:00\"}, {\"Day\": \"2016-01-05T07:30:00+00:00\"}, {\"Day\": \"2016-01-07T17:34:00+00:00\"}, {\"Day\": \"2016-01-05T09:02:00+00:00\"}, {\"Day\": \"2016-01-08T09:01:00+00:00\"}, {\"Day\": \"2016-01-04T07:34:00+00:00\"}, {\"Day\": \"2016-01-07T20:04:00+00:00\"}, {\"Day\": \"2016-01-08T07:07:00+00:00\"}, {\"Day\": \"2016-01-06T08:06:00+00:00\"}, {\"Day\": \"2016-01-07T08:03:00+00:00\"}, {\"Day\": \"2016-01-07T17:03:00+00:00\"}, {\"Day\": \"2016-01-04T07:09:00+00:00\"}, {\"Day\": \"2016-01-05T08:03:00+00:00\"}, {\"Day\": \"2016-01-08T07:32:00+00:00\"}, {\"Day\": \"2016-01-07T07:08:00+00:00\"}, {\"Day\": \"2016-01-07T09:06:00+00:00\"}, {\"Day\": \"2016-01-05T19:25:00+00:00\"}, {\"Day\": \"2016-01-05T18:52:00+00:00\"}, {\"Day\": \"2016-01-07T18:35:00+00:00\"}, {\"Day\": \"2016-01-04T19:05:00+00:00\"}, {\"Day\": \"2016-01-07T19:04:00+00:00\"}, {\"Day\": \"2016-01-08T17:42:00+00:00\"}, {\"Day\": \"2016-01-06T18:06:00+00:00\"}, {\"Day\": \"2016-01-07T18:35:00+00:00\"}, {\"Day\": \"2016-01-08T07:45:00+00:00\"}, {\"Day\": \"2016-01-07T18:05:00+00:00\"}, {\"Day\": \"2016-01-07T19:04:00+00:00\"}, {\"Day\": \"2016-01-08T18:14:00+00:00\"}, {\"Day\": \"2016-01-06T07:56:00+00:00\"}, {\"Day\": \"2016-01-07T07:48:00+00:00\"}, {\"Day\": \"2016-01-05T07:14:00+00:00\"}, {\"Day\": \"2016-01-05T06:46:00+00:00\"}, {\"Day\": \"2016-01-05T07:47:00+00:00\"}, {\"Day\": \"2016-01-07T08:01:00+00:00\"}, {\"Day\": \"2016-01-07T07:46:00+00:00\"}, {\"Day\": \"2016-01-06T06:45:00+00:00\"}, {\"Day\": \"2016-01-07T07:48:00+00:00\"}, {\"Day\": \"2016-01-08T06:45:00+00:00\"}, {\"Day\": \"2016-01-04T06:48:00+00:00\"}, {\"Day\": \"2016-01-04T07:49:00+00:00\"}, {\"Day\": \"2016-01-05T06:47:00+00:00\"}, {\"Day\": \"2016-01-07T06:49:00+00:00\"}, {\"Day\": \"2016-01-08T07:49:00+00:00\"}, {\"Day\": \"2016-01-08T07:23:00+00:00\"}, {\"Day\": \"2016-01-05T08:52:00+00:00\"}, {\"Day\": \"2016-01-06T08:28:00+00:00\"}, {\"Day\": \"2016-01-05T08:12:00+00:00\"}, {\"Day\": \"2016-01-05T07:15:00+00:00\"}, {\"Day\": \"2016-01-06T08:52:00+00:00\"}, {\"Day\": \"2016-01-04T07:52:00+00:00\"}, {\"Day\": \"2016-01-07T07:06:00+00:00\"}, {\"Day\": \"2016-01-04T07:10:00+00:00\"}, {\"Day\": \"2016-01-07T06:47:00+00:00\"}, {\"Day\": \"2016-01-04T09:14:00+00:00\"}, {\"Day\": \"2016-01-05T09:20:00+00:00\"}, {\"Day\": \"2016-01-08T06:45:00+00:00\"}, {\"Day\": \"2016-01-06T08:49:00+00:00\"}, {\"Day\": \"2016-01-04T06:46:00+00:00\"}, {\"Day\": \"2016-01-04T08:09:00+00:00\"}, {\"Day\": \"2016-01-05T06:45:00+00:00\"}, {\"Day\": \"2016-01-06T06:45:00+00:00\"}, {\"Day\": \"2016-01-08T07:50:00+00:00\"}, {\"Day\": \"2016-01-08T17:01:00+00:00\"}, {\"Day\": \"2016-01-05T19:31:00+00:00\"}, {\"Day\": \"2016-01-06T17:32:00+00:00\"}, {\"Day\": \"2016-01-07T17:05:00+00:00\"}, {\"Day\": \"2016-01-06T16:39:00+00:00\"}, {\"Day\": \"2016-01-06T18:52:00+00:00\"}, {\"Day\": \"2016-01-08T19:04:00+00:00\"}, {\"Day\": \"2016-01-09T00:10:00+00:00\"}, {\"Day\": \"2016-01-07T18:34:00+00:00\"}, {\"Day\": \"2016-01-04T07:48:00+00:00\"}, {\"Day\": \"2016-01-04T09:07:00+00:00\"}, {\"Day\": \"2016-01-07T08:09:00+00:00\"}, {\"Day\": \"2016-01-06T08:14:00+00:00\"}, {\"Day\": \"2016-01-04T07:36:00+00:00\"}, {\"Day\": \"2016-01-06T08:08:00+00:00\"}, {\"Day\": \"2016-01-06T07:12:00+00:00\"}, {\"Day\": \"2016-01-07T08:11:00+00:00\"}, {\"Day\": \"2016-01-08T07:53:00+00:00\"}, {\"Day\": \"2016-01-07T18:35:00+00:00\"}, {\"Day\": \"2016-01-05T07:14:00+00:00\"}, {\"Day\": \"2016-01-08T17:28:00+00:00\"}, {\"Day\": \"2016-01-08T07:49:00+00:00\"}, {\"Day\": \"2016-01-04T08:54:00+00:00\"}, {\"Day\": \"2016-01-08T19:01:00+00:00\"}, {\"Day\": \"2016-01-07T10:34:00+00:00\"}, {\"Day\": \"2016-01-07T08:51:00+00:00\"}, {\"Day\": \"2016-01-07T09:55:00+00:00\"}, {\"Day\": \"2016-01-05T07:14:00+00:00\"}, {\"Day\": \"2016-01-09T11:01:00+00:00\"}, {\"Day\": \"2016-01-05T13:08:00+00:00\"}, {\"Day\": \"2016-01-08T08:06:00+00:00\"}, {\"Day\": \"2016-01-04T09:29:00+00:00\"}, {\"Day\": \"2016-01-04T08:11:00+00:00\"}, {\"Day\": \"2016-01-08T09:25:00+00:00\"}, {\"Day\": \"2016-01-05T09:15:00+00:00\"}, {\"Day\": \"2016-01-06T16:35:00+00:00\"}, {\"Day\": \"2016-01-08T09:11:00+00:00\"}, {\"Day\": \"2016-01-08T08:47:00+00:00\"}, {\"Day\": \"2016-01-05T09:13:00+00:00\"}, {\"Day\": \"2016-01-07T09:07:00+00:00\"}, {\"Day\": \"2016-01-05T09:13:00+00:00\"}, {\"Day\": \"2016-01-08T18:12:00+00:00\"}, {\"Day\": \"2016-01-08T09:01:00+00:00\"}, {\"Day\": \"2016-01-04T14:18:00+00:00\"}, {\"Day\": \"2016-01-08T08:51:00+00:00\"}, {\"Day\": \"2016-01-06T16:03:00+00:00\"}, {\"Day\": \"2016-01-04T07:49:00+00:00\"}, {\"Day\": \"2016-01-08T07:50:00+00:00\"}, {\"Day\": \"2016-01-06T10:09:00+00:00\"}, {\"Day\": \"2016-01-08T09:25:00+00:00\"}, {\"Day\": \"2016-01-06T08:28:00+00:00\"}, {\"Day\": \"2016-01-04T10:10:00+00:00\"}, {\"Day\": \"2016-01-04T07:50:00+00:00\"}, {\"Day\": \"2016-01-04T08:45:00+00:00\"}, {\"Day\": \"2016-01-07T08:23:00+00:00\"}, {\"Day\": \"2016-01-07T09:26:00+00:00\"}, {\"Day\": \"2016-01-07T08:32:00+00:00\"}, {\"Day\": \"2016-01-07T07:48:00+00:00\"}, {\"Day\": \"2016-01-05T08:05:00+00:00\"}, {\"Day\": \"2016-01-08T09:50:00+00:00\"}, {\"Day\": \"2016-01-05T07:49:00+00:00\"}, {\"Day\": \"2016-01-04T07:31:00+00:00\"}, {\"Day\": \"2016-01-07T07:23:00+00:00\"}, {\"Day\": \"2016-01-03T22:04:00+00:00\"}, {\"Day\": \"2016-01-07T19:10:00+00:00\"}, {\"Day\": \"2016-01-06T09:27:00+00:00\"}, {\"Day\": \"2016-01-05T17:38:00+00:00\"}, {\"Day\": \"2016-01-07T18:02:00+00:00\"}, {\"Day\": \"2016-01-05T07:29:00+00:00\"}, {\"Day\": \"2016-01-04T09:17:00+00:00\"}, {\"Day\": \"2016-01-05T09:13:00+00:00\"}, {\"Day\": \"2016-01-06T18:30:00+00:00\"}, {\"Day\": \"2016-01-02T12:30:00+00:00\"}, {\"Day\": \"2016-01-07T18:34:00+00:00\"}, {\"Day\": \"2016-01-08T17:27:00+00:00\"}, {\"Day\": \"2016-01-04T18:04:00+00:00\"}, {\"Day\": \"2016-01-01T13:04:00+00:00\"}, {\"Day\": \"2016-01-06T09:02:00+00:00\"}, {\"Day\": \"2016-01-04T09:50:00+00:00\"}, {\"Day\": \"2016-01-08T09:11:00+00:00\"}, {\"Day\": \"2016-01-08T07:49:00+00:00\"}, {\"Day\": \"2016-01-04T08:56:00+00:00\"}, {\"Day\": \"2016-01-07T07:28:00+00:00\"}, {\"Day\": \"2016-01-07T16:03:00+00:00\"}, {\"Day\": \"2016-01-08T09:49:00+00:00\"}, {\"Day\": \"2016-01-04T07:49:00+00:00\"}, {\"Day\": \"2016-01-05T09:03:00+00:00\"}, {\"Day\": \"2016-01-06T08:50:00+00:00\"}, {\"Day\": \"2016-01-08T12:44:00+00:00\"}, {\"Day\": \"2016-01-04T09:06:00+00:00\"}, {\"Day\": \"2016-01-05T12:50:00+00:00\"}, {\"Day\": \"2016-01-07T08:52:00+00:00\"}, {\"Day\": \"2016-01-05T09:18:00+00:00\"}, {\"Day\": \"2016-01-05T07:14:00+00:00\"}, {\"Day\": \"2016-01-05T09:05:00+00:00\"}, {\"Day\": \"2016-01-07T17:11:00+00:00\"}, {\"Day\": \"2016-01-08T07:04:00+00:00\"}, {\"Day\": \"2016-01-04T17:26:00+00:00\"}, {\"Day\": \"2016-01-06T17:51:00+00:00\"}, {\"Day\": \"2016-01-06T17:42:00+00:00\"}, {\"Day\": \"2016-01-05T17:46:00+00:00\"}, {\"Day\": \"2016-01-04T08:56:00+00:00\"}, {\"Day\": \"2016-01-04T07:55:00+00:00\"}, {\"Day\": \"2016-01-07T08:02:00+00:00\"}, {\"Day\": \"2016-01-08T08:49:00+00:00\"}, {\"Day\": \"2016-01-07T07:51:00+00:00\"}, {\"Day\": \"2016-01-04T08:10:00+00:00\"}, {\"Day\": \"2016-01-05T14:50:00+00:00\"}, {\"Day\": \"2016-01-04T17:28:00+00:00\"}, {\"Day\": \"2016-01-08T07:52:00+00:00\"}, {\"Day\": \"2016-01-06T17:29:00+00:00\"}, {\"Day\": \"2016-01-08T07:51:00+00:00\"}, {\"Day\": \"2016-01-08T07:23:00+00:00\"}, {\"Day\": \"2016-01-02T08:40:00+00:00\"}, {\"Day\": \"2016-01-04T09:18:00+00:00\"}, {\"Day\": \"2016-01-05T19:05:00+00:00\"}, {\"Day\": \"2016-01-07T18:46:00+00:00\"}, {\"Day\": \"2016-01-05T09:14:00+00:00\"}, {\"Day\": \"2016-01-09T09:39:00+00:00\"}, {\"Day\": \"2016-01-07T09:10:00+00:00\"}, {\"Day\": \"2016-01-08T09:10:00+00:00\"}, {\"Day\": \"2016-01-06T19:26:00+00:00\"}, {\"Day\": \"2016-01-06T19:34:00+00:00\"}, {\"Day\": \"2016-01-06T09:50:00+00:00\"}, {\"Day\": \"2016-01-04T17:30:00+00:00\"}, {\"Day\": \"2016-01-07T19:27:00+00:00\"}, {\"Day\": \"2016-01-05T19:26:00+00:00\"}, {\"Day\": \"2016-01-04T17:49:00+00:00\"}, {\"Day\": \"2016-01-09T10:35:00+00:00\"}, {\"Day\": \"2016-01-07T17:20:00+00:00\"}, {\"Day\": \"2016-01-05T07:15:00+00:00\"}, {\"Day\": \"2016-01-07T23:02:00+00:00\"}, {\"Day\": \"2016-01-04T21:08:00+00:00\"}, {\"Day\": \"2016-01-05T08:10:00+00:00\"}, {\"Day\": \"2016-01-05T07:48:00+00:00\"}, {\"Day\": \"2016-01-04T12:54:00+00:00\"}, {\"Day\": \"2016-01-04T09:17:00+00:00\"}, {\"Day\": \"2016-01-06T06:47:00+00:00\"}, {\"Day\": \"2016-01-04T07:49:00+00:00\"}, {\"Day\": \"2016-01-06T18:30:00+00:00\"}, {\"Day\": \"2016-01-04T08:52:00+00:00\"}, {\"Day\": \"2016-01-05T16:14:00+00:00\"}, {\"Day\": \"2016-01-08T07:24:00+00:00\"}, {\"Day\": \"2016-01-03T09:52:00+00:00\"}, {\"Day\": \"2016-01-07T06:08:00+00:00\"}, {\"Day\": \"2016-01-08T17:48:00+00:00\"}, {\"Day\": \"2016-01-07T15:25:00+00:00\"}, {\"Day\": \"2016-01-08T06:44:00+00:00\"}, {\"Day\": \"2016-01-04T07:50:00+00:00\"}, {\"Day\": \"2016-01-04T08:11:00+00:00\"}, {\"Day\": \"2016-01-05T17:28:00+00:00\"}, {\"Day\": \"2016-01-07T17:30:00+00:00\"}, {\"Day\": \"2016-01-05T07:43:00+00:00\"}, {\"Day\": \"2016-01-07T07:42:00+00:00\"}, {\"Day\": \"2016-01-08T07:06:00+00:00\"}, {\"Day\": \"2016-01-06T17:55:00+00:00\"}, {\"Day\": \"2016-01-01T15:14:00+00:00\"}, {\"Day\": \"2016-01-04T18:29:00+00:00\"}, {\"Day\": \"2016-01-04T06:46:00+00:00\"}, {\"Day\": \"2016-01-06T08:26:00+00:00\"}, {\"Day\": \"2016-01-04T07:43:00+00:00\"}, {\"Day\": \"2016-01-07T14:52:00+00:00\"}, {\"Day\": \"2016-01-04T08:55:00+00:00\"}, {\"Day\": \"2016-01-06T08:09:00+00:00\"}, {\"Day\": \"2016-01-07T18:23:00+00:00\"}, {\"Day\": \"2016-01-04T08:54:00+00:00\"}, {\"Day\": \"2016-01-07T07:48:00+00:00\"}, {\"Day\": \"2016-01-08T07:46:00+00:00\"}, {\"Day\": \"2016-01-06T07:44:00+00:00\"}, {\"Day\": \"2016-01-08T08:03:00+00:00\"}, {\"Day\": \"2016-01-08T18:13:00+00:00\"}, {\"Day\": \"2016-01-08T09:03:00+00:00\"}, {\"Day\": \"2016-01-07T09:07:00+00:00\"}, {\"Day\": \"2016-01-08T11:20:00+00:00\"}, {\"Day\": \"2016-01-07T10:14:00+00:00\"}, {\"Day\": \"2016-01-08T07:24:00+00:00\"}, {\"Day\": \"2016-01-08T07:23:00+00:00\"}, {\"Day\": \"2016-01-06T10:08:00+00:00\"}, {\"Day\": \"2016-01-04T16:41:00+00:00\"}, {\"Day\": \"2016-01-05T06:45:00+00:00\"}, {\"Day\": \"2016-01-05T09:06:00+00:00\"}, {\"Day\": \"2016-01-04T10:49:00+00:00\"}, {\"Day\": \"2016-01-05T08:51:00+00:00\"}, {\"Day\": \"2016-01-05T11:21:00+00:00\"}, {\"Day\": \"2016-01-07T06:46:00+00:00\"}, {\"Day\": \"2016-01-08T08:52:00+00:00\"}, {\"Day\": \"2016-01-04T10:12:00+00:00\"}, {\"Day\": \"2016-01-06T09:49:00+00:00\"}, {\"Day\": \"2016-01-08T11:26:00+00:00\"}, {\"Day\": \"2016-01-06T17:29:00+00:00\"}, {\"Day\": \"2016-01-06T08:51:00+00:00\"}, {\"Day\": \"2016-01-08T06:44:00+00:00\"}, {\"Day\": \"2016-01-01T00:01:00+00:00\"}, {\"Day\": \"2016-01-04T08:54:00+00:00\"}, {\"Day\": \"2016-01-07T07:23:00+00:00\"}, {\"Day\": \"2016-01-04T06:46:00+00:00\"}, {\"Day\": \"2016-01-06T10:48:00+00:00\"}, {\"Day\": \"2016-01-05T09:54:00+00:00\"}, {\"Day\": \"2016-01-06T12:47:00+00:00\"}, {\"Day\": \"2016-01-05T10:45:00+00:00\"}, {\"Day\": \"2016-01-07T07:46:00+00:00\"}, {\"Day\": \"2016-01-07T17:35:00+00:00\"}, {\"Day\": \"2016-01-04T11:27:00+00:00\"}, {\"Day\": \"2016-01-06T17:44:00+00:00\"}, {\"Day\": \"2016-01-04T09:50:00+00:00\"}, {\"Day\": \"2016-01-05T20:02:00+00:00\"}, {\"Day\": \"2016-01-06T18:07:00+00:00\"}, {\"Day\": \"2016-01-04T18:33:00+00:00\"}, {\"Day\": \"2016-01-08T18:46:00+00:00\"}, {\"Day\": \"2016-01-06T09:18:00+00:00\"}, {\"Day\": \"2016-01-07T09:03:00+00:00\"}, {\"Day\": \"2016-01-04T08:11:00+00:00\"}, {\"Day\": \"2016-01-08T08:59:00+00:00\"}, {\"Day\": \"2016-01-04T09:02:00+00:00\"}, {\"Day\": \"2016-01-02T16:45:00+00:00\"}, {\"Day\": \"2016-01-08T08:51:00+00:00\"}, {\"Day\": \"2016-01-04T13:23:00+00:00\"}, {\"Day\": \"2016-01-04T08:04:00+00:00\"}, {\"Day\": \"2016-01-04T07:31:00+00:00\"}, {\"Day\": \"2016-01-06T12:06:00+00:00\"}, {\"Day\": \"2016-01-08T11:57:00+00:00\"}, {\"Day\": \"2016-01-06T11:23:00+00:00\"}, {\"Day\": \"2016-01-04T08:39:00+00:00\"}, {\"Day\": \"2016-01-06T08:39:00+00:00\"}, {\"Day\": \"2016-01-05T08:46:00+00:00\"}, {\"Day\": \"2016-01-07T22:40:00+00:00\"}, {\"Day\": \"2016-01-06T10:15:00+00:00\"}, {\"Day\": \"2016-01-07T22:40:00+00:00\"}, {\"Day\": \"2016-01-03T09:22:00+00:00\"}, {\"Day\": \"2016-01-07T16:10:00+00:00\"}, {\"Day\": \"2016-01-03T10:57:00+00:00\"}, {\"Day\": \"2016-01-08T10:31:00+00:00\"}, {\"Day\": \"2016-01-08T06:09:00+00:00\"}, {\"Day\": \"2016-01-02T12:53:00+00:00\"}, {\"Day\": \"2016-01-08T06:35:00+00:00\"}, {\"Day\": \"2016-01-08T11:37:00+00:00\"}, {\"Day\": \"2016-01-05T20:47:00+00:00\"}, {\"Day\": \"2016-01-07T06:07:00+00:00\"}, {\"Day\": \"2016-01-04T05:34:00+00:00\"}, {\"Day\": \"2016-01-07T10:50:00+00:00\"}, {\"Day\": \"2016-01-07T07:08:00+00:00\"}, {\"Day\": \"2016-01-05T09:37:00+00:00\"}, {\"Day\": \"2016-01-06T09:18:00+00:00\"}, {\"Day\": \"2016-01-07T09:31:00+00:00\"}, {\"Day\": \"2016-01-08T09:06:00+00:00\"}, {\"Day\": \"2016-01-06T19:04:00+00:00\"}, {\"Day\": \"2016-01-05T18:32:00+00:00\"}, {\"Day\": \"2016-01-03T09:33:00+00:00\"}, {\"Day\": \"2016-01-07T10:16:00+00:00\"}, {\"Day\": \"2016-01-05T22:26:00+00:00\"}, {\"Day\": \"2016-01-06T18:50:00+00:00\"}, {\"Day\": \"2016-01-04T17:34:00+00:00\"}, {\"Day\": \"2016-01-02T11:07:00+00:00\"}, {\"Day\": \"2016-01-03T10:50:00+00:00\"}, {\"Day\": \"2016-01-04T04:32:00+00:00\"}, {\"Day\": \"2016-01-02T12:59:00+00:00\"}, {\"Day\": \"2016-01-02T11:07:00+00:00\"}, {\"Day\": \"2016-01-08T16:37:00+00:00\"}, {\"Day\": \"2016-01-06T15:58:00+00:00\"}, {\"Day\": \"2016-01-03T06:30:00+00:00\"}, {\"Day\": \"2016-01-09T17:57:00+00:00\"}, {\"Day\": \"2016-01-04T08:03:00+00:00\"}, {\"Day\": \"2016-01-03T10:43:00+00:00\"}, {\"Day\": \"2016-01-04T07:18:00+00:00\"}, {\"Day\": \"2016-01-05T06:26:00+00:00\"}, {\"Day\": \"2016-01-06T19:05:00+00:00\"}, {\"Day\": \"2016-01-08T12:01:00+00:00\"}, {\"Day\": \"2016-01-01T11:39:00+00:00\"}, {\"Day\": \"2016-01-01T11:39:00+00:00\"}, {\"Day\": \"2016-01-05T08:42:00+00:00\"}, {\"Day\": \"2016-01-04T08:25:00+00:00\"}, {\"Day\": \"2016-01-08T09:15:00+00:00\"}, {\"Day\": \"2016-01-04T07:42:00+00:00\"}, {\"Day\": \"2016-01-07T08:09:00+00:00\"}, {\"Day\": \"2016-01-08T16:33:00+00:00\"}, {\"Day\": \"2016-01-07T09:17:00+00:00\"}, {\"Day\": \"2016-01-08T18:58:00+00:00\"}, {\"Day\": \"2016-01-07T15:38:00+00:00\"}, {\"Day\": \"2016-01-01T17:59:00+00:00\"}, {\"Day\": \"2016-01-08T13:55:00+00:00\"}, {\"Day\": \"2016-01-05T11:46:00+00:00\"}, {\"Day\": \"2016-01-07T11:46:00+00:00\"}, {\"Day\": \"2016-01-04T11:55:00+00:00\"}, {\"Day\": \"2016-01-07T21:01:00+00:00\"}, {\"Day\": \"2016-01-07T20:51:00+00:00\"}, {\"Day\": \"2016-01-06T11:35:00+00:00\"}, {\"Day\": \"2016-01-05T19:23:00+00:00\"}, {\"Day\": \"2016-01-06T11:55:00+00:00\"}, {\"Day\": \"2016-01-02T15:31:00+00:00\"}, {\"Day\": \"2016-01-04T19:59:00+00:00\"}, {\"Day\": \"2016-01-07T15:05:00+00:00\"}, {\"Day\": \"2016-01-01T13:15:00+00:00\"}, {\"Day\": \"2016-01-01T13:15:00+00:00\"}, {\"Day\": \"2016-01-08T18:22:00+00:00\"}, {\"Day\": \"2016-01-07T10:08:00+00:00\"}, {\"Day\": \"2016-01-08T10:16:00+00:00\"}, {\"Day\": \"2016-01-06T21:05:00+00:00\"}, {\"Day\": \"2016-01-07T21:02:00+00:00\"}, {\"Day\": \"2016-01-08T08:54:00+00:00\"}, {\"Day\": \"2016-01-07T08:56:00+00:00\"}, {\"Day\": \"2016-01-05T07:27:00+00:00\"}, {\"Day\": \"2016-01-06T09:14:00+00:00\"}, {\"Day\": \"2016-01-01T08:19:00+00:00\"}, {\"Day\": \"2016-01-08T09:06:00+00:00\"}, {\"Day\": \"2016-01-07T07:22:00+00:00\"}, {\"Day\": \"2016-01-08T08:33:00+00:00\"}, {\"Day\": \"2016-01-07T07:58:00+00:00\"}, {\"Day\": \"2016-01-08T04:03:00+00:00\"}, {\"Day\": \"2016-01-05T07:21:00+00:00\"}, {\"Day\": \"2016-01-08T07:22:00+00:00\"}, {\"Day\": \"2016-01-08T08:22:00+00:00\"}, {\"Day\": \"2016-01-06T15:34:00+00:00\"}, {\"Day\": \"2016-01-08T08:43:00+00:00\"}, {\"Day\": \"2016-01-04T09:02:00+00:00\"}, {\"Day\": \"2016-01-05T09:08:00+00:00\"}, {\"Day\": \"2016-01-07T08:53:00+00:00\"}, {\"Day\": \"2016-01-07T08:06:00+00:00\"}, {\"Day\": \"2016-01-08T14:04:00+00:00\"}, {\"Day\": \"2016-01-04T12:01:00+00:00\"}, {\"Day\": \"2016-01-05T08:55:00+00:00\"}, {\"Day\": \"2016-01-04T16:22:00+00:00\"}, {\"Day\": \"2016-01-07T19:52:00+00:00\"}, {\"Day\": \"2016-01-04T16:32:00+00:00\"}, {\"Day\": \"2016-01-04T09:04:00+00:00\"}, {\"Day\": \"2016-01-08T08:13:00+00:00\"}, {\"Day\": \"2016-01-07T08:11:00+00:00\"}, {\"Day\": \"2016-01-02T05:10:00+00:00\"}, {\"Day\": \"2016-01-02T05:07:00+00:00\"}, {\"Day\": \"2016-01-06T17:55:00+00:00\"}, {\"Day\": \"2016-01-04T18:52:00+00:00\"}, {\"Day\": \"2016-01-08T12:36:00+00:00\"}, {\"Day\": \"2016-01-08T09:02:00+00:00\"}, {\"Day\": \"2016-01-07T09:31:00+00:00\"}, {\"Day\": \"2016-01-08T11:46:00+00:00\"}, {\"Day\": \"2016-01-08T09:43:00+00:00\"}, {\"Day\": \"2016-01-06T05:44:00+00:00\"}, {\"Day\": \"2016-01-06T16:13:00+00:00\"}, {\"Day\": \"2016-01-07T12:55:00+00:00\"}, {\"Day\": \"2016-01-04T12:55:00+00:00\"}, {\"Day\": \"2016-01-01T16:33:00+00:00\"}, {\"Day\": \"2016-01-01T16:33:00+00:00\"}, {\"Day\": \"2016-01-04T12:55:00+00:00\"}, {\"Day\": \"2016-01-08T10:24:00+00:00\"}, {\"Day\": \"2016-01-04T12:55:00+00:00\"}, {\"Day\": \"2016-01-04T12:56:00+00:00\"}, {\"Day\": \"2016-01-04T07:30:00+00:00\"}, {\"Day\": \"2016-01-08T09:24:00+00:00\"}, {\"Day\": \"2016-01-04T08:23:00+00:00\"}, {\"Day\": \"2016-01-07T07:59:00+00:00\"}, {\"Day\": \"2016-01-08T07:48:00+00:00\"}, {\"Day\": \"2016-01-07T10:13:00+00:00\"}, {\"Day\": \"2016-01-04T08:27:00+00:00\"}, {\"Day\": \"2016-01-05T16:49:00+00:00\"}, {\"Day\": \"2016-01-07T16:46:00+00:00\"}, {\"Day\": \"2016-01-07T10:52:00+00:00\"}, {\"Day\": \"2016-01-09T09:12:00+00:00\"}, {\"Day\": \"2016-01-01T09:40:00+00:00\"}, {\"Day\": \"2016-01-05T05:44:00+00:00\"}, {\"Day\": \"2016-01-02T13:59:00+00:00\"}, {\"Day\": \"2016-01-05T08:31:00+00:00\"}, {\"Day\": \"2016-01-06T14:07:00+00:00\"}, {\"Day\": \"2016-01-07T17:03:00+00:00\"}, {\"Day\": \"2016-01-08T16:45:00+00:00\"}, {\"Day\": \"2016-01-03T16:06:00+00:00\"}, {\"Day\": \"2016-01-03T19:20:00+00:00\"}, {\"Day\": \"2016-01-07T17:18:00+00:00\"}, {\"Day\": \"2016-01-07T07:48:00+00:00\"}, {\"Day\": \"2016-01-08T07:57:00+00:00\"}, {\"Day\": \"2016-01-05T08:02:00+00:00\"}, {\"Day\": \"2016-01-04T08:06:00+00:00\"}, {\"Day\": \"2016-01-07T12:41:00+00:00\"}, {\"Day\": \"2016-01-02T16:20:00+00:00\"}, {\"Day\": \"2016-01-09T15:28:00+00:00\"}, {\"Day\": \"2016-01-09T15:30:00+00:00\"}, {\"Day\": \"2016-01-09T15:29:00+00:00\"}, {\"Day\": \"2016-01-04T10:03:00+00:00\"}, {\"Day\": \"2016-01-06T10:56:00+00:00\"}, {\"Day\": \"2016-01-07T08:13:00+00:00\"}, {\"Day\": \"2016-01-08T15:42:00+00:00\"}, {\"Day\": \"2016-01-07T11:36:00+00:00\"}, {\"Day\": \"2016-01-07T18:33:00+00:00\"}, {\"Day\": \"2016-01-09T15:27:00+00:00\"}, {\"Day\": \"2016-01-08T12:15:00+00:00\"}, {\"Day\": \"2016-01-03T14:47:00+00:00\"}, {\"Day\": \"2016-01-03T10:36:00+00:00\"}, {\"Day\": \"2016-01-03T14:47:00+00:00\"}, {\"Day\": \"2016-01-03T10:36:00+00:00\"}, {\"Day\": \"2016-01-07T09:08:00+00:00\"}, {\"Day\": \"2016-01-05T17:37:00+00:00\"}, {\"Day\": \"2016-01-07T08:25:00+00:00\"}, {\"Day\": \"2016-01-08T08:02:00+00:00\"}, {\"Day\": \"2016-01-05T09:05:00+00:00\"}, {\"Day\": \"2016-01-04T08:12:00+00:00\"}, {\"Day\": \"2016-01-06T01:58:00+00:00\"}, {\"Day\": \"2016-01-05T08:21:00+00:00\"}, {\"Day\": \"2016-01-08T15:21:00+00:00\"}, {\"Day\": \"2016-01-07T12:00:00+00:00\"}, {\"Day\": \"2016-01-08T08:51:00+00:00\"}, {\"Day\": \"2016-01-09T16:03:00+00:00\"}, {\"Day\": \"2016-01-05T08:33:00+00:00\"}, {\"Day\": \"2016-01-07T08:18:00+00:00\"}, {\"Day\": \"2016-01-04T08:23:00+00:00\"}, {\"Day\": \"2016-01-09T21:27:00+00:00\"}, {\"Day\": \"2016-01-09T20:47:00+00:00\"}, {\"Day\": \"2016-01-08T19:11:00+00:00\"}, {\"Day\": \"2016-01-04T05:30:00+00:00\"}, {\"Day\": \"2016-01-04T11:33:00+00:00\"}, {\"Day\": \"2016-01-04T17:09:00+00:00\"}, {\"Day\": \"2016-01-07T17:33:00+00:00\"}, {\"Day\": \"2016-01-07T19:53:00+00:00\"}, {\"Day\": \"2016-01-07T11:19:00+00:00\"}, {\"Day\": \"2016-01-08T18:53:00+00:00\"}, {\"Day\": \"2016-01-04T09:14:00+00:00\"}, {\"Day\": \"2016-01-03T20:59:00+00:00\"}, {\"Day\": \"2016-01-05T09:22:00+00:00\"}, {\"Day\": \"2016-01-04T08:53:00+00:00\"}, {\"Day\": \"2016-01-08T08:23:00+00:00\"}, {\"Day\": \"2016-01-04T08:35:00+00:00\"}, {\"Day\": \"2016-01-07T08:24:00+00:00\"}, {\"Day\": \"2016-01-08T08:55:00+00:00\"}, {\"Day\": \"2016-01-08T09:06:00+00:00\"}, {\"Day\": \"2016-01-05T08:03:00+00:00\"}, {\"Day\": \"2016-01-08T08:57:00+00:00\"}, {\"Day\": \"2016-01-04T08:50:00+00:00\"}, {\"Day\": \"2016-01-07T11:13:00+00:00\"}, {\"Day\": \"2016-01-04T10:27:00+00:00\"}, {\"Day\": \"2016-01-08T11:28:00+00:00\"}, {\"Day\": \"2016-01-04T04:34:00+00:00\"}, {\"Day\": \"2016-01-05T21:03:00+00:00\"}, {\"Day\": \"2016-01-07T13:49:00+00:00\"}, {\"Day\": \"2016-01-06T17:07:00+00:00\"}, {\"Day\": \"2016-01-09T13:42:00+00:00\"}, {\"Day\": \"2016-01-08T11:20:00+00:00\"}, {\"Day\": \"2016-01-08T07:07:00+00:00\"}, {\"Day\": \"2016-01-02T12:47:00+00:00\"}, {\"Day\": \"2016-01-08T11:04:00+00:00\"}, {\"Day\": \"2016-01-04T17:21:00+00:00\"}, {\"Day\": \"2016-01-04T12:47:00+00:00\"}, {\"Day\": \"2016-01-06T18:37:00+00:00\"}, {\"Day\": \"2016-01-07T07:09:00+00:00\"}, {\"Day\": \"2016-01-08T07:08:00+00:00\"}, {\"Day\": \"2016-01-04T11:37:00+00:00\"}, {\"Day\": \"2016-01-02T12:15:00+00:00\"}, {\"Day\": \"2016-01-09T12:26:00+00:00\"}, {\"Day\": \"2016-01-09T12:26:00+00:00\"}, {\"Day\": \"2016-01-04T19:43:00+00:00\"}, {\"Day\": \"2016-01-06T08:00:00+00:00\"}, {\"Day\": \"2016-01-08T07:08:00+00:00\"}, {\"Day\": \"2016-01-05T07:44:00+00:00\"}, {\"Day\": \"2016-01-07T08:02:00+00:00\"}, {\"Day\": \"2016-01-07T20:34:00+00:00\"}, {\"Day\": \"2016-01-05T07:41:00+00:00\"}, {\"Day\": \"2016-01-06T07:09:00+00:00\"}, {\"Day\": \"2016-01-05T19:34:00+00:00\"}, {\"Day\": \"2016-01-04T09:53:00+00:00\"}, {\"Day\": \"2016-01-05T09:01:00+00:00\"}, {\"Day\": \"2016-01-03T17:13:00+00:00\"}, {\"Day\": \"2016-01-01T09:42:00+00:00\"}, {\"Day\": \"2016-01-04T08:24:00+00:00\"}, {\"Day\": \"2016-01-04T17:16:00+00:00\"}, {\"Day\": \"2016-01-07T17:49:00+00:00\"}, {\"Day\": \"2016-01-09T08:13:00+00:00\"}, {\"Day\": \"2016-01-07T08:38:00+00:00\"}, {\"Day\": \"2016-01-08T08:48:00+00:00\"}, {\"Day\": \"2016-01-07T11:32:00+00:00\"}, {\"Day\": \"2016-01-07T09:01:00+00:00\"}, {\"Day\": \"2016-01-05T17:57:00+00:00\"}, {\"Day\": \"2016-01-08T10:41:00+00:00\"}, {\"Day\": \"2016-01-04T12:56:00+00:00\"}, {\"Day\": \"2016-01-07T13:02:00+00:00\"}, {\"Day\": \"2016-01-08T08:28:00+00:00\"}, {\"Day\": \"2016-01-06T08:59:00+00:00\"}, {\"Day\": \"2016-01-04T09:17:00+00:00\"}, {\"Day\": \"2016-01-01T11:09:00+00:00\"}, {\"Day\": \"2016-01-01T11:09:00+00:00\"}, {\"Day\": \"2016-01-08T16:26:00+00:00\"}, {\"Day\": \"2016-01-05T08:58:00+00:00\"}, {\"Day\": \"2016-01-07T09:09:00+00:00\"}, {\"Day\": \"2016-01-08T09:28:00+00:00\"}, {\"Day\": \"2016-01-04T09:05:00+00:00\"}, {\"Day\": \"2016-01-08T08:37:00+00:00\"}, {\"Day\": \"2016-01-05T09:18:00+00:00\"}, {\"Day\": \"2016-01-08T09:02:00+00:00\"}, {\"Day\": \"2016-01-04T09:10:00+00:00\"}, {\"Day\": \"2016-01-08T09:06:00+00:00\"}, {\"Day\": \"2016-01-05T09:23:00+00:00\"}, {\"Day\": \"2016-01-06T10:03:00+00:00\"}, {\"Day\": \"2016-01-04T08:55:00+00:00\"}, {\"Day\": \"2016-01-02T08:41:00+00:00\"}, {\"Day\": \"2016-01-04T08:55:00+00:00\"}, {\"Day\": \"2016-01-07T08:33:00+00:00\"}, {\"Day\": \"2016-01-07T07:02:00+00:00\"}, {\"Day\": \"2016-01-04T08:49:00+00:00\"}, {\"Day\": \"2016-01-06T08:40:00+00:00\"}, {\"Day\": \"2016-01-05T08:57:00+00:00\"}, {\"Day\": \"2016-01-07T08:57:00+00:00\"}, {\"Day\": \"2016-01-04T09:12:00+00:00\"}, {\"Day\": \"2016-01-05T08:10:00+00:00\"}, {\"Day\": \"2016-01-08T08:51:00+00:00\"}, {\"Day\": \"2016-01-08T08:49:00+00:00\"}, {\"Day\": \"2016-01-04T08:40:00+00:00\"}, {\"Day\": \"2016-01-05T08:37:00+00:00\"}, {\"Day\": \"2016-01-08T11:58:00+00:00\"}, {\"Day\": \"2016-01-07T08:40:00+00:00\"}, {\"Day\": \"2016-01-06T09:08:00+00:00\"}, {\"Day\": \"2016-01-09T16:16:00+00:00\"}, {\"Day\": \"2016-01-08T09:55:00+00:00\"}, {\"Day\": \"2016-01-05T07:13:00+00:00\"}, {\"Day\": \"2016-01-08T07:11:00+00:00\"}, {\"Day\": \"2016-01-07T07:08:00+00:00\"}, {\"Day\": \"2016-01-04T07:12:00+00:00\"}, {\"Day\": \"2016-01-04T18:56:00+00:00\"}, {\"Day\": \"2016-01-07T22:05:00+00:00\"}, {\"Day\": \"2016-01-06T07:13:00+00:00\"}, {\"Day\": \"2016-01-08T09:06:00+00:00\"}, {\"Day\": \"2016-01-07T09:01:00+00:00\"}, {\"Day\": \"2016-01-07T09:51:00+00:00\"}, {\"Day\": \"2016-01-05T09:07:00+00:00\"}, {\"Day\": \"2016-01-06T09:10:00+00:00\"}, {\"Day\": \"2016-01-04T09:18:00+00:00\"}, {\"Day\": \"2016-01-08T08:24:00+00:00\"}, {\"Day\": \"2016-01-04T14:32:00+00:00\"}, {\"Day\": \"2016-01-05T16:32:00+00:00\"}, {\"Day\": \"2016-01-05T16:32:00+00:00\"}, {\"Day\": \"2016-01-06T08:54:00+00:00\"}, {\"Day\": \"2016-01-04T17:12:00+00:00\"}, {\"Day\": \"2016-01-06T09:23:00+00:00\"}, {\"Day\": \"2016-01-01T14:38:00+00:00\"}, {\"Day\": \"2016-01-09T14:45:00+00:00\"}, {\"Day\": \"2016-01-05T09:20:00+00:00\"}, {\"Day\": \"2016-01-08T09:13:00+00:00\"}, {\"Day\": \"2016-01-08T20:16:00+00:00\"}, {\"Day\": \"2016-01-04T09:25:00+00:00\"}, {\"Day\": \"2016-01-03T14:36:00+00:00\"}, {\"Day\": \"2016-01-08T07:37:00+00:00\"}, {\"Day\": \"2016-01-05T17:11:00+00:00\"}, {\"Day\": \"2016-01-07T07:39:00+00:00\"}, {\"Day\": \"2016-01-08T14:22:00+00:00\"}, {\"Day\": \"2016-01-04T07:41:00+00:00\"}, {\"Day\": \"2016-01-08T13:29:00+00:00\"}, {\"Day\": \"2016-01-06T18:19:00+00:00\"}, {\"Day\": \"2016-01-07T17:19:00+00:00\"}, {\"Day\": \"2016-01-07T14:37:00+00:00\"}, {\"Day\": \"2016-01-08T15:52:00+00:00\"}, {\"Day\": \"2016-01-07T08:53:00+00:00\"}, {\"Day\": \"2016-01-08T17:49:00+00:00\"}, {\"Day\": \"2016-01-07T08:44:00+00:00\"}, {\"Day\": \"2016-01-05T18:36:00+00:00\"}, {\"Day\": \"2016-01-08T12:19:00+00:00\"}, {\"Day\": \"2016-01-08T11:45:00+00:00\"}, {\"Day\": \"2016-01-06T17:50:00+00:00\"}, {\"Day\": \"2016-01-08T08:58:00+00:00\"}, {\"Day\": \"2016-01-07T08:06:00+00:00\"}, {\"Day\": \"2016-01-08T16:59:00+00:00\"}, {\"Day\": \"2016-01-04T09:30:00+00:00\"}, {\"Day\": \"2016-01-04T08:20:00+00:00\"}, {\"Day\": \"2016-01-08T23:50:00+00:00\"}, {\"Day\": \"2016-01-04T08:14:00+00:00\"}, {\"Day\": \"2016-01-06T08:12:00+00:00\"}, {\"Day\": \"2016-01-06T12:28:00+00:00\"}, {\"Day\": \"2016-01-04T08:08:00+00:00\"}, {\"Day\": \"2016-01-06T09:24:00+00:00\"}, {\"Day\": \"2016-01-06T08:43:00+00:00\"}, {\"Day\": \"2016-01-08T08:29:00+00:00\"}, {\"Day\": \"2016-01-08T08:00:00+00:00\"}, {\"Day\": \"2016-01-05T08:19:00+00:00\"}, {\"Day\": \"2016-01-07T08:32:00+00:00\"}, {\"Day\": \"2016-01-05T19:06:00+00:00\"}, {\"Day\": \"2016-01-05T08:55:00+00:00\"}, {\"Day\": \"2016-01-07T08:41:00+00:00\"}, {\"Day\": \"2016-01-07T08:52:00+00:00\"}, {\"Day\": \"2016-01-08T23:35:00+00:00\"}, {\"Day\": \"2016-01-06T08:39:00+00:00\"}, {\"Day\": \"2016-01-08T08:35:00+00:00\"}, {\"Day\": \"2016-01-05T09:31:00+00:00\"}, {\"Day\": \"2016-01-07T18:28:00+00:00\"}, {\"Day\": \"2016-01-04T18:22:00+00:00\"}, {\"Day\": \"2016-01-07T09:52:00+00:00\"}, {\"Day\": \"2016-01-04T09:07:00+00:00\"}, {\"Day\": \"2016-01-06T10:00:00+00:00\"}, {\"Day\": \"2016-01-02T07:19:00+00:00\"}, {\"Day\": \"2016-01-02T07:19:00+00:00\"}, {\"Day\": \"2016-01-07T08:59:00+00:00\"}, {\"Day\": \"2016-01-04T10:01:00+00:00\"}, {\"Day\": \"2016-01-08T08:51:00+00:00\"}, {\"Day\": \"2016-01-05T17:32:00+00:00\"}, {\"Day\": \"2016-01-04T09:16:00+00:00\"}, {\"Day\": \"2016-01-05T08:12:00+00:00\"}, {\"Day\": \"2016-01-05T21:52:00+00:00\"}, {\"Day\": \"2016-01-07T08:41:00+00:00\"}, {\"Day\": \"2016-01-08T06:40:00+00:00\"}, {\"Day\": \"2016-01-08T16:50:00+00:00\"}, {\"Day\": \"2016-01-07T17:33:00+00:00\"}, {\"Day\": \"2016-01-06T18:17:00+00:00\"}, {\"Day\": \"2016-01-08T08:16:00+00:00\"}, {\"Day\": \"2016-01-04T09:39:00+00:00\"}, {\"Day\": \"2016-01-05T20:30:00+00:00\"}, {\"Day\": \"2016-01-04T16:32:00+00:00\"}, {\"Day\": \"2016-01-04T12:44:00+00:00\"}, {\"Day\": \"2016-01-04T09:24:00+00:00\"}, {\"Day\": \"2016-01-01T15:47:00+00:00\"}, {\"Day\": \"2016-01-01T15:51:00+00:00\"}, {\"Day\": \"2016-01-08T17:09:00+00:00\"}, {\"Day\": \"2016-01-04T08:52:00+00:00\"}, {\"Day\": \"2016-01-03T10:32:00+00:00\"}, {\"Day\": \"2016-01-08T08:51:00+00:00\"}, {\"Day\": \"2016-01-08T13:21:00+00:00\"}, {\"Day\": \"2016-01-06T08:51:00+00:00\"}, {\"Day\": \"2016-01-07T17:05:00+00:00\"}, {\"Day\": \"2016-01-04T16:51:00+00:00\"}, {\"Day\": \"2016-01-05T17:10:00+00:00\"}, {\"Day\": \"2016-01-04T17:00:00+00:00\"}, {\"Day\": \"2016-01-08T20:14:00+00:00\"}, {\"Day\": \"2016-01-04T18:05:00+00:00\"}, {\"Day\": \"2016-01-05T17:10:00+00:00\"}, {\"Day\": \"2016-01-04T17:02:00+00:00\"}, {\"Day\": \"2016-01-08T18:17:00+00:00\"}, {\"Day\": \"2016-01-05T17:09:00+00:00\"}, {\"Day\": \"2016-01-08T17:04:00+00:00\"}, {\"Day\": \"2016-01-04T17:09:00+00:00\"}, {\"Day\": \"2016-01-08T17:01:00+00:00\"}, {\"Day\": \"2016-01-04T17:28:00+00:00\"}, {\"Day\": \"2016-01-08T18:28:00+00:00\"}, {\"Day\": \"2016-01-08T17:06:00+00:00\"}, {\"Day\": \"2016-01-04T17:01:00+00:00\"}, {\"Day\": \"2016-01-07T06:50:00+00:00\"}, {\"Day\": \"2016-01-04T08:03:00+00:00\"}, {\"Day\": \"2016-01-08T16:48:00+00:00\"}, {\"Day\": \"2016-01-05T17:01:00+00:00\"}, {\"Day\": \"2016-01-06T17:40:00+00:00\"}, {\"Day\": \"2016-01-08T17:58:00+00:00\"}, {\"Day\": \"2016-01-08T17:50:00+00:00\"}, {\"Day\": \"2016-01-05T16:44:00+00:00\"}, {\"Day\": \"2016-01-06T17:36:00+00:00\"}, {\"Day\": \"2016-01-01T21:32:00+00:00\"}, {\"Day\": \"2016-01-08T17:46:00+00:00\"}, {\"Day\": \"2016-01-06T17:55:00+00:00\"}, {\"Day\": \"2016-01-06T17:07:00+00:00\"}, {\"Day\": \"2016-01-06T18:07:00+00:00\"}, {\"Day\": \"2016-01-07T16:50:00+00:00\"}, {\"Day\": \"2016-01-07T16:50:00+00:00\"}, {\"Day\": \"2016-01-04T18:53:00+00:00\"}, {\"Day\": \"2016-01-07T17:54:00+00:00\"}, {\"Day\": \"2016-01-04T16:42:00+00:00\"}, {\"Day\": \"2016-01-07T16:15:00+00:00\"}, {\"Day\": \"2016-01-07T17:07:00+00:00\"}, {\"Day\": \"2016-01-05T20:05:00+00:00\"}, {\"Day\": \"2016-01-04T16:19:00+00:00\"}, {\"Day\": \"2016-01-08T15:40:00+00:00\"}, {\"Day\": \"2016-01-04T18:08:00+00:00\"}, {\"Day\": \"2016-01-07T19:05:00+00:00\"}, {\"Day\": \"2016-01-09T23:36:00+00:00\"}, {\"Day\": \"2016-01-06T16:51:00+00:00\"}, {\"Day\": \"2016-01-06T17:03:00+00:00\"}, {\"Day\": \"2016-01-04T11:53:00+00:00\"}, {\"Day\": \"2016-01-07T17:04:00+00:00\"}, {\"Day\": \"2016-01-06T17:42:00+00:00\"}, {\"Day\": \"2016-01-07T18:37:00+00:00\"}, {\"Day\": \"2016-01-07T17:58:00+00:00\"}, {\"Day\": \"2016-01-07T16:30:00+00:00\"}, {\"Day\": \"2016-01-08T16:01:00+00:00\"}, {\"Day\": \"2016-01-06T18:29:00+00:00\"}, {\"Day\": \"2016-01-04T17:48:00+00:00\"}, {\"Day\": \"2016-01-05T17:04:00+00:00\"}, {\"Day\": \"2016-01-07T17:06:00+00:00\"}, {\"Day\": \"2016-01-07T17:32:00+00:00\"}, {\"Day\": \"2016-01-06T12:56:00+00:00\"}, {\"Day\": \"2016-01-04T11:18:00+00:00\"}, {\"Day\": \"2016-01-07T10:23:00+00:00\"}, {\"Day\": \"2016-01-04T14:44:00+00:00\"}, {\"Day\": \"2016-01-04T14:51:00+00:00\"}, {\"Day\": \"2016-01-04T11:57:00+00:00\"}, {\"Day\": \"2016-01-04T17:15:00+00:00\"}, {\"Day\": \"2016-01-07T18:27:00+00:00\"}, {\"Day\": \"2016-01-05T18:26:00+00:00\"}, {\"Day\": \"2016-01-06T18:22:00+00:00\"}, {\"Day\": \"2016-01-05T17:15:00+00:00\"}, {\"Day\": \"2016-01-04T16:22:00+00:00\"}, {\"Day\": \"2016-01-07T18:13:00+00:00\"}, {\"Day\": \"2016-01-07T13:58:00+00:00\"}, {\"Day\": \"2016-01-07T11:09:00+00:00\"}, {\"Day\": \"2016-01-08T15:44:00+00:00\"}, {\"Day\": \"2016-01-09T13:28:00+00:00\"}, {\"Day\": \"2016-01-08T11:53:00+00:00\"}, {\"Day\": \"2016-01-03T08:28:00+00:00\"}, {\"Day\": \"2016-01-09T14:00:00+00:00\"}, {\"Day\": \"2016-01-05T08:56:00+00:00\"}, {\"Day\": \"2016-01-05T17:34:00+00:00\"}, {\"Day\": \"2016-01-07T16:59:00+00:00\"}, {\"Day\": \"2016-01-06T18:54:00+00:00\"}, {\"Day\": \"2016-01-04T18:13:00+00:00\"}, {\"Day\": \"2016-01-05T18:41:00+00:00\"}, {\"Day\": \"2016-01-08T18:29:00+00:00\"}, {\"Day\": \"2016-01-07T18:05:00+00:00\"}, {\"Day\": \"2016-01-04T09:32:00+00:00\"}, {\"Day\": \"2016-01-08T16:23:00+00:00\"}, {\"Day\": \"2016-01-08T09:17:00+00:00\"}, {\"Day\": \"2016-01-06T09:37:00+00:00\"}, {\"Day\": \"2016-01-07T09:29:00+00:00\"}, {\"Day\": \"2016-01-08T13:31:00+00:00\"}, {\"Day\": \"2016-01-08T13:29:00+00:00\"}, {\"Day\": \"2016-01-06T08:41:00+00:00\"}, {\"Day\": \"2016-01-08T14:35:00+00:00\"}, {\"Day\": \"2016-01-08T13:31:00+00:00\"}, {\"Day\": \"2016-01-06T09:14:00+00:00\"}, {\"Day\": \"2016-01-08T07:22:00+00:00\"}, {\"Day\": \"2016-01-08T09:45:00+00:00\"}, {\"Day\": \"2016-01-07T09:52:00+00:00\"}, {\"Day\": \"2016-01-04T09:25:00+00:00\"}, {\"Day\": \"2016-01-07T05:52:00+00:00\"}, {\"Day\": \"2016-01-04T09:05:00+00:00\"}, {\"Day\": \"2016-01-01T11:48:00+00:00\"}, {\"Day\": \"2016-01-06T09:04:00+00:00\"}, {\"Day\": \"2016-01-02T20:55:00+00:00\"}, {\"Day\": \"2016-01-08T16:20:00+00:00\"}, {\"Day\": \"2016-01-04T13:23:00+00:00\"}, {\"Day\": \"2016-01-05T10:35:00+00:00\"}, {\"Day\": \"2016-01-04T16:42:00+00:00\"}, {\"Day\": \"2016-01-08T11:29:00+00:00\"}, {\"Day\": \"2016-01-07T16:59:00+00:00\"}, {\"Day\": \"2016-01-06T17:47:00+00:00\"}, {\"Day\": \"2016-01-08T10:48:00+00:00\"}, {\"Day\": \"2016-01-08T18:22:00+00:00\"}, {\"Day\": \"2016-01-07T08:27:00+00:00\"}, {\"Day\": \"2016-01-06T06:57:00+00:00\"}, {\"Day\": \"2016-01-08T13:25:00+00:00\"}, {\"Day\": \"2016-01-08T13:25:00+00:00\"}, {\"Day\": \"2016-01-02T20:53:00+00:00\"}, {\"Day\": \"2016-01-01T16:36:00+00:00\"}, {\"Day\": \"2016-01-04T16:37:00+00:00\"}, {\"Day\": \"2016-01-08T17:14:00+00:00\"}, {\"Day\": \"2016-01-05T17:09:00+00:00\"}, {\"Day\": \"2016-01-04T17:00:00+00:00\"}, {\"Day\": \"2016-01-04T17:45:00+00:00\"}, {\"Day\": \"2016-01-06T15:55:00+00:00\"}, {\"Day\": \"2016-01-08T15:39:00+00:00\"}, {\"Day\": \"2016-01-07T17:12:00+00:00\"}, {\"Day\": \"2016-01-07T16:36:00+00:00\"}, {\"Day\": \"2016-01-08T18:00:00+00:00\"}, {\"Day\": \"2016-01-05T17:07:00+00:00\"}, {\"Day\": \"2016-01-05T16:50:00+00:00\"}, {\"Day\": \"2016-01-06T17:45:00+00:00\"}, {\"Day\": \"2016-01-08T17:21:00+00:00\"}, {\"Day\": \"2016-01-05T18:18:00+00:00\"}, {\"Day\": \"2016-01-08T20:12:00+00:00\"}, {\"Day\": \"2016-01-07T17:00:00+00:00\"}, {\"Day\": \"2016-01-06T16:36:00+00:00\"}, {\"Day\": \"2016-01-06T16:11:00+00:00\"}, {\"Day\": \"2016-01-07T13:44:00+00:00\"}, {\"Day\": \"2016-01-07T16:13:00+00:00\"}, {\"Day\": \"2016-01-03T12:50:00+00:00\"}, {\"Day\": \"2016-01-09T18:20:00+00:00\"}, {\"Day\": \"2016-01-07T22:00:00+00:00\"}, {\"Day\": \"2016-01-07T17:32:00+00:00\"}, {\"Day\": \"2016-01-09T09:27:00+00:00\"}, {\"Day\": \"2016-01-07T08:45:00+00:00\"}, {\"Day\": \"2016-01-08T08:33:00+00:00\"}, {\"Day\": \"2016-01-06T08:34:00+00:00\"}, {\"Day\": \"2016-01-05T08:25:00+00:00\"}, {\"Day\": \"2016-01-07T08:25:00+00:00\"}, {\"Day\": \"2016-01-09T16:11:00+00:00\"}, {\"Day\": \"2016-01-02T16:32:00+00:00\"}, {\"Day\": \"2016-01-08T15:08:00+00:00\"}, {\"Day\": \"2016-01-08T10:38:00+00:00\"}, {\"Day\": \"2016-01-04T17:38:00+00:00\"}, {\"Day\": \"2016-01-05T18:11:00+00:00\"}, {\"Day\": \"2016-01-05T16:11:00+00:00\"}, {\"Day\": \"2016-01-08T13:12:00+00:00\"}, {\"Day\": \"2016-01-07T20:26:00+00:00\"}, {\"Day\": \"2016-01-08T19:06:00+00:00\"}, {\"Day\": \"2016-01-05T15:15:00+00:00\"}, {\"Day\": \"2016-01-07T19:54:00+00:00\"}, {\"Day\": \"2016-01-07T07:51:00+00:00\"}, {\"Day\": \"2016-01-08T17:23:00+00:00\"}, {\"Day\": \"2016-01-07T19:15:00+00:00\"}, {\"Day\": \"2016-01-05T17:11:00+00:00\"}, {\"Day\": \"2016-01-04T17:23:00+00:00\"}, {\"Day\": \"2016-01-07T17:03:00+00:00\"}, {\"Day\": \"2016-01-04T17:45:00+00:00\"}, {\"Day\": \"2016-01-06T11:26:00+00:00\"}, {\"Day\": \"2016-01-09T11:26:00+00:00\"}, {\"Day\": \"2016-01-02T17:31:00+00:00\"}, {\"Day\": \"2016-01-07T19:12:00+00:00\"}, {\"Day\": \"2016-01-04T12:48:00+00:00\"}, {\"Day\": \"2016-01-01T18:18:00+00:00\"}, {\"Day\": \"2016-01-01T18:15:00+00:00\"}, {\"Day\": \"2016-01-01T18:16:00+00:00\"}, {\"Day\": \"2016-01-01T18:16:00+00:00\"}, {\"Day\": \"2016-01-06T20:09:00+00:00\"}, {\"Day\": \"2016-01-07T13:06:00+00:00\"}, {\"Day\": \"2016-01-06T13:48:00+00:00\"}, {\"Day\": \"2016-01-05T13:20:00+00:00\"}, {\"Day\": \"2016-01-04T13:22:00+00:00\"}, {\"Day\": \"2016-01-08T09:10:00+00:00\"}, {\"Day\": \"2016-01-02T19:44:00+00:00\"}, {\"Day\": \"2016-01-09T13:46:00+00:00\"}, {\"Day\": \"2016-01-05T19:54:00+00:00\"}, {\"Day\": \"2016-01-04T17:14:00+00:00\"}, {\"Day\": \"2016-01-01T11:05:00+00:00\"}, {\"Day\": \"2016-01-06T17:47:00+00:00\"}, {\"Day\": \"2016-01-07T16:19:00+00:00\"}, {\"Day\": \"2016-01-07T16:47:00+00:00\"}, {\"Day\": \"2016-01-09T11:28:00+00:00\"}, {\"Day\": \"2016-01-04T20:54:00+00:00\"}, {\"Day\": \"2016-01-06T17:03:00+00:00\"}, {\"Day\": \"2016-01-07T16:09:00+00:00\"}, {\"Day\": \"2016-01-04T16:41:00+00:00\"}, {\"Day\": \"2016-01-04T08:48:00+00:00\"}, {\"Day\": \"2016-01-05T13:49:00+00:00\"}, {\"Day\": \"2016-01-05T16:10:00+00:00\"}, {\"Day\": \"2016-01-08T16:07:00+00:00\"}, {\"Day\": \"2016-01-05T16:08:00+00:00\"}, {\"Day\": \"2016-01-08T16:20:00+00:00\"}, {\"Day\": \"2016-01-07T17:31:00+00:00\"}, {\"Day\": \"2016-01-07T16:06:00+00:00\"}, {\"Day\": \"2016-01-05T08:38:00+00:00\"}, {\"Day\": \"2016-01-06T10:19:00+00:00\"}, {\"Day\": \"2016-01-04T16:39:00+00:00\"}, {\"Day\": \"2016-01-05T10:09:00+00:00\"}, {\"Day\": \"2016-01-06T14:52:00+00:00\"}, {\"Day\": \"2016-01-09T11:29:00+00:00\"}, {\"Day\": \"2016-01-04T17:22:00+00:00\"}, {\"Day\": \"2016-01-08T16:03:00+00:00\"}, {\"Day\": \"2016-01-07T16:18:00+00:00\"}, {\"Day\": \"2016-01-04T21:26:00+00:00\"}, {\"Day\": \"2016-01-08T18:44:00+00:00\"}, {\"Day\": \"2016-01-07T09:17:00+00:00\"}, {\"Day\": \"2016-01-07T11:46:00+00:00\"}, {\"Day\": \"2016-01-04T09:30:00+00:00\"}, {\"Day\": \"2016-01-04T17:06:00+00:00\"}, {\"Day\": \"2016-01-08T08:41:00+00:00\"}, {\"Day\": \"2016-01-07T08:50:00+00:00\"}, {\"Day\": \"2016-01-06T09:36:00+00:00\"}, {\"Day\": \"2016-01-04T08:39:00+00:00\"}, {\"Day\": \"2016-01-07T14:56:00+00:00\"}, {\"Day\": \"2016-01-06T09:07:00+00:00\"}, {\"Day\": \"2016-01-08T09:21:00+00:00\"}, {\"Day\": \"2016-01-05T08:42:00+00:00\"}, {\"Day\": \"2016-01-01T17:25:00+00:00\"}, {\"Day\": \"2016-01-07T16:34:00+00:00\"}, {\"Day\": \"2016-01-07T13:34:00+00:00\"}, {\"Day\": \"2016-01-07T18:14:00+00:00\"}, {\"Day\": \"2016-01-07T10:26:00+00:00\"}, {\"Day\": \"2016-01-05T13:20:00+00:00\"}, {\"Day\": \"2016-01-08T15:42:00+00:00\"}, {\"Day\": \"2016-01-07T18:35:00+00:00\"}, {\"Day\": \"2016-01-06T09:00:00+00:00\"}, {\"Day\": \"2016-01-06T09:52:00+00:00\"}, {\"Day\": \"2016-01-07T08:50:00+00:00\"}, {\"Day\": \"2016-01-07T09:53:00+00:00\"}, {\"Day\": \"2016-01-08T09:02:00+00:00\"}, {\"Day\": \"2016-01-06T10:08:00+00:00\"}, {\"Day\": \"2016-01-04T08:57:00+00:00\"}, {\"Day\": \"2016-01-05T10:07:00+00:00\"}, {\"Day\": \"2016-01-07T12:19:00+00:00\"}, {\"Day\": \"2016-01-08T10:31:00+00:00\"}, {\"Day\": \"2016-01-05T07:39:00+00:00\"}, {\"Day\": \"2016-01-08T07:49:00+00:00\"}, {\"Day\": \"2016-01-07T07:46:00+00:00\"}, {\"Day\": \"2016-01-05T08:59:00+00:00\"}, {\"Day\": \"2016-01-04T07:39:00+00:00\"}, {\"Day\": \"2016-01-07T08:07:00+00:00\"}, {\"Day\": \"2016-01-06T08:14:00+00:00\"}, {\"Day\": \"2016-01-07T08:56:00+00:00\"}, {\"Day\": \"2016-01-05T08:17:00+00:00\"}, {\"Day\": \"2016-01-07T12:48:00+00:00\"}, {\"Day\": \"2016-01-05T11:11:00+00:00\"}, {\"Day\": \"2016-01-08T13:38:00+00:00\"}, {\"Day\": \"2016-01-07T13:24:00+00:00\"}, {\"Day\": \"2016-01-07T12:57:00+00:00\"}, {\"Day\": \"2016-01-06T19:24:00+00:00\"}, {\"Day\": \"2016-01-07T12:58:00+00:00\"}, {\"Day\": \"2016-01-07T12:27:00+00:00\"}, {\"Day\": \"2016-01-01T11:35:00+00:00\"}, {\"Day\": \"2016-01-04T21:27:00+00:00\"}, {\"Day\": \"2016-01-07T23:48:00+00:00\"}, {\"Day\": \"2016-01-07T20:27:00+00:00\"}, {\"Day\": \"2016-01-03T20:14:00+00:00\"}, {\"Day\": \"2016-01-05T09:15:00+00:00\"}, {\"Day\": \"2016-01-05T18:21:00+00:00\"}, {\"Day\": \"2016-01-05T18:06:00+00:00\"}, {\"Day\": \"2016-01-06T18:13:00+00:00\"}, {\"Day\": \"2016-01-04T11:30:00+00:00\"}, {\"Day\": \"2016-01-06T16:44:00+00:00\"}, {\"Day\": \"2016-01-04T08:52:00+00:00\"}, {\"Day\": \"2016-01-08T02:35:00+00:00\"}, {\"Day\": \"2016-01-08T12:42:00+00:00\"}, {\"Day\": \"2016-01-07T08:57:00+00:00\"}, {\"Day\": \"2016-01-04T07:58:00+00:00\"}, {\"Day\": \"2016-01-06T22:53:00+00:00\"}, {\"Day\": \"2016-01-05T09:07:00+00:00\"}, {\"Day\": \"2016-01-04T18:35:00+00:00\"}, {\"Day\": \"2016-01-08T09:25:00+00:00\"}, {\"Day\": \"2016-01-04T09:23:00+00:00\"}, {\"Day\": \"2016-01-08T08:52:00+00:00\"}, {\"Day\": \"2016-01-04T10:26:00+00:00\"}, {\"Day\": \"2016-01-08T18:23:00+00:00\"}, {\"Day\": \"2016-01-07T09:19:00+00:00\"}, {\"Day\": \"2016-01-04T08:48:00+00:00\"}, {\"Day\": \"2016-01-06T21:48:00+00:00\"}, {\"Day\": \"2016-01-07T14:35:00+00:00\"}, {\"Day\": \"2016-01-02T14:31:00+00:00\"}, {\"Day\": \"2016-01-02T14:33:00+00:00\"}, {\"Day\": \"2016-01-08T17:34:00+00:00\"}, {\"Day\": \"2016-01-04T17:14:00+00:00\"}, {\"Day\": \"2016-01-01T16:04:00+00:00\"}, {\"Day\": \"2016-01-08T17:39:00+00:00\"}, {\"Day\": \"2016-01-01T16:05:00+00:00\"}, {\"Day\": \"2016-01-04T19:48:00+00:00\"}, {\"Day\": \"2016-01-08T11:11:00+00:00\"}, {\"Day\": \"2016-01-04T19:35:00+00:00\"}, {\"Day\": \"2016-01-03T13:57:00+00:00\"}, {\"Day\": \"2016-01-08T14:37:00+00:00\"}, {\"Day\": \"2016-01-07T17:40:00+00:00\"}, {\"Day\": \"2016-01-04T10:00:00+00:00\"}, {\"Day\": \"2016-01-07T17:51:00+00:00\"}, {\"Day\": \"2016-01-02T11:30:00+00:00\"}, {\"Day\": \"2016-01-03T13:57:00+00:00\"}, {\"Day\": \"2016-01-08T17:42:00+00:00\"}, {\"Day\": \"2016-01-08T18:00:00+00:00\"}, {\"Day\": \"2016-01-02T11:30:00+00:00\"}, {\"Day\": \"2016-01-07T14:12:00+00:00\"}, {\"Day\": \"2016-01-08T14:25:00+00:00\"}, {\"Day\": \"2016-01-05T09:23:00+00:00\"}, {\"Day\": \"2016-01-06T09:47:00+00:00\"}, {\"Day\": \"2016-01-07T15:38:00+00:00\"}, {\"Day\": \"2016-01-07T09:36:00+00:00\"}, {\"Day\": \"2016-01-04T09:43:00+00:00\"}, {\"Day\": \"2016-01-09T16:21:00+00:00\"}, {\"Day\": \"2016-01-04T21:14:00+00:00\"}, {\"Day\": \"2016-01-04T17:09:00+00:00\"}, {\"Day\": \"2016-01-08T10:43:00+00:00\"}, {\"Day\": \"2016-01-07T10:38:00+00:00\"}, {\"Day\": \"2016-01-04T10:51:00+00:00\"}, {\"Day\": \"2016-01-02T09:20:00+00:00\"}, {\"Day\": \"2016-01-04T16:05:00+00:00\"}, {\"Day\": \"2016-01-05T18:33:00+00:00\"}, {\"Day\": \"2016-01-08T17:07:00+00:00\"}, {\"Day\": \"2016-01-03T15:35:00+00:00\"}, {\"Day\": \"2016-01-08T16:48:00+00:00\"}, {\"Day\": \"2016-01-08T14:35:00+00:00\"}, {\"Day\": \"2016-01-07T17:09:00+00:00\"}, {\"Day\": \"2016-01-05T17:07:00+00:00\"}, {\"Day\": \"2016-01-08T16:45:00+00:00\"}, {\"Day\": \"2016-01-04T17:12:00+00:00\"}, {\"Day\": \"2016-01-05T17:01:00+00:00\"}, {\"Day\": \"2016-01-08T17:16:00+00:00\"}, {\"Day\": \"2016-01-08T12:28:00+00:00\"}, {\"Day\": \"2016-01-04T17:03:00+00:00\"}, {\"Day\": \"2016-01-05T17:00:00+00:00\"}, {\"Day\": \"2016-01-05T17:00:00+00:00\"}, {\"Day\": \"2016-01-08T16:59:00+00:00\"}, {\"Day\": \"2016-01-04T16:44:00+00:00\"}, {\"Day\": \"2016-01-09T16:35:00+00:00\"}, {\"Day\": \"2016-01-06T17:03:00+00:00\"}, {\"Day\": \"2016-01-08T17:00:00+00:00\"}, {\"Day\": \"2016-01-08T15:53:00+00:00\"}, {\"Day\": \"2016-01-07T16:37:00+00:00\"}, {\"Day\": \"2016-01-04T10:09:00+00:00\"}, {\"Day\": \"2016-01-05T17:59:00+00:00\"}, {\"Day\": \"2016-01-07T09:21:00+00:00\"}, {\"Day\": \"2016-01-07T16:39:00+00:00\"}, {\"Day\": \"2016-01-07T16:55:00+00:00\"}, {\"Day\": \"2016-01-04T07:56:00+00:00\"}, {\"Day\": \"2016-01-08T16:59:00+00:00\"}, {\"Day\": \"2016-01-06T17:04:00+00:00\"}, {\"Day\": \"2016-01-07T16:38:00+00:00\"}, {\"Day\": \"2016-01-06T07:59:00+00:00\"}, {\"Day\": \"2016-01-05T18:22:00+00:00\"}, {\"Day\": \"2016-01-04T09:18:00+00:00\"}, {\"Day\": \"2016-01-07T17:19:00+00:00\"}, {\"Day\": \"2016-01-08T17:48:00+00:00\"}, {\"Day\": \"2016-01-04T16:44:00+00:00\"}, {\"Day\": \"2016-01-07T17:20:00+00:00\"}, {\"Day\": \"2016-01-06T18:19:00+00:00\"}, {\"Day\": \"2016-01-04T11:58:00+00:00\"}, {\"Day\": \"2016-01-05T17:56:00+00:00\"}, {\"Day\": \"2016-01-08T17:56:00+00:00\"}, {\"Day\": \"2016-01-04T17:56:00+00:00\"}, {\"Day\": \"2016-01-07T16:31:00+00:00\"}, {\"Day\": \"2016-01-07T17:57:00+00:00\"}, {\"Day\": \"2016-01-08T08:56:00+00:00\"}, {\"Day\": \"2016-01-08T18:31:00+00:00\"}, {\"Day\": \"2016-01-05T18:15:00+00:00\"}, {\"Day\": \"2016-01-06T17:14:00+00:00\"}, {\"Day\": \"2016-01-07T08:54:00+00:00\"}, {\"Day\": \"2016-01-06T12:12:00+00:00\"}, {\"Day\": \"2016-01-06T12:55:00+00:00\"}, {\"Day\": \"2016-01-08T13:23:00+00:00\"}, {\"Day\": \"2016-01-05T18:34:00+00:00\"}, {\"Day\": \"2016-01-08T18:03:00+00:00\"}, {\"Day\": \"2016-01-04T13:33:00+00:00\"}, {\"Day\": \"2016-01-07T14:03:00+00:00\"}, {\"Day\": \"2016-01-07T17:03:00+00:00\"}, {\"Day\": \"2016-01-04T17:44:00+00:00\"}, {\"Day\": \"2016-01-06T09:48:00+00:00\"}, {\"Day\": \"2016-01-04T17:14:00+00:00\"}, {\"Day\": \"2016-01-04T16:41:00+00:00\"}, {\"Day\": \"2016-01-05T17:40:00+00:00\"}, {\"Day\": \"2016-01-08T16:09:00+00:00\"}, {\"Day\": \"2016-01-06T17:45:00+00:00\"}, {\"Day\": \"2016-01-07T16:38:00+00:00\"}, {\"Day\": \"2016-01-04T09:52:00+00:00\"}, {\"Day\": \"2016-01-05T09:35:00+00:00\"}, {\"Day\": \"2016-01-05T17:52:00+00:00\"}, {\"Day\": \"2016-01-08T09:48:00+00:00\"}, {\"Day\": \"2016-01-04T15:48:00+00:00\"}, {\"Day\": \"2016-01-04T09:40:00+00:00\"}, {\"Day\": \"2016-01-05T16:25:00+00:00\"}, {\"Day\": \"2016-01-08T10:13:00+00:00\"}, {\"Day\": \"2016-01-07T14:03:00+00:00\"}, {\"Day\": \"2016-01-02T14:34:00+00:00\"}, {\"Day\": \"2016-01-02T14:34:00+00:00\"}, {\"Day\": \"2016-01-06T11:25:00+00:00\"}, {\"Day\": \"2016-01-08T14:17:00+00:00\"}, {\"Day\": \"2016-01-06T13:24:00+00:00\"}, {\"Day\": \"2016-01-03T10:14:00+00:00\"}, {\"Day\": \"2016-01-03T10:13:00+00:00\"}, {\"Day\": \"2016-01-02T15:58:00+00:00\"}, {\"Day\": \"2016-01-05T11:39:00+00:00\"}, {\"Day\": \"2016-01-08T15:06:00+00:00\"}, {\"Day\": \"2016-01-06T17:57:00+00:00\"}, {\"Day\": \"2016-01-04T13:38:00+00:00\"}, {\"Day\": \"2016-01-07T18:48:00+00:00\"}, {\"Day\": \"2016-01-07T15:41:00+00:00\"}, {\"Day\": \"2016-01-07T17:19:00+00:00\"}, {\"Day\": \"2016-01-09T07:19:00+00:00\"}, {\"Day\": \"2016-01-08T17:12:00+00:00\"}, {\"Day\": \"2016-01-07T13:19:00+00:00\"}, {\"Day\": \"2016-01-07T13:19:00+00:00\"}, {\"Day\": \"2016-01-09T15:07:00+00:00\"}, {\"Day\": \"2016-01-04T16:59:00+00:00\"}, {\"Day\": \"2016-01-05T17:10:00+00:00\"}, {\"Day\": \"2016-01-07T15:43:00+00:00\"}, {\"Day\": \"2016-01-08T07:22:00+00:00\"}, {\"Day\": \"2016-01-08T17:27:00+00:00\"}, {\"Day\": \"2016-01-08T13:04:00+00:00\"}, {\"Day\": \"2016-01-08T08:02:00+00:00\"}, {\"Day\": \"2016-01-07T07:54:00+00:00\"}, {\"Day\": \"2016-01-04T17:43:00+00:00\"}, {\"Day\": \"2016-01-07T17:38:00+00:00\"}, {\"Day\": \"2016-01-08T17:23:00+00:00\"}, {\"Day\": \"2016-01-06T18:14:00+00:00\"}, {\"Day\": \"2016-01-05T17:54:00+00:00\"}, {\"Day\": \"2016-01-07T18:31:00+00:00\"}, {\"Day\": \"2016-01-08T18:14:00+00:00\"}]}}, {\"mode\": \"vega-lite\"});\n",
       "</script>"
      ],
      "text/plain": [
       "alt.Chart(...)"
      ]
     },
     "execution_count": 98,
     "metadata": {},
     "output_type": "execute_result"
    }
   ],
   "source": [
    "df_bonus_2['Day'] = pd.to_datetime(df_bonus_2['Day'])\n",
    "alt.Chart(df_bonus_2).mark_rect().encode(\n",
    "    alt.X('hoursminutes(Day):O', title='hour of day'),\n",
    "    alt.Y('monthdate(Day):O', title='date'),\n",
    "    alt.Color('count()', title='Number of Rides')\n",
    ")"
   ]
  },
  {
   "cell_type": "markdown",
   "id": "commercial-affiliation",
   "metadata": {
    "ExecuteTime": {
     "end_time": "2021-07-25T15:36:16.016702Z",
     "start_time": "2021-07-25T15:36:15.979230Z"
    }
   },
   "source": [
    "### Part 3.1 Build a classifier to predict if a subscriber_type is a Subscriber or Customer. How well does it perform? <a id='part3_1'></a>"
   ]
  },
  {
   "cell_type": "markdown",
   "id": "assured-subdivision",
   "metadata": {},
   "source": [
    "### Fetching data from source"
   ]
  },
  {
   "cell_type": "code",
   "execution_count": 124,
   "id": "abstract-retailer",
   "metadata": {
    "ExecuteTime": {
     "end_time": "2021-07-26T17:18:07.857110Z",
     "start_time": "2021-07-26T17:17:10.036198Z"
    }
   },
   "outputs": [
    {
     "name": "stderr",
     "output_type": "stream",
     "text": [
      "Query complete after 0.00s: 100%|██████████| 1/1 [00:00<00:00, 821.77query/s] \n",
      "Downloading: 100%|██████████| 1947419/1947419 [00:52<00:00, 36768.43rows/s]\n"
     ]
    }
   ],
   "source": [
    "%%bigquery df_full\n",
    "SELECT \n",
    "    *\n",
    "FROM \n",
    "    `bigquery-public-data.san_francisco_bikeshare.bikeshare_trips`"
   ]
  },
  {
   "cell_type": "markdown",
   "id": "legislative-principle",
   "metadata": {},
   "source": [
    "### Feature Engineering (encoding, balancing, splitting)"
   ]
  },
  {
   "cell_type": "code",
   "execution_count": 125,
   "id": "lovely-recruitment",
   "metadata": {
    "ExecuteTime": {
     "end_time": "2021-07-26T17:18:50.517545Z",
     "start_time": "2021-07-26T17:18:49.921591Z"
    }
   },
   "outputs": [],
   "source": [
    "df_model = df_full[['trip_id','duration_sec','start_station_id',\n",
    "                    'end_station_id','bike_number','subscriber_type','member_birth_year',\n",
    "                    'member_gender','bike_share_for_all_trip']]\n",
    "\n",
    "df_model = df_model.dropna()\n",
    "\n",
    "# Let's do some encoding\n",
    "df_model['category_id'] = df_model['subscriber_type'].factorize()[0]\n",
    "df_model['member_gender'] = df_model['member_gender'].factorize()[0]\n",
    "df_model['bike_share_for_all_trip'] = df_model['bike_share_for_all_trip'].factorize()[0]\n",
    "\n",
    "category_id_df = df_model[['subscriber_type', 'category_id']].drop_duplicates().sort_values('category_id')\n",
    "category_to_id = dict(category_id_df.values)\n",
    "id_to_category = dict(category_id_df[['category_id', 'subscriber_type']].values)"
   ]
  },
  {
   "cell_type": "code",
   "execution_count": 126,
   "id": "grateful-magnet",
   "metadata": {
    "ExecuteTime": {
     "end_time": "2021-07-26T17:18:50.532586Z",
     "start_time": "2021-07-26T17:18:50.519263Z"
    }
   },
   "outputs": [
    {
     "data": {
      "text/html": [
       "<div>\n",
       "<style scoped>\n",
       "    .dataframe tbody tr th:only-of-type {\n",
       "        vertical-align: middle;\n",
       "    }\n",
       "\n",
       "    .dataframe tbody tr th {\n",
       "        vertical-align: top;\n",
       "    }\n",
       "\n",
       "    .dataframe thead th {\n",
       "        text-align: right;\n",
       "    }\n",
       "</style>\n",
       "<table border=\"1\" class=\"dataframe\">\n",
       "  <thead>\n",
       "    <tr style=\"text-align: right;\">\n",
       "      <th></th>\n",
       "      <th>trip_id</th>\n",
       "      <th>duration_sec</th>\n",
       "      <th>start_station_id</th>\n",
       "      <th>end_station_id</th>\n",
       "      <th>bike_number</th>\n",
       "      <th>subscriber_type</th>\n",
       "      <th>member_birth_year</th>\n",
       "      <th>member_gender</th>\n",
       "      <th>bike_share_for_all_trip</th>\n",
       "      <th>category_id</th>\n",
       "    </tr>\n",
       "  </thead>\n",
       "  <tbody>\n",
       "    <tr>\n",
       "      <th>0</th>\n",
       "      <td>18342018013122532700</td>\n",
       "      <td>592</td>\n",
       "      <td>202</td>\n",
       "      <td>195</td>\n",
       "      <td>1834</td>\n",
       "      <td>Customer</td>\n",
       "      <td>1978.0</td>\n",
       "      <td>0</td>\n",
       "      <td>0</td>\n",
       "      <td>0</td>\n",
       "    </tr>\n",
       "    <tr>\n",
       "      <th>1</th>\n",
       "      <td>25082018013122380400</td>\n",
       "      <td>209</td>\n",
       "      <td>160</td>\n",
       "      <td>230</td>\n",
       "      <td>2508</td>\n",
       "      <td>Subscriber</td>\n",
       "      <td>1986.0</td>\n",
       "      <td>0</td>\n",
       "      <td>0</td>\n",
       "      <td>1</td>\n",
       "    </tr>\n",
       "    <tr>\n",
       "      <th>2</th>\n",
       "      <td>32672018013122023800</td>\n",
       "      <td>398</td>\n",
       "      <td>176</td>\n",
       "      <td>173</td>\n",
       "      <td>3267</td>\n",
       "      <td>Subscriber</td>\n",
       "      <td>1966.0</td>\n",
       "      <td>0</td>\n",
       "      <td>0</td>\n",
       "      <td>1</td>\n",
       "    </tr>\n",
       "    <tr>\n",
       "      <th>3</th>\n",
       "      <td>17092018013121464400</td>\n",
       "      <td>205</td>\n",
       "      <td>279</td>\n",
       "      <td>275</td>\n",
       "      <td>1709</td>\n",
       "      <td>Subscriber</td>\n",
       "      <td>1993.0</td>\n",
       "      <td>0</td>\n",
       "      <td>0</td>\n",
       "      <td>1</td>\n",
       "    </tr>\n",
       "    <tr>\n",
       "      <th>4</th>\n",
       "      <td>16262018013119345100</td>\n",
       "      <td>360</td>\n",
       "      <td>280</td>\n",
       "      <td>311</td>\n",
       "      <td>1626</td>\n",
       "      <td>Subscriber</td>\n",
       "      <td>1994.0</td>\n",
       "      <td>0</td>\n",
       "      <td>1</td>\n",
       "      <td>1</td>\n",
       "    </tr>\n",
       "  </tbody>\n",
       "</table>\n",
       "</div>"
      ],
      "text/plain": [
       "                trip_id  duration_sec  start_station_id  end_station_id  \\\n",
       "0  18342018013122532700           592               202             195   \n",
       "1  25082018013122380400           209               160             230   \n",
       "2  32672018013122023800           398               176             173   \n",
       "3  17092018013121464400           205               279             275   \n",
       "4  16262018013119345100           360               280             311   \n",
       "\n",
       "   bike_number subscriber_type  member_birth_year  member_gender  \\\n",
       "0         1834        Customer             1978.0              0   \n",
       "1         2508      Subscriber             1986.0              0   \n",
       "2         3267      Subscriber             1966.0              0   \n",
       "3         1709      Subscriber             1993.0              0   \n",
       "4         1626      Subscriber             1994.0              0   \n",
       "\n",
       "   bike_share_for_all_trip  category_id  \n",
       "0                        0            0  \n",
       "1                        0            1  \n",
       "2                        0            1  \n",
       "3                        0            1  \n",
       "4                        1            1  "
      ]
     },
     "execution_count": 126,
     "metadata": {},
     "output_type": "execute_result"
    }
   ],
   "source": [
    "df_model.head()"
   ]
  },
  {
   "cell_type": "code",
   "execution_count": 127,
   "id": "chicken-month",
   "metadata": {
    "ExecuteTime": {
     "end_time": "2021-07-26T17:18:52.392567Z",
     "start_time": "2021-07-26T17:18:52.205336Z"
    }
   },
   "outputs": [
    {
     "data": {
      "image/png": "[encoded data removed]",
      "text/plain": [
       "<Figure size 576x432 with 1 Axes>"
      ]
     },
     "metadata": {
      "needs_background": "light"
     },
     "output_type": "display_data"
    }
   ],
   "source": [
    "fig = plt.figure(figsize=(8,6))\n",
    "df_model.groupby('subscriber_type').trip_id.count().plot.bar(ylim=0,color='g')\n",
    "plt.ylabel('count')\n",
    "plt.show()"
   ]
  },
  {
   "cell_type": "code",
   "execution_count": 128,
   "id": "civil-vietnamese",
   "metadata": {
    "ExecuteTime": {
     "end_time": "2021-07-26T17:18:55.898498Z",
     "start_time": "2021-07-26T17:18:55.803266Z"
    }
   },
   "outputs": [],
   "source": [
    "from sklearn.utils import resample\n",
    "\n",
    "# Separate majority and minority classes\n",
    "df_majority = df_model[df_model['category_id']==1]\n",
    "df_minority = df_model[df_model['category_id']==0]\n",
    " \n",
    "# Downsample majority class\n",
    "df_majority_downsampled = resample(df_majority, \n",
    "                                 replace=False,    \n",
    "                                 n_samples=len(df_minority))\n",
    "\n",
    "df_model_1 = pd.concat([df_majority_downsampled, df_minority])"
   ]
  },
  {
   "cell_type": "code",
   "execution_count": 151,
   "id": "silver-western",
   "metadata": {
    "ExecuteTime": {
     "end_time": "2021-07-26T17:37:03.268057Z",
     "start_time": "2021-07-26T17:37:03.264626Z"
    }
   },
   "outputs": [
    {
     "data": {
      "text/plain": [
       "38436"
      ]
     },
     "execution_count": 151,
     "metadata": {},
     "output_type": "execute_result"
    }
   ],
   "source": [
    "len(df_minority)"
   ]
  },
  {
   "cell_type": "code",
   "execution_count": 129,
   "id": "metric-template",
   "metadata": {
    "ExecuteTime": {
     "end_time": "2021-07-26T17:18:56.171373Z",
     "start_time": "2021-07-26T17:18:56.036370Z"
    }
   },
   "outputs": [
    {
     "data": {
      "image/png": "[encoded data removed]",
      "text/plain": [
       "<Figure size 576x432 with 1 Axes>"
      ]
     },
     "metadata": {
      "needs_background": "light"
     },
     "output_type": "display_data"
    }
   ],
   "source": [
    "fig = plt.figure(figsize=(8,6))\n",
    "df_model_1.groupby('subscriber_type').trip_id.count().plot.bar(ylim=0,color='g')\n",
    "plt.ylabel('count')\n",
    "plt.show()"
   ]
  },
  {
   "cell_type": "code",
   "execution_count": 152,
   "id": "played-grade",
   "metadata": {
    "ExecuteTime": {
     "end_time": "2021-07-26T17:38:45.779301Z",
     "start_time": "2021-07-26T17:38:45.769210Z"
    }
   },
   "outputs": [],
   "source": [
    "X = df_model_1[['duration_sec','start_station_id',\n",
    "                    'end_station_id','bike_number','member_birth_year',\n",
    "                    'member_gender','bike_share_for_all_trip']]\n",
    "y = df_model_1[['category_id']]"
   ]
  },
  {
   "cell_type": "markdown",
   "id": "integrated-anniversary",
   "metadata": {},
   "source": [
    "### Feature Importance"
   ]
  },
  {
   "cell_type": "code",
   "execution_count": 146,
   "id": "rolled-validity",
   "metadata": {
    "ExecuteTime": {
     "end_time": "2021-07-26T17:34:04.993864Z",
     "start_time": "2021-07-26T17:33:50.267699Z"
    }
   },
   "outputs": [
    {
     "data": {
      "text/plain": [
       "Text(0.5, 0, 'Random Forest Feature Importance')"
      ]
     },
     "execution_count": 146,
     "metadata": {},
     "output_type": "execute_result"
    },
    {
     "data": {
      "image/png": "[encoded data removed]",
      "text/plain": [
       "<Figure size 432x288 with 1 Axes>"
      ]
     },
     "metadata": {
      "needs_background": "light"
     },
     "output_type": "display_data"
    }
   ],
   "source": [
    "from sklearn.ensemble import RandomForestRegressor\n",
    "\n",
    "X_train, X_test, y_train, y_test = train_test_split(X, y, test_size=0.25, random_state=12)\n",
    "rf = RandomForestRegressor(n_estimators=100)\n",
    "rf.fit(X_train, y_train)\n",
    "\n",
    "sorted_idx = rf.feature_importances_.argsort()\n",
    "plt.barh(X.columns[sorted_idx], rf.feature_importances_[sorted_idx])\n",
    "plt.xlabel(\"Random Forest Feature Importance\")"
   ]
  },
  {
   "cell_type": "markdown",
   "id": "loose-black",
   "metadata": {},
   "source": [
    "### Model Selection and Training"
   ]
  },
  {
   "cell_type": "code",
   "execution_count": 153,
   "id": "fallen-stations",
   "metadata": {
    "ExecuteTime": {
     "end_time": "2021-07-26T17:38:52.578086Z",
     "start_time": "2021-07-26T17:38:52.574435Z"
    }
   },
   "outputs": [],
   "source": [
    "from sklearn.model_selection import train_test_split\n",
    "from sklearn.feature_extraction.text import CountVectorizer\n",
    "from sklearn.feature_extraction.text import TfidfTransformer\n",
    "from sklearn.naive_bayes import MultinomialNB\n",
    "from sklearn.linear_model import LogisticRegression\n",
    "from sklearn.svm import LinearSVC\n",
    "from sklearn.model_selection import cross_val_score\n",
    "from sklearn.tree import DecisionTreeClassifier\n",
    "from sklearn.ensemble import RandomForestClassifier,AdaBoostClassifier,GradientBoostingClassifier"
   ]
  },
  {
   "cell_type": "code",
   "execution_count": 154,
   "id": "native-freeze",
   "metadata": {
    "ExecuteTime": {
     "end_time": "2021-07-26T17:39:42.331401Z",
     "start_time": "2021-07-26T17:38:52.786966Z"
    }
   },
   "outputs": [
    {
     "data": {
      "image/png": "[encoded data removed]",
      "text/plain": [
       "<Figure size 432x288 with 1 Axes>"
      ]
     },
     "metadata": {
      "needs_background": "light"
     },
     "output_type": "display_data"
    }
   ],
   "source": [
    "models = [\n",
    "    LogisticRegression(random_state=0),\n",
    "    RandomForestClassifier(n_estimators=100, max_depth=2, random_state=11),\n",
    "    LinearSVC(),\n",
    "    MultinomialNB(),\n",
    "    DecisionTreeClassifier(),\n",
    "    AdaBoostClassifier(n_estimators=20),\n",
    "    GradientBoostingClassifier(n_estimators=20)\n",
    "]\n",
    "CV = 5\n",
    "cv_df = pd.DataFrame(index=range(CV * len(models)))\n",
    "entries = []\n",
    "for model in models:\n",
    "  model_name = model.__class__.__name__\n",
    "  accuracies = cross_val_score(model, X, y, scoring='accuracy', cv=CV)\n",
    "  for fold_idx, accuracy in enumerate(accuracies):\n",
    "    entries.append((model_name, fold_idx, accuracy))\n",
    "    \n",
    "cv_df = pd.DataFrame(entries, columns=['model_name', 'fold_idx', 'accuracy'])\n",
    "\n",
    "import seaborn as sns\n",
    "g = sns.boxplot(x='model_name', y='accuracy', data=cv_df)\n",
    "\n",
    "g.set_xticklabels(g.get_xticklabels(),rotation=60)\n",
    "#sns.stripplot(x='model_name', y='accuracy', data=cv_df, size=5, linewidth=1)\n",
    "plt.xlabel('Model')\n",
    "plt.ylabel('Accuracy')\n",
    "plt.ylim(0,1)\n",
    "plt.show()"
   ]
  },
  {
   "cell_type": "code",
   "execution_count": 156,
   "id": "plain-destination",
   "metadata": {
    "ExecuteTime": {
     "end_time": "2021-07-26T17:41:23.014724Z",
     "start_time": "2021-07-26T17:41:23.009817Z"
    }
   },
   "outputs": [
    {
     "data": {
      "text/plain": [
       "model_name\n",
       "AdaBoostClassifier            0.622149\n",
       "DecisionTreeClassifier        0.577087\n",
       "GradientBoostingClassifier    0.669372\n",
       "LinearSVC                     0.554570\n",
       "LogisticRegression            0.673665\n",
       "MultinomialNB                 0.638334\n",
       "RandomForestClassifier        0.682095\n",
       "Name: accuracy, dtype: float64"
      ]
     },
     "execution_count": 156,
     "metadata": {},
     "output_type": "execute_result"
    }
   ],
   "source": [
    "cv_df.groupby('model_name').accuracy.mean()"
   ]
  },
  {
   "cell_type": "markdown",
   "id": "seventh-complement",
   "metadata": {},
   "source": [
    "### Best Model"
   ]
  },
  {
   "cell_type": "code",
   "execution_count": 157,
   "id": "specified-toolbox",
   "metadata": {
    "ExecuteTime": {
     "end_time": "2021-07-26T17:41:29.384969Z",
     "start_time": "2021-07-26T17:41:28.938945Z"
    }
   },
   "outputs": [],
   "source": [
    "model = LogisticRegression()\n",
    "X_train, X_test, y_train, y_test, indices_train, indices_test = train_test_split(X, y, df_model_1.index, test_size=0.33, random_state=0)\n",
    "model.fit(X_train, y_train)\n",
    "y_pred = model.predict(X_test)"
   ]
  },
  {
   "cell_type": "code",
   "execution_count": 158,
   "id": "marked-workshop",
   "metadata": {
    "ExecuteTime": {
     "end_time": "2021-07-26T17:41:30.886053Z",
     "start_time": "2021-07-26T17:41:30.719710Z"
    }
   },
   "outputs": [
    {
     "data": {
      "image/png": "[encoded data removed]",
      "text/plain": [
       "<Figure size 360x360 with 2 Axes>"
      ]
     },
     "metadata": {
      "needs_background": "light"
     },
     "output_type": "display_data"
    }
   ],
   "source": [
    "from sklearn.metrics import confusion_matrix\n",
    "\n",
    "conf_mat = confusion_matrix(y_test, y_pred)\n",
    "fig, ax = plt.subplots(figsize=(5,5))\n",
    "sns.heatmap(conf_mat, cmap=\"Greens\", annot=True, fmt='d', \n",
    "            xticklabels=category_id_df.subscriber_type.values, \n",
    "            yticklabels=category_id_df.subscriber_type.values)\n",
    "plt.ylabel('Actual')\n",
    "plt.xlabel('Predicted')\n",
    "plt.show()"
   ]
  },
  {
   "cell_type": "markdown",
   "id": "received-blast",
   "metadata": {},
   "source": [
    "### Comparing to XGBoost"
   ]
  },
  {
   "cell_type": "code",
   "execution_count": 141,
   "id": "seventh-heritage",
   "metadata": {
    "ExecuteTime": {
     "end_time": "2021-07-26T17:24:09.062091Z",
     "start_time": "2021-07-26T17:24:01.574669Z"
    }
   },
   "outputs": [
    {
     "name": "stdout",
     "output_type": "stream",
     "text": [
      "[01:24:01] WARNING: /Users/travis/build/dmlc/xgboost/src/learner.cc:1095: Starting in XGBoost 1.3.0, the default evaluation metric used with the objective 'multi:softprob' was changed from 'merror' to 'mlogloss'. Explicitly set eval_metric if you'd like to restore the old behavior.\n",
      "Precision = 0.7428442506162714\n",
      "Recall = 0.7424590292309301\n",
      "Accuracy = 0.7421948912015137\n"
     ]
    }
   ],
   "source": [
    "import xgboost as xgb\n",
    "\n",
    "D_train = xgb.DMatrix(X_train, label=y_train)\n",
    "D_test = xgb.DMatrix(X_test, label=y_test)\n",
    "\n",
    "param = {\n",
    "    'eta': 0.3, \n",
    "    'max_depth': 3,  \n",
    "    'objective': 'multi:softprob',  \n",
    "    'num_class': 6} \n",
    "\n",
    "steps = 500\n",
    "model = xgb.train(param, D_train, steps)\n",
    "\n",
    "from sklearn.metrics import precision_score, recall_score, accuracy_score\n",
    "\n",
    "preds = model.predict(D_test)\n",
    "best_preds = np.asarray([np.argmax(line) for line in preds])\n",
    "\n",
    "print(\"Precision = {}\".format(precision_score(y_test, best_preds, average='macro')))\n",
    "print(\"Recall = {}\".format(recall_score(y_test, best_preds, average='macro')))\n",
    "print(\"Accuracy = {}\".format(accuracy_score(y_test, best_preds)))"
   ]
  },
  {
   "cell_type": "code",
   "execution_count": 142,
   "id": "confirmed-alert",
   "metadata": {
    "ExecuteTime": {
     "end_time": "2021-07-26T17:29:36.879822Z",
     "start_time": "2021-07-26T17:29:36.699461Z"
    }
   },
   "outputs": [
    {
     "data": {
      "image/png": "[encoded data removed]",
      "text/plain": [
       "<Figure size 360x360 with 2 Axes>"
      ]
     },
     "metadata": {
      "needs_background": "light"
     },
     "output_type": "display_data"
    }
   ],
   "source": [
    "conf_mat = confusion_matrix(y_test, best_preds)\n",
    "fig, ax = plt.subplots(figsize=(5,5))\n",
    "sns.heatmap(conf_mat, cmap=\"Greens\", annot=True, fmt='d', \n",
    "            xticklabels=category_id_df.subscriber_type.values, \n",
    "            yticklabels=category_id_df.subscriber_type.values)\n",
    "plt.ylabel('Actual')\n",
    "plt.xlabel('Predicted')\n",
    "plt.show()"
   ]
  },
  {
   "cell_type": "markdown",
   "id": "logical-realtor",
   "metadata": {},
   "source": [
    "### Recommendations\n",
    "\n",
    "To improve model performance the following operations can be considered:\n",
    "1. consider grid search for hyperparameter tuning\n",
    "2. consider standardizing the training dataset\n",
    "3. consider combining both upsampling and downsampling to balance data\n",
    "4. consider reducing feature dimensions via PCA"
   ]
  }
 ],
 "metadata": {
  "kernelspec": {
   "display_name": "Python 3",
   "language": "python",
   "name": "python3"
  },
  "language_info": {
   "codemirror_mode": {
    "name": "ipython",
    "version": 3
   },
   "file_extension": ".py",
   "mimetype": "text/x-python",
   "name": "python",
   "nbconvert_exporter": "python",
   "pygments_lexer": "ipython3",
   "version": "3.8.3"
  }
 },
 "nbformat": 4,
 "nbformat_minor": 5
}
